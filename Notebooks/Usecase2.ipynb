{
 "cells": [
  {
   "cell_type": "code",
   "execution_count": 1,
   "metadata": {},
   "outputs": [
    {
     "name": "stdout",
     "output_type": "stream",
     "text": [
      "Defaulting to user installation because normal site-packages is not writeable\n",
      "Requirement already satisfied: openai in /Users/akshitapathania/Library/Python/3.9/lib/python/site-packages (1.17.0)\n",
      "Requirement already satisfied: pinecone-client in /Users/akshitapathania/Library/Python/3.9/lib/python/site-packages (3.0.2)\n",
      "Requirement already satisfied: datasets in /Users/akshitapathania/Library/Python/3.9/lib/python/site-packages (2.16.1)\n",
      "Requirement already satisfied: anyio<5,>=3.5.0 in /Users/akshitapathania/Library/Python/3.9/lib/python/site-packages (from openai) (4.3.0)\n",
      "Requirement already satisfied: distro<2,>=1.7.0 in /Users/akshitapathania/Library/Python/3.9/lib/python/site-packages (from openai) (1.9.0)\n",
      "Requirement already satisfied: httpx<1,>=0.23.0 in /Users/akshitapathania/Library/Python/3.9/lib/python/site-packages (from openai) (0.27.0)\n",
      "Requirement already satisfied: pydantic<3,>=1.9.0 in /Users/akshitapathania/Library/Python/3.9/lib/python/site-packages (from openai) (2.6.3)\n",
      "Requirement already satisfied: sniffio in /Users/akshitapathania/Library/Python/3.9/lib/python/site-packages (from openai) (1.3.1)\n",
      "Requirement already satisfied: tqdm>4 in /Users/akshitapathania/Library/Python/3.9/lib/python/site-packages (from openai) (4.66.2)\n",
      "Requirement already satisfied: typing-extensions<5,>=4.7 in /Users/akshitapathania/Library/Python/3.9/lib/python/site-packages (from openai) (4.9.0)\n",
      "Requirement already satisfied: certifi>=2019.11.17 in /Users/akshitapathania/Library/Python/3.9/lib/python/site-packages (from pinecone-client) (2024.2.2)\n",
      "Requirement already satisfied: urllib3>=1.26.0 in /Users/akshitapathania/Library/Python/3.9/lib/python/site-packages (from pinecone-client) (1.26.18)\n",
      "Requirement already satisfied: filelock in /Users/akshitapathania/Library/Python/3.9/lib/python/site-packages (from datasets) (3.13.1)\n",
      "Requirement already satisfied: numpy>=1.17 in /Users/akshitapathania/Library/Python/3.9/lib/python/site-packages (from datasets) (1.26.4)\n",
      "Requirement already satisfied: pyarrow>=8.0.0 in /Users/akshitapathania/Library/Python/3.9/lib/python/site-packages (from datasets) (15.0.2)\n",
      "Requirement already satisfied: pyarrow-hotfix in /Users/akshitapathania/Library/Python/3.9/lib/python/site-packages (from datasets) (0.6)\n",
      "Requirement already satisfied: dill<0.3.8,>=0.3.0 in /Users/akshitapathania/Library/Python/3.9/lib/python/site-packages (from datasets) (0.3.7)\n",
      "Requirement already satisfied: pandas in /Users/akshitapathania/Library/Python/3.9/lib/python/site-packages (from datasets) (2.2.1)\n",
      "Requirement already satisfied: requests>=2.19.0 in /Users/akshitapathania/Library/Python/3.9/lib/python/site-packages (from datasets) (2.31.0)\n",
      "Requirement already satisfied: xxhash in /Users/akshitapathania/Library/Python/3.9/lib/python/site-packages (from datasets) (3.4.1)\n",
      "Requirement already satisfied: multiprocess in /Users/akshitapathania/Library/Python/3.9/lib/python/site-packages (from datasets) (0.70.15)\n",
      "Requirement already satisfied: fsspec<=2023.10.0,>=2023.1.0 in /Users/akshitapathania/Library/Python/3.9/lib/python/site-packages (from fsspec[http]<=2023.10.0,>=2023.1.0->datasets) (2023.10.0)\n",
      "Requirement already satisfied: aiohttp in /Users/akshitapathania/Library/Python/3.9/lib/python/site-packages (from datasets) (3.9.3)\n",
      "Requirement already satisfied: huggingface-hub>=0.19.4 in /Users/akshitapathania/Library/Python/3.9/lib/python/site-packages (from datasets) (0.22.2)\n",
      "Requirement already satisfied: packaging in /Users/akshitapathania/Library/Python/3.9/lib/python/site-packages (from datasets) (23.2)\n",
      "Requirement already satisfied: pyyaml>=5.1 in /Users/akshitapathania/Library/Python/3.9/lib/python/site-packages (from datasets) (6.0.1)\n",
      "Requirement already satisfied: idna>=2.8 in /Users/akshitapathania/Library/Python/3.9/lib/python/site-packages (from anyio<5,>=3.5.0->openai) (3.6)\n",
      "Requirement already satisfied: exceptiongroup>=1.0.2 in /Users/akshitapathania/Library/Python/3.9/lib/python/site-packages (from anyio<5,>=3.5.0->openai) (1.2.0)\n",
      "Requirement already satisfied: aiosignal>=1.1.2 in /Users/akshitapathania/Library/Python/3.9/lib/python/site-packages (from aiohttp->datasets) (1.3.1)\n",
      "Requirement already satisfied: attrs>=17.3.0 in /Users/akshitapathania/Library/Python/3.9/lib/python/site-packages (from aiohttp->datasets) (23.2.0)\n",
      "Requirement already satisfied: frozenlist>=1.1.1 in /Users/akshitapathania/Library/Python/3.9/lib/python/site-packages (from aiohttp->datasets) (1.4.1)\n",
      "Requirement already satisfied: multidict<7.0,>=4.5 in /Users/akshitapathania/Library/Python/3.9/lib/python/site-packages (from aiohttp->datasets) (6.0.5)\n",
      "Requirement already satisfied: yarl<2.0,>=1.0 in /Users/akshitapathania/Library/Python/3.9/lib/python/site-packages (from aiohttp->datasets) (1.9.4)\n",
      "Requirement already satisfied: async-timeout<5.0,>=4.0 in /Users/akshitapathania/Library/Python/3.9/lib/python/site-packages (from aiohttp->datasets) (4.0.3)\n",
      "Requirement already satisfied: httpcore==1.* in /Users/akshitapathania/Library/Python/3.9/lib/python/site-packages (from httpx<1,>=0.23.0->openai) (1.0.5)\n",
      "Requirement already satisfied: h11<0.15,>=0.13 in /Users/akshitapathania/Library/Python/3.9/lib/python/site-packages (from httpcore==1.*->httpx<1,>=0.23.0->openai) (0.14.0)\n",
      "Requirement already satisfied: annotated-types>=0.4.0 in /Users/akshitapathania/Library/Python/3.9/lib/python/site-packages (from pydantic<3,>=1.9.0->openai) (0.6.0)\n",
      "Requirement already satisfied: pydantic-core==2.16.3 in /Users/akshitapathania/Library/Python/3.9/lib/python/site-packages (from pydantic<3,>=1.9.0->openai) (2.16.3)\n",
      "Requirement already satisfied: charset-normalizer<4,>=2 in /Users/akshitapathania/Library/Python/3.9/lib/python/site-packages (from requests>=2.19.0->datasets) (3.3.2)\n",
      "Requirement already satisfied: python-dateutil>=2.8.2 in /Users/akshitapathania/Library/Python/3.9/lib/python/site-packages (from pandas->datasets) (2.8.2)\n",
      "Requirement already satisfied: pytz>=2020.1 in /Users/akshitapathania/Library/Python/3.9/lib/python/site-packages (from pandas->datasets) (2024.1)\n",
      "Requirement already satisfied: tzdata>=2022.7 in /Users/akshitapathania/Library/Python/3.9/lib/python/site-packages (from pandas->datasets) (2024.1)\n",
      "Requirement already satisfied: six>=1.5 in /Library/Developer/CommandLineTools/Library/Frameworks/Python3.framework/Versions/3.9/lib/python3.9/site-packages (from python-dateutil>=2.8.2->pandas->datasets) (1.15.0)\n"
     ]
    }
   ],
   "source": [
    "!pip install openai pinecone-client datasets\n"
   ]
  },
  {
   "cell_type": "code",
   "execution_count": 2,
   "metadata": {},
   "outputs": [
    {
     "name": "stdout",
     "output_type": "stream",
     "text": [
      "Defaulting to user installation because normal site-packages is not writeable\n",
      "Requirement already satisfied: pinecone-client[grpc] in /Users/akshitapathania/Library/Python/3.9/lib/python/site-packages (3.0.2)\n",
      "Requirement already satisfied: certifi>=2019.11.17 in /Users/akshitapathania/Library/Python/3.9/lib/python/site-packages (from pinecone-client[grpc]) (2024.2.2)\n",
      "Requirement already satisfied: tqdm>=4.64.1 in /Users/akshitapathania/Library/Python/3.9/lib/python/site-packages (from pinecone-client[grpc]) (4.66.2)\n",
      "Requirement already satisfied: typing-extensions>=3.7.4 in /Users/akshitapathania/Library/Python/3.9/lib/python/site-packages (from pinecone-client[grpc]) (4.9.0)\n",
      "Requirement already satisfied: urllib3>=1.26.0 in /Users/akshitapathania/Library/Python/3.9/lib/python/site-packages (from pinecone-client[grpc]) (1.26.18)\n",
      "Requirement already satisfied: googleapis-common-protos>=1.53.0 in /Users/akshitapathania/Library/Python/3.9/lib/python/site-packages (from pinecone-client[grpc]) (1.63.0)\n",
      "Requirement already satisfied: grpc-gateway-protoc-gen-openapiv2==0.1.0 in /Users/akshitapathania/Library/Python/3.9/lib/python/site-packages (from pinecone-client[grpc]) (0.1.0)\n",
      "Requirement already satisfied: grpcio>=1.44.0 in /Users/akshitapathania/Library/Python/3.9/lib/python/site-packages (from pinecone-client[grpc]) (1.62.1)\n",
      "Requirement already satisfied: lz4>=3.1.3 in /Users/akshitapathania/Library/Python/3.9/lib/python/site-packages (from pinecone-client[grpc]) (4.3.3)\n",
      "Requirement already satisfied: protobuf<3.21.0,>=3.20.0 in /Users/akshitapathania/Library/Python/3.9/lib/python/site-packages (from pinecone-client[grpc]) (3.20.3)\n",
      "Note: you may need to restart the kernel to use updated packages.\n"
     ]
    }
   ],
   "source": [
    "pip install 'pinecone-client[grpc]'\n"
   ]
  },
  {
   "cell_type": "code",
   "execution_count": 3,
   "metadata": {},
   "outputs": [
    {
     "name": "stdout",
     "output_type": "stream",
     "text": [
      "Defaulting to user installation because normal site-packages is not writeable\n",
      "Requirement already satisfied: openai in /Users/akshitapathania/Library/Python/3.9/lib/python/site-packages (1.17.0)\n",
      "Requirement already satisfied: anyio<5,>=3.5.0 in /Users/akshitapathania/Library/Python/3.9/lib/python/site-packages (from openai) (4.3.0)\n",
      "Requirement already satisfied: distro<2,>=1.7.0 in /Users/akshitapathania/Library/Python/3.9/lib/python/site-packages (from openai) (1.9.0)\n",
      "Requirement already satisfied: httpx<1,>=0.23.0 in /Users/akshitapathania/Library/Python/3.9/lib/python/site-packages (from openai) (0.27.0)\n",
      "Requirement already satisfied: pydantic<3,>=1.9.0 in /Users/akshitapathania/Library/Python/3.9/lib/python/site-packages (from openai) (2.6.3)\n",
      "Requirement already satisfied: sniffio in /Users/akshitapathania/Library/Python/3.9/lib/python/site-packages (from openai) (1.3.1)\n",
      "Requirement already satisfied: tqdm>4 in /Users/akshitapathania/Library/Python/3.9/lib/python/site-packages (from openai) (4.66.2)\n",
      "Requirement already satisfied: typing-extensions<5,>=4.7 in /Users/akshitapathania/Library/Python/3.9/lib/python/site-packages (from openai) (4.9.0)\n",
      "Requirement already satisfied: idna>=2.8 in /Users/akshitapathania/Library/Python/3.9/lib/python/site-packages (from anyio<5,>=3.5.0->openai) (3.6)\n",
      "Requirement already satisfied: exceptiongroup>=1.0.2 in /Users/akshitapathania/Library/Python/3.9/lib/python/site-packages (from anyio<5,>=3.5.0->openai) (1.2.0)\n",
      "Requirement already satisfied: certifi in /Users/akshitapathania/Library/Python/3.9/lib/python/site-packages (from httpx<1,>=0.23.0->openai) (2024.2.2)\n",
      "Requirement already satisfied: httpcore==1.* in /Users/akshitapathania/Library/Python/3.9/lib/python/site-packages (from httpx<1,>=0.23.0->openai) (1.0.5)\n",
      "Requirement already satisfied: h11<0.15,>=0.13 in /Users/akshitapathania/Library/Python/3.9/lib/python/site-packages (from httpcore==1.*->httpx<1,>=0.23.0->openai) (0.14.0)\n",
      "Requirement already satisfied: annotated-types>=0.4.0 in /Users/akshitapathania/Library/Python/3.9/lib/python/site-packages (from pydantic<3,>=1.9.0->openai) (0.6.0)\n",
      "Requirement already satisfied: pydantic-core==2.16.3 in /Users/akshitapathania/Library/Python/3.9/lib/python/site-packages (from pydantic<3,>=1.9.0->openai) (2.16.3)\n",
      "Note: you may need to restart the kernel to use updated packages.\n"
     ]
    }
   ],
   "source": [
    "pip install --upgrade openai"
   ]
  },
  {
   "cell_type": "code",
   "execution_count": 4,
   "metadata": {},
   "outputs": [
    {
     "name": "stderr",
     "output_type": "stream",
     "text": [
      "/Users/akshitapathania/Library/Python/3.9/lib/python/site-packages/pinecone/data/index.py:1: TqdmWarning: IProgress not found. Please update jupyter and ipywidgets. See https://ipywidgets.readthedocs.io/en/stable/user_install.html\n",
      "  from tqdm.autonotebook import tqdm\n"
     ]
    }
   ],
   "source": [
    "import openai\n",
    "\n",
    "from typing import List, Iterator\n",
    "import pandas as pd\n",
    "import numpy as np\n",
    "import os\n",
    "from ast import literal_eval\n",
    "\n",
    "# Pinecone's client library for Python\n",
    "import pinecone\n",
    "\n",
    "# Ignore unclosed SSL socket warnings - optional in case you get these errors\n",
    "import warnings\n",
    "\n",
    "warnings.filterwarnings(action=\"ignore\", message=\"unclosed\", category=ResourceWarning)\n",
    "warnings.filterwarnings(\"ignore\", category=DeprecationWarning)"
   ]
  },
  {
   "cell_type": "code",
   "execution_count": 5,
   "metadata": {},
   "outputs": [
    {
     "data": {
      "text/html": [
       "<div>\n",
       "<style scoped>\n",
       "    .dataframe tbody tr th:only-of-type {\n",
       "        vertical-align: middle;\n",
       "    }\n",
       "\n",
       "    .dataframe tbody tr th {\n",
       "        vertical-align: top;\n",
       "    }\n",
       "\n",
       "    .dataframe thead th {\n",
       "        text-align: right;\n",
       "    }\n",
       "</style>\n",
       "<table border=\"1\" class=\"dataframe\">\n",
       "  <thead>\n",
       "    <tr style=\"text-align: right;\">\n",
       "      <th></th>\n",
       "      <th>Title</th>\n",
       "      <th>Year</th>\n",
       "      <th>Level</th>\n",
       "      <th>Introduction Summary</th>\n",
       "      <th>Learning Outcomes</th>\n",
       "      <th>Link to Summary Page</th>\n",
       "      <th>Link to PDF File</th>\n",
       "    </tr>\n",
       "  </thead>\n",
       "  <tbody>\n",
       "    <tr>\n",
       "      <th>0</th>\n",
       "      <td>Industry and Company Analysis (2018)</td>\n",
       "      <td>2018\\n Curriculum</td>\n",
       "      <td>Level II</td>\n",
       "      <td>This reading explores industry and company ana...</td>\n",
       "      <td>compare top-down, bottom-up, and hybrid approa...</td>\n",
       "      <td>https://www.cfainstitute.org/membership/profes...</td>\n",
       "      <td>No PDF link found</td>\n",
       "    </tr>\n",
       "    <tr>\n",
       "      <th>1</th>\n",
       "      <td>Free Cash Flow Valuation (2018)</td>\n",
       "      <td>2018\\n Curriculum</td>\n",
       "      <td>Level II</td>\n",
       "      <td>Discounted cash flow (DCF) valuation views the...</td>\n",
       "      <td>compare the free cash flow to the firm (FCFF) ...</td>\n",
       "      <td>https://www.cfainstitute.org/membership/profes...</td>\n",
       "      <td>No PDF link found</td>\n",
       "    </tr>\n",
       "    <tr>\n",
       "      <th>2</th>\n",
       "      <td>Residual Income Valuation (2018)</td>\n",
       "      <td>2018\\n Curriculum</td>\n",
       "      <td>Level II</td>\n",
       "      <td>Residual income models of equity value have be...</td>\n",
       "      <td>calculate and interpret residual income, econo...</td>\n",
       "      <td>https://www.cfainstitute.org/membership/profes...</td>\n",
       "      <td>No PDF link found</td>\n",
       "    </tr>\n",
       "    <tr>\n",
       "      <th>3</th>\n",
       "      <td>Market-Based Valuation: Price and Enterprise V...</td>\n",
       "      <td>2018\\n Curriculum</td>\n",
       "      <td>Level II</td>\n",
       "      <td>Among the most familiar and widely used valuat...</td>\n",
       "      <td>distinguish between the method of comparables ...</td>\n",
       "      <td>https://www.cfainstitute.org/membership/profes...</td>\n",
       "      <td>No PDF link found</td>\n",
       "    </tr>\n",
       "  </tbody>\n",
       "</table>\n",
       "</div>"
      ],
      "text/plain": [
       "                                               Title               Year  \\\n",
       "0               Industry and Company Analysis (2018)  2018\\n Curriculum   \n",
       "1                    Free Cash Flow Valuation (2018)  2018\\n Curriculum   \n",
       "2                   Residual Income Valuation (2018)  2018\\n Curriculum   \n",
       "3  Market-Based Valuation: Price and Enterprise V...  2018\\n Curriculum   \n",
       "\n",
       "      Level                               Introduction Summary  \\\n",
       "0  Level II  This reading explores industry and company ana...   \n",
       "1  Level II  Discounted cash flow (DCF) valuation views the...   \n",
       "2  Level II  Residual income models of equity value have be...   \n",
       "3  Level II  Among the most familiar and widely used valuat...   \n",
       "\n",
       "                                   Learning Outcomes  \\\n",
       "0  compare top-down, bottom-up, and hybrid approa...   \n",
       "1  compare the free cash flow to the firm (FCFF) ...   \n",
       "2  calculate and interpret residual income, econo...   \n",
       "3  distinguish between the method of comparables ...   \n",
       "\n",
       "                                Link to Summary Page   Link to PDF File  \n",
       "0  https://www.cfainstitute.org/membership/profes...  No PDF link found  \n",
       "1  https://www.cfainstitute.org/membership/profes...  No PDF link found  \n",
       "2  https://www.cfainstitute.org/membership/profes...  No PDF link found  \n",
       "3  https://www.cfainstitute.org/membership/profes...  No PDF link found  "
      ]
     },
     "execution_count": 5,
     "metadata": {},
     "output_type": "execute_result"
    }
   ],
   "source": [
    "article_df = pd.read_csv('/Users/akshitapathania/Desktop/Assign5_CSV.csv')\n",
    "article_df.head()"
   ]
  },
  {
   "cell_type": "code",
   "execution_count": 6,
   "metadata": {},
   "outputs": [],
   "source": [
    "data = article_df['Introduction Summary']"
   ]
  },
  {
   "cell_type": "code",
   "execution_count": 7,
   "metadata": {},
   "outputs": [
    {
     "data": {
      "text/plain": [
       "0    This reading explores industry and company ana...\n",
       "1    Discounted cash flow (DCF) valuation views the...\n",
       "2    Residual income models of equity value have be...\n",
       "3    Among the most familiar and widely used valuat...\n",
       "Name: Introduction Summary, dtype: object"
      ]
     },
     "execution_count": 7,
     "metadata": {},
     "output_type": "execute_result"
    }
   ],
   "source": [
    "data"
   ]
  },
  {
   "cell_type": "code",
   "execution_count": 8,
   "metadata": {},
   "outputs": [],
   "source": [
    "import tiktoken\n",
    "\n",
    "tokenizer = tiktoken.get_encoding('p50k_base')\n",
    "\n",
    "# create the length function\n",
    "def tiktoken_len(text):\n",
    "    tokens = tokenizer.encode(\n",
    "        text,\n",
    "        disallowed_special=()\n",
    "    )\n",
    "    return len(tokens)"
   ]
  },
  {
   "cell_type": "code",
   "execution_count": 9,
   "metadata": {},
   "outputs": [],
   "source": [
    "from langchain.text_splitter import RecursiveCharacterTextSplitter\n",
    "\n",
    "text_splitter = RecursiveCharacterTextSplitter(\n",
    "    chunk_size=400,\n",
    "    chunk_overlap=20,\n",
    "    length_function=tiktoken_len,\n",
    "    separators=[\"\\n\\n\", \"\\n\", \" \", \"\"]\n",
    ")"
   ]
  },
  {
   "cell_type": "code",
   "execution_count": 10,
   "metadata": {},
   "outputs": [
    {
     "name": "stderr",
     "output_type": "stream",
     "text": [
      "100%|██████████| 4/4 [00:00<00:00, 360.59it/s]\n"
     ]
    }
   ],
   "source": [
    "from uuid import uuid4\n",
    "from tqdm.auto import tqdm\n",
    "\n",
    "# Assuming 'Learning Outcomes' is the name of the column in the DataFrame 'article_df_s'\n",
    "chunks = []\n",
    "\n",
    "for idx, text in tqdm(article_df['Introduction Summary'].items(), total=article_df['Introduction Summary'].shape[0]):\n",
    "    # Assuming text_splitter is defined and has a method split_text that splits the text into chunks\n",
    "    texts = text_splitter.split_text(text)\n",
    "    chunks.extend([{\n",
    "        'id': str(uuid4()),\n",
    "        'text': chunk_text,\n",
    "        'chunk': i,\n",
    "        'title': article_df.at[idx, 'Title']  \n",
    "    } for i, chunk_text in enumerate(texts)])\n",
    "\n"
   ]
  },
  {
   "cell_type": "markdown",
   "metadata": {},
   "source": [
    "## Initialise the embedded model"
   ]
  },
  {
   "cell_type": "code",
   "execution_count": 11,
   "metadata": {},
   "outputs": [],
   "source": [
    "# initialize openai API key\n",
    "from openai import OpenAI\n",
    "api_key = os.getenv(\"api_key\")\n",
    "\n",
    "\n",
    "embed_model = \"text-embedding-3-small\"\n",
    "\n",
    "client = OpenAI(api_key=api_key)\n",
    "res = client.embeddings.create(\n",
    "    input=[\n",
    "        \"Sample document text goes here\",\n",
    "        \"there will be several phrases in each batch\"\n",
    "    ], model = embed_model\n",
    ")"
   ]
  },
  {
   "cell_type": "code",
   "execution_count": 12,
   "metadata": {},
   "outputs": [
    {
     "name": "stdout",
     "output_type": "stream",
     "text": [
      "CreateEmbeddingResponse(data=[Embedding(embedding=[-0.0030704932287335396, 0.011769662611186504, -0.00524107227101922, -0.027138981968164444, -0.016434386372566223, 0.03246431425213814, -0.01631304807960987, -0.0009993427665904164, -0.025952577590942383, -0.006484773941338062, 0.020101450383663177, 0.016636613756418228, -0.009160922840237617, 0.023458434268832207, -0.010199026204645634, 0.013488599099218845, 0.025251520797610283, -0.016852322965860367, 0.012167377397418022, -0.016245638951659203, -0.004273748956620693, -0.0064780330285429955, -0.0044186790473759174, 0.020748579874634743, -0.010549554601311684, -0.0037445861380547285, 0.013704309239983559, -0.02627614140510559, -0.0004048770642839372, -0.002160467905923724, 0.0058713494800031185, -0.010077688843011856, -0.028177084401249886, -0.016151266172528267, -0.004250155761837959, 0.007475690450519323, -0.0028564687818288803, -0.03154755011200905, 0.024011189118027687, -0.03346197307109833, -0.00034968569525517523, 0.013077402487397194, 0.00723301712423563, -0.005621934775263071, 0.0031547548715025187, -0.02982187084853649, 0.02623569592833519, -0.004637759178876877, 0.006636444944888353, 0.01735115237534046, 0.027327727526426315, 0.015706365928053856, -0.022258548066020012, 0.0029794906731694937, -0.006592629011720419, 0.006370177958160639, -0.01697365939617157, 0.020047523081302643, 0.003525506006553769, -0.0034547261893749237, -0.001092030550353229, 0.003582803998142481, -0.0026626670733094215, -0.012652724049985409, -0.01807917281985283, -0.03537639603018761, -0.031790222972631454, 0.007549840956926346, 0.0071723489090800285, 0.005541043821722269, 0.02088339813053608, 0.0109068239107728, -0.011587657034397125, -0.0174859706312418, 0.0065892585553228855, 0.010118134319782257, -0.012201081961393356, -0.012497683055698872, 0.0002317194448551163, -0.0011358465999364853, 0.004590572789311409, -0.02672104351222515, -0.002389659406617284, 0.03205985948443413, 0.00909351371228695, 0.014034614898264408, 0.01837577298283577, 0.029093850404024124, -0.021045181900262833, -0.017405079677700996, -0.006049984134733677, 0.015935556963086128, -0.0043546403758227825, 0.01708151400089264, -0.013124588876962662, 0.02202935703098774, -0.005446671042591333, 0.024334754794836044, 0.0038625523447990417, -0.04095788672566414, 0.008513793349266052, 0.009976575151085854, -0.012153895571827888, -0.009578860364854336, -0.03936702758073807, 0.005763494409620762, 0.016259120777249336, -0.014776117168366909, 0.016097338870167732, 0.014492997899651527, -0.02154400944709778, 0.012659464962780476, -0.004678205121308565, -0.033273227512836456, 0.014344697818160057, 0.004590572789311409, -0.004472606349736452, -0.022002393379807472, 0.0011071976041421294, -0.005136588122695684, -0.013347039930522442, 0.02616828680038452, 0.040014155209064484, -0.016623131930828094, 0.013926759362220764, 0.02368762530386448, -0.005075919907540083, -0.031978968530893326, 0.012908879667520523, -0.00602302048355341, 0.018092654645442963, 0.04262963682413101, 0.024199936538934708, 0.02062724344432354, -0.02823101170361042, 0.018793711438775063, -0.04554171860218048, 0.019171202555298805, -0.02188105694949627, -0.017512934282422066, 0.008864321745932102, 0.034998904913663864, -0.006070206873118877, -0.006258952897042036, 0.006902711465954781, 0.011115792207419872, 0.0006458652787841856, -0.0211125910282135, 0.010778745636343956, -0.013845868408679962, 0.0108866011723876, 0.0023407877888530493, -0.0071184211410582066, 0.012073004618287086, 0.003758067963644862, 0.026316586881875992, 0.012369604781270027, -0.003940073307603598, -0.011452838778495789, -0.020546352490782738, 0.008203710429370403, 0.014506479725241661, 0.019292538985610008, -0.010131617076694965, 0.010407994501292706, 0.041416268795728683, 0.00261548045091331, -0.010718077421188354, 0.00041098601650446653, -0.01771516166627407, -0.02457742765545845, 0.016919732093811035, -0.045703500509262085, 0.003977148327976465, -0.03324626386165619, 0.024604391306638718, 0.015005308203399181, 0.01507271733134985, -0.00893173087388277, -0.023121386766433716, -0.019764404743909836, 0.007974519394338131, 0.011850553564727306, 0.03726385533809662, -0.03667065501213074, -0.0036367313005030155, -0.015746811404824257, 0.0005481218104250729, 0.0026458147913217545, 0.0007385530625469983, 0.007940814830362797, 0.010495626367628574, 0.0051770335994660854, -0.023566288873553276, -0.6898397207260132, -0.021166518330574036, -0.0037614384200423956, -0.011729217134416103, 0.025777313858270645, 0.02062724344432354, 0.011682030744850636, 0.010279917158186436, -0.010475403629243374, 0.014344697818160057, -0.02309442311525345, 0.005311852321028709, -0.010940528474748135, -0.0028969142585992813, -0.01763427071273327, -0.018982456997036934, 0.00010838150046765804, 0.003815365955233574, -0.019198166206479073, 0.00781947746872902, 0.00027890593628399074, 0.013454894535243511, -0.029066886752843857, 0.013859350234270096, 0.012571833096444607, -0.0009664807002991438, 0.004995028488337994, -0.016434386372566223, 0.00297106453217566, 0.02442912757396698, -0.03742564097046852, -0.01116297859698534, -0.005183774512261152, 0.022447293624281883, 0.05376565083861351, -4.4421671191230416e-05, -5.3506126278080046e-05, -0.007489172276109457, 0.011230387724936008, 0.013185258023440838, -0.018348809331655502, -0.017499452456831932, 0.006147727370262146, -0.01590859331190586, -0.0014501423574984074, 0.0016068690456449986, 0.03003758005797863, 0.011702253483235836, 0.017688198015093803, 0.027354691177606583, -0.0056792329996824265, 0.0009176089661195874, 0.015598510392010212, -0.006019650027155876, 0.011911221779882908, 0.0020138525869697332, 0.036697618663311005, -0.02446957305073738, 0.016582686454057693, 0.026855861768126488, 0.005254554562270641, 0.022703450173139572, -0.01457388885319233, -0.018025245517492294, -0.0058174217119812965, 0.006791486404836178, -0.010064207017421722, 0.004010852891951799, 0.027502991259098053, -0.014870489947497845, 0.011129274033010006, 0.018834156915545464, -0.0210317000746727, -0.024375200271606445, 0.005456782411783934, 0.011938185431063175, 0.01378520019352436, -0.0050186216831207275, -0.011378688737750053, 0.01671750470995903, 0.018658891320228577, 0.00791385117918253, -0.03704814612865448, -0.015652436763048172, 0.01875326596200466, -0.0038861457724124193, -0.042090363800525665, -0.006565664894878864, 0.002093058545142412, 0.009066550061106682, 0.009956352412700653, 0.021530527621507645, -0.006656667683273554, 0.006949897855520248, 0.005032103508710861, 0.011486543342471123, -0.002954212250187993, 0.006488144397735596, 0.009268777444958687, -0.005564637016505003, 0.0023744923528283834, 0.024442609399557114, -0.01426380593329668, 0.007010566536337137, 0.030684709548950195, 0.0017509564058855176, -0.0019953150767832994, 0.011149496771395206, 0.01697365939617157, -0.014061578549444675, 0.0027081682346761227, -0.00020528235472738743, -0.008628389798104763, -0.02413252741098404, -0.017054550349712372, -0.03141273185610771, 0.011877517215907574, 0.00036948718479834497, 0.015288427472114563, 0.009794570505619049, 0.019791368395090103, 0.01029339898377657, -0.0026458147913217545, 0.0006955796270631254, 0.015571546740829945, 0.00651173759251833, -0.010657409206032753, -0.03246431425213814, -0.002925563370808959, -0.011985371820628643, -0.012073004618287086, 0.002802541246637702, 0.04532600939273834, -0.016218675300478935, 0.013562750071287155, 0.004236673936247826, 0.019022902473807335, -0.006289287004619837, -0.0054433005861938, -0.014075060375034809, -0.023498879745602608, 0.015032271854579449, -0.006943156942725182, -0.011196683160960674, 0.009895684197545052, -0.02026323415338993, -0.02461787313222885, -0.002275063656270504, 0.003997371066361666, -0.00449282955378294, -0.011304538697004318, -0.010596740990877151, -0.02362021617591381, 0.006434217095375061, 0.004189487546682358, -0.004839987028390169, 0.006097170524299145, -0.028096193447709084, -0.01033384446054697, -0.013070661574602127, 0.0041625238955020905, 0.018604964017868042, -0.02266300469636917, -0.0006875747931189835, -0.009174404665827751, -0.020681170746684074, -0.026249177753925323, 0.020546352490782738, -0.011594397947192192, -0.030576854944229126, -0.005203997250646353, -0.012517905794084072, -0.001146800583228469, -0.0011434301268309355, 0.014803080819547176, -0.015207536518573761, -0.020451979711651802, 0.0010263065341860056, 0.027476027607917786, -0.02579079568386078, 0.01149328425526619, 0.014668261632323265, 0.017054550349712372, 0.016043411567807198, 0.021449636667966843, 0.013104366138577461, 0.0015344040002673864, 0.01597600243985653, -0.015504137612879276, -0.002382918493822217, 0.020802507176995277, -0.006137616001069546, -0.010414735414087772, 0.013212221674621105, -0.005763494409620762, 0.00438160402700305, -0.02277085930109024, 0.017512934282422066, 0.018995938822627068, 0.00019727750623133034, 0.02154400944709778, 0.008298084139823914, 0.014075060375034809, -0.01011139340698719, 0.003124420763924718, -0.03397428244352341, -0.0035120241809636354, -0.025966059416532516, 0.009349668398499489, 0.012079745531082153, 0.0032744063064455986, -0.0204115342348814, -0.027017643675208092, 0.004091743845492601, 0.010232730768620968, 0.020101450383663177, -0.0038591818884015083, -0.0037142520304769278, -0.0012605537194758654, 0.001199885387904942, 0.00867557618767023, -0.006356696132570505, 0.017944352701306343, -0.006943156942725182, -0.0077790324576199055, 0.01944083906710148, 0.01597600243985653, 0.03761438652873039, 0.011230387724936008, -0.014492997899651527, -0.0009032845264300704, 0.0055444142781198025, -0.0013212221674621105, -0.0002765887475106865, 0.02708505280315876, 0.01324592623859644, 0.01926557533442974, -0.01671750470995903, 0.03907042741775513, -0.00602302048355341, -0.01638045720756054, 0.021301336586475372, 0.021449636667966843, -0.013320076279342175, 0.014412106946110725, -0.02202935703098774, 0.01507271733134985, 0.02007448673248291, -0.008021705783903599, 0.0003819157718680799, 0.0013793626567348838, 0.01363690011203289, -0.007981260307133198, 0.013603195548057556, 0.026801934465765953, -0.006740929093211889, -0.0015992855187505484, 0.01011139340698719, 0.004900655709207058, 0.016178229823708534, 0.018604964017868042, -0.013138070702552795, -0.0033772054594010115, 0.004951212555170059, 0.02084295265376568, -0.00686226598918438, -0.0024199935141950846, -0.0049377307295799255, -0.01789042539894581, 0.0007811051909811795, 0.005119735840708017, -0.012767319567501545, 0.012949325144290924, -0.01731070689857006, 0.021854093298316002, 0.008466606959700584, 0.016259120777249336, 0.009080031886696815, 0.0015967575600370765, -0.005015251226723194, -0.017297225072979927, -0.0379379503428936, 0.001315323868766427, 0.010947269387543201, 0.005989315453916788, -0.0015571546973660588, -0.007765550632029772, 0.01667705923318863, -0.014492997899651527, -0.0005131532670930028, 0.00605335459113121, 0.005470264237374067, 0.007859923876821995, -0.011270834133028984, 0.004098484758287668, 0.012854952365159988, 0.003758067963644862, 0.003633360844105482, -0.018726302310824394, 0.01053607277572155, 0.011318020522594452, -0.002185746328905225, -0.023889852687716484, -0.024348236620426178, 0.0436272956430912, -0.013697568327188492, -0.007091457489877939, 0.0019161091186106205, -0.009295741096138954, -0.021301336586475372, 0.012025817297399044, 0.0024536983110010624, -0.022002393379807472, -0.0009133958956226707, 0.019508250057697296, 0.0009100254392251372, -0.011223646812140942, 0.015059235505759716, 0.025696422904729843, 0.0081025967374444, 0.0019329614005982876, -0.028554575517773628, -0.01391327753663063, 0.012281972914934158, 0.06007516011595726, 0.051419809460639954, 0.005756753496825695, 0.0037681793328374624, 0.008426161482930183, -0.005372520536184311, -0.013535785488784313, -0.013508821837604046, 0.017499452456831932, -0.02128785476088524, -0.0061679501086473465, -0.0047051687724888325, 0.019454320892691612, 0.00261548045091331, 0.022352920845150948, -0.0068454137071967125, 0.010468662716448307, 0.01376497745513916, -0.011473061516880989, -0.018281400203704834, 0.007967778481543064, 0.010529331862926483, 0.0009690086008049548, 0.008594685234129429, 0.020708134397864342, -0.02268996834754944, 0.00996309332549572, 0.014412106946110725, -0.006690372247248888, -0.024415645748376846, -0.01650179550051689, 0.01642090454697609, 0.016879286617040634, 0.02362021617591381, -0.0036805474665015936, 0.03103523887693882, -0.010933787561953068, -0.01387283205986023, 0.00521073816344142, 0.003774920478463173, 0.008378975093364716, 0.0059926859103143215, 0.011041642166674137, 0.0035356173757463694, -0.0023407877888530493, 0.0031732923816889524, -0.02211024798452854, 0.0032103676348924637, -0.013313335366547108, -0.003367094090208411, 0.0016666947631165385, -0.007489172276109457, 0.0182274729013443, -0.012875175103545189, 0.017701679840683937, 0.018645409494638443, 0.009639528580009937, 0.010610222816467285, -0.006528589874505997, -0.026060432195663452, -0.0054635233245790005, -0.0015697939088568091, -0.009700196795165539, -0.009390114806592464, -0.004317565355449915, -0.024820102378726006, -0.01068437285721302, -0.001295943628065288, -0.02579079568386078, 0.010360808111727238, 0.007448726799339056, 0.002167208818718791, -0.014533443376421928, 0.0033822611439973116, 0.011136014945805073, 0.0013768348144367337, -0.0037142520304769278, -0.004624277353286743, -0.010731559246778488, -0.000315559736918658, -0.006835302338004112, -0.014209878630936146, 0.011446097865700722, -0.022757377475500107, -0.0009049697546288371, 0.01590859331190586, 0.0005835116608068347, 0.001125735230743885, 0.00036358885699883103, 0.027138981968164444, -0.005048955790698528, 0.00854075700044632, -0.009936129674315453, -0.03192504122853279, -0.00225147046148777, -0.018389254808425903, 0.006070206873118877, -0.012780801393091679, -0.004566979594528675, -0.02077554352581501, -0.01101467851549387, -0.0002540487621445209, -0.00037370025529526174, -0.006073577329516411, 0.0034260773099958897, 0.0009445727337151766, -0.0014434014447033405, 0.012868434190750122, -0.008001483045518398, -0.0019380172016099095, 0.004654611460864544, -0.011176460422575474, -0.001247914507985115, -0.013279630802571774, 0.011358465999364853, 0.012989770621061325, -0.006134245544672012, 0.025143666192889214, 0.002308768220245838, -0.0154232457280159, 0.01291562058031559, -0.0197104774415493, 0.013400967232882977, 0.024995366111397743, 0.009342927485704422, 0.023161832243204117, -0.02268996834754944, -0.004816393833607435, 0.0038119954988360405, -0.012996511533856392, -0.0080823739990592, 0.008358752354979515, -0.0020846324041485786, -0.018604964017868042, -0.026518816128373146, -0.0018402737332507968, 0.0013549267314374447, 0.00937663298100233, -0.023269686847925186, -0.01186403539031744, -0.018888084217905998, 0.004998398944735527, 0.009551896713674068, -0.003785031847655773, -0.011452838778495789, -0.025817759335041046, -0.0031210503075271845, -0.0025497565511614084, -0.012295454740524292, 0.016636613756418228, 0.005200626794248819, -0.004718650598078966, -0.008163264952600002, -0.0029929724987596273, 0.004604054614901543, -0.025655977427959442, 0.00972041953355074, 0.01068437285721302, 0.018537554889917374, 0.017876943573355675, 0.02601998671889305, -0.0004537487984634936, 0.015692884102463722, 0.011917962692677975, -0.008918249048292637, -0.002713223919272423, 0.004930989816784859, -0.01081245020031929, -0.016596168279647827, -0.002718279603868723, 0.010488885454833508, 0.011540470644831657, 0.010819191113114357, -0.0190094206482172, 0.013198739849030972, 0.004998398944735527, -0.00450294092297554, 0.0032963145058602095, 0.004877062514424324, -0.02313486859202385, -0.008298084139823914, 0.011547211557626724, -0.01324592623859644, 0.014668261632323265, -0.029093850404024124, 0.002784003736451268, 0.052013009786605835, -0.005807310342788696, 0.006491514854133129, 0.004563609138131142, 0.008702539838850498, -0.01571984775364399, -0.0018251065630465746, -0.020101450383663177, -0.0005439087399281561, -0.013158293440937996, 0.016946695744991302, -0.02126089110970497, 0.0034951718989759684, 0.04624277353286743, 0.01646135002374649, 0.0033148520160466433, 0.0033839463721960783, 0.019831813871860504, 0.007340871728956699, -0.019171202555298805, 0.010158580727875233, 0.0024469573982059956, -0.003424392081797123, 0.0006306981667876244, -0.0321677140891552, 0.0028783767484128475, -0.0030721784569323063, -0.011109051294624805, -0.0024031412322074175, 0.01907682977616787, 0.006410623900592327, 0.0059926859103143215, -0.03664369136095047, -0.01396720577031374, -0.0027654662262648344, -0.013717791065573692, 0.052120864391326904, 0.017607307061553, -0.0021924872417002916, 0.013859350234270096, -0.008378975093364716, -0.015504137612879276, 0.016704022884368896, -0.007947555743157864, -0.011203424073755741, 0.043303728103637695, 0.03192504122853279, -0.0071184211410582066, 0.0029289338272064924, 0.01031362172216177, 0.024550464004278183, 0.012295454740524292, -0.013144811615347862, 0.00998331606388092, 0.01771516166627407, -0.0013321761507540941, -0.0217732023447752, -0.009066550061106682, -0.05292977765202522, 0.026990680024027824, 0.005925276782363653, 0.001811624737456441, -0.011877517215907574, -0.00915418192744255, -0.020061004906892776, 0.005803939886391163, -0.01722981594502926, 0.019589141011238098, 0.008709280751645565, -0.012073004618287086, -0.011587657034397125, 0.01396720577031374, -0.02449653670191765, -0.004361381288617849, -0.005146699491888285, 0.01807917281985283, -0.02417297288775444, 0.0045703500509262085, 0.00865535344928503, 0.019535213708877563, -0.01258531492203474, 0.0005371678271330893, 0.0005510709597729146, 0.028878141194581985, -0.016245638951659203, -0.007084716577082872, -0.002558182692155242, -0.0008628389332443476, 0.009875461459159851, -0.004688316490501165, -0.004111967049539089, -0.005507339257746935, -0.011439356952905655, -0.014385143294930458, 0.005524191539734602, 0.008419420570135117, -0.012794284150004387, -0.01816006377339363, -0.005433188751339912, -0.0211125910282135, -0.012099968269467354, -0.013138070702552795, 0.00015124959463719279, -0.030280254781246185, -0.0366167277097702, 0.01638045720756054, 0.010529331862926483, 0.013340299017727375, 0.005958981346338987, -0.01992618665099144, 0.020505907014012337, 0.040014155209064484, -0.0048669506795704365, 0.0050017694011330605, 0.003501912811771035, 0.004405197221785784, -0.022595595568418503, -0.001579062663950026, -0.008223934099078178, 0.001681861816905439, 0.02132830023765564, -0.01811961829662323, -0.02763780951499939, -0.011816849000751972, -0.0003989787364844233, 0.013684086501598358, 0.0038423296064138412, -0.015558064915239811, 0.004647870548069477, 0.0054803756065666676, 0.0037041406612843275, 0.01856451854109764, -0.025629013776779175, 0.02268996834754944, -0.0009285630076192319, -0.006376918870955706, -0.0011838757200166583, -0.023781998082995415, -0.00044448001426644623, 0.0048972852528095245, 0.007502654101699591, 0.011439356952905655, -0.04036468267440796, -0.01807917281985283, -0.00225652614608407, 0.015436727553606033, -0.0033013701904565096, -0.010320362634956837, -0.021678827702999115, -0.0010836044093593955, -0.009417078457772732, -0.0033468713518232107, 0.018281400203704834, -0.014668261632323265, -0.007967778481543064, 0.009861979633569717, -0.004482717718929052, 0.008601426146924496, -0.007516135927289724, 0.011061864905059338, -0.03526854142546654, -0.016744468361139297, -0.01652875915169716, -0.018537554889917374, -0.006285916548222303, 0.025629013776779175, 0.008736244402825832, -0.007259980775415897, -0.016151266172528267, -0.012652724049985409, -0.03923220932483673, -0.023013532161712646, -0.006151097826659679, -0.0024216787423938513, 0.02128785476088524, 0.03063078224658966, -0.0016995568294078112, 0.030495963990688324, -0.0010347326751798391, 0.03324626386165619, -0.035403359681367874, -0.011129274033010006, 0.017175886780023575, -0.019319502636790276, -0.007536358665674925, 0.006737558636814356, -0.019494768232107162, -0.006798227317631245, 0.038989536464214325, 0.004573720507323742, -0.0035794333089143038, 0.03332715481519699, -0.0017459007212892175, -0.02771870046854019, -0.008048669435083866, 0.007030789274722338, 0.0011139385169371963, -0.00771162286400795, 0.0011240500025451183, -0.007051012013107538, -0.010846154764294624, -0.0023508991580456495, -0.013239185325801373, -0.007206053473055363, 0.004071521107107401, 0.010522590950131416, 0.0018436441896483302, 0.005847756285220385, -0.027206391096115112, -0.012976288795471191, -0.018699336796998978, -0.014776117168366909, 0.02742210030555725, 0.0047051687724888325, -0.015032271854579449, 0.03691332787275314, -0.00913395918905735, -0.0029744349885731936, -0.016218675300478935, 0.02336406148970127, -0.016582686454057693, -0.012497683055698872, 0.0026087395381182432, -0.023350579664111137, -0.023444952443242073, -0.003148013958707452, -0.005190515425056219, -0.021759718656539917, 0.007313908077776432, -0.005005139857530594, -0.010097911581397057, -0.015625473111867905, -0.008918249048292637, 0.006592629011720419, -0.02472572773694992, -0.04573046416044235, -0.023188795894384384, 0.01837577298283577, -0.0006403882871381938, -0.009315963834524155, -0.01173595804721117, -0.014830044470727444, 0.021490082144737244, 0.010866377502679825, -0.011911221779882908, -0.0075633227825164795, 0.01992618665099144, 0.011857294477522373, -0.019171202555298805, 0.02100473642349243, 0.2299465835094452, -0.00028354034293442965, 0.012996511533856392, 0.04085003212094307, 0.013347039930522442, 0.012410051189363003, 0.014803080819547176, 0.0014551980420947075, -0.01066415011882782, 0.007671177387237549, 0.007044271100312471, 0.0038895162288099527, -0.001411382108926773, -0.0009462579619139433, 0.02734120935201645, 0.01291562058031559, -0.020694652572274208, -0.04025682806968689, -0.01164158433675766, -0.029687052592635155, -0.000824499933514744, -0.004523163661360741, -0.00021086468768771738, -0.010616963729262352, 0.005793828517198563, -0.00900588184595108, -0.011041642166674137, -0.003919850569218397, 0.018995938822627068, 0.015288427472114563, -0.010340585373342037, -0.013448153622448444, 0.010407994501292706, 0.0076846592128276825, -0.04227910935878754, 0.02096428908407688, 0.015018790028989315, 0.011553952470421791, 0.022420329973101616, 0.014398625120520592, 0.0015091255772858858, -0.017405079677700996, -0.02313486859202385, -0.018847638741135597, -0.0015082829631865025, 0.01411550585180521, 0.007994742132723331, -0.019791368395090103, 0.008480088785290718, 0.0022396736312657595, -0.009693455882370472, 0.014290769584476948, 0.020384570583701134, 0.012275232002139091, 0.008898026309907436, -0.0070779756642878056, 0.016623131930828094, 0.013670604676008224, -0.024146009236574173, 0.010549554601311684, -0.008156524039804935, 0.015814220532774925, -0.005227590445429087, 0.017539897933602333, -0.011210164986550808, -0.005295000039041042, -0.0154232457280159, -0.021099109202623367, -0.014587370678782463, -0.0021385597065091133, 0.0029676940757781267, 0.0055039688013494015, -0.001811624737456441, 0.0013448153622448444, -0.006231989245861769, -0.014641297981142998, 0.00653196033090353, 0.028851177543401718, 0.017728643491864204, 0.027610845863819122, -0.02022278681397438, 0.0008965436136350036, 0.018834156915545464, -0.023404506966471672, -0.025709904730319977, -0.022932641208171844, -0.0027031125500798225, 0.0009159237379208207, -0.009754125028848648, -0.017108477652072906, -0.017957836389541626, -0.012470719404518604, -0.01254486944526434, -0.015935556963086128, 0.017876943573355675, 0.0019262204878032207, -0.015935556963086128, 0.016110820695757866, -0.0065589239820837975, -0.0009900740114971995, -0.032787878066301346, 0.039906300604343414, 0.004095114301890135, 0.014668261632323265, 0.0037108815740793943, 9.32144102989696e-05, -0.004506311379373074, 0.006929675117135048, -0.009471005760133266, -0.011776403523981571, 0.019589141011238098, 0.006393771152943373, 0.015733329579234123, -0.008399197831749916, -0.012490942142903805, 0.021206963807344437, 0.0026458147913217545, -0.017108477652072906, 0.002076206263154745, 0.004054668825119734, -0.019993595778942108, -0.005089401733130217, -0.016838841140270233, 0.0042434148490428925, -0.016596168279647827, -0.013030216097831726, -0.0055444142781198025, -0.0047051687724888325, 0.012335900217294693, -0.014830044470727444, 0.003572692396119237, 0.0076037682592868805, 0.006585887633264065, 0.0033485565800219774, -0.0072127943858504295, 3.913557065970963e-06, 0.0004478504997678101, 0.011412393301725388, -0.019804850220680237, 0.015571546740829945, 0.009888943284749985, -0.008089114911854267, 0.001970036653801799, -0.01337400358170271, 0.0014526701997965574, -0.004984917119145393, 0.009558637626469135, -0.01911727525293827, -0.0019059977494180202, -0.017135441303253174, -0.027287282049655914, -0.013205480761826038, -0.008250897750258446, 0.008116078563034534, 0.028851177543401718, -0.01656920462846756, -0.018942011520266533, -0.02731424570083618, 0.016407420858740807, -0.014695225283503532, -0.034001246094703674, -0.0006108967354521155, 0.026855861768126488, -0.01886112056672573, 0.003363723633810878, -0.0028480426408350468, -0.17612700164318085, 0.0017846609698608518, 0.01767471618950367, -0.02287871390581131, 0.008729503490030766, -0.012403309345245361, 0.026006504893302917, 0.007017307449132204, -0.0006323833949863911, 0.003174977609887719, -0.007340871728956699, -0.01527494564652443, -0.03534943237900734, -0.0062791756354272366, -0.013704309239983559, 0.006299398373812437, -0.03481015935540199, 0.010765263810753822, 0.0190094206482172, 0.02914777770638466, 0.003731104312464595, -0.010778745636343956, 0.019103793427348137, -0.031197020784020424, 0.008527275174856186, -0.005766864866018295, -0.006943156942725182, 0.027004161849617958, -0.0043546403758227825, -0.008095855824649334, 0.003683917922899127, -0.0047220210544764996, -0.0024402164854109287, 0.005156810861080885, 0.012019076384603977, -0.002389659406617284, 0.01064392738044262, -0.0029407304245978594, -0.009471005760133266, 0.020910361781716347, 0.014331215992569923, 0.041200559586286545, 0.0032103676348924637, -0.024307791143655777, 0.0018183656502515078, 0.007286944426596165, 0.01988574117422104, -0.004887173883616924, 0.0016987142153084278, -0.013360521756112576, 0.02236640267074108, -0.03454052284359932, -0.006073577329516411, -0.0024536983110010624, 9.726950520416722e-05, -0.0007979574729688466, 0.003390687517821789, -0.013387485407292843, -0.0062387301586568356, 0.008338529616594315, 0.01597600243985653, -0.035403359681367874, 0.010859636589884758, 0.026100877672433853, -0.01070459559559822, -0.011911221779882908, -0.026990680024027824, 0.013198739849030972, -0.008075633086264133, 0.009740643203258514, -0.01852407306432724, -0.021651864051818848, -0.00830482505261898, -0.005709567107260227, 0.002886802889406681, -0.009922647848725319, -0.026154804974794388, 0.022447293624281883, -0.010751781985163689, -0.008951953612267971, -0.026060432195663452, 0.02442912757396698, -0.007401540409773588, 0.01937342993915081, 0.004368122201412916, 0.015126645565032959, -0.02051938883960247, -0.008129560388624668, 0.005490486975759268, 0.013556009158492088, 0.044813696295022964, -0.008695798926055431, -0.01590859331190586, -0.003994000609964132, 0.003640101756900549, 0.018793711438775063, -0.0017981429118663073, 0.019548695534467697, 0.003950184676796198, 0.0023357318714261055, -0.0017863461980596185, -0.020708134397864342, -0.00959234219044447, 0.010232730768620968, 0.029201705008745193, 0.014803080819547176, 0.013940242119133472, -0.003542358288541436, 0.022083284333348274, -0.00025805120822042227, -0.045892246067523956, 0.004273748956620693, 0.015207536518573761, 0.012261750176548958, -0.005999426823109388, 0.037776168435811996, -0.02291915938258171, -0.033488936722278595, 0.006002797279506922, -0.0023138239048421383, 0.04087699577212334, 0.007415022235363722, -0.0019565545953810215, 0.011526988819241524, 0.010266435332596302, -0.00843290239572525, -0.08391108363866806, -0.012598796747624874, 0.01867237314581871, 0.034675341099500656, -0.018281400203704834, 0.015221018344163895, -0.01153372973203659, 0.020748579874634743, 0.005032103508710861, 0.0020138525869697332, 0.003038473892956972, -0.01871282048523426, -0.008378975093364716, -0.022757377475500107, 0.02453698217868805, 0.012295454740524292, -0.0007423448259942234, -0.005739901214838028, -0.0014956436352804303, 0.0218136478215456, -0.009875461459159851, -0.002569979289546609, 0.013454894535243511, -0.01328637171536684, 0.0024469573982059956, -0.005938758607953787, -0.027610845863819122, 0.023202277719974518, 0.007320648990571499, -0.011762921698391438, -0.003572692396119237, -0.009754125028848648, 0.02096428908407688, -0.013050438836216927, -0.004782689269632101, 0.017728643491864204, -0.04281838238239288, -0.00935641024261713, 0.007044271100312471, -0.0075633227825164795, 0.0025834611151367426, 0.026586225256323814, 0.01400765124708414, -0.04025682806968689, 0.0006896813283674419, -0.011951667256653309, -0.007677918300032616, 0.03772224113345146, 0.0052174790762364864, -0.027354691177606583, -0.03556514158844948, 0.01646135002374649, -0.030307218432426453, -0.009302482008934021, 0.03022632747888565, 0.016623131930828094, 0.022406848147511482, -0.0017020846717059612, -0.005123106297105551, -0.007691400125622749, -0.006916193291544914, -0.009120477363467216, -0.002630647737532854, 0.029983652755618095, -0.004759096074849367, 0.005345556885004044, -0.016393939033150673, 0.0008468292071484029, -0.0012563406489789486, -0.013697568327188492, 0.004145671613514423, 0.0023188795894384384, -0.01118320133537054, 0.020896879956126213, -0.007886887528002262, -0.0044894590973854065, -0.03003758005797863, -0.024348236620426178, 0.013111107051372528, -0.005281518213450909, -0.01731070689857006, -0.01580073870718479, -0.010623704642057419, 0.00413218978792429, 0.02126089110970497, 0.02347191609442234, 0.0041625238955020905, 0.004735502880066633, 0.014627816155552864, -0.03543032333254814, 0.01867237314581871, 0.04163197800517082, -0.008999140933156013, -0.021840611472725868, -0.004556868225336075, 0.00677126320078969, -0.0008628389332443476, 0.005079290363937616, 0.0072127943858504295, -0.004047927912324667, -0.039609700441360474, -0.026303105056285858, -0.06519826501607895, 0.011742698960006237, 0.01070459559559822, -0.02472572773694992, -0.003741215681657195, 0.0183083638548851, -0.0049208784475922585, -0.004071521107107401, -0.0174859706312418, 0.006693742703646421, -0.02597954124212265, 0.005763494409620762, 0.008850839920341969, -0.001140059670433402, -0.026289623230695724, -0.00356595148332417, 0.02062724344432354, 0.0018689226126298308, 0.02546723000705242, 0.02597954124212265, 0.0008914878708310425, -0.02147660031914711, -0.0029070256277918816, 0.011007937602698803, -0.014385143294930458, 0.005594971124082804, -0.029875798150897026, 0.027004161849617958, -0.01033384446054697, -0.021301336586475372, -0.0021014846861362457, -0.03912435472011566, 0.0035356173757463694, 0.01099445577710867, -0.000866209389641881, -0.0025598679203540087, -0.004384974483400583, 0.03305751830339432, 0.005379261448979378, 0.015221018344163895, -0.008378975093364716, -0.022487739101052284, 0.006895970553159714, -0.025224557146430016, 0.002445272170007229, 0.02841975726187229, -0.025602050125598907, -0.020061004906892776, 0.03553817793726921, 0.009336186572909355, 0.012039300054311752, -0.003970407415181398, -0.028500648215413094, -0.024186454713344574, -0.008682317100465298, -0.0087834307923913, 0.014452552422881126, 0.001473735668696463, 0.017769088968634605, -0.011082087643444538, 0.03575388714671135, -0.00602302048355341, -0.0025177369825541973, 0.008668835274875164, -0.008817135356366634, 0.0094642648473382, -0.02863546647131443, 0.00557137792930007, -0.00843290239572525, -0.021530527621507645, -0.03516068682074547, -0.023458434268832207, -0.01055629551410675, 0.038288477808237076, 0.02712550014257431, 0.016946695744991302, -0.008095855824649334, 0.02239336632192135, 0.007266721688210964, 0.02785351872444153, 0.0196295864880085, 0.02143615484237671, -0.00795429665595293, 0.009322704747319221, 0.04225214570760727, 0.01660965010523796, -0.022636041045188904, 0.004341158550232649, -0.01354252640157938, 0.009653010405600071, -0.010819191113114357, 0.01077200472354889, 0.013832386583089828, 0.0011982001597061753, -0.00858120247721672, -0.01391327753663063, -3.0597500881413e-05, 0.004388344939798117, 0.02202935703098774, 0.018133100122213364, 0.005278147757053375, 0.009545155800879002, -0.0027806332800537348, -0.023444952443242073, -0.00898565910756588, -0.003136217361316085, -0.03683243691921234, -0.04713257774710655, -0.0006884174072183669, 0.02081598900258541, -0.007940814830362797, -0.013475117273628712, 0.016097338870167732, 0.014479516074061394, -0.03470230475068092, 0.016744468361139297, -0.013461635448038578, -0.010455180890858173, -0.03632012754678726, 0.03133184090256691, -0.014749153517186642, -0.0016624816926196218, 0.039501845836639404, -0.008951953612267971, 0.023593252524733543, 0.008871062658727169, 0.02461787313222885, -0.016650095582008362, -0.00014134886441752315, 0.008183487690985203, -0.007125162053853273, 0.018133100122213364, -0.012740355916321278, -0.026667116209864616, 0.0027199648320674896, -0.011061864905059338, -0.014371661469340324, 0.0447867326438427, -0.0037041406612843275, 0.07485128194093704, -0.0029879168141633272, -0.009073290973901749, 0.011068605817854404, -0.01563895493745804, 0.027610845863819122, 0.021274372935295105, 0.014317733235657215, -0.012315677478909492, 0.007057752925902605, 0.022649522870779037, 0.007152125705033541, -0.0009664807002991438, -0.01667705923318863, -0.020869916304945946, -0.012794284150004387, -0.010104652494192123, 0.011594397947192192, 0.003304740646854043, 0.0020425014663487673, 0.01422336045652628, -0.0051534404046833515, 0.021085627377033234, 0.01675795018672943, -0.010381030850112438, -0.002478976733982563, 0.028204048052430153, -0.027300763875246048, -0.010987714864313602, -0.016555722802877426, -0.0020205934997648, -0.003983889240771532, -0.02221810258924961, -0.025305448099970818, 0.0004638601967599243, 0.015450209379196167, -0.008223934099078178, -0.027152463793754578, -0.00567249208688736, 0.009012622758746147, 0.0039636665023863316, 0.028177084401249886, -0.013697568327188492, 0.002382918493822217, -0.03435177356004715, 0.011189942248165607, -0.009396855719387531, -0.0006172163411974907, -0.01337400358170271], index=0, object='embedding'), Embedding(embedding=[-0.03323575481772423, -0.009994307532906532, 0.007816505618393421, 0.01996087282896042, -0.006002826616168022, 0.01631270721554756, -0.007497464306652546, -0.015743982046842575, -0.03420674800872803, -0.013947641476988792, 0.006006294395774603, 0.033901579678058624, -0.01664561964571476, 0.008163289166986942, 0.0071853590197861195, 0.004823761992156506, 0.018726320937275887, 0.0035649368073791265, 0.003759135724976659, -0.02279062755405903, 0.003375939792022109, 0.0011097079841420054, -0.010535289533436298, -0.013288753107190132, -0.02523198537528515, 0.006495259236544371, 0.005458375904709101, -0.01186000369489193, -0.01539719756692648, 0.009744622744619846, -0.0061796861700713634, 0.00900944136083126, 0.0009311143076047301, -0.019419889897108078, -0.013815863989293575, -0.016382064670324326, -0.01835179515182972, -0.006307996343821287, 0.006980756763368845, -0.009099605493247509, 0.038645580410957336, -0.0050526391714811325, 0.0011825325200334191, -0.0006640908541157842, -0.006672119256108999, -0.009307675063610077, 0.005988955032080412, -0.017672099173069, -0.02089025266468525, 0.016049152240157127, 0.03520548343658447, -0.010361897759139538, -0.019849902018904686, -0.014065548777580261, -0.0017963397549465299, 0.026244593784213066, 0.007962154224514961, 0.00998737197369337, -0.015313969925045967, 0.0009415178210474551, 0.01811598241329193, 0.008385230787098408, -0.004768276587128639, 0.024982299655675888, -0.023151282221078873, -0.0097168805077672, 0.0007663920405320823, 0.006387756671756506, -0.004060837440192699, -0.0006047041388228536, 0.01947537437081337, -0.010861266404390335, -0.012928097508847713, -0.0020442900713533163, 0.017547257244586945, -0.015064285136759281, -0.007719405926764011, -0.005236434284597635, 0.008572493679821491, 0.005083849653601646, 0.014994928613305092, -0.020266041159629822, -0.0015631277346983552, 0.018559865653514862, 0.020904123783111572, 0.016049152240157127, 0.0003955501888412982, 0.013018261641263962, -0.010133020579814911, -0.0029823400545865297, 0.020224427804350853, 0.020182814449071884, 0.02387259341776371, 0.015730110928416252, -0.01464814506471157, 0.010022049769759178, 0.010292541235685349, 0.05714996159076691, 0.0138921570032835, -0.024233248084783554, -0.017796941101551056, 0.020474111661314964, -0.022277386859059334, -0.0090025058016181, -0.03381834924221039, 0.00555200781673193, 0.0023182493168860674, -0.007310201413929462, -0.001663694973103702, 0.010611582547426224, 0.008551687002182007, 0.040254656225442886, 0.0032701706513762474, -0.03426223248243332, -0.013531501404941082, 0.004823761992156506, 0.0063461423851549625, -0.02646653540432453, -0.015646882355213165, -0.021847374737262726, -0.007098663132637739, -0.005909194704145193, 0.01860147900879383, -0.014662016183137894, 0.00961978081613779, 0.01535558421164751, -0.02265191450715065, -0.01781081221997738, -0.00493126455694437, 0.013288753107190132, 0.02358129434287548, 0.026480406522750854, 0.020474111661314964, -0.01581333763897419, -0.030156314373016357, 0.00441802479326725, -0.03456740453839302, -0.004293182864785194, -0.0216809194535017, -0.021653177216649055, 0.007559885270893574, 0.009508810006082058, -0.00433132890611887, 0.014731373637914658, 0.0067726862616837025, 0.025162627920508385, 0.029129834845662117, 0.01708950288593769, -0.01267147809267044, -0.017450157552957535, 0.019419889897108078, -0.013358109630644321, 0.009855593554675579, -0.0067900256253778934, 0.005350872874259949, -0.0031644015107303858, 0.011901617981493473, 0.012851805426180363, -0.03761909902095795, 0.008086997084319592, 0.016881432384252548, 0.010549161583185196, 0.022665785625576973, 0.00021023764566052705, 0.013143103569746017, 0.02108445204794407, 0.035344198346138, -0.016659490764141083, 0.004376410972326994, 0.001706175971776247, -0.019350532442331314, 0.0016333514358848333, -0.01903149113059044, 0.012720027938485146, 0.013718764297664165, 0.01664561964571476, 0.012525828555226326, -0.0074003650806844234, -0.01728370226919651, -0.045525770634412766, 0.008586365729570389, 0.01678433269262314, 0.017588870599865913, 0.00710213091224432, -0.014509432017803192, -0.006599294487386942, 0.004168340470641851, -0.011284342966973782, 0.005031832028180361, 0.010687874630093575, -0.0025696675293147564, 0.013628601096570492, 0.012428728863596916, 0.008461522869765759, -0.6906822323799133, -0.015841081738471985, 0.011478541418910027, -0.027590114623308182, 0.01620173640549183, -0.0008210105006583035, 0.00010734040552051738, -0.011846132576465607, -0.020529597997665405, 0.029989857226610184, -0.0020876380149275064, 0.002588740549981594, -0.013288753107190132, -0.01205420307815075, -0.0008075726218521595, -0.015854952856898308, 0.002134453970938921, -0.018976006656885147, 0.01049367617815733, 0.007941347546875477, -0.024580031633377075, 0.013947641476988792, -0.00024643319193273783, 0.027368173003196716, -0.006942610256373882, -0.006911399774253368, 0.009682201780378819, -0.002262763911858201, -0.0269936453551054, -0.00407817680388689, -0.01567462459206581, 0.005274580791592598, 0.019364403560757637, -0.029906628653407097, 0.043084412813186646, 0.019808286800980568, -0.006977288983762264, 0.008523943834006786, 0.03001759946346283, 0.019808286800980568, -0.028935635462403297, -0.0011903351405635476, 0.0056768497452139854, -0.0031696034129709005, -0.010348026640713215, 0.028935635462403297, 0.02523198537528515, 5.398176654125564e-06, -0.01047286856919527, -0.01581333763897419, 0.0006133737624622881, -0.006803896743804216, 0.012394051067531109, -0.0027621325571089983, -7.764704787405208e-05, 0.01410716213285923, 0.020418627187609673, -0.004171808250248432, -0.001813679002225399, -0.006283721420913935, 0.011929360218346119, 0.005940405651926994, 0.00029238202841952443, -0.018462765961885452, -0.019170204177498817, 0.012338565662503242, -0.012283080257475376, -0.02489907294511795, 0.024718744680285454, -0.014675888232886791, -0.00030495296232402325, 0.008218774572014809, 0.010181570425629616, -0.013697957620024681, 0.009335418231785297, -0.0031279893592000008, -0.002791609149426222, -0.01962796039879322, 0.007663920521736145, 0.010098342783749104, 0.0005093386280350387, -4.153277041041292e-05, -0.043223123997449875, 0.011201114393770695, 0.012824062258005142, 0.0020252170506864786, -0.00014218133583199233, -0.01298358291387558, -0.019156333059072495, -0.00468851625919342, -0.012192916125059128, -0.01169354747980833, 0.0004581880057230592, -0.041170164942741394, 0.003004881087690592, -0.00876669306308031, -0.007636177819222212, 0.004421492572873831, 0.01997474394738674, -0.038923006504774094, -0.008010704070329666, 0.009508810006082058, 0.0026979774702340364, 0.0029962114058434963, 0.04286247119307518, -0.00010799062147270888, -0.014953314326703548, 0.009800108149647713, 0.011429991573095322, 6.941093306522816e-05, 0.012505021877586842, 0.016825946047902107, -0.013552308082580566, -0.007871991023421288, -0.0015423207078129053, -0.0395333468914032, 0.02577296830713749, -0.0003186075482517481, 0.013697957620024681, -0.016881432384252548, 0.03026728518307209, 0.02206931635737419, 0.0031817408744245768, -0.006658247672021389, 0.025176499038934708, 0.0063461423851549625, -0.005714995786547661, -0.006536873523145914, 0.01110401563346386, 0.008870728313922882, 0.002065097214654088, -0.016049152240157127, 0.021361878141760826, -0.01674271933734417, 0.009945757687091827, 0.0009441187139600515, 0.019697315990924835, -0.012165173888206482, 0.03359640762209892, -0.041419848799705505, -0.004719726741313934, 0.012179045006632805, 0.00045428669545799494, -0.00484456866979599, -0.0018760999664664268, -0.011631126515567303, -0.018823420628905296, -4.911866562906653e-05, -0.024982299655675888, 0.004955539479851723, 0.01281712669879198, 0.0014114098157733679, -0.00934928935021162, 0.013649407774209976, -0.0033551326487213373, 0.014953314326703548, 0.010528353974223137, -0.004209954757243395, -0.00907879788428545, -0.023553552106022835, 0.017658228054642677, 0.022332873195409775, 0.008627979084849358, -0.01953086070716381, -0.003237226279452443, -0.03456740453839302, 0.0033256560564041138, 0.016950789839029312, -0.0011088410392403603, -0.02592555247247219, 0.003589211730286479, -0.03625970706343651, 0.008010704070329666, 0.015369455330073833, 0.009834786877036095, 0.026092007756233215, -0.025065528228878975, 0.01957247406244278, 0.008891534991562366, -0.020668311044573784, 0.009585102088749409, 0.03259767219424248, -0.008940084837377071, -0.0032077496871352196, 0.04583093896508217, 0.022416099905967712, 0.02573135308921337, 0.023539680987596512, -0.008919278159737587, 0.028186582028865814, 0.014495559968054295, 0.005992422811686993, -0.014016998931765556, 0.006869785953313112, 0.0037140538915991783, 0.0062871892005205154, -0.004705855157226324, 0.006640908773988485, 0.004702387377619743, 0.0054653119295835495, 0.052461445331573486, 0.0075806924141943455, 0.013184717856347561, -0.0009718614164739847, -0.0021483253221958876, -0.05859258025884628, 0.00017599273996893317, -0.02280449867248535, 0.023886464536190033, 0.016118507832288742, -0.001967997755855322, -0.027590114623308182, -0.016964660957455635, -0.008447651751339436, -0.02664686180651188, 0.012421793304383755, 0.0020078779198229313, 0.003488644491881132, 0.0009189769043587148, 0.004809890408068895, -0.004057369660586119, -0.033707380294799805, 0.027812056243419647, 0.007969090715050697, -0.03928366303443909, 0.004660773556679487, -0.000355453317752108, 0.02815883979201317, 0.0036828434094786644, 0.0014608264900743961, 0.017977269366383553, 0.02571748197078705, 0.019017620012164116, 0.006658247672021389, 0.010077535174787045, 0.007393429521471262, 0.03603776544332504, -0.0175195150077343, 0.029851144179701805, 0.01639593578875065, -0.005288451910018921, 0.022485457360744476, 0.02782592736184597, -0.011658869683742523, 0.011319020763039589, 0.004539398942142725, 0.023414837196469307, -0.006488323677331209, -0.012782448902726173, -0.0011253132252022624, 0.0059508089907467365, 0.01264373492449522, -0.01885116472840309, 0.0040296269580721855, -0.0010238790418952703, -0.015438811853528023, 0.018365666270256042, 0.009259126149117947, 0.009092669934034348, 0.013559244573116302, -0.009016376920044422, 0.004525527823716402, 0.01761661469936371, 0.0026719686575233936, 0.004660773556679487, 0.003445296548306942, 0.012172109447419643, 0.009682201780378819, -0.019946999847888947, -0.001471230061724782, 0.0030881091952323914, -0.013586986809968948, -0.009827851317822933, -0.03046148270368576, 0.011208049952983856, -0.011228857561945915, -0.0008999038254842162, -0.007178423460572958, 0.0016082095680758357, 0.025648124516010284, -0.0318208746612072, -0.0076708560809493065, -0.025148756802082062, 0.0028488284442573786, -0.010847395285964012, -0.011672740802168846, -0.02431647479534149, 0.014072484336793423, 0.005170545540750027, -0.012872612103819847, 0.00981398019939661, 0.014016998931765556, -0.011117886751890182, -0.005118527915328741, -0.026202978566288948, 0.005149738397449255, 0.009633651934564114, -0.012442600913345814, -0.017047887668013573, -0.008302003145217896, 0.006963417399674654, -0.0013489887351170182, 0.009092669934034348, -0.025606511160731316, 0.017311444506049156, -0.007344879675656557, -0.027298815548419952, -0.012241465970873833, 0.0029823400545865297, 0.004865375813096762, 0.004528995603322983, -0.001550990273244679, -0.01728370226919651, 0.0103688333183527, 0.019197948276996613, -0.003417553845793009, 0.007247779984027147, 0.0018674304010346532, 0.03656487911939621, 0.009647523984313011, 0.005128931254148483, -0.006925271358340979, -0.01972505822777748, 0.021805761381983757, 0.05146270617842674, 0.01786629855632782, -0.006859382148832083, -0.007414236199110746, 0.0048584402538836, -0.008093932643532753, -0.006117265205830336, -0.011818389408290386, 0.018088240176439285, -0.008780564181506634, -0.019100848585367203, -0.018684707581996918, -0.003589211730286479, -0.00380768533796072, 0.0031748050823807716, -0.008752821944653988, -0.007122938055545092, -0.012324693612754345, 0.004577545449137688, -0.01186000369489193, -0.017880169674754143, 0.01084045972675085, 0.020709924399852753, 0.012491149827837944, 0.014072484336793423, -0.015147513709962368, 0.02807561121881008, 0.02430260367691517, 0.015952052548527718, -0.010417383164167404, -0.004553270526230335, 0.010202378034591675, 0.0017790006240829825, 0.016035279259085655, 0.0045636738650500774, 0.024691002443432808, 0.017505643889307976, -0.00822571013122797, 0.0180050116032362, -0.00735875079408288, -0.0015978061128407717, 0.008177160285413265, 0.01664561964571476, -0.013947641476988792, -0.003925591707229614, -0.005846773739904165, -0.0022003427147865295, 0.016617877408862114, 0.0012120091123506427, -0.013795057311654091, 0.01776919886469841, -0.006911399774253368, -0.01776919886469841, -0.02259642817080021, 0.0021032432559877634, 0.022235773503780365, 0.014329103752970695, 0.00674841133877635, -0.021888989955186844, -0.052988555282354355, -0.01703401654958725, -0.01972505822777748, 0.023012569174170494, 0.00015085093036759645, -0.031709905713796616, 0.01084045972675085, -0.05296081304550171, -0.0025870066601783037, -0.03850686550140381, 0.00529885571449995, -0.041419848799705505, -0.011208049952983856, -0.018781807273626328, 0.01005672849714756, 0.029767915606498718, 0.015452682971954346, 0.005756610073149204, -0.007129873614758253, -0.008073125034570694, -0.0031748050823807716, -0.013018261641263962, -0.01032721996307373, -0.007220037281513214, -0.015938181430101395, -0.017602741718292236, 0.0159104373306036, 0.0023199832066893578, -0.007233908865600824, -0.0008379162172786891, 0.0058606453239917755, -0.011797582730650902, -0.003998416475951672, 0.01264373492449522, -0.004022691398859024, -0.008551687002182007, 0.009598974138498306, 0.02937951870262623, 0.01084045972675085, -0.0010282137664034963, -0.019849902018904686, -0.0013732636580243707, -0.013101489283144474, -0.0016160121886059642, -0.004924328997731209, 0.014856215566396713, -0.015535911545157433, 0.017103374004364014, 0.014453946612775326, -0.0065923589281737804, 0.0058745164424180984, 0.0152584845200181, -0.019711187109351158, 0.009335418231785297, 0.016243349760770798, 0.003960270434617996, 0.017297573387622833, -0.005943873431533575, 0.015494297258555889, -0.0059508089907467365, 0.007060517091304064, -0.0074003650806844234, -0.017547257244586945, 0.009016376920044422, -0.0037001825403422117, -0.007587627973407507, 0.02001635730266571, -0.0011010384187102318, -0.021056707948446274, -0.006495259236544371, 0.011145628988742828, -0.019392145797610283, 0.02220803126692772, -0.0027881411369889975, -0.019392145797610283, -0.041031450033187866, -0.010819653049111366, -0.012900355271995068, 0.013046003878116608, -0.0130113260820508, -0.01342053059488535, 0.008711207658052444, -0.01423200499266386, 0.0065923589281737804, -0.0181575957685709, 0.009383968077600002, -0.02098735235631466, -0.0035649368073791265, -0.00998043641448021, 0.008801370859146118, 0.023317739367485046, 0.0024621644988656044, 0.014939443208277225, -0.017436286434531212, -0.003988013137131929, -0.023733878508210182, -0.017214344814419746, -0.003145328490063548, -0.01403780560940504, 0.015494297258555889, 0.02918531931936741, 0.04497091472148895, -0.020612824708223343, 0.012414857745170593, 0.018962135538458824, -0.016035279259085655, 0.007976026274263859, -0.02439970336854458, -0.0053404695354402065, -0.008170224726200104, 0.009709944948554039, 0.017214344814419746, -0.006925271358340979, 0.003599615301936865, -0.029018864035606384, 0.029767915606498718, 0.026535890996456146, -0.0012536231661215425, 0.00812861043959856, -0.001636819215491414, -0.0067726862616837025, -0.01281019113957882, 0.004976346623152494, -2.308279181306716e-05, 0.015993665903806686, 0.009064926765859127, -0.013267945498228073, 0.024247119203209877, 0.002968468703329563, 0.01093755941838026, 0.0088360495865345, 0.013101489283144474, -0.0036030830815434456, 0.006252510938793421, 0.007518271449953318, 0.01600753702223301, -0.01860147900879383, 0.009182833135128021, -0.012088880874216557, -0.007192294578999281, 0.022221902385354042, 0.00367937539704144, 0.01629883609712124, -0.007719405926764011, -0.006509130820631981, -0.003060366492718458, -0.02519037015736103, -0.04730130359530449, -0.019073106348514557, -0.012331630103290081, 0.006692925933748484, -0.017672099173069, -0.010098342783749104, -0.019780544564127922, -0.004497785121202469, -0.000625944638159126, 0.0015787329757586122, -0.005517329089343548, 0.028935635462403297, -0.01220678724348545, -0.013829735107719898, -0.00978623703122139, -0.005780884996056557, 0.032680898904800415, -0.003306583035737276, 0.005316194612532854, 0.006304528564214706, 0.014897828921675682, -0.007858119904994965, -0.019017620012164116, -0.0054618436843156815, 0.007268587127327919, 0.03021179884672165, 0.011506284587085247, -0.006928739137947559, -0.02005797065794468, 0.009890272282063961, 0.025606511160731316, -0.018240824341773987, -0.0398385152220726, 0.011575641110539436, -0.005565878935158253, 0.00841990951448679, -0.019516989588737488, -0.022332873195409775, -0.018379537388682365, 0.015092028304934502, -0.01577172428369522, 0.03245895728468895, -0.007740213070064783, -0.0022991762962192297, -0.0015431876527145505, 0.0005314460722729564, -0.03451191633939743, 0.006935674697160721, 0.008517008274793625, -0.017644356936216354, -0.013607793487608433, 0.028006253764033318, -0.023803235962986946, -0.012657606042921543, 0.00316786952316761, 0.036537133157253265, -0.013559244573116302, -0.014016998931765556, -0.0008418175275437534, 0.020099585875868797, -0.014675888232886791, -0.0016030077822506428, -0.017394673079252243, 0.02806174010038376, -0.02949048951268196, -0.004067773465067148, 0.008530880324542522, 0.00416140491142869, 0.015092028304934502, 0.011124822311103344, -0.012005653232336044, -0.015605268068611622, 0.005090785212814808, 0.0013871350092813373, 0.012629863806068897, -0.00041028851410374045, -0.011325957253575325, 0.0021136468276381493, -0.003450498217716813, -0.02949048951268196, 0.004646901972591877, -0.00424810079857707, 0.010264798998832703, -0.02470487356185913, 0.0016290165949612856, 0.023109668865799904, 0.01957247406244278, 0.0013273147633299232, -0.0015717973001301289, 0.003589211730286479, 0.0012449536006897688, 0.02499617263674736, 0.002803746610879898, 0.003525056643411517, 0.00018574604473542422, -0.013614729978144169, 0.001593471271917224, 0.028033997863531113, -0.027645599097013474, 0.003299647243693471, 0.01266454253345728, -0.020973481237888336, -0.004744001664221287, 0.016867561265826225, 0.002765600336715579, 0.008440716192126274, -0.006061779800802469, 0.0004967676941305399, 0.030544711276888847, -0.003001413308084011, 0.01982215791940689, 0.014412332326173782, -0.02108445204794407, 0.0031626676209270954, -0.026632990688085556, 0.0055693467147648335, 0.02075153961777687, -0.010500611737370491, -0.002193407155573368, -0.011540962383151054, 0.00047899503260850906, 0.003289243672043085, -0.023830978199839592, -0.0017842022934928536, -0.005343937315046787, 0.02401130646467209, -0.0005479183164425194, -0.022568685933947563, -0.0030655681621283293, -0.0038007497787475586, -0.00822571013122797, 0.04524834081530571, 0.02391420677304268, -0.00037127535324543715, 0.0025592639576643705, 0.043028924614191055, 0.011166436597704887, 0.006679054815322161, 0.0019506585085764527, -0.013940705917775631, -0.01631270721554756, -0.015591396950185299, -0.012442600913345814, -0.014828472398221493, -0.034789346158504486, 0.0260226521641016, 0.002592208329588175, -0.016437549144029617, -0.028685951605439186, -0.018185339868068695, 0.003058632602915168, -0.00788586214184761, 0.0035684045869857073, -0.0024951091036200523, 0.00615194346755743, 0.007282458711415529, -0.0007061383803375065, 0.02108445204794407, 0.00433132890611887, 0.0138921570032835, -0.03198733180761337, 0.004126726649701595, 0.017588870599865913, 0.011138693429529667, 0.0107641676440835, 0.00277080200612545, -0.04866069555282593, -0.019849902018904686, 0.012636799365282059, 0.020571211352944374, 0.0006129402318038046, 0.02191673219203949, 0.02113993652164936, -0.0029233868699520826, -0.01645142026245594, -0.00011162101873196661, -0.014786859042942524, 0.0031470623798668385, 0.02333161048591137, -0.013413595035672188, -0.023747749626636505, -0.00951574556529522, -0.006221300456672907, -0.03345769643783569, 0.01176290400326252, 0.018476637080311775, -0.0025280534755438566, -0.010507547296583652, -0.016284964978694916, -0.029962114989757538, -0.008627979084849358, -0.0072755226865410805, 0.02562038227915764, 0.02616136521100998, -0.02587006613612175, 0.005056106951087713, 0.0029597992543131113, -0.008558622561395168, -0.006498727481812239, -0.00684551103040576, -0.02211093157529831, 0.011478541418910027, 0.009938822127878666, -0.002860965905711055, -0.022679656744003296, -0.012650670483708382, 0.008440716192126274, -0.02098735235631466, 0.0056595103815197945, 0.01875406503677368, -0.024774231016635895, 0.003043027361854911, 0.022776756435632706, 0.03387383371591568, -0.0385623499751091, 0.0024361556861549616, -0.0020772346761077642, -0.025606511160731316, -0.00683163944631815, -0.003348197089508176, -0.01315697468817234, -0.03323575481772423, 0.0110832080245018, -0.00829506665468216, -0.010875138454139233, -0.016437549144029617, -0.021223165094852448, -0.008357488550245762, -0.007539078593254089, 0.0026823722291737795, 0.20684956014156342, -0.013711828738451004, -0.010431255213916302, 0.0138921570032835, -0.005690721329301596, 0.006096458062529564, 0.014467817731201649, 0.012505021877586842, -0.005988955032080412, 0.0055416040122509, 0.0029493956826627254, -0.008267324417829514, -0.021028965711593628, -0.005898791365325451, -0.0051428028382360935, -0.0007919673807919025, -0.011832261458039284, -0.029989857226610184, -0.009626716375350952, 0.0005799958016723394, 0.017547257244586945, -0.01738080009818077, 0.012948905117809772, -0.00268410611897707, 0.011686611920595169, -0.007781826891005039, -0.0003381141577847302, -0.01430136151611805, 0.010895945131778717, 0.016368191689252853, -0.01840728148818016, -0.0054791830480098724, -0.0007217436796054244, 0.01699240319430828, 0.0033169863745570183, -0.002021749271079898, 0.021403491497039795, -0.013614729978144169, 0.029157577082514763, 0.010188505984842777, -0.0033204543869942427, -0.001727849943563342, -0.0006216098554432392, -0.01291422639042139, -0.027839798480272293, 0.006221300456672907, 0.002717050490900874, -0.015605268068611622, 0.008870728313922882, -0.012955840677022934, -0.010285605676472187, 0.012976647354662418, 0.038923006504774094, 0.021028965711593628, 0.0051254634745419025, -0.0037244572304189205, -0.008024576120078564, 0.006862850394099951, -0.0034331590868532658, 0.011651933193206787, -0.0015535911079496145, 0.022194160148501396, -0.029906628653407097, 0.007435043342411518, 0.007601499557495117, 0.01539719756692648, -0.009085734374821186, -0.0005583218298852444, 0.02084863744676113, -0.017699841409921646, 0.0025280534755438566, -0.00954348873347044, -0.0171866025775671, 0.01679820381104946, 0.003759135724976659, -0.020709924399852753, 0.02046024054288864, 0.03664810582995415, 0.0037903462070971727, 0.0360100232064724, -0.012692284770309925, 0.01668723300099373, 0.003894381457939744, -0.035344198346138, -0.013274881057441235, -0.023359352722764015, 0.03520548343658447, -0.013947641476988792, -0.020099585875868797, -0.006540341302752495, 0.0010091406293213367, -0.04916006326675415, -0.008683464489877224, 0.02288772724568844, 0.01342746615409851, 0.01616012305021286, 0.010500611737370491, 0.006720668636262417, -0.03273638337850571, -0.047023873776197433, -0.017658228054642677, 0.02001635730266571, -0.00350945140235126, 0.03359640762209892, -0.014370718039572239, -0.023109668865799904, -0.021639306098222733, 0.005673381965607405, 0.01732531562447548, -0.017755327746272087, 0.0009389169863425195, -0.015161384828388691, 0.013774249702692032, 0.011499349027872086, 0.0030031471978873014, 0.01127740740776062, -0.02689654752612114, -0.02133413590490818, 0.0028852405957877636, 0.01039657648652792, -0.012678413651883602, -0.039561089128255844, 0.0014027402503415942, 0.009314611554145813, 0.016146250069141388, -0.007091727573424578, -0.014329103752970695, 0.009772365912795067, -0.004813358187675476, -0.007143745198845863, 0.010576903820037842, -0.03573259711265564, 0.023830978199839592, -0.0207376666367054, -0.0071714879013597965, -0.0030568987131118774, -0.011076272465288639, -0.006977288983762264, -0.02949048951268196, 0.012969711795449257, -0.002932056551799178, 5.553958180826157e-05, 0.003363802330568433, -0.0014261481119319797, 0.01747789978981018, -0.034678373485803604, 0.032153788954019547, 0.03201507404446602, -0.035954538732767105, -0.021694790571928024, -0.008350552059710026, -0.0007746281917206943, -0.021389620378613472, -0.01039657648652792, 0.03539968281984329, -0.02162543311715126, -0.0427514985203743, -0.011825325898826122, -0.012435664422810078, 0.010972237214446068, -0.0427514985203743, -0.03423449024558067, 0.00859330128878355, -0.004841100890189409, -0.025564897805452347, -0.002760398667305708, -0.18132628500461578, 0.009141219779849052, 0.01966957375407219, -0.0138921570032835, 0.01761661469936371, 0.0035215888638049364, 0.02645266428589821, 0.008142482489347458, -0.015591396950185299, -0.0029112494084984064, 0.013261009939014912, -0.01186000369489193, -0.028089482337236404, -0.026369435712695122, 0.006023633759468794, -0.010951430536806583, -0.008302003145217896, 0.017158858478069305, 0.022097060456871986, 0.015300098806619644, 0.01005672849714756, -0.023595165461301804, -0.009217511862516403, 0.0024257523473352194, 0.009973499923944473, 0.009924951009452343, -0.003932527732104063, 0.010049792937934399, -0.010750295594334602, -0.007393429521471262, -0.014259747229516506, -0.002085904125124216, 0.020973481237888336, -0.0030568987131118774, 0.008315874263644218, 0.013808928430080414, 0.0050352998077869415, -0.008655722253024578, -0.01179064717143774, -0.006016697734594345, 0.02123703621327877, 0.01649303548038006, -0.00978623703122139, 0.0220138318836689, 0.0017373865703120828, 0.008093932643532753, 0.01937827467918396, -0.018476637080311775, 0.00907879788428545, 0.009321547113358974, 0.015411069616675377, -0.02846400998532772, 0.013094553723931313, 0.003814621130004525, -0.0004941668012179434, 0.013219395652413368, 0.012532764114439487, -0.0007681259885430336, -0.008898470550775528, -0.01127740740776062, 0.0031696034129709005, -0.013226332142949104, 0.01732531562447548, -0.006106861401349306, -0.026008781045675278, 0.0009813979268074036, -0.009397839196026325, 0.007899733260273933, -0.00088776636403054, 0.009328482672572136, 0.0008704271749593318, 0.00033009477192535996, 0.013829735107719898, -0.011436928063631058, 0.008114739321172237, 0.014176519587635994, 0.0008921011467464268, 0.010202378034591675, 0.010479804128408432, -0.009994307532906532, -0.011686611920595169, 0.0382571816444397, -0.015938181430101395, 0.012921161949634552, 0.03143247961997986, 0.01854599453508854, 0.018268566578626633, 0.01596592366695404, -0.011492413468658924, -0.010049792937934399, 0.015189127996563911, -0.01220678724348545, -0.009924951009452343, 0.007962154224514961, -0.0025783369783312082, 0.008822178468108177, 0.0009475865517742932, -0.007546014152467251, 0.006311464123427868, -0.0024743019603192806, 0.006068715360015631, 0.0013836671132594347, -0.01195710338652134, 0.02929629012942314, 0.025259727612137794, 0.014883957803249359, 0.0033932789228856564, 0.021944474428892136, 0.03226475790143013, -0.0197666734457016, -0.020182814449071884, -0.0016749654896557331, 0.008953955955803394, 0.021070579066872597, 0.023941949009895325, 0.011977910064160824, 0.004071241244673729, -0.006432838272303343, 0.02284611202776432, 0.007435043342411518, 0.04974265769124031, -0.005378615576773882, 0.0012536231661215425, 0.004768276587128639, 0.028131097555160522, -0.02592555247247219, -0.12550796568393707, -0.012428728863596916, 0.0023355884477496147, 0.019156333059072495, -0.0030621003825217485, 0.0027846733573824167, 0.011263535358011723, 0.02641104906797409, -0.018435023725032806, 0.0159104373306036, 0.0024691002909094095, 0.0016246818704530597, -0.00941864587366581, 0.0008136413525789976, 0.00846845842897892, 0.020626695826649666, 0.006314931903034449, -0.006231703795492649, -0.01464814506471157, 0.019683444872498512, 0.003486910369247198, 0.0171866025775671, 0.021361878141760826, 0.0035718725994229317, -0.006450177635997534, 0.004584481008350849, -0.027562372386455536, 0.014218132942914963, 0.010063664056360722, -0.010271734558045864, 0.023151282221078873, -0.009848657995462418, -0.011110951192677021, -0.01230388693511486, -0.0017737988382577896, -0.01161725539714098, -0.029324032366275787, -0.0056456392630934715, 0.010452061891555786, -0.013801992870867252, -0.0007044044905342162, -0.003949866630136967, 0.024760358035564423, 0.015411069616675377, 0.021223165094852448, -0.014634273946285248, -0.015924308449029922, -0.0023824041709303856, 0.00719923060387373, -0.02279062755405903, -0.023803235962986946, -0.01840728148818016, -0.023595165461301804, -0.022083189338445663, 0.021264778450131416, 0.012407922185957432, 0.010008178651332855, 0.009703009389340878, -0.01825469546020031, 0.005912662949413061, -0.00043152901344001293, -0.011922424659132957, -0.015341712161898613, 0.014190390706062317, 0.0052329665049910545, 0.0072755226865410805, -0.03440094739198685, -0.028325295075774193, 0.009148155339062214, -0.007220037281513214, -0.00027807720471173525, 0.03764684125781059, -0.017103374004364014, 0.01776919886469841, -0.011020787060260773, -0.0016619610833004117, -0.013163910247385502, -0.006973820738494396, -0.002432687906548381, -0.0022003427147865295, -0.011319020763039589, -0.017020145431160927, -0.0012527562212198973, -0.010694810189306736, 0.019392145797610283, 0.021847374737262726, 0.027950769290328026, -0.006477920338511467, -0.01761661469936371, -0.015549782663583755, 0.0035684045869857073, 0.0037348608020693064, -0.02534295618534088, -0.013670215383172035, -0.043861206620931625, 0.010604646988213062, -0.01539719756692648, -0.016853690147399902, 0.008537815883755684, -0.005194820463657379, -0.013642472214996815, -0.013919899240136147, -0.013871349394321442, 0.02236061543226242, -0.020862510427832603, -0.00954348873347044, -0.0009484534966759384, -0.018781807273626328, -0.0035267905332148075, -0.00048376331687904894, -0.037757813930511475, 0.0074003650806844234, -0.0008348818519152701, 0.004171808250248432, -0.03345769643783569, -0.02431647479534149, -0.010556097142398357, 0.005180948879569769, 0.011478541418910027, -0.0037834106478840113, 0.018518252298235893, 0.014772986993193626, -0.02113993652164936, -0.006966885179281235, 0.02338709495961666, 0.01801888272166252, -0.02499617263674736, 0.002304377965629101, -0.0372861884534359, 0.027007518336176872, -0.0020633633248507977, 0.000636348151601851, 0.006828171666711569, -0.027881411835551262, -0.005690721329301596, 0.003856235183775425, -0.0009892006637528539, -0.009744622744619846, 0.01567462459206581, 0.0034955800510942936, 0.014523303136229515, 0.006928739137947559, -0.03625970706343651, -0.01535558421164751, -0.005558943375945091, -7.591312896693125e-05, -0.02885240688920021, 0.004633030854165554, 0.002592208329588175, 0.004102451726794243, 0.01761661469936371, -0.003963738214224577, 0.035566139966249466, 0.013274881057441235, 0.03218153119087219, -0.041863732039928436, -0.010285605676472187, 0.0038527674041688442, 0.0029233868699520826, 0.0018188806716352701, 0.0030846414156258106, -0.016076894477009773, 0.01625722087919712, 0.006113797426223755, 0.029462747275829315, -0.01093755941838026, -0.019558602944016457, 0.012005653232336044, 0.01645142026245594, -0.0130113260820508, -0.00458794878795743, -0.0363151915371418, -0.006942610256373882, 0.00230091018602252, 0.012172109447419643, 0.010077535174787045, 0.01581333763897419, 0.0028904424980282784, 0.0008565558237023652, 0.005191352684050798, -0.014662016183137894, 0.015438811853528023, 0.014329103752970695, 0.0022592961322516203, -0.016714977100491524, -0.001759927487000823, 0.027118489146232605, 0.010250926949083805, 0.004737065639346838, 0.004123258870095015, 0.004053901880979538, 0.014578788541257381, -0.0211954228579998, -0.0008595901890657842, 0.007989897392690182, 0.005683785304427147, 0.0074003650806844234, 0.028255939483642578, -0.019406018778681755, 0.013025197200477123, -0.009772365912795067, 0.016479162499308586, -0.003445296548306942, 0.006828171666711569, -0.012248401530086994, -0.003122787456959486, -0.006654779892414808, -0.0076708560809493065, -0.014675888232886791, 0.0023078457452356815, 0.007774891331791878, 0.012477278709411621, 0.003620422212406993, 0.0067726862616837025, 0.017255958169698715, 0.018684707581996918, -0.038590095937252045, 0.023012569174170494, -0.0008582897717133164, -0.012019524350762367, -0.010271734558045864, 0.03656487911939621, 0.02582845278084278, 0.00866265781223774, 0.012511957436800003, 0.010847395285964012, 0.03664810582995415, 0.006360013969242573, 0.0014998397091403604, -0.010826588608324528, 0.029102090746164322, 0.008558622561395168, 0.002925120759755373, -0.01639593578875065, -0.007754084188491106, -0.01738080009818077, -0.021611561998724937, -0.027493014931678772, -0.0027447931934148073, 0.0507691390812397, -0.00968913733959198, 0.059813257306814194, 0.0011747298995032907, -0.02133413590490818, 0.012068074196577072, -0.00876669306308031, 0.027742698788642883, -0.005832902621477842, 0.009148155339062214, -0.004178744275122881, -0.009016376920044422, 0.011117886751890182, -0.016812074929475784, 0.004088580142706633, -0.044887688010931015, -0.013240203261375427, -0.024926815181970596, -0.0009579900652170181, 0.005045703612267971, -0.016271093860268593, -0.00859330128878355, 0.033263497054576874, -0.009661395102739334, 0.01693691685795784, 0.005995891056954861, -0.007386493496596813, -0.01403780560940504, 0.013926834799349308, -0.043056670576334, -0.018421152606606483, -0.033901579678058624, -0.0012484214967116714, -0.008454587310552597, -0.028963377699255943, -0.01972505822777748, -0.012026459909975529, 0.0305169690400362, 0.003946398850530386, -0.01188774686306715, 0.01616012305021286, 0.013586986809968948, -0.007913605310022831, 0.008655722253024578, -0.012276144698262215, -0.02743752859532833, 0.004015755839645863, -0.018906649202108383, -0.017588870599865913, 0.00025293539511039853, -0.006512598600238562], index=1, object='embedding')], model='text-embedding-ada-002', object='list', usage=Usage(prompt_tokens=13, total_tokens=13))\n"
     ]
    }
   ],
   "source": [
    "print(res)"
   ]
  },
  {
   "cell_type": "markdown",
   "metadata": {},
   "source": [
    "## Initialising the Index"
   ]
  },
  {
   "cell_type": "code",
   "execution_count": 13,
   "metadata": {},
   "outputs": [
    {
     "name": "stdout",
     "output_type": "stream",
     "text": [
      "{'indexes': [{'dimension': 1536,\n",
      "              'host': 'qa-generation-9vrqwzu.svc.gcp-starter.pinecone.io',\n",
      "              'metric': 'cosine',\n",
      "              'name': 'qa-generation',\n",
      "              'spec': {'pod': {'environment': 'gcp-starter',\n",
      "                               'pod_type': 'starter',\n",
      "                               'pods': 1,\n",
      "                               'replicas': 1,\n",
      "                               'shards': 1}},\n",
      "              'status': {'ready': True, 'state': 'Ready'}}]}\n"
     ]
    }
   ],
   "source": [
    "from pinecone import Pinecone, PodSpec\n",
    "\n",
    "papi_key2 = os.getenv(\"papi_key2\")\n",
    "pinecone = Pinecone(api_key=papi_key2)\n",
    "\n",
    "index_name = 'qa-generation'  # Valid index name with lower case and hyphen\n",
    "\n",
    "# Create the index\n",
    "pod_spec = PodSpec(environment=\"gcp-starter\")\n",
    "pinecone.create_index(name=index_name, dimension=len(res.data[0].embedding), spec=pod_spec)\n",
    "\n",
    "# Initialize the index\n",
    "index = pinecone.Index(name=index_name)\n",
    "\n",
    "# Confirm our index was created\n",
    "print(pinecone.list_indexes())\n"
   ]
  },
  {
   "cell_type": "code",
   "execution_count": 14,
   "metadata": {},
   "outputs": [
    {
     "name": "stderr",
     "output_type": "stream",
     "text": [
      "100%|██████████| 1/1 [00:01<00:00,  1.45s/it]\n"
     ]
    }
   ],
   "source": [
    "from tqdm.auto import tqdm\n",
    "import datetime\n",
    "from time import sleep\n",
    "\n",
    "batch_size = 100  # how many embeddings we create and insert at once\n",
    "\n",
    "# Function to create embeddings with retry logic\n",
    "def create_embeddings_with_retry(texts, model, max_retries=5):\n",
    "    retries = 0\n",
    "    while retries < max_retries:\n",
    "        try:\n",
    "            return client.embeddings.create(input=texts, model=model)\n",
    "        except Exception as e:\n",
    "            print(f\"Attempt {retries + 1}: Encountered an error - {e}\")\n",
    "            sleep(5)  # wait before retrying\n",
    "            retries += 1\n",
    "    raise Exception(f\"Failed to create embeddings after {max_retries} retries.\")\n",
    "\n",
    "# Process the data in batches\n",
    "for i in tqdm(range(0, len(article_df), batch_size)):\n",
    "    i_end = min(len(article_df), i + batch_size)\n",
    "    batch = article_df.iloc[i:i_end]\n",
    "\n",
    "    ids_batch = [str(uuid4()) for _ in range(len(batch))]\n",
    "    texts = batch['Introduction Summary'].tolist()\n",
    "\n",
    "    res = create_embeddings_with_retry(texts, embed_model)\n",
    "\n",
    "    embeds = [record.embedding for record in res.data]\n",
    "\n",
    "    # Prepare data for Pinecone upsert\n",
    "    for idx, (text, embed) in enumerate(zip(texts, embeds)):\n",
    "        # Use a relevant column or derived attribute to determine the namespace\n",
    "        title = batch.iloc[idx]['Title']  \n",
    "        \n",
    "        # Clean the title to ensure it only contains ASCII-printable characters\n",
    "        title_cleaned = ''.join(char for char in title if char.isascii())\n",
    "        namespace = f\"{title_cleaned}_Summary\"  # Create a namespace based on the cleaned title\n",
    "        namespace = ''.join(char for char in namespace if char.isalnum())  # Remove non-alphanumeric characters\n",
    "        \n",
    "        to_upsert = [(ids_batch[idx], embed, {'text': text, 'chunk': idx, 'url': 'default_url'})]\n",
    "        index.upsert(vectors=to_upsert, namespace=namespace)\n"
   ]
  },
  {
   "cell_type": "code",
   "execution_count": 15,
   "metadata": {},
   "outputs": [],
   "source": [
    "from openai import OpenAI\n",
    "\n",
    "\n",
    "# Initialize OpenAI API key\n",
    "api_key = os.getenv(\"api_key\")\n",
    "\n",
    "query = \" Generate 50 questions based on the Introduction Summary \"\n",
    "embed_model = \"text-embedding-3-small\" \n",
    "\n",
    "# Generate the embedding for the query\n",
    "client = OpenAI(api_key=api_key)\n",
    "res = client.embeddings.create(\n",
    "    model=embed_model,\n",
    "    input=query\n",
    ")\n",
    "\n",
    "# Retrieve the embedding from the response\n",
    "embedding_vector = res.data[0].embedding\n",
    "\n"
   ]
  },
  {
   "cell_type": "markdown",
   "metadata": {},
   "source": [
    "## Building a knowledge base"
   ]
  },
  {
   "cell_type": "code",
   "execution_count": 16,
   "metadata": {},
   "outputs": [],
   "source": [
    "embed_model = \"text-embedding-3-small\"\n",
    "\n",
    "client = OpenAI(api_key=api_key)\n",
    "res = client.embeddings.create(\n",
    "    input=[\n",
    "        \"https://www.cfainstitute.org/-/media/documents/support/programs/cfa/sample-level-II-itemset-questions.pdf\",\n",
    "        \"https://www.cfainstitute.org/-/media/documents/support/programs/cfa/sample-level-I-questions.pdf\",\n",
    "        \"https://www.cfainstitute.org/-/media/documents/support/programs/cfa/sample-level-III-itemset-questions.pdf\"\n",
    "    ], model= embed_model\n",
    ")"
   ]
  },
  {
   "cell_type": "code",
   "execution_count": 18,
   "metadata": {},
   "outputs": [],
   "source": [
    "from pinecone import Pinecone\n",
    "papi_key2 = os.getenv(\"papi_key2\")\n",
    "pinecone = Pinecone(api_key=papi_key2)"
   ]
  },
  {
   "cell_type": "markdown",
   "metadata": {},
   "source": [
    "## Generating 50 Questions and answers for the Free Cash Flow Valuation 2018 (SetA)"
   ]
  },
  {
   "cell_type": "code",
   "execution_count": 20,
   "metadata": {},
   "outputs": [
    {
     "data": {
      "text/markdown": [
       "Query 1 for FreeCashFlowValuation2018Summary:\n",
       "\n",
       "What is the purpose of discounted cash flow (DCF) valuation when applied to dividends?\n",
       "\n",
       "A) To calculate the intrinsic value of a security based on past cash flows\n",
       "B) To estimate the future cash flows available for distribution to shareholders\n",
       "C) To value common equity directly without considering non-common-stock capital\n",
       "D) To determine the historical cash flows paid to stockholders\n",
       "\n",
       "The correct answer is _B) To estimate the future cash flows available for distribution to shareholders_."
      ],
      "text/plain": [
       "<IPython.core.display.Markdown object>"
      ]
     },
     "metadata": {},
     "output_type": "display_data"
    },
    {
     "name": "stdout",
     "output_type": "stream",
     "text": [
      "==================================================\n"
     ]
    },
    {
     "data": {
      "text/markdown": [
       "Query 2 for FreeCashFlowValuation2018Summary:\n",
       "\n",
       "What is one of the advantages of using free cash flow models over dividend discount models (DDMs)?  \n",
       "A) Free cash flows are difficult to calculate  \n",
       "B) Free cash flows provide a more economically sound basis for valuation  \n",
       "C) Dividend discount models account for nonoperating assets  \n",
       "D) Dividend discount models require forecasting future cash flows\n",
       "\n",
       "**_B) Free cash flows provide a more economically sound basis for valuation_**"
      ],
      "text/plain": [
       "<IPython.core.display.Markdown object>"
      ]
     },
     "metadata": {},
     "output_type": "display_data"
    },
    {
     "name": "stdout",
     "output_type": "stream",
     "text": [
      "==================================================\n"
     ]
    },
    {
     "data": {
      "text/markdown": [
       "Query 3 for FreeCashFlowValuation2018Summary:\n",
       "\n",
       "What is the purpose of this reading?\n",
       "\n",
       "A) To develop the background required to use DDM for valuation\n",
       "B) To explore the constant-growth models for valuing FCFF and FCFE\n",
       "C) To define the concepts of free cash flow to the firm and free cash flow to equity\n",
       "D) To explain the importance of forecasting dividends for valuation\n",
       "\n",
       "The correct answer is C) To define the concepts of free cash flow to the firm and free cash flow to equity"
      ],
      "text/plain": [
       "<IPython.core.display.Markdown object>"
      ]
     },
     "metadata": {},
     "output_type": "display_data"
    },
    {
     "name": "stdout",
     "output_type": "stream",
     "text": [
      "==================================================\n"
     ]
    },
    {
     "data": {
      "text/markdown": [
       "Query 4 for FreeCashFlowValuation2018Summary:\n",
       "\n",
       "What is the purpose of using the FCFF or FCFE approaches to value a company’s equity?\n",
       "\n",
       "A) To complicate the valuation process\n",
       "B) To simplify the valuation process\n",
       "C) To confuse analysts with complex financial information\n",
       "D) To increase the number of steps required in valuation\n",
       "\n",
       "Correct answer: B) To simplify the valuation process"
      ],
      "text/plain": [
       "<IPython.core.display.Markdown object>"
      ]
     },
     "metadata": {},
     "output_type": "display_data"
    },
    {
     "name": "stdout",
     "output_type": "stream",
     "text": [
      "==================================================\n"
     ]
    },
    {
     "data": {
      "text/markdown": [
       "Query 5 for FreeCashFlowValuation2018Summary:\n",
       "\n",
       "What is the main focus of discounted cash flow (DCF) valuation?\n",
       "a) Analyzing historical stock prices\n",
       "b) Valuing a security based on past performance\n",
       "c) Present value of expected future cash flows\n",
       "d) Predicting short-term market trends\n",
       "\n",
       "_**c) Present value of expected future cash flows**_"
      ],
      "text/plain": [
       "<IPython.core.display.Markdown object>"
      ]
     },
     "metadata": {},
     "output_type": "display_data"
    },
    {
     "name": "stdout",
     "output_type": "stream",
     "text": [
      "==================================================\n"
     ]
    },
    {
     "data": {
      "text/markdown": [
       "Query 6 for FreeCashFlowValuation2018Summary:\n",
       "\n",
       "Which approach do many analysts consider to be more useful than the Dividend Discount Model (DDM) for valuation in practice?\n",
       "\n",
       "A) Discounted Cash Flow (DCF) model  \n",
       "B) Discounted Dividend Approach  \n",
       "C) Free Cash Flow (FCF) model  \n",
       "D) Constant-growth models for FCFF and FCFE  \n",
       "\n",
       "**Correct answer: C) Free Cash Flow (FCF) model**"
      ],
      "text/plain": [
       "<IPython.core.display.Markdown object>"
      ]
     },
     "metadata": {},
     "output_type": "display_data"
    },
    {
     "name": "stdout",
     "output_type": "stream",
     "text": [
      "==================================================\n"
     ]
    },
    {
     "data": {
      "text/markdown": [
       "Query 7 for FreeCashFlowValuation2018Summary:\n",
       "\n",
       "What is a key benefit of using free cash flow models over dividend discount models in equity valuation?\n",
       "\n",
       "A) Free cash flows are easier to compute than dividends.  \n",
       "B) Free cash flows provide a more economically sound basis for valuation.  \n",
       "C) Dividend discount models require less industry knowledge.  \n",
       "D) Dividend discount models are more accurate for valuing equity.  \n",
       "\n",
       "**_B) Free cash flows provide a more economically sound basis for valuation._**"
      ],
      "text/plain": [
       "<IPython.core.display.Markdown object>"
      ]
     },
     "metadata": {},
     "output_type": "display_data"
    },
    {
     "name": "stdout",
     "output_type": "stream",
     "text": [
      "==================================================\n"
     ]
    },
    {
     "data": {
      "text/markdown": [
       "Query 8 for FreeCashFlowValuation2018Summary:\n",
       "\n",
       "What is the purpose of the reading on discounted cash flow (DCF) valuation techniques?\n",
       "\n",
       "- A) To discuss the benefits of using dividend discount models (DDM) over free cash flow models.\n",
       "- B) To explore the complexities of valuing non-common stock capital using DCF analysis.\n",
       "- C) To develop the background required to use FCFF or FCFE approaches to value a company's equity.\n",
       "- D) To compare the accuracy of forecasting dividends with forecasting free cash flows for valuation purposes. \n",
       "\n",
       "Underline the correct option."
      ],
      "text/plain": [
       "<IPython.core.display.Markdown object>"
      ]
     },
     "metadata": {},
     "output_type": "display_data"
    },
    {
     "name": "stdout",
     "output_type": "stream",
     "text": [
      "==================================================\n"
     ]
    },
    {
     "data": {
      "text/markdown": [
       "Query 9 for FreeCashFlowValuation2018Summary:\n",
       "\n",
       "What are some key considerations when using free cash flow models for valuation?\n",
       "\n",
       "A) FCFF and FCFE are readily available data\n",
       "B) Dividends are the only relevant cash flows for valuation\n",
       "C) Analysts must compute FCFF and FCFE from available financial information\n",
       "D) FCFF and FCFE are not important concepts in valuation\n",
       "\n",
       "Correct answer: _C) Analysts must compute FCFF and FCFE from available financial information_"
      ],
      "text/plain": [
       "<IPython.core.display.Markdown object>"
      ]
     },
     "metadata": {},
     "output_type": "display_data"
    },
    {
     "name": "stdout",
     "output_type": "stream",
     "text": [
      "==================================================\n"
     ]
    },
    {
     "data": {
      "text/markdown": [
       "Query 10 for FreeCashFlowValuation2018Summary:\n",
       "\n",
       "1. What are the key components of discounted cash flow (DCF) valuation?\n",
       "   A. Discounted dividend approach (DDM)\n",
       "   B. Free cash flow to the firm (FCFF) and free cash flow to equity (FCFE)\n",
       "   C. Earnings per share (EPS) and price-to-earnings ratio (P/E)\n",
       "   D. Dividends and stock price\n",
       "  \n",
       "2. Which cash flows are used in the dividend discount model (DDM)?\n",
       "   A. Free cash flows\n",
       "   B. Future earnings\n",
       "   C. Dividends\n",
       "   D. Operating expenses\n",
       "  \n",
       "3. Why do many analysts consider free cash flow models to be more useful than DDMs in practice?\n",
       "   A. Free cash flows provide an economically sound basis for valuation\n",
       "   B. DDM is easier to calculate\n",
       "   C. DDM is more accurate in forecasting\n",
       "   D. Free cash flows are not reliable\n",
       "  \n",
       "4. How can common equity be valued using free cash flows?\n",
       "   A. Directly using FCFE or indirectly using FCFF model\n",
       "   B. Using historical dividends\n",
       "   C. Using the price-to-earnings ratio (P/E ratio)\n",
       "   D. Using company's book value."
      ],
      "text/plain": [
       "<IPython.core.display.Markdown object>"
      ]
     },
     "metadata": {},
     "output_type": "display_data"
    },
    {
     "name": "stdout",
     "output_type": "stream",
     "text": [
      "==================================================\n"
     ]
    },
    {
     "data": {
      "text/markdown": [
       "Query 11 for FreeCashFlowValuation2018Summary:\n",
       "\n",
       "What is an important aspect of discounted cash flow (DCF) valuation when applied to dividends?  \n",
       "A) Dividends are the only cash flows considered  \n",
       "B) Free cash flows to equity (FCFE) are not important in DCF analysis  \n",
       "C) Forecasting future free cash flows is not crucial  \n",
       "D) Free cash flows provide an economically sound basis for valuation  \n",
       "\n",
       "The correct option is: D) Free cash flows provide an economically sound basis for valuation."
      ],
      "text/plain": [
       "<IPython.core.display.Markdown object>"
      ]
     },
     "metadata": {},
     "output_type": "display_data"
    },
    {
     "name": "stdout",
     "output_type": "stream",
     "text": [
      "==================================================\n"
     ]
    },
    {
     "data": {
      "text/markdown": [
       "Query 12 for FreeCashFlowValuation2018Summary:\n",
       "\n",
       "What are some considerations when using free cash flow models for valuation?\n",
       "\n",
       "A) Free cash flows are readily available data.\n",
       "B) FCFF and FCFE are not relevant for equity valuation.\n",
       "C) Analysts need to compute FCFF and FCFE from available financial information.\n",
       "D) Dividend Discount Model is more useful than free cash flow models. \n",
       "\n",
       "_**Correct answer: C) Analysts need to compute FCFF and FCFE from available financial information.**_"
      ],
      "text/plain": [
       "<IPython.core.display.Markdown object>"
      ]
     },
     "metadata": {},
     "output_type": "display_data"
    },
    {
     "name": "stdout",
     "output_type": "stream",
     "text": [
      "==================================================\n"
     ]
    },
    {
     "data": {
      "text/markdown": [
       "Query 13 for FreeCashFlowValuation2018Summary:\n",
       "\n",
       "What is a key aspect of Discounted Cash Flow (DCF) analysis mentioned in the provided text?\n",
       "\n",
       "1. DCF analysis is solely focused on estimating the historical cash flows of a company.\n",
       "2. DCF valuation involves valuing a company based on its current stock price.\n",
       "3. Free cash flow to equity (FCFE) and free cash flow to the firm (FCFF) are easily accessible data.\n",
       "4. Forecasting future free cash flows is an important and challenging aspect of DCF analysis. \n",
       "\n",
       "_**4. Forecasting future free cash flows is an important and challenging aspect of DCF analysis.**_"
      ],
      "text/plain": [
       "<IPython.core.display.Markdown object>"
      ]
     },
     "metadata": {},
     "output_type": "display_data"
    },
    {
     "name": "stdout",
     "output_type": "stream",
     "text": [
      "==================================================\n"
     ]
    },
    {
     "data": {
      "text/markdown": [
       "Query 14 for FreeCashFlowValuation2018Summary:\n",
       "\n",
       "What are some key considerations when using the discounted cash flow (DCF) valuation method for equity securities?\n",
       "\n",
       "A) Free cash flows are equivalent to dividends paid to stockholders.\n",
       "\n",
       "B) Forecasting future free cash flows is not a critical aspect of DCF analysis.\n",
       "\n",
       "C) Analysts can directly value common equity using FCFE or indirectly through FCFF models.\n",
       "\n",
       "D) Nonoperating assets and operating assets are typically valued together when using the DCF method.\n",
       "\n",
       "**_Correct answer: C) Analysts can directly value common equity using FCFE or indirectly through FCFF models._**"
      ],
      "text/plain": [
       "<IPython.core.display.Markdown object>"
      ]
     },
     "metadata": {},
     "output_type": "display_data"
    },
    {
     "name": "stdout",
     "output_type": "stream",
     "text": [
      "==================================================\n"
     ]
    },
    {
     "data": {
      "text/markdown": [
       "Query 15 for FreeCashFlowValuation2018Summary:\n",
       "\n",
       "What are some considerations when valuing a company using free cash flow models?\n",
       "\n",
       "A) Free cash flows are the cash flows actually paid to stockholders.\n",
       "B) FCFF and FCFE are readily available data in financial statements.\n",
       "C) Analysts need to compute FCFF and FCFE from available financial information.\n",
       "D) FCFF and FCFE are not commonly used in practice for equity valuation.\n",
       "\n",
       "The correct answer is _C) Analysts need to compute FCFF and FCFE from available financial information._"
      ],
      "text/plain": [
       "<IPython.core.display.Markdown object>"
      ]
     },
     "metadata": {},
     "output_type": "display_data"
    },
    {
     "name": "stdout",
     "output_type": "stream",
     "text": [
      "==================================================\n"
     ]
    },
    {
     "data": {
      "text/markdown": [
       "Query 16 for FreeCashFlowValuation2018Summary:\n",
       "\n",
       "What are some key considerations when using free cash flow models in valuation?\n",
       "\n",
       "A) Free cash flow to the firm (FCFF) and free cash flow to equity (FCFE) are readily available data.\n",
       "B) Forecasting future free cash flows is not necessary when using free cash flow models.\n",
       "C) Analysts do not need a clear understanding of a company's financial statements, operations, financing, and industry.\n",
       "D) Analysts often value operating and nonoperating assets separately and then combine them to find the total value of the firm.\n",
       "\n",
       "The correct answer is _D) Analysts often value operating and nonoperating assets separately and then combine them to find the total value of the firm._"
      ],
      "text/plain": [
       "<IPython.core.display.Markdown object>"
      ]
     },
     "metadata": {},
     "output_type": "display_data"
    },
    {
     "name": "stdout",
     "output_type": "stream",
     "text": [
      "==================================================\n"
     ]
    },
    {
     "data": {
      "text/markdown": [
       "Query 17 for FreeCashFlowValuation2018Summary:\n",
       "\n",
       "What is the purpose of using FCFF or FCFE approaches for valuation?\n",
       "\n",
       "A) To directly estimate the value of common equity  \n",
       "B) To indirectly estimate the value of common equity by subtracting non-common-stock capital from FCFF  \n",
       "C) To identify the total value of a company  \n",
       "D) To calculate the present value of dividends  \n",
       "\n",
       "_**Underlined answer:**  \n",
       "B) To indirectly estimate the value of common equity by subtracting non-common-stock capital from FCFF_"
      ],
      "text/plain": [
       "<IPython.core.display.Markdown object>"
      ]
     },
     "metadata": {},
     "output_type": "display_data"
    },
    {
     "name": "stdout",
     "output_type": "stream",
     "text": [
      "==================================================\n"
     ]
    },
    {
     "data": {
      "text/markdown": [
       "Query 18 for FreeCashFlowValuation2018Summary:\n",
       "\n",
       "What is the purpose of the reading on discounted cash flow (DCF) valuation?\n",
       "\n",
       "A) To explain the principles of stock market investing\n",
       "B) To define the role of financial analysts in the banking industry\n",
       "C) To develop the background required for valuing a company's equity using FCFF or FCFE approaches\n",
       "D) To provide a historical analysis of market trends\n",
       "\n",
       "**Underline the correct one:**\n",
       "\n",
       "C) To develop the background required for valuing a company's equity using FCFF or FCFE approaches"
      ],
      "text/plain": [
       "<IPython.core.display.Markdown object>"
      ]
     },
     "metadata": {},
     "output_type": "display_data"
    },
    {
     "name": "stdout",
     "output_type": "stream",
     "text": [
      "==================================================\n"
     ]
    },
    {
     "data": {
      "text/markdown": [
       "Query 19 for FreeCashFlowValuation2018Summary:\n",
       "\n",
       "What is the purpose of the reading on discounted cash flow (DCF) valuation and free cash flow models?\n",
       "\n",
       "A) To provide an overview of different stock valuation methods  \n",
       "B) To explain the concept of dividends and their impact on stock prices  \n",
       "C) To discuss the importance of understanding free cash flows in valuing a company  \n",
       "D) To analyze the historical stock performance of various companies  \n",
       "\n",
       "Correct answer: C) To discuss the importance of understanding free cash flows in valuing a company"
      ],
      "text/plain": [
       "<IPython.core.display.Markdown object>"
      ]
     },
     "metadata": {},
     "output_type": "display_data"
    },
    {
     "name": "stdout",
     "output_type": "stream",
     "text": [
      "==================================================\n"
     ]
    },
    {
     "data": {
      "text/markdown": [
       "Query 20 for FreeCashFlowValuation2018Summary:\n",
       "\n",
       "What is the purpose of the reading regarding FCFF and FCFE valuation?\n",
       "A) To emphasize the importance of DDM in equity valuation\n",
       "B) To highlight the challenges in computing FCFF and FCFE\n",
       "C) To introduce the concept of dividend discount models\n",
       "D) To provide an overview of asset valuation methods\n",
       "\n",
       "The correct answer is _B) To highlight the challenges in computing FCFF and FCFE_."
      ],
      "text/plain": [
       "<IPython.core.display.Markdown object>"
      ]
     },
     "metadata": {},
     "output_type": "display_data"
    },
    {
     "name": "stdout",
     "output_type": "stream",
     "text": [
      "==================================================\n"
     ]
    },
    {
     "data": {
      "text/markdown": [
       "Query 21 for FreeCashFlowValuation2018Summary:\n",
       "\n",
       "What is the focus of discounted cash flow (DCF) valuation when applied to dividends?\n",
       "1. Present value of past cash flows  \n",
       "2. Present value of expected future cash flows  \n",
       "3. Present value of current cash reserves  \n",
       "4. Present value of market price fluctuations  \n",
       "\n",
       "The correct answer is **2. Present value of expected future cash flows**."
      ],
      "text/plain": [
       "<IPython.core.display.Markdown object>"
      ]
     },
     "metadata": {},
     "output_type": "display_data"
    },
    {
     "name": "stdout",
     "output_type": "stream",
     "text": [
      "==================================================\n"
     ]
    },
    {
     "data": {
      "text/markdown": [
       "Query 22 for FreeCashFlowValuation2018Summary:\n",
       "\n",
       "1. What is the purpose of discounted cash flow (DCF) valuation when applied to dividends?\n",
       "   - A. To estimate the historical cash flows \n",
       "   - B. To predict future stock prices\n",
       "   - C. To evaluate the intrinsic value based on expected future cash flows\n",
       "   - D. To calculate the current market value of the security\n",
       "\n",
       "2. What do free cash flows represent in DCF analysis?\n",
       "   - A. Cash flows actually paid to stockholders\n",
       "   - B. Cash flows available for distribution to shareholders\n",
       "   - C. Cash flows allocated for future investments\n",
       "   - D. Cash flows generated from debt financing\n",
       "\n",
       "3. How do analysts value common equity using free cash flow models?\n",
       "   - A. Directly using FCFF\n",
       "   - B. Indirectly by first using a FCFF model\n",
       "   - C. Subtracting the value of equity from FCFF\n",
       "   - D. Adding the value of debt to FCFE\n",
       "\n",
       "4. What is the focus of Section 3 in the reading?\n",
       "   - A. Valuing nonoperating assets\n",
       "   - B. Calculating and forecasting FCFF and FCFE\n",
       "   - C. Exploring constant-growth models\n",
       "   - D. Reviewing multistage free cash flow valuation models\n",
       "\n",
       "Best of luck!"
      ],
      "text/plain": [
       "<IPython.core.display.Markdown object>"
      ]
     },
     "metadata": {},
     "output_type": "display_data"
    },
    {
     "name": "stdout",
     "output_type": "stream",
     "text": [
      "==================================================\n"
     ]
    },
    {
     "data": {
      "text/markdown": [
       "Query 23 for FreeCashFlowValuation2018Summary:\n",
       "\n",
       "What is one key benefit of using free cash flow models over dividend discount models in practice?\n",
       "\n",
       "A) Free cash flows are not affected by market volatility  \n",
       "B) Dividends provide a more reliable basis for valuation  \n",
       "C) Free cash flows are readily available data  \n",
       "D) Free cash flows provide an economically sound basis for valuation\n",
       "\n",
       "Correct answer: _D) Free cash flows provide an economically sound basis for valuation_"
      ],
      "text/plain": [
       "<IPython.core.display.Markdown object>"
      ]
     },
     "metadata": {},
     "output_type": "display_data"
    },
    {
     "name": "stdout",
     "output_type": "stream",
     "text": [
      "==================================================\n"
     ]
    },
    {
     "data": {
      "text/markdown": [
       "Query 24 for FreeCashFlowValuation2018Summary:\n",
       "\n",
       "What is the focus of discounted cash flow (DCF) valuation when applied to dividends or free cash flows?\n",
       "\n",
       "A) Valuing a company based on its stock price fluctuations  \n",
       "B) Evaluating the market value of a security through historical data  \n",
       "C) Assessing the present value of expected future cash flows  \n",
       "D) Analyzing the impact of interest rates on investment returns  \n",
       "\n",
       "Correct answer: C) Assessing the present value of expected future cash flows"
      ],
      "text/plain": [
       "<IPython.core.display.Markdown object>"
      ]
     },
     "metadata": {},
     "output_type": "display_data"
    },
    {
     "name": "stdout",
     "output_type": "stream",
     "text": [
      "==================================================\n"
     ]
    },
    {
     "data": {
      "text/markdown": [
       "Query 25 for FreeCashFlowValuation2018Summary:\n",
       "\n",
       "What is one of the reasons why many analysts consider free cash flow models to be more useful than DDMs in practice?\n",
       "\n",
       "1. Free cash flows are cash flows actually paid to stockholders.\n",
       "2. Free cash flows require a clear understanding of dividends.\n",
       "3. Free cash flows are readily available data.\n",
       "4. Free cash flows provide an economically sound basis for valuation.\n",
       "\n",
       "_**Correct answer: 4. Free cash flows provide an economically sound basis for valuation.**_"
      ],
      "text/plain": [
       "<IPython.core.display.Markdown object>"
      ]
     },
     "metadata": {},
     "output_type": "display_data"
    },
    {
     "name": "stdout",
     "output_type": "stream",
     "text": [
      "==================================================\n"
     ]
    },
    {
     "data": {
      "text/markdown": [
       "Query 26 for FreeCashFlowValuation2018Summary:\n",
       "\n",
       "What approach is used in discounted cash flow (DCF) valuation to value a company and its equity securities?\n",
       "A) Discounted cash approach (DCA)\n",
       "B) Dividend discount model (DDM)\n",
       "C) Earnings per share model (EPS)\n",
       "D) Capital asset pricing model (CAPM)\n",
       "\n",
       "Correct Answer: B) Dividend discount model (DDM)"
      ],
      "text/plain": [
       "<IPython.core.display.Markdown object>"
      ]
     },
     "metadata": {},
     "output_type": "display_data"
    },
    {
     "name": "stdout",
     "output_type": "stream",
     "text": [
      "==================================================\n"
     ]
    },
    {
     "data": {
      "text/markdown": [
       "Query 27 for FreeCashFlowValuation2018Summary:\n",
       "\n",
       "1. What is the purpose of discounted cash flow (DCF) valuation?\n",
       "   - A) To calculate dividends\n",
       "   - B) To estimate future stock prices\n",
       "   - C) To determine the intrinsic value of a security\n",
       "   - D) To analyze industry trends\n",
       "  \n",
       "2. How are free cash flows different from dividends?\n",
       "   - A) Free cash flows are smaller than dividends\n",
       "   - B) Dividends are not readily available data\n",
       "   - C) Free cash flows represent cash available for distribution to shareholders\n",
       "   - D) Dividends are only available to company executives\n",
       "  \n",
       "3. Why do analysts find free cash flow models more useful than dividend discount models (DDMs)?\n",
       "   - A) Free cash flows are easier to calculate\n",
       "   - B) Free cash flows provide an economically sound basis for valuation\n",
       "   - C) DDMs are more accurate in forecasting future cash flows\n",
       "   - D) DDMs consider only dividends while free cash flows consider all available cash\n",
       "  \n",
       "4. How can common equity be valued using free cash flow models?\n",
       "   - A) By directly using FCFE\n",
       "   - B) By subtracting debt from FCFF\n",
       "   - C) By calculating DDM first\n",
       "   - D) By considering industry trends\n",
       "\n",
       "**Correct Answers:**\n",
       "1. C) To determine the intrinsic value of a security\n",
       "2. C) Free cash flows represent cash available for distribution to shareholders\n",
       "3. B) Free cash flows provide an economically sound basis for valuation\n",
       "4. A) By directly using FCFE"
      ],
      "text/plain": [
       "<IPython.core.display.Markdown object>"
      ]
     },
     "metadata": {},
     "output_type": "display_data"
    },
    {
     "name": "stdout",
     "output_type": "stream",
     "text": [
      "==================================================\n"
     ]
    },
    {
     "data": {
      "text/markdown": [
       "Query 28 for FreeCashFlowValuation2018Summary:\n",
       "\n",
       "What are some key considerations when valuing a company using the FCFF and FCFE approaches?\n",
       "\n",
       "A) Future cash flows should be based solely on historical data.\n",
       "B) FCFF and FCFE are readily available data on financial statements.\n",
       "C) Analysts need to compute FCFF and FCFE from available financial information.\n",
       "D) Analysts prefer using DDM over free cash flow models in practice.\n",
       "\n",
       "The correct answer is **C) Analysts need to compute FCFF and FCFE from available financial information**."
      ],
      "text/plain": [
       "<IPython.core.display.Markdown object>"
      ]
     },
     "metadata": {},
     "output_type": "display_data"
    },
    {
     "name": "stdout",
     "output_type": "stream",
     "text": [
      "==================================================\n"
     ]
    },
    {
     "data": {
      "text/markdown": [
       "Query 29 for FreeCashFlowValuation2018Summary:\n",
       "\n",
       "What is one of the key advantages of using free cash flow models over dividend discount models (DDMs) for equity valuation?\n",
       "\n",
       "A) Free cash flows can be readily obtained from financial statements\n",
       "B) Free cash flows enable a more accurate estimation of a company's intrinsic value\n",
       "C) Free cash flows are equivalent to dividends paid to stockholders\n",
       "D) Free cash flows provide a simpler method for valuing common equity\n",
       "\n",
       "The correct answer is _B) Free cash flows enable a more accurate estimation of a company's intrinsic value_."
      ],
      "text/plain": [
       "<IPython.core.display.Markdown object>"
      ]
     },
     "metadata": {},
     "output_type": "display_data"
    },
    {
     "name": "stdout",
     "output_type": "stream",
     "text": [
      "==================================================\n"
     ]
    },
    {
     "data": {
      "text/markdown": [
       "Query 30 for FreeCashFlowValuation2018Summary:\n",
       "\n",
       "What are some key considerations when using free cash flow models for equity valuation?\n",
       "A) Dividends provide a more accurate valuation compared to free cash flows.\n",
       "B) FCFF and FCFE are readily available data that analysts can easily find.\n",
       "C) Analysts need a clear understanding of free cash flows and the ability to interpret financial information correctly.\n",
       "D) FCFF and FCFE are not useful in practice for valuing equity securities. \n",
       "\n",
       "Correct answer: _C) Analysts need a clear understanding of free cash flows and the ability to interpret financial information correctly._"
      ],
      "text/plain": [
       "<IPython.core.display.Markdown object>"
      ]
     },
     "metadata": {},
     "output_type": "display_data"
    },
    {
     "name": "stdout",
     "output_type": "stream",
     "text": [
      "==================================================\n"
     ]
    },
    {
     "data": {
      "text/markdown": [
       "Query 31 for FreeCashFlowValuation2018Summary:\n",
       "\n",
       "What are the key considerations when using free cash flow (FCF) models for equity valuation?\n",
       "A) FCFF and FCFE can be readily obtained from financial statements.\n",
       "B) Forecasting future free cash flows is not a necessary step in the valuation process.\n",
       "C) Common equity cannot be valued directly using FCFE.\n",
       "D) Analysts prefer using DDMs over free cash flow models in practice.\n",
       "\n",
       "The correct option is _C) Common equity cannot be valued directly using FCFE_."
      ],
      "text/plain": [
       "<IPython.core.display.Markdown object>"
      ]
     },
     "metadata": {},
     "output_type": "display_data"
    },
    {
     "name": "stdout",
     "output_type": "stream",
     "text": [
      "==================================================\n"
     ]
    },
    {
     "data": {
      "text/markdown": [
       "Query 32 for FreeCashFlowValuation2018Summary:\n",
       "\n",
       "What is the purpose of a DCF valuation method when applied to dividends and free cash flows?\n",
       "A) To estimate the market share value of a security\n",
       "B) To calculate the accounting profit of a company\n",
       "C) To determine the intrinsic value of a security based on expected future cash flows\n",
       "D) To assess the liquidity position of a company\n",
       "\n",
       "The correct answer is C) To determine the intrinsic value of a security based on expected future cash flows."
      ],
      "text/plain": [
       "<IPython.core.display.Markdown object>"
      ]
     },
     "metadata": {},
     "output_type": "display_data"
    },
    {
     "name": "stdout",
     "output_type": "stream",
     "text": [
      "==================================================\n"
     ]
    },
    {
     "data": {
      "text/markdown": [
       "Query 33 for FreeCashFlowValuation2018Summary:\n",
       "\n",
       "What is the purpose of discounted cash flow (DCF) valuation when applied to dividends according to the text provided?\n",
       "A) To identify the stock price\n",
       "B) To calculate future cash flows\n",
       "C) To determine the intrinsic value of a security\n",
       "D) To forecast future dividends\n",
       "\n",
       "The correct answer is C) To determine the intrinsic value of a security."
      ],
      "text/plain": [
       "<IPython.core.display.Markdown object>"
      ]
     },
     "metadata": {},
     "output_type": "display_data"
    },
    {
     "name": "stdout",
     "output_type": "stream",
     "text": [
      "==================================================\n"
     ]
    },
    {
     "data": {
      "text/markdown": [
       "Query 34 for FreeCashFlowValuation2018Summary:\n",
       "\n",
       "What is the purpose of this reading?\n",
       "A) To introduce the concept of discounted cash flow valuation\n",
       "B) To emphasize the importance of dividend discount models (DDM)\n",
       "C) To develop the background required to use FCFF or FCFE approaches to value a company’s equity\n",
       "D) To explain the concept of stock valuation using historical data\n",
       "\n",
       "The correct answer is C) To develop the background required to use FCFF or FCFE approaches to value a company’s equity"
      ],
      "text/plain": [
       "<IPython.core.display.Markdown object>"
      ]
     },
     "metadata": {},
     "output_type": "display_data"
    },
    {
     "name": "stdout",
     "output_type": "stream",
     "text": [
      "==================================================\n"
     ]
    },
    {
     "data": {
      "text/markdown": [
       "Query 35 for FreeCashFlowValuation2018Summary:\n",
       "\n",
       "What is the purpose of discounted cash flow (DCF) valuation?\n",
       "\n",
       "A) To calculate historical cash flows  \n",
       "B) To evaluate short-term stock price movements  \n",
       "C) To determine the intrinsic value of a security based on its future cash flows  \n",
       "D) To predict interest rate changes  \n",
       "\n",
       "**_C) To determine the intrinsic value of a security based on its future cash flows_**"
      ],
      "text/plain": [
       "<IPython.core.display.Markdown object>"
      ]
     },
     "metadata": {},
     "output_type": "display_data"
    },
    {
     "name": "stdout",
     "output_type": "stream",
     "text": [
      "==================================================\n"
     ]
    },
    {
     "data": {
      "text/markdown": [
       "Query 36 for FreeCashFlowValuation2018Summary:\n",
       "\n",
       "Which approach is commonly used by analysts for valuing a company and its equity securities?\n",
       "\n",
       "A) Price-to-Earnings ratio analysis  \n",
       "B) Dividend payout ratio analysis  \n",
       "C) Discounted cash flow valuation  \n",
       "D) Book value analysis\n",
       "\n",
       "Correct answer: _C) Discounted cash flow valuation_"
      ],
      "text/plain": [
       "<IPython.core.display.Markdown object>"
      ]
     },
     "metadata": {},
     "output_type": "display_data"
    },
    {
     "name": "stdout",
     "output_type": "stream",
     "text": [
      "==================================================\n"
     ]
    },
    {
     "data": {
      "text/markdown": [
       "Query 37 for FreeCashFlowValuation2018Summary:\n",
       "\n",
       "What is the key focus of Discounted Cash Flow (DCF) valuation when applied to dividends and free cash flows?\n",
       "\n",
       "A) Valuing a company based on historical cash flows\n",
       "B) Estimating the future value of dividends only\n",
       "C) Determining the intrinsic value of a security using expected future cash flows\n",
       "D) Analyzing the market value of equity securities\n",
       "\n",
       "The correct answer is _C) Determining the intrinsic value of a security using expected future cash flows_."
      ],
      "text/plain": [
       "<IPython.core.display.Markdown object>"
      ]
     },
     "metadata": {},
     "output_type": "display_data"
    },
    {
     "name": "stdout",
     "output_type": "stream",
     "text": [
      "==================================================\n"
     ]
    },
    {
     "data": {
      "text/markdown": [
       "Query 38 for FreeCashFlowValuation2018Summary:\n",
       "\n",
       "What is the purpose of free cash flow models in valuation?\n",
       "A) To make forecasting future cash flows easier\n",
       "B) To provide an economically sound basis for valuation\n",
       "C) To reduce the need for understanding a company's financial statements\n",
       "D) To simplify the valuation process by using DDM\n",
       "\n",
       "The correct answer is _B) To provide an economically sound basis for valuation_."
      ],
      "text/plain": [
       "<IPython.core.display.Markdown object>"
      ]
     },
     "metadata": {},
     "output_type": "display_data"
    },
    {
     "name": "stdout",
     "output_type": "stream",
     "text": [
      "==================================================\n"
     ]
    },
    {
     "data": {
      "text/markdown": [
       "Query 39 for FreeCashFlowValuation2018Summary:\n",
       "\n",
       "What is the purpose of discounted cash flow (DCF) valuation?\n",
       "A) To calculate historical cash flows\n",
       "B) To predict future stock prices\n",
       "C) To view the intrinsic value of a security based on expected future cash flows\n",
       "D) To analyze industry trends\n",
       "\n",
       "_**C) To view the intrinsic value of a security based on expected future cash flows**_"
      ],
      "text/plain": [
       "<IPython.core.display.Markdown object>"
      ]
     },
     "metadata": {},
     "output_type": "display_data"
    },
    {
     "name": "stdout",
     "output_type": "stream",
     "text": [
      "==================================================\n"
     ]
    },
    {
     "data": {
      "text/markdown": [
       "Query 40 for FreeCashFlowValuation2018Summary:\n",
       "\n",
       "What is the focus of discounted cash flow (DCF) valuation when applied to dividends and free cash flows?\n",
       "\n",
       "A) Discounting historical cash flows  \n",
       "B) Calculating future dividend payments  \n",
       "C) Valuing a security based on expected future cash flows  \n",
       "D) Estimating present value of past cash distributions  \n",
       "\n",
       "Correct answer: C) Valuing a security based on expected future cash flows"
      ],
      "text/plain": [
       "<IPython.core.display.Markdown object>"
      ]
     },
     "metadata": {},
     "output_type": "display_data"
    },
    {
     "name": "stdout",
     "output_type": "stream",
     "text": [
      "==================================================\n"
     ]
    },
    {
     "data": {
      "text/markdown": [
       "Query 41 for FreeCashFlowValuation2018Summary:\n",
       "\n",
       "What is the primary focus of the discounted cash flow (DCF) valuation approach in relation to valuing a company's equity securities?\n",
       "1. Estimating current market value of securities\n",
       "2. Projecting future cash flows for the company\n",
       "3. Analyzing historical dividend payments\n",
       "4. Evaluating shareholder returns\n",
       "\n",
       "_**Underline: 2. Projecting future cash flows for the company**_"
      ],
      "text/plain": [
       "<IPython.core.display.Markdown object>"
      ]
     },
     "metadata": {},
     "output_type": "display_data"
    },
    {
     "name": "stdout",
     "output_type": "stream",
     "text": [
      "==================================================\n"
     ]
    },
    {
     "data": {
      "text/markdown": [
       "Query 42 for FreeCashFlowValuation2018Summary:\n",
       "\n",
       "What is the primary focus of the discounted cash flow (DCF) valuation?\n",
       "\n",
       "A) Valuing a company's assets\n",
       "B) Valuing future cash flows\n",
       "C) Valuing historical performance\n",
       "D) Valuing industry trends\n",
       "\n",
       "Correct answer: B) Valuing future cash flows"
      ],
      "text/plain": [
       "<IPython.core.display.Markdown object>"
      ]
     },
     "metadata": {},
     "output_type": "display_data"
    },
    {
     "name": "stdout",
     "output_type": "stream",
     "text": [
      "==================================================\n"
     ]
    },
    {
     "data": {
      "text/markdown": [
       "Query 43 for FreeCashFlowValuation2018Summary:\n",
       "\n",
       "What is the purpose of discounted cash flow (DCF) valuation when applied to dividends, according to the text?\n",
       "a) To estimate the value of a security based on its historical cash flows.\n",
       "b) To calculate the present value of expected future cash flows.\n",
       "c) To determine the market price of a security.\n",
       "d) To predict the timing of dividend payments.\n",
       "\n",
       "The correct answer is _b) To calculate the present value of expected future cash flows_."
      ],
      "text/plain": [
       "<IPython.core.display.Markdown object>"
      ]
     },
     "metadata": {},
     "output_type": "display_data"
    },
    {
     "name": "stdout",
     "output_type": "stream",
     "text": [
      "==================================================\n"
     ]
    },
    {
     "data": {
      "text/markdown": [
       "Query 44 for FreeCashFlowValuation2018Summary:\n",
       "\n",
       "What is one of the primary advantages of using free cash flow models over dividend discount models (DDM) in practice?\n",
       "1. Free cash flows provide a more accurate estimate of a company's intrinsic value.\n",
       "2. Free cash flows are readily available data for analysts to use.\n",
       "3. Free cash flows are easier to compute than dividends.\n",
       "4. Free cash flows are not affected by market fluctuations.\n",
       "\n",
       "_**1. Free cash flows provide a more accurate estimate of a company's intrinsic value.**_"
      ],
      "text/plain": [
       "<IPython.core.display.Markdown object>"
      ]
     },
     "metadata": {},
     "output_type": "display_data"
    },
    {
     "name": "stdout",
     "output_type": "stream",
     "text": [
      "==================================================\n"
     ]
    },
    {
     "data": {
      "text/markdown": [
       "Query 45 for FreeCashFlowValuation2018Summary:\n",
       "\n",
       "What are some considerations when using the discounted cash flow (DCF) valuation method for equity securities?\n",
       "\n",
       "Options:\n",
       "A) Dividends are the only cash flows considered\n",
       "B) FCFF and FCFE are readily available data\n",
       "C) Forecasting future free cash flows is not necessary\n",
       "D) Analysts need a clear understanding of free cash flows and the company's financial statements\n",
       "\n",
       "Underline the correct option."
      ],
      "text/plain": [
       "<IPython.core.display.Markdown object>"
      ]
     },
     "metadata": {},
     "output_type": "display_data"
    },
    {
     "name": "stdout",
     "output_type": "stream",
     "text": [
      "==================================================\n"
     ]
    },
    {
     "data": {
      "text/markdown": [
       "Query 46 for FreeCashFlowValuation2018Summary:\n",
       "\n",
       "What is the main focus of Discounted Cash Flow (DCF) valuation?\n",
       "1. Present value of current market price\n",
       "2. Present value of expected future cash flows\n",
       "3. Present value of historical cash flows\n",
       "4. Present value of book value\n",
       "\n",
       "The correct answer is: _Present value of expected future cash flows_"
      ],
      "text/plain": [
       "<IPython.core.display.Markdown object>"
      ]
     },
     "metadata": {},
     "output_type": "display_data"
    },
    {
     "name": "stdout",
     "output_type": "stream",
     "text": [
      "==================================================\n"
     ]
    },
    {
     "data": {
      "text/markdown": [
       "Query 47 for FreeCashFlowValuation2018Summary:\n",
       "\n",
       "What is the purpose of using the FCFF or FCFE approaches to value a company’s equity?\n",
       "\n",
       "A) To complicate the valuation process\n",
       "B) To make forecasting future cash flows easier\n",
       "C) To provide an economically sound basis for valuation\n",
       "D) To rely solely on dividend discount models\n",
       "\n",
       "Correct answer: C) To provide an economically sound basis for valuation"
      ],
      "text/plain": [
       "<IPython.core.display.Markdown object>"
      ]
     },
     "metadata": {},
     "output_type": "display_data"
    },
    {
     "name": "stdout",
     "output_type": "stream",
     "text": [
      "==================================================\n"
     ]
    },
    {
     "data": {
      "text/markdown": [
       "Query 48 for FreeCashFlowValuation2018Summary:\n",
       "\n",
       "What are some key considerations when using free cash flow models to value a company's equity?\n",
       "\n",
       "A) Free cash flows provide an unsound basis for valuation.\\\n",
       "B) Dividends are a more reliable measure of a company's value compared to free cash flows.\\\n",
       "C) FCFF and FCFE are readily available data.\\\n",
       "D) Common equity can be valued directly using FCFE or indirectly by first using a FCFF model to estimate the value of the firm and then subtracting the value of non-common-stock capital from FCFF to arrive at an estimate of the value of equity.\n",
       "\n",
       "The correct answer is _D) Common equity can be valued directly using FCFE or indirectly by first using a FCFF model to estimate the value of the firm and then subtracting the value of non-common-stock capital from FCFF to arrive at an estimate of the value of equity_."
      ],
      "text/plain": [
       "<IPython.core.display.Markdown object>"
      ]
     },
     "metadata": {},
     "output_type": "display_data"
    },
    {
     "name": "stdout",
     "output_type": "stream",
     "text": [
      "==================================================\n"
     ]
    },
    {
     "data": {
      "text/markdown": [
       "Query 49 for FreeCashFlowValuation2018Summary:\n",
       "\n",
       "What are some considerations when applying Free Cash Flow (FCF) valuation models to value a company's equity securities?\n",
       "\n",
       "A) FCFF and FCFE are readily available data and do not require calculations\\\n",
       "B) DCF analysis is not applicable when using FCFF and FCFE\\\n",
       "C) Analysts do not need to understand a company's financial statements or industry when using FCFF and FCFE\\\n",
       "D) The value of common equity can be estimated using FCFF by subtracting non-common stock capital\n",
       "\n",
       "**_Correct answer:_** D) The value of common equity can be estimated using FCFF by subtracting non-common stock capital"
      ],
      "text/plain": [
       "<IPython.core.display.Markdown object>"
      ]
     },
     "metadata": {},
     "output_type": "display_data"
    },
    {
     "name": "stdout",
     "output_type": "stream",
     "text": [
      "==================================================\n"
     ]
    },
    {
     "data": {
      "text/markdown": [
       "Query 50 for FreeCashFlowValuation2018Summary:\n",
       "\n",
       "Which type of valuation model is extended in the reading to value a company and its equity securities?  \n",
       "A) Price-to-earnings ratio approach  \n",
       "B) Dividend growth model  \n",
       "C) Discounted cash flow analysis  \n",
       "D) Relative valuation methods  \n",
       "\n",
       "**_Correct answer: C) Discounted cash flow analysis_**"
      ],
      "text/plain": [
       "<IPython.core.display.Markdown object>"
      ]
     },
     "metadata": {},
     "output_type": "display_data"
    },
    {
     "name": "stdout",
     "output_type": "stream",
     "text": [
      "==================================================\n"
     ]
    }
   ],
   "source": [
    "from openai import OpenAI\n",
    "\n",
    "# Initialize OpenAI API key\n",
    "api_key = os.getenv(\"api_key\")\n",
    "\n",
    "# Adjust the query to indicate the need for 50 questions with answers\n",
    "query = \"Generate questions and answers with 4 options each, with the correct option being bold, based on the Introduction Summary. Provide 50 questions along with their answers.\"\n",
    "\n",
    "embed_model = \"text-embedding-3-small\"  \n",
    "\n",
    "# Generate the embedding for the query\n",
    "client = OpenAI(api_key=api_key)\n",
    "res = client.embeddings.create(\n",
    "    model=embed_model,\n",
    "    input=query\n",
    ")\n",
    "\n",
    "# Retrieve the embedding from the response\n",
    "embedding_vector = res.data[0].embedding\n",
    "\n",
    "from IPython.display import Markdown\n",
    "\n",
    "primer = \"\"\"You are a Q&A bot, designed to provide intelligent answers based on the information provided. If the information is not available, you truthfully say, \"I don't know\".\"\"\"\n",
    "\n",
    "# Initialize the list of augmented queries with answers\n",
    "augmented_queries_FreeCashFlowValuation2018Summary = []\n",
    "\n",
    "# Increase the top_k parameter to retrieve more documents\n",
    "query_result_FreeCashFlowValuation2018Summary = index.query(vector=embedding_vector, top_k=20, namespace=\"FreeCashFlowValuation2018Summary\", include_metadata=True)\n",
    "\n",
    "# Get list of retrieved text from the query result\n",
    "contexts_FreeCashFlowValuation2018Summary = [item['metadata']['text'] for item in query_result_FreeCashFlowValuation2018Summary['matches']]\n",
    "\n",
    "# Loop through each context and generate questions with answers\n",
    "total_questions = 0\n",
    "for context in contexts_FreeCashFlowValuation2018Summary:\n",
    "    # Check if we have already generated 50 questions\n",
    "    if total_questions >= 50:\n",
    "        break\n",
    "\n",
    "    for _ in range(2):  # Run the loop twice for each context\n",
    "        # Check if we have already generated 50 questions\n",
    "        if total_questions >= 50:\n",
    "            break\n",
    "\n",
    "        # Update the message to request questions with answers\n",
    "        messages = [{\"role\": \"system\", \"content\": primer}, {\"role\": \"user\", \"content\": context + \" Generate questions with 4 options and underline the correct one.\"}]\n",
    "        res = client.chat.completions.create(\n",
    "            model=\"gpt-3.5-turbo\",\n",
    "            messages=messages,\n",
    "            max_tokens=1500,  \n",
    "            n=25  # Number of completions (questions with answers) to generate per iteration\n",
    "        )\n",
    "\n",
    "        # Append the generated questions and answers to the list\n",
    "        for choice in res.choices:\n",
    "            augmented_queries_FreeCashFlowValuation2018Summary.append(choice.message.content)\n",
    "            total_questions += 1\n",
    "            if total_questions >= 50:\n",
    "                break\n",
    "\n",
    "\n",
    "# Display the augmented queries with answers\n",
    "for idx, query in enumerate(augmented_queries_FreeCashFlowValuation2018Summary):\n",
    "    display(Markdown(f\"Query {idx + 1} for FreeCashFlowValuation2018Summary:\\n\\n{query}\"))\n",
    "    print(\"=\" * 50)\n"
   ]
  },
  {
   "cell_type": "markdown",
   "metadata": {},
   "source": [
    "## Storing the 50 Questions and answers for the Free Cash Flow Valuation 2018 (SetA)"
   ]
  },
  {
   "cell_type": "code",
   "execution_count": 21,
   "metadata": {},
   "outputs": [
    {
     "name": "stdout",
     "output_type": "stream",
     "text": [
      "Upserted 50 questions and answers into Pinecone index under namespace 'SetA_FreeCashFlowValuation2018Summary'.\n"
     ]
    }
   ],
   "source": [
    "from openai import OpenAI\n",
    "\n",
    "# Initialize OpenAI API key\n",
    "api_key = os.getenv(\"api_key\")\n",
    "client = OpenAI(api_key=api_key)\n",
    "\n",
    "import uuid\n",
    "\n",
    "# Assuming 'augmented_queries_FreeCashFlowValuation2018Summary' is already a list of tuples (question, answer)\n",
    "augmented_queries = augmented_queries_FreeCashFlowValuation2018Summary  # Directly use the list\n",
    "\n",
    "# Function to create embeddings with retry logic\n",
    "def create_embeddings_with_retry(texts, model, max_retries=5):\n",
    "    retries = 0\n",
    "    while retries < max_retries:\n",
    "        try:\n",
    "            # Ensure that 'input' is a list of strings\n",
    "            if not isinstance(texts, list):\n",
    "                texts = [texts]\n",
    "            return client.embeddings.create(input=texts, model=model)\n",
    "        except Exception as e:\n",
    "            print(f\"Attempt {retries + 1}: Encountered an error - {e}\")\n",
    "            sleep(5)  # wait before retrying\n",
    "            retries += 1\n",
    "    raise Exception(f\"Failed to create embeddings after {max_retries} retries.\")\n",
    "\n",
    "# Extract questions and answers for embedding\n",
    "texts_to_embed = [qa[0] + \" \" + qa[1] for qa in augmented_queries]  # Combine questions and answers for embedding\n",
    "\n",
    "# Generate embeddings for the questions and answers\n",
    "embed_model = \"text-embedding-3-small\"\n",
    "qa_embeddings = create_embeddings_with_retry(texts_to_embed, embed_model)\n",
    "\n",
    "# Prepare data for Pinecone upsert\n",
    "upsert_data = []\n",
    "for idx, qa_combined in enumerate(augmented_queries):\n",
    "    if not isinstance(qa_combined, str):\n",
    "        print(f\"Skipping item at index {idx} because it is not a string.\")\n",
    "        continue\n",
    "\n",
    "    # Assuming you have a way to split qa_combined into question and answer\n",
    "    parts = qa_combined.split('?', 1)\n",
    "    question = parts[0].strip() + '?'\n",
    "    answer = parts[1].strip() if len(parts) > 1 else \"\"\n",
    "\n",
    "    # Proceed to create embeddings and upsert to Pinecone as before\n",
    "    # Generate a unique ID for each query-answer pair\n",
    "    qa_id = str(uuid.uuid4())\n",
    "    \n",
    "    # Assuming you have already generated embeddings for all QA pairs\n",
    "    embed = qa_embeddings.data[idx].embedding\n",
    "    \n",
    "    # Prepare the upsert data with metadata\n",
    "    upsert_data.append((qa_id, embed, {'question': question, 'answer': answer}))\n",
    "\n",
    "# Perform the upsert operation to Pinecone\n",
    "namespace = \"SetA_FreeCashFlowValuation2018Summary\"  \n",
    "index.upsert(vectors=upsert_data, namespace=namespace)\n",
    "\n",
    "print(f\"Upserted {len(upsert_data)} questions and answers into Pinecone index under namespace '{namespace}'.\")\n",
    "\n"
   ]
  },
  {
   "cell_type": "markdown",
   "metadata": {},
   "source": [
    "## Generating 50 Questions for SetB for Free Cash Flow Valuation 2018 (SetB)"
   ]
  },
  {
   "cell_type": "code",
   "execution_count": 38,
   "metadata": {},
   "outputs": [
    {
     "name": "stdout",
     "output_type": "stream",
     "text": [
      "Output saved to SetB_FreeCashFlowValuation2018Summary_Questions.txt\n"
     ]
    }
   ],
   "source": [
    "from openai import OpenAI\n",
    "\n",
    "# Initialize OpenAI API key\n",
    "api_key = os.getenv(\"api_key\")\n",
    "\n",
    "# Adjust the query to indicate the need for 50 questions with answers\n",
    "query = \"Generate 50 questions and answers with 4 options each, with the correct option in the format of 'The Correct Answer is:' followed by the correct option. Make sure all the questions have answers and they are in the same format.\"\n",
    "\n",
    "embed_model = \"text-embedding-3-small\"  \n",
    "\n",
    "# Generate the embedding for the query\n",
    "client = OpenAI(api_key=api_key)\n",
    "res = client.embeddings.create(\n",
    "    model=embed_model,\n",
    "    input=query\n",
    ")\n",
    "\n",
    "# Retrieve the embedding from the response\n",
    "embedding_vector = res.data[0].embedding\n",
    "\n",
    "from IPython.display import Markdown\n",
    "\n",
    "primer = \"\"\"You are a Q&A bot, designed to provide intelligent answers based on the information provided. If the information is not available, you truthfully say, \"I don't know\".\"\"\"\n",
    "\n",
    "# Initialize the list of augmented queries with answers\n",
    "augmented_queries_FreeCashFlowValuation2018Summary = []\n",
    "\n",
    "# Increase the top_k parameter to retrieve more documents\n",
    "query_result_FreeCashFlowValuation2018Summary = index.query(vector=embedding_vector, top_k=20, namespace=\"FreeCashFlowValuation2018Summary\", include_metadata=True)\n",
    "\n",
    "# Get list of retrieved text from the query result\n",
    "contexts_FreeCashFlowValuation2018Summary = [item['metadata']['text'] for item in query_result_FreeCashFlowValuation2018Summary['matches']]\n",
    "\n",
    "# Loop through each context and generate questions with answers\n",
    "total_questions = 0\n",
    "for context in contexts_FreeCashFlowValuation2018Summary:\n",
    "    # Check if we have already generated 50 questions\n",
    "    if total_questions >= 50:\n",
    "        break\n",
    "\n",
    "    for _ in range(2):  # Run the loop twice for each context\n",
    "        # Check if we have already generated 50 questions\n",
    "        if total_questions >= 50:\n",
    "            break\n",
    "\n",
    "        # Update the message to request questions with answers\n",
    "        messages = [{\"role\": \"system\", \"content\": primer}, {\"role\": \"user\", \"content\": context + \" Generate questions with 4 options and underline the correct one.\"}]\n",
    "        res = client.chat.completions.create(\n",
    "            model=\"gpt-3.5-turbo\",\n",
    "            messages=messages,\n",
    "            max_tokens=1500,  \n",
    "            n=25  # Number of completions (questions with answers) to generate per iteration\n",
    "        )\n",
    "\n",
    "        # Append the generated questions and answers to the list\n",
    "        for choice in res.choices:\n",
    "            augmented_queries_FreeCashFlowValuation2018Summary.append(choice.message.content)\n",
    "            total_questions += 1\n",
    "            if total_questions >= 50:\n",
    "                break\n",
    "\n",
    "# File path for the output file\n",
    "file_path = \"SetB_FreeCashFlowValuation2018Summary_Questions.txt\"\n",
    "\n",
    "# Save the augmented queries with answers to a text file\n",
    "with open(file_path, 'w', encoding='utf-8') as file:\n",
    "    for idx, query in enumerate(augmented_queries_FreeCashFlowValuation2018Summary):\n",
    "        file_content = f\"Query {idx + 1} for FreeCashFlowValuation2018Summary:\\n\\n{query}\\n\"\n",
    "        file.write(file_content)\n",
    "        file.write(\"=\" * 50 + \"\\n\")\n",
    "\n",
    "print(f\"Output saved to {file_path}\")"
   ]
  },
  {
   "cell_type": "markdown",
   "metadata": {},
   "source": [
    "## Generating 50 Questions and answer pairs for Industry and Company Analysis 2018 (SetA)"
   ]
  },
  {
   "cell_type": "code",
   "execution_count": 23,
   "metadata": {},
   "outputs": [
    {
     "data": {
      "text/markdown": [
       "Query 1 for IndustryandCompanyAnalysis2018Summary:\n",
       "\n",
       "What is the focus of this reading material?\n",
       "\n",
       "A) Analyzing historical financial results  \n",
       "B) Forecasting a company's future financial results  \n",
       "C) Reviewing industry regulations  \n",
       "D) Studying macroeconomic trends\n",
       "\n",
       "Correct Answer: B) Forecasting a company's future financial results"
      ],
      "text/plain": [
       "<IPython.core.display.Markdown object>"
      ]
     },
     "metadata": {},
     "output_type": "display_data"
    },
    {
     "name": "stdout",
     "output_type": "stream",
     "text": [
      "==================================================\n"
     ]
    },
    {
     "data": {
      "text/markdown": [
       "Query 2 for IndustryandCompanyAnalysis2018Summary:\n",
       "\n",
       "What is the focus of industry and company analysis for financial forecasting?\n",
       "\n",
       "a) Analyzing historical stock prices  \n",
       "b) Identifying key revenue and cost drivers  \n",
       "c) Reviewing social media trends  \n",
       "d) Speculating on political outcomes  \n",
       "\n",
       "**_b) Identifying key revenue and cost drivers_**"
      ],
      "text/plain": [
       "<IPython.core.display.Markdown object>"
      ]
     },
     "metadata": {},
     "output_type": "display_data"
    },
    {
     "name": "stdout",
     "output_type": "stream",
     "text": [
      "==================================================\n"
     ]
    },
    {
     "data": {
      "text/markdown": [
       "Query 3 for IndustryandCompanyAnalysis2018Summary:\n",
       "\n",
       "What is the starting point for an analyst when developing a forecast model?\n",
       "\n",
       "1. Analyzing historical stock prices\n",
       "2. Reviewing the company and its environment\n",
       "3. Studying macroeconomic trends\n",
       "4. Assessing government regulations\n",
       "\n",
       "Please select the correct option."
      ],
      "text/plain": [
       "<IPython.core.display.Markdown object>"
      ]
     },
     "metadata": {},
     "output_type": "display_data"
    },
    {
     "name": "stdout",
     "output_type": "stream",
     "text": [
      "==================================================\n"
     ]
    },
    {
     "data": {
      "text/markdown": [
       "Query 4 for IndustryandCompanyAnalysis2018Summary:\n",
       "\n",
       "What is a key consideration for analysts when developing a forecast model?\n",
       "1. Focusing solely on historical results\n",
       "2. Ignoring the external environment\n",
       "3. Understanding the fundamental drivers of the business\n",
       "4. Neglecting to assess future events\n",
       "\n",
       "_Answer: 3. Understanding the fundamental drivers of the business_"
      ],
      "text/plain": [
       "<IPython.core.display.Markdown object>"
      ]
     },
     "metadata": {},
     "output_type": "display_data"
    },
    {
     "name": "stdout",
     "output_type": "stream",
     "text": [
      "==================================================\n"
     ]
    },
    {
     "data": {
      "text/markdown": [
       "Query 5 for IndustryandCompanyAnalysis2018Summary:\n",
       "\n",
       "What is the focus of industry and company analysis for financial forecasting?\n",
       "1) Historical financial results\n",
       "2) Industry trends and corporate disclosures\n",
       "3) Stock market performance\n",
       "4) Macroeconomic factors\n",
       "_(2) Industry trends and corporate disclosures_"
      ],
      "text/plain": [
       "<IPython.core.display.Markdown object>"
      ]
     },
     "metadata": {},
     "output_type": "display_data"
    },
    {
     "name": "stdout",
     "output_type": "stream",
     "text": [
      "==================================================\n"
     ]
    },
    {
     "data": {
      "text/markdown": [
       "Query 6 for IndustryandCompanyAnalysis2018Summary:\n",
       "\n",
       "What is the focus of this reading on industry and company analysis?\n",
       "1. Analyzing historical financial data\n",
       "2. Forecasting a company’s future financial results\n",
       "3. Reviewing competitors' financial statements\n",
       "4. Assessing market trends\n",
       "\n",
       "Please select the correct answer by underlining the option."
      ],
      "text/plain": [
       "<IPython.core.display.Markdown object>"
      ]
     },
     "metadata": {},
     "output_type": "display_data"
    },
    {
     "name": "stdout",
     "output_type": "stream",
     "text": [
      "==================================================\n"
     ]
    },
    {
     "data": {
      "text/markdown": [
       "Query 7 for IndustryandCompanyAnalysis2018Summary:\n",
       "\n",
       "What is the main focus of analysts when using industry information and corporate disclosures to forecast a company’s future financial results?\n",
       "\n",
       "1. Historical financial statements\n",
       "2. Market trends and consumer behavior\n",
       "3. Company's business, management, strategy, external environment, and historical results\n",
       "4. Industry regulations and government policies\n",
       "\n",
       "_Correct answer: 3. Company's business, management, strategy, external environment, and historical results_"
      ],
      "text/plain": [
       "<IPython.core.display.Markdown object>"
      ]
     },
     "metadata": {},
     "output_type": "display_data"
    },
    {
     "name": "stdout",
     "output_type": "stream",
     "text": [
      "==================================================\n"
     ]
    },
    {
     "data": {
      "text/markdown": [
       "Query 8 for IndustryandCompanyAnalysis2018Summary:\n",
       "\n",
       "What is the focus of this reading?  \n",
       "A) Industry and corporate governance  \n",
       "B) Financial forecasts and risk management  \n",
       "C) Fundamental equity valuation and market analysis  \n",
       "D) Industry information and company analysis  \n",
       "\n",
       "**_D) Industry information and company analysis_**"
      ],
      "text/plain": [
       "<IPython.core.display.Markdown object>"
      ]
     },
     "metadata": {},
     "output_type": "display_data"
    },
    {
     "name": "stdout",
     "output_type": "stream",
     "text": [
      "==================================================\n"
     ]
    },
    {
     "data": {
      "text/markdown": [
       "Query 9 for IndustryandCompanyAnalysis2018Summary:\n",
       "\n",
       "What is the focus of this reading on industry and company analysis?\n",
       "1. How to conduct a market analysis only\n",
       "2. How to forecast macroeconomic trends\n",
       "3. How analysts use industry information and corporate disclosures to forecast a company’s future financial results\n",
       "4. Industry benchmarking techniques\n",
       "\n",
       "Just to clarify, this reading focuses on how analysts use industry information and corporate disclosures to forecast a company’s future financial results."
      ],
      "text/plain": [
       "<IPython.core.display.Markdown object>"
      ]
     },
     "metadata": {},
     "output_type": "display_data"
    },
    {
     "name": "stdout",
     "output_type": "stream",
     "text": [
      "==================================================\n"
     ]
    },
    {
     "data": {
      "text/markdown": [
       "Query 10 for IndustryandCompanyAnalysis2018Summary:\n",
       "\n",
       "What is the first step an analyst takes when developing a forecast model for a company?\n",
       "\n",
       "1. Reviewing the company’s financial statements\n",
       "2. Identifying key revenue and cost drivers\n",
       "3. Assessing competitors and suppliers\n",
       "4. Analyzing current market conditions\n",
       "\n",
       "_Answer: 2. Identifying key revenue and cost drivers_\n",
       "\n",
       "---\n",
       "\n",
       "What is the focus of this reading on industry and company analysis?\n",
       "\n",
       "1. Fundamental equity valuation methods\n",
       "2. Historical financial results of companies\n",
       "3. Impact of economic conditions on businesses\n",
       "4. Forecasting company's future financial results\n",
       "\n",
       "_Answer: 4. Forecasting company's future financial results_\n",
       "\n",
       "---\n",
       "\n",
       "Which section of the reading covers the impact of competitive factors on prices and costs?\n",
       "\n",
       "1. Section 2\n",
       "2. Section 3\n",
       "3. Section 5\n",
       "4. Section 7\n",
       "\n",
       "_Answer: 2. Section 3_\n",
       "\n",
       "---\n",
       "\n",
       "What provides the basis for developing inputs to the forecast model according to the reading?\n",
       "\n",
       "1. Historical financial results\n",
       "2. Industry analysis\n",
       "3. External environment assessment\n",
       "4. Understanding of fundamental business drivers\n",
       "\n",
       "_Answer: 4. Understanding of fundamental business drivers_"
      ],
      "text/plain": [
       "<IPython.core.display.Markdown object>"
      ]
     },
     "metadata": {},
     "output_type": "display_data"
    },
    {
     "name": "stdout",
     "output_type": "stream",
     "text": [
      "==================================================\n"
     ]
    },
    {
     "data": {
      "text/markdown": [
       "Query 11 for IndustryandCompanyAnalysis2018Summary:\n",
       "\n",
       "What is the first step for an analyst in developing a forecast model?\n",
       "\n",
       "A) Identifying key revenue and cost drivers  \n",
       "B) Analyzing historical stock prices  \n",
       "C) Reviewing macroeconomic trends  \n",
       "D) Forecasting quarterly earnings  \n",
       "\n",
       "The correct answer is **A) Identifying key revenue and cost drivers**."
      ],
      "text/plain": [
       "<IPython.core.display.Markdown object>"
      ]
     },
     "metadata": {},
     "output_type": "display_data"
    },
    {
     "name": "stdout",
     "output_type": "stream",
     "text": [
      "==================================================\n"
     ]
    },
    {
     "data": {
      "text/markdown": [
       "Query 12 for IndustryandCompanyAnalysis2018Summary:\n",
       "\n",
       "What is the first step an analyst takes in developing a forecast model?\n",
       "\n",
       "1. Reviewing industry information only.\n",
       "2. Reviewing corporate disclosures only.\n",
       "3. Reviewing the company and its environment.\n",
       "4. Focusing on historical financial results. \n",
       "\n",
       "Please underline the correct option."
      ],
      "text/plain": [
       "<IPython.core.display.Markdown object>"
      ]
     },
     "metadata": {},
     "output_type": "display_data"
    },
    {
     "name": "stdout",
     "output_type": "stream",
     "text": [
      "==================================================\n"
     ]
    },
    {
     "data": {
      "text/markdown": [
       "Query 13 for IndustryandCompanyAnalysis2018Summary:\n",
       "\n",
       "What is the focus of financial forecasting according to the provided information?\n",
       "\n",
       "1. Industry and corporate disclosures\n",
       "2. Market trends and historical data\n",
       "3. Investor sentiment and brand image\n",
       "4. Government regulations and policies\n",
       "\n",
       "Let me know if you need more assistance or information."
      ],
      "text/plain": [
       "<IPython.core.display.Markdown object>"
      ]
     },
     "metadata": {},
     "output_type": "display_data"
    },
    {
     "name": "stdout",
     "output_type": "stream",
     "text": [
      "==================================================\n"
     ]
    },
    {
     "data": {
      "text/markdown": [
       "Query 14 for IndustryandCompanyAnalysis2018Summary:\n",
       "\n",
       "What is the focus of this reading on industry and company analysis?\n",
       "a) Financial forecasts for short-term trading decisions\n",
       "b) Basis for technical analysis in the stock market\n",
       "c) Forecasting company’s future financial results for equity valuation\n",
       "d) Fundamental analysis of historical stock prices\n",
       "\n",
       "Underline the correct answer."
      ],
      "text/plain": [
       "<IPython.core.display.Markdown object>"
      ]
     },
     "metadata": {},
     "output_type": "display_data"
    },
    {
     "name": "stdout",
     "output_type": "stream",
     "text": [
      "==================================================\n"
     ]
    },
    {
     "data": {
      "text/markdown": [
       "Query 15 for IndustryandCompanyAnalysis2018Summary:\n",
       "\n",
       "What is the focus of analysts when using industry information and corporate disclosures to forecast a company's future financial results?\n",
       "\n",
       "1. Analyzing historical data only\n",
       "2. Assessing competitors' financials\n",
       "3. Reviewing company's management structure\n",
       "4. Understanding key revenue and cost drivers\n",
       "\n",
       "The correct answer is:\n",
       "- **4. Understanding key revenue and cost drivers**"
      ],
      "text/plain": [
       "<IPython.core.display.Markdown object>"
      ]
     },
     "metadata": {},
     "output_type": "display_data"
    },
    {
     "name": "stdout",
     "output_type": "stream",
     "text": [
      "==================================================\n"
     ]
    },
    {
     "data": {
      "text/markdown": [
       "Query 16 for IndustryandCompanyAnalysis2018Summary:\n",
       "\n",
       "What is the focus of this reading on industry and company analysis?\n",
       "1. Stock market trends\n",
       "2. Financial regulations\n",
       "3. Generating revenue forecasts\n",
       "4. Forecasting a company’s future financial results\n",
       "\n",
       "In this reading, what is considered the basis for fundamental equity valuation?\n",
       "1. Historical events\n",
       "2. Market hype\n",
       "3. Industry rumors\n",
       "4. Financial forecasts\n",
       "\n",
       "What key factors does an analyst consider when developing a forecast model?\n",
       "1. Historical stock performance\n",
       "2. Company's social media presence\n",
       "3. Business understanding, strategy, and external environment\n",
       "4. Current market share\n",
       "\n",
       "What is the purpose of Section 2 in this reading?\n",
       "1. Describe the impact of inflation on the economy\n",
       "2. Provide a general approach to forecasting income statement components\n",
       "3. Predict future stock prices\n",
       "4. Analyze global market trends"
      ],
      "text/plain": [
       "<IPython.core.display.Markdown object>"
      ]
     },
     "metadata": {},
     "output_type": "display_data"
    },
    {
     "name": "stdout",
     "output_type": "stream",
     "text": [
      "==================================================\n"
     ]
    },
    {
     "data": {
      "text/markdown": [
       "Query 17 for IndustryandCompanyAnalysis2018Summary:\n",
       "\n",
       "What is the focus of analysts when using industry information and corporate disclosures to forecast a company's future financial results?\n",
       "\n",
       "1. Sole reliance on historical data\n",
       "2. Thorough understanding of company's business, environment, and historical results\n",
       "3. Ignoring industry trends and competitor analysis\n",
       "4. Forecasting based on random assumptions\n",
       "\n",
       "Please underline option 2."
      ],
      "text/plain": [
       "<IPython.core.display.Markdown object>"
      ]
     },
     "metadata": {},
     "output_type": "display_data"
    },
    {
     "name": "stdout",
     "output_type": "stream",
     "text": [
      "==================================================\n"
     ]
    },
    {
     "data": {
      "text/markdown": [
       "Query 18 for IndustryandCompanyAnalysis2018Summary:\n",
       "\n",
       "1. What is the primary focus of this reading?\n",
       "   - A) Analyzing historical financial data\n",
       "   - B) Forecasting a company's future financial results\n",
       "   - C) Evaluating market trends\n",
       "   - D) Reviewing industry regulations\n",
       "\n",
       "2. What does an analyst review first when developing a forecast model?\n",
       "   - A) The company's management structure\n",
       "   - B) Industry information and corporate disclosures\n",
       "   - C) Competitor's financial statements\n",
       "   - D) Stock market performance\n",
       "\n",
       "3. Which factor is NOT mentioned as a key consideration when identifying revenue and cost drivers?\n",
       "   - A) Economic conditions\n",
       "   - B) Technological developments\n",
       "   - C) Political affiliations\n",
       "   - D) Strategic position within the industry\n",
       "\n",
       "4. Which section of the reading discusses the impact of competitive factors on prices and costs?\n",
       "   - A) Section 2\n",
       "   - B) Section 3\n",
       "   - C) Section 5\n",
       "   - D) Section 7"
      ],
      "text/plain": [
       "<IPython.core.display.Markdown object>"
      ]
     },
     "metadata": {},
     "output_type": "display_data"
    },
    {
     "name": "stdout",
     "output_type": "stream",
     "text": [
      "==================================================\n"
     ]
    },
    {
     "data": {
      "text/markdown": [
       "Query 19 for IndustryandCompanyAnalysis2018Summary:\n",
       "\n",
       "What is the primary focus of analysts when using industry information and corporate disclosures to forecast a company’s future financial results?\n",
       "\n",
       "1. Historical performance only\n",
       "2. External environment considerations only\n",
       "3. Thorough understanding of the company's business, management, strategy, and environment\n",
       "4. Solely focusing on revenue drivers\n",
       "\n",
       "_3. Thorough understanding of the company's business, management, strategy, and environment_"
      ],
      "text/plain": [
       "<IPython.core.display.Markdown object>"
      ]
     },
     "metadata": {},
     "output_type": "display_data"
    },
    {
     "name": "stdout",
     "output_type": "stream",
     "text": [
      "==================================================\n"
     ]
    },
    {
     "data": {
      "text/markdown": [
       "Query 20 for IndustryandCompanyAnalysis2018Summary:\n",
       "\n",
       "What is the focus of this reading on industry and company analysis?\n",
       "\n",
       "1. Industry information is not important\n",
       "2. Analyzing company culture and employee satisfaction\n",
       "3. Using financial forecasts to predict stock market trends\n",
       "4. Forecasting a company’s future financial results based on understanding of industry and corporate disclosures\n",
       "\n",
       "_(Correct answer: 4. Forecasting a company’s future financial results based on understanding of industry and corporate disclosures)_"
      ],
      "text/plain": [
       "<IPython.core.display.Markdown object>"
      ]
     },
     "metadata": {},
     "output_type": "display_data"
    },
    {
     "name": "stdout",
     "output_type": "stream",
     "text": [
      "==================================================\n"
     ]
    },
    {
     "data": {
      "text/markdown": [
       "Query 21 for IndustryandCompanyAnalysis2018Summary:\n",
       "\n",
       "What is the focus of this reading on industry and company analysis?\n",
       "1) Forecasting market fluctuations\n",
       "2) Analyzing consumer behavior\n",
       "3) Predicting technological advancements\n",
       "4) Forecasting future financial results\n",
       "\n",
       "Please select by underlining the correct option."
      ],
      "text/plain": [
       "<IPython.core.display.Markdown object>"
      ]
     },
     "metadata": {},
     "output_type": "display_data"
    },
    {
     "name": "stdout",
     "output_type": "stream",
     "text": [
      "==================================================\n"
     ]
    },
    {
     "data": {
      "text/markdown": [
       "Query 22 for IndustryandCompanyAnalysis2018Summary:\n",
       "\n",
       "What is the focus of analysts when using industry information and corporate disclosures to forecast a company's future financial results?\n",
       "1. Stock market trends and investor sentiment\n",
       "2. Macroeconomic indicators and interest rates\n",
       "3. Thorough understanding of the company's business and environment\n",
       "4. Government regulations and policies\n",
       "\n",
       "Underline the correct option."
      ],
      "text/plain": [
       "<IPython.core.display.Markdown object>"
      ]
     },
     "metadata": {},
     "output_type": "display_data"
    },
    {
     "name": "stdout",
     "output_type": "stream",
     "text": [
      "==================================================\n"
     ]
    },
    {
     "data": {
      "text/markdown": [
       "Query 23 for IndustryandCompanyAnalysis2018Summary:\n",
       "\n",
       "1. What is the basis for fundamental equity valuation?\n",
       "   A. Industry analysis\n",
       "   B. Market multiples\n",
       "   C. Discounted cash flows\n",
       "   D. Historical results\n",
       "\n",
       "2. What key factors should an analyst review when beginning with a company analysis?\n",
       "   A. Industry trends\n",
       "   B. Supplier relationships\n",
       "   C. Technological developments\n",
       "   D. All of the above\n",
       "\n",
       "3. Which components are typically forecasted in an income statement?\n",
       "   A. Revenue, operating costs, and non-operating costs\n",
       "   B. Balance sheet items\n",
       "   C. Cash flow statement items\n",
       "   D. Market multiples\n",
       "\n",
       "4. Which special topic is covered in Section 5 of the reading?\n",
       "   A. Long-term forecasting\n",
       "   B. Competitive factors on prices and costs\n",
       "   C. Technological developments\n",
       "   D. Building a company model"
      ],
      "text/plain": [
       "<IPython.core.display.Markdown object>"
      ]
     },
     "metadata": {},
     "output_type": "display_data"
    },
    {
     "name": "stdout",
     "output_type": "stream",
     "text": [
      "==================================================\n"
     ]
    },
    {
     "data": {
      "text/markdown": [
       "Query 24 for IndustryandCompanyAnalysis2018Summary:\n",
       "\n",
       "What is the focus of financial forecasts in equity valuation?\n",
       "A) Historical results\n",
       "B) Company environment\n",
       "C) Industry analysis\n",
       "D) Management strategy\n",
       "_(Answer: C)_"
      ],
      "text/plain": [
       "<IPython.core.display.Markdown object>"
      ]
     },
     "metadata": {},
     "output_type": "display_data"
    },
    {
     "name": "stdout",
     "output_type": "stream",
     "text": [
      "==================================================\n"
     ]
    },
    {
     "data": {
      "text/markdown": [
       "Query 25 for IndustryandCompanyAnalysis2018Summary:\n",
       "\n",
       "What is the focus of this reading on industry and company analysis?\n",
       "1. Analyzing consumer behavior and market trends\n",
       "2. Forecasting a company's future financial results\n",
       "3. Evaluating macroeconomic indicators for investment decisions\n",
       "4. Studying regulatory changes in the industry\n",
       "\n",
       "Underline the correct one."
      ],
      "text/plain": [
       "<IPython.core.display.Markdown object>"
      ]
     },
     "metadata": {},
     "output_type": "display_data"
    },
    {
     "name": "stdout",
     "output_type": "stream",
     "text": [
      "==================================================\n"
     ]
    },
    {
     "data": {
      "text/markdown": [
       "Query 26 for IndustryandCompanyAnalysis2018Summary:\n",
       "\n",
       "What is the focus of analysts when using industry information and corporate disclosures to forecast a company’s future financial results?\n",
       "\n",
       "1. Studying only the company's historical results\n",
       "2. Looking at the company's customers and suppliers only\n",
       "3. Identifying key revenue and cost drivers based on business understanding\n",
       "4. Ignoring external environment factors\n",
       "\n",
       "_3. Identifying key revenue and cost drivers based on business understanding_"
      ],
      "text/plain": [
       "<IPython.core.display.Markdown object>"
      ]
     },
     "metadata": {},
     "output_type": "display_data"
    },
    {
     "name": "stdout",
     "output_type": "stream",
     "text": [
      "==================================================\n"
     ]
    },
    {
     "data": {
      "text/markdown": [
       "Query 27 for IndustryandCompanyAnalysis2018Summary:\n",
       "\n",
       "What is the focus of this reading on industry and company analysis?\n",
       "1. Industry trends analysis\n",
       "2. Financial statement analysis\n",
       "3. Forecasting company’s future financial results\n",
       "4. Stock market predictions\n",
       "\n",
       "_I don't know_."
      ],
      "text/plain": [
       "<IPython.core.display.Markdown object>"
      ]
     },
     "metadata": {},
     "output_type": "display_data"
    },
    {
     "name": "stdout",
     "output_type": "stream",
     "text": [
      "==================================================\n"
     ]
    },
    {
     "data": {
      "text/markdown": [
       "Query 28 for IndustryandCompanyAnalysis2018Summary:\n",
       "\n",
       "1. What is the basis for fundamental equity valuation?\n",
       "   - A) Cash flow analysis\n",
       "   - B) Market multiples\n",
       "   - C) Historical results\n",
       "   - D) Company disclosures\n",
       "\n",
       "2. What does an analyst review initially when analyzing a company and its environment?\n",
       "   - A) Revenue forecast\n",
       "   - B) Management structure\n",
       "   - C) Competitor analysis\n",
       "   - D) Balance sheet items\n",
       "\n",
       "3. How do analysts identify key revenue and cost drivers?\n",
       "   - A) Historical results\n",
       "   - B) External trends analysis\n",
       "   - C) Market research reports\n",
       "   - D) Financial statements\n",
       "\n",
       "4. Which section of the reading describes the impact of competitive factors on prices and costs?\n",
       "   - A) Section 3\n",
       "   - B) Section 5\n",
       "   - C) Section 6\n",
       "   - D) Section 7"
      ],
      "text/plain": [
       "<IPython.core.display.Markdown object>"
      ]
     },
     "metadata": {},
     "output_type": "display_data"
    },
    {
     "name": "stdout",
     "output_type": "stream",
     "text": [
      "==================================================\n"
     ]
    },
    {
     "data": {
      "text/markdown": [
       "Query 29 for IndustryandCompanyAnalysis2018Summary:\n",
       "\n",
       "What is the focus of the reading on industry and company analysis?\n",
       "1. Marketing strategies and consumer behavior\n",
       "2. Forecasting a company's future financial results\n",
       "3. Historical stock performance analysis\n",
       "4. Legal and regulatory compliance\n",
       "\n",
       "Underline the correct option."
      ],
      "text/plain": [
       "<IPython.core.display.Markdown object>"
      ]
     },
     "metadata": {},
     "output_type": "display_data"
    },
    {
     "name": "stdout",
     "output_type": "stream",
     "text": [
      "==================================================\n"
     ]
    },
    {
     "data": {
      "text/markdown": [
       "Query 30 for IndustryandCompanyAnalysis2018Summary:\n",
       "\n",
       "What is a key factor an analyst considers when developing a financial forecast model for a company?\n",
       "\n",
       "1. Current stock price\n",
       "2. Competitor's stock performance\n",
       "3. Understanding of the company's business and environment\n",
       "4. Economic conditions in the industry\n",
       "\n",
       "Please select the correct option and I'll provide you with more information."
      ],
      "text/plain": [
       "<IPython.core.display.Markdown object>"
      ]
     },
     "metadata": {},
     "output_type": "display_data"
    },
    {
     "name": "stdout",
     "output_type": "stream",
     "text": [
      "==================================================\n"
     ]
    },
    {
     "data": {
      "text/markdown": [
       "Query 31 for IndustryandCompanyAnalysis2018Summary:\n",
       "\n",
       "What are the key components of an effective forecast model based on industry and company analysis?\n",
       "\n",
       "1. Focus on historical market trends and ignore future developments.\n",
       "2. Base forecasts only on financial ratios and ignore qualitative factors.\n",
       "3. Understand company's business, management, strategy, external environment, and historical results.\n",
       "4. Rely solely on analyst intuition without data validation. \n",
       "\n",
       "Please select the correct option."
      ],
      "text/plain": [
       "<IPython.core.display.Markdown object>"
      ]
     },
     "metadata": {},
     "output_type": "display_data"
    },
    {
     "name": "stdout",
     "output_type": "stream",
     "text": [
      "==================================================\n"
     ]
    },
    {
     "data": {
      "text/markdown": [
       "Query 32 for IndustryandCompanyAnalysis2018Summary:\n",
       "\n",
       "What is an important factor an analyst considers when developing a forecast model for a company?\n",
       "1. Historical revenue only\n",
       "2. Management team's personal backgrounds\n",
       "3. External environment and economic conditions\n",
       "4. Number of competitors in the market\n",
       "\n",
       "Correct answer: 3. External environment and economic conditions"
      ],
      "text/plain": [
       "<IPython.core.display.Markdown object>"
      ]
     },
     "metadata": {},
     "output_type": "display_data"
    },
    {
     "name": "stdout",
     "output_type": "stream",
     "text": [
      "==================================================\n"
     ]
    },
    {
     "data": {
      "text/markdown": [
       "Query 33 for IndustryandCompanyAnalysis2018Summary:\n",
       "\n",
       "What is the focus of the reading on industry and company analysis?\n",
       "\n",
       "1. Valuation based on historical financial data\n",
       "2. Forecasting future financial results\n",
       "3. Analyzing industry trends\n",
       "4. Comparing multiple companies\n",
       "\n",
       "_(The correct answer is: 2. Forecasting future financial results)_"
      ],
      "text/plain": [
       "<IPython.core.display.Markdown object>"
      ]
     },
     "metadata": {},
     "output_type": "display_data"
    },
    {
     "name": "stdout",
     "output_type": "stream",
     "text": [
      "==================================================\n"
     ]
    },
    {
     "data": {
      "text/markdown": [
       "Query 34 for IndustryandCompanyAnalysis2018Summary:\n",
       "\n",
       "What is the primary focus of analysts when using industry information and corporate disclosures to forecast a company’s future financial results?\n",
       "\n",
       "1. Analyzing historical performance only\n",
       "2. Understanding external environment and key factors\n",
       "3. Ignoring industry and focusing on company specifics\n",
       "4. Skipping strategic analysis and focusing on financial data\n",
       "\n",
       "_Answer: 2. Understanding external environment and key factors_"
      ],
      "text/plain": [
       "<IPython.core.display.Markdown object>"
      ]
     },
     "metadata": {},
     "output_type": "display_data"
    },
    {
     "name": "stdout",
     "output_type": "stream",
     "text": [
      "==================================================\n"
     ]
    },
    {
     "data": {
      "text/markdown": [
       "Query 35 for IndustryandCompanyAnalysis2018Summary:\n",
       "\n",
       "What are some important considerations for analysts when developing financial forecasts?  \n",
       "A) Ignoring the company's historical results  \n",
       "B) Focusing only on competitors and suppliers  \n",
       "C) Understanding the company's business, management, and external environment  \n",
       "D) Relying solely on current economic conditions\n",
       "\n",
       "Correct answer: C) Understanding the company's business, management, and external environment  "
      ],
      "text/plain": [
       "<IPython.core.display.Markdown object>"
      ]
     },
     "metadata": {},
     "output_type": "display_data"
    },
    {
     "name": "stdout",
     "output_type": "stream",
     "text": [
      "==================================================\n"
     ]
    },
    {
     "data": {
      "text/markdown": [
       "Query 36 for IndustryandCompanyAnalysis2018Summary:\n",
       "\n",
       "What is a key consideration for analysts when developing financial forecasts for a company?\n",
       "\n",
       "1) Reviewing historical results only\n",
       "2) Ignoring the external environment\n",
       "3) Assessing revenue and cost drivers\n",
       "4) Focusing solely on competitors\n",
       "\n",
       "_3) Assessing revenue and cost drivers_"
      ],
      "text/plain": [
       "<IPython.core.display.Markdown object>"
      ]
     },
     "metadata": {},
     "output_type": "display_data"
    },
    {
     "name": "stdout",
     "output_type": "stream",
     "text": [
      "==================================================\n"
     ]
    },
    {
     "data": {
      "text/markdown": [
       "Query 37 for IndustryandCompanyAnalysis2018Summary:\n",
       "\n",
       "What is the focus of this reading?\n",
       "\n",
       "A) Innovation in financial forecasting methods\n",
       "B) Basics of industry analysis\n",
       "C) Company's historical performance\n",
       "D) The impact of economic conditions on businesses\n",
       "\n",
       "Please underline the correct answer."
      ],
      "text/plain": [
       "<IPython.core.display.Markdown object>"
      ]
     },
     "metadata": {},
     "output_type": "display_data"
    },
    {
     "name": "stdout",
     "output_type": "stream",
     "text": [
      "==================================================\n"
     ]
    },
    {
     "data": {
      "text/markdown": [
       "Query 38 for IndustryandCompanyAnalysis2018Summary:\n",
       "\n",
       "What is the focus of this reading on industry and company analysis?\n",
       "\n",
       "1. Company culture and employee satisfaction\n",
       "2. Financial forecasts and valuation methods\n",
       "3. Marketing strategies and customer relations\n",
       "4. Product development and innovation"
      ],
      "text/plain": [
       "<IPython.core.display.Markdown object>"
      ]
     },
     "metadata": {},
     "output_type": "display_data"
    },
    {
     "name": "stdout",
     "output_type": "stream",
     "text": [
      "==================================================\n"
     ]
    },
    {
     "data": {
      "text/markdown": [
       "Query 39 for IndustryandCompanyAnalysis2018Summary:\n",
       "\n",
       "What is the focus of this reading on industry and company analysis?\n",
       "1. Industry analysis only\n",
       "2. Company disclosures only\n",
       "3. Financial forecasts and fundamental equity valuation\n",
       "4. Historical market trends\n",
       "\n",
       "What information does an analyst review first when beginning to forecast a company’s financial results?\n",
       "1. Competitors and suppliers\n",
       "2. External environment and economic conditions\n",
       "3. Management strategies\n",
       "4. Historical revenue data\n",
       "\n",
       "Which section of the reading discusses forecasting each component of the income statement, balance sheet, and cash flow statement?\n",
       "1. Section 1 - Industry Overview\n",
       "2. Section 2 - Forecasting Components\n",
       "3. Section 3 - Competitive Factors\n",
       "4. Section 8 - Conclusions\n",
       "\n",
       "What is emphasized when developing a forecast model for a company?\n",
       "1. Short-term market trends\n",
       "2. Revenue and cost drivers\n",
       "3. Share price movements\n",
       "4. Macroeconomic indicators"
      ],
      "text/plain": [
       "<IPython.core.display.Markdown object>"
      ]
     },
     "metadata": {},
     "output_type": "display_data"
    },
    {
     "name": "stdout",
     "output_type": "stream",
     "text": [
      "==================================================\n"
     ]
    },
    {
     "data": {
      "text/markdown": [
       "Query 40 for IndustryandCompanyAnalysis2018Summary:\n",
       "\n",
       "What is the focus of this reading on industry and company analysis?\n",
       "1) Methods for stock trading\n",
       "2) Forecasting future stock prices\n",
       "3) Using industry information and corporate disclosures for financial forecasting\n",
       "4) Analyzing historical stock trends\n",
       "\n",
       "I underline option 3: Using industry information and corporate disclosures for financial forecasting."
      ],
      "text/plain": [
       "<IPython.core.display.Markdown object>"
      ]
     },
     "metadata": {},
     "output_type": "display_data"
    },
    {
     "name": "stdout",
     "output_type": "stream",
     "text": [
      "==================================================\n"
     ]
    },
    {
     "data": {
      "text/markdown": [
       "Query 41 for IndustryandCompanyAnalysis2018Summary:\n",
       "\n",
       "What are some key steps that analysts take when forecasting a company's future financial results?\n",
       "1. Analyzing social media trends\n",
       "2. Reviewing industry and company information\n",
       "3. Investing in external projects\n",
       "4. Ignoring historical results\n",
       "\n",
       "Which factors are considered when assessing a company's strategic position?\n",
       "1. Stock market volatility\n",
       "2. Customer satisfaction ratings\n",
       "3. Management effectiveness\n",
       "4. Supply chain management\n",
       "\n",
       "What impact do technological developments have on financial forecasting?\n",
       "1. Minimal impact\n",
       "2. No effect at all\n",
       "3. Significant impact\n",
       "4. Negative impact\n",
       "\n",
       "Why is understanding a company's business and its environment important for developing a forecast model?\n",
       "1. To complicate the forecasting process\n",
       "2. To solely rely on historical data\n",
       "3. To identify key revenue and cost drivers\n",
       "4. To ignore industry trends"
      ],
      "text/plain": [
       "<IPython.core.display.Markdown object>"
      ]
     },
     "metadata": {},
     "output_type": "display_data"
    },
    {
     "name": "stdout",
     "output_type": "stream",
     "text": [
      "==================================================\n"
     ]
    },
    {
     "data": {
      "text/markdown": [
       "Query 42 for IndustryandCompanyAnalysis2018Summary:\n",
       "\n",
       "What is the focus of financial forecasts in equity valuation?\n",
       "1. Industry analysis\n",
       "2. Corporate disclosures \n",
       "3. Forecasting future financial results\n",
       "4. Developing forecast models\n",
       "\n",
       "_3. Forecasting future financial results_"
      ],
      "text/plain": [
       "<IPython.core.display.Markdown object>"
      ]
     },
     "metadata": {},
     "output_type": "display_data"
    },
    {
     "name": "stdout",
     "output_type": "stream",
     "text": [
      "==================================================\n"
     ]
    },
    {
     "data": {
      "text/markdown": [
       "Query 43 for IndustryandCompanyAnalysis2018Summary:\n",
       "\n",
       "What is the first step that an analyst takes in forecasting a company's future financial results?\n",
       "\n",
       "1. Analyzing the company's historical financial results\n",
       "2. Reviewing the company's business and environment\n",
       "3. Identifying key competitors in the industry\n",
       "4. Assessing market multiples and discounted cash flows\n",
       "\n",
       "Please underline the correct option."
      ],
      "text/plain": [
       "<IPython.core.display.Markdown object>"
      ]
     },
     "metadata": {},
     "output_type": "display_data"
    },
    {
     "name": "stdout",
     "output_type": "stream",
     "text": [
      "==================================================\n"
     ]
    },
    {
     "data": {
      "text/markdown": [
       "Query 44 for IndustryandCompanyAnalysis2018Summary:\n",
       "\n",
       "What type of analysis is the focus of this reading?\n",
       "- A) Technical analysis\n",
       "- B) Industry and company analysis\n",
       "- C) Sentiment analysis\n",
       "- D) Behavioral analysis\n",
       "\n",
       "What forms the basis for fundamental equity valuation according to the reading?\n",
       "- A) Technical indicators\n",
       "- B) Social media sentiment\n",
       "- C) Financial forecasts\n",
       "- D) Management interviews\n",
       "\n",
       "What are some key factors that an analyst reviews about a company and its environment according to the reading?\n",
       "- A) Global weather patterns\n",
       "- B) Political affiliations of the management team\n",
       "- C) Strategic position and competitors\n",
       "- D) Historical fashion trends\n",
       "\n",
       "Which section of the reading focuses on the impact of competitive factors on prices and costs?\n",
       "- A) Section 3\n",
       "- B) Section 5\n",
       "- C) Section 7\n",
       "- D) Section 8"
      ],
      "text/plain": [
       "<IPython.core.display.Markdown object>"
      ]
     },
     "metadata": {},
     "output_type": "display_data"
    },
    {
     "name": "stdout",
     "output_type": "stream",
     "text": [
      "==================================================\n"
     ]
    },
    {
     "data": {
      "text/markdown": [
       "Query 45 for IndustryandCompanyAnalysis2018Summary:\n",
       "\n",
       "What is the focus of the reading on industry and company analysis?\n",
       "1. Historical financial performance analysis\n",
       "2. Forecasting future financial results\n",
       "3. Stakeholder communication strategies\n",
       "4. Regulatory compliance management\n",
       "_(Underline the correct option)_"
      ],
      "text/plain": [
       "<IPython.core.display.Markdown object>"
      ]
     },
     "metadata": {},
     "output_type": "display_data"
    },
    {
     "name": "stdout",
     "output_type": "stream",
     "text": [
      "==================================================\n"
     ]
    },
    {
     "data": {
      "text/markdown": [
       "Query 46 for IndustryandCompanyAnalysis2018Summary:\n",
       "\n",
       "What is the primary focus of the reading on industry and company analysis?\n",
       "\n",
       "A. Identifying key revenue drivers\n",
       "B. Evaluating the impact of competitive factors\n",
       "C. Forecasting stock prices\n",
       "D. Analyzing historical financial data\n",
       "\n",
       "Please underline the correct answer."
      ],
      "text/plain": [
       "<IPython.core.display.Markdown object>"
      ]
     },
     "metadata": {},
     "output_type": "display_data"
    },
    {
     "name": "stdout",
     "output_type": "stream",
     "text": [
      "==================================================\n"
     ]
    },
    {
     "data": {
      "text/markdown": [
       "Query 47 for IndustryandCompanyAnalysis2018Summary:\n",
       "\n",
       "What is the focus of this reading on industry and company analysis?  \n",
       "A) Historical events analysis  \n",
       "B) Forecasting future financial results  \n",
       "C) Stock market analysis  \n",
       "D) Political environment assessment  \n",
       "\n",
       "**_B) Forecasting future financial results_**"
      ],
      "text/plain": [
       "<IPython.core.display.Markdown object>"
      ]
     },
     "metadata": {},
     "output_type": "display_data"
    },
    {
     "name": "stdout",
     "output_type": "stream",
     "text": [
      "==================================================\n"
     ]
    },
    {
     "data": {
      "text/markdown": [
       "Query 48 for IndustryandCompanyAnalysis2018Summary:\n",
       "\n",
       "What is the first step an analyst takes in developing a forecast model for a company?\n",
       "\n",
       "1. Analyzing revenue drivers only\n",
       "2. Reviewing the company and its environment\n",
       "3. Estimating market multiples\n",
       "4. Focusing on historical results\n",
       "\n",
       "_**Underline the correct option.**_"
      ],
      "text/plain": [
       "<IPython.core.display.Markdown object>"
      ]
     },
     "metadata": {},
     "output_type": "display_data"
    },
    {
     "name": "stdout",
     "output_type": "stream",
     "text": [
      "==================================================\n"
     ]
    },
    {
     "data": {
      "text/markdown": [
       "Query 49 for IndustryandCompanyAnalysis2018Summary:\n",
       "\n",
       "What is the focus of this reading on industry and company analysis?\n",
       "1) Forecasting weather patterns based on historical data\n",
       "2) Analyzing consumer trends in the market\n",
       "3) Using industry information and corporate disclosures to forecast a company’s future financial results\n",
       "4) Reviewing historical stock prices to predict future market movements\n",
       "\n",
       "Correct answer: 3) Using industry information and corporate disclosures to forecast a company’s future financial results"
      ],
      "text/plain": [
       "<IPython.core.display.Markdown object>"
      ]
     },
     "metadata": {},
     "output_type": "display_data"
    },
    {
     "name": "stdout",
     "output_type": "stream",
     "text": [
      "==================================================\n"
     ]
    },
    {
     "data": {
      "text/markdown": [
       "Query 50 for IndustryandCompanyAnalysis2018Summary:\n",
       "\n",
       "What is the focus of financial forecasting for equity valuation based on in the reading?  \n",
       "A) Market speculation  \n",
       "B) Historical data only  \n",
       "C) Discounted cash flows and market multiples  \n",
       "D) Analyst intuition\n",
       "\n",
       "**_C) Discounted cash flows and market multiples_**"
      ],
      "text/plain": [
       "<IPython.core.display.Markdown object>"
      ]
     },
     "metadata": {},
     "output_type": "display_data"
    },
    {
     "name": "stdout",
     "output_type": "stream",
     "text": [
      "==================================================\n"
     ]
    }
   ],
   "source": [
    "from openai import OpenAI\n",
    "\n",
    "# Initialize OpenAI API key\n",
    "api_key = os.getenv(\"api_key\")\n",
    "\n",
    "# Adjust the query to indicate the need for 50 questions with answers\n",
    "query = \"Generate questions and answers with 4 options each, with the correct option being bold, based on the Introduction Summary. Provide 50 questions along with their answers.\"\n",
    "\n",
    "embed_model = \"text-embedding-3-small\"  \n",
    "\n",
    "# Generate the embedding for the query\n",
    "client = OpenAI(api_key=api_key)\n",
    "res = client.embeddings.create(\n",
    "    model=embed_model,\n",
    "    input=query\n",
    ")\n",
    "\n",
    "# Retrieve the embedding from the response\n",
    "embedding_vector = res.data[0].embedding\n",
    "\n",
    "from IPython.display import Markdown\n",
    "\n",
    "primer = \"\"\"You are a Q&A bot, designed to provide intelligent answers based on the information provided. If the information is not available, you truthfully say, \"I don't know\".\"\"\"\n",
    "\n",
    "# Initialize the list of augmented queries with answers\n",
    "augmented_queries_IndustryandCompanyAnalysis2018Summary = []\n",
    "\n",
    "# Increase the top_k parameter to retrieve more documents\n",
    "query_result_IndustryandCompanyAnalysis2018Summary = index.query(vector=embedding_vector, top_k=20, namespace=\"IndustryandCompanyAnalysis2018Summary\", include_metadata=True)\n",
    "\n",
    "# Get list of retrieved text from the query result\n",
    "contexts_IndustryandCompanyAnalysis2018Summary = [item['metadata']['text'] for item in query_result_IndustryandCompanyAnalysis2018Summary['matches']]\n",
    "\n",
    "# Loop through each context and generate questions with answers\n",
    "total_questions = 0\n",
    "for context in contexts_IndustryandCompanyAnalysis2018Summary:\n",
    "    # Check if we have already generated 50 questions\n",
    "    if total_questions >= 50:\n",
    "        break\n",
    "\n",
    "    for _ in range(2):  # Run the loop twice for each context\n",
    "        # Check if we have already generated 50 questions\n",
    "        if total_questions >= 50:\n",
    "            break\n",
    "\n",
    "        # Update the message to request questions with answers\n",
    "        messages = [{\"role\": \"system\", \"content\": primer}, {\"role\": \"user\", \"content\": context + \" Generate questions with 4 options and underline the correct one.\"}]\n",
    "        res = client.chat.completions.create(\n",
    "            model=\"gpt-3.5-turbo\",\n",
    "            messages=messages,\n",
    "            max_tokens=1500,  \n",
    "            n=25  # Number of completions (questions with answers) to generate per iteration\n",
    "        )\n",
    "\n",
    "        # Append the generated questions and answers to the list\n",
    "        for choice in res.choices:\n",
    "            augmented_queries_IndustryandCompanyAnalysis2018Summary.append(choice.message.content)\n",
    "            total_questions += 1\n",
    "            if total_questions >= 50:\n",
    "                break\n",
    "\n",
    "\n",
    "# Display the augmented queries with answers\n",
    "for idx, query in enumerate(augmented_queries_IndustryandCompanyAnalysis2018Summary):\n",
    "    display(Markdown(f\"Query {idx + 1} for IndustryandCompanyAnalysis2018Summary:\\n\\n{query}\"))\n",
    "    print(\"=\" * 50)\n",
    "\n",
    "\n"
   ]
  },
  {
   "cell_type": "markdown",
   "metadata": {},
   "source": [
    "## Storing the 50 Questions and answers pair for Industry and Company Analysis 2018 (SetA)"
   ]
  },
  {
   "cell_type": "code",
   "execution_count": 24,
   "metadata": {},
   "outputs": [
    {
     "name": "stdout",
     "output_type": "stream",
     "text": [
      "Upserted 50 questions and answers into Pinecone index under namespace 'SetA_IndustryandCompanyAnalysis2018Summary'.\n"
     ]
    }
   ],
   "source": [
    "from openai import OpenAI\n",
    "\n",
    "# Initialize OpenAI API key\n",
    "api_key = os.getenv(\"api_key\")\n",
    "client = OpenAI(api_key=api_key)\n",
    "\n",
    "import uuid\n",
    "\n",
    "# Assuming 'augmented_queries_IndustryandCompanyAnalysis2018Summary' is already a list of tuples (question, answer)\n",
    "augmented_queries = augmented_queries_IndustryandCompanyAnalysis2018Summary  # Directly use the list\n",
    "\n",
    "# Function to create embeddings with retry logic\n",
    "def create_embeddings_with_retry(texts, model, max_retries=5):\n",
    "    retries = 0\n",
    "    while retries < max_retries:\n",
    "        try:\n",
    "            # Ensure that 'input' is a list of strings\n",
    "            if not isinstance(texts, list):\n",
    "                texts = [texts]\n",
    "            return client.embeddings.create(input=texts, model=model)\n",
    "        except Exception as e:\n",
    "            print(f\"Attempt {retries + 1}: Encountered an error - {e}\")\n",
    "            sleep(5)  # wait before retrying\n",
    "            retries += 1\n",
    "    raise Exception(f\"Failed to create embeddings after {max_retries} retries.\")\n",
    "\n",
    "# Extract questions and answers for embedding\n",
    "texts_to_embed = [qa[0] + \" \" + qa[1] for qa in augmented_queries]  # Combine questions and answers for embedding\n",
    "\n",
    "# Generate embeddings for the questions and answers\n",
    "embed_model = \"text-embedding-3-small\"\n",
    "qa_embeddings = create_embeddings_with_retry(texts_to_embed, embed_model)\n",
    "\n",
    "# Prepare data for Pinecone upsert\n",
    "upsert_data = []\n",
    "for idx, qa_combined in enumerate(augmented_queries):\n",
    "    if not isinstance(qa_combined, str):\n",
    "        print(f\"Skipping item at index {idx} because it is not a string.\")\n",
    "        continue\n",
    "\n",
    "    # Assuming you have a way to split qa_combined into question and answer\n",
    "    parts = qa_combined.split('?', 1)\n",
    "    question = parts[0].strip() + '?'\n",
    "    answer = parts[1].strip() if len(parts) > 1 else \"\"\n",
    "\n",
    "    # Proceed to create embeddings and upsert to Pinecone as before\n",
    "    # Generate a unique ID for each query-answer pair\n",
    "    qa_id = str(uuid.uuid4())\n",
    "    \n",
    "    # Assuming you have already generated embeddings for all QA pairs\n",
    "    embed = qa_embeddings.data[idx].embedding\n",
    "    \n",
    "    # Prepare the upsert data with metadata\n",
    "    upsert_data.append((qa_id, embed, {'question': question, 'answer': answer}))\n",
    "\n",
    "# Perform the upsert operation to Pinecone\n",
    "namespace = \"SetA_IndustryandCompanyAnalysis2018Summary\"  \n",
    "index.upsert(vectors=upsert_data, namespace=namespace)\n",
    "\n",
    "print(f\"Upserted {len(upsert_data)} questions and answers into Pinecone index under namespace '{namespace}'.\")\n"
   ]
  },
  {
   "cell_type": "markdown",
   "metadata": {},
   "source": [
    "## Generating 50 Questions for Industry and Company Analysis 2018 (SetB)"
   ]
  },
  {
   "cell_type": "code",
   "execution_count": 25,
   "metadata": {},
   "outputs": [
    {
     "name": "stdout",
     "output_type": "stream",
     "text": [
      "Output saved to SetB_IndustryandCompanyAnalysis2018Summary_Questions.txt\n"
     ]
    }
   ],
   "source": [
    "from openai import OpenAI\n",
    "\n",
    "# Initialize OpenAI API key\n",
    "api_key = os.getenv(\"api_key\")\n",
    "\n",
    "# Adjust the query to indicate the need for 50 questions with answers\n",
    "query = \"Generate 50 questions and answers with 4 options each, with the correct option being bold, based on the Introduction Summary.\"\n",
    "\n",
    "embed_model = \"text-embedding-3-small\"  \n",
    "\n",
    "# Generate the embedding for the query\n",
    "client = OpenAI(api_key=api_key)\n",
    "res = client.embeddings.create(\n",
    "    model=embed_model,\n",
    "    input=query\n",
    ")\n",
    "\n",
    "# Retrieve the embedding from the response\n",
    "embedding_vector = res.data[0].embedding\n",
    "\n",
    "from IPython.display import Markdown\n",
    "\n",
    "primer = \"\"\"You are a Q&A bot, designed to provide intelligent answers based on the information provided. If the information is not available, you truthfully say, \"I don't know\".\"\"\"\n",
    "\n",
    "# Initialize the list of augmented queries with answers\n",
    "augmented_queries_IndustryandCompanyAnalysis2018Summary = []\n",
    "\n",
    "# Increase the top_k parameter to retrieve more documents\n",
    "query_result_IndustryandCompanyAnalysis2018Summary = index.query(vector=embedding_vector, top_k=20, namespace=\"IndustryandCompanyAnalysis2018Summary\", include_metadata=True)\n",
    "\n",
    "# Get list of retrieved text from the query result\n",
    "contexts_IndustryandCompanyAnalysis2018Summary = [item['metadata']['text'] for item in query_result_IndustryandCompanyAnalysis2018Summary['matches']]\n",
    "\n",
    "# Loop through each context and generate questions with answers\n",
    "total_questions = 0\n",
    "for context in contexts_IndustryandCompanyAnalysis2018Summary:\n",
    "    # Check if we have already generated 50 questions\n",
    "    if total_questions >= 50:\n",
    "        break\n",
    "\n",
    "    for _ in range(2):  # Run the loop twice for each context\n",
    "        # Check if we have already generated 50 questions\n",
    "        if total_questions >= 50:\n",
    "            break\n",
    "\n",
    "        # Update the message to request questions with answers\n",
    "        messages = [{\"role\": \"system\", \"content\": primer}, {\"role\": \"user\", \"content\": context + \" Generate questions with 4 options and underline the correct one.\"}]\n",
    "        res = client.chat.completions.create(\n",
    "            model=\"gpt-3.5-turbo\",\n",
    "            messages=messages,\n",
    "            max_tokens=1500,  \n",
    "            n=25  # Number of completions (questions with answers) to generate per iteration\n",
    "        )\n",
    "\n",
    "        # Append the generated questions and answers to the list\n",
    "        for choice in res.choices:\n",
    "            augmented_queries_IndustryandCompanyAnalysis2018Summary.append(choice.message.content)\n",
    "            total_questions += 1\n",
    "            if total_questions >= 50:\n",
    "                break\n",
    "\n",
    "\n",
    "# File path for the output file\n",
    "file_path = \"SetB_IndustryandCompanyAnalysis2018Summary_Questions.txt\"\n",
    "\n",
    "# Save the augmented queries with answers to a text file\n",
    "with open(file_path, 'w', encoding='utf-8') as file:\n",
    "    for idx, query in enumerate(augmented_queries_IndustryandCompanyAnalysis2018Summary):\n",
    "        file_content = f\"Query {idx + 1} for IndustryandCompanyAnalysis2018Summary:\\n\\n{query}\\n\"\n",
    "        file.write(file_content)\n",
    "        file.write(\"=\" * 50 + \"\\n\")\n",
    "\n",
    "print(f\"Output saved to {file_path}\")\n"
   ]
  },
  {
   "cell_type": "markdown",
   "metadata": {},
   "source": [
    "## Generating the 50 Question and answers for the Market Based Valuation Price and Enterprise Value Multiples 2018 (SetA)"
   ]
  },
  {
   "cell_type": "code",
   "execution_count": 26,
   "metadata": {},
   "outputs": [
    {
     "data": {
      "text/markdown": [
       "Query 1 for MarketBasedValuationPriceandEnterpriseValueMultiples2018Summary:\n",
       "\n",
       "1. What are price multiples and how are they calculated?\n",
       "   - A. Ratios of a stock’s market price to some measure of fundamental value per share\n",
       "   - B. Ratios of a company’s market value to earnings before interest, taxes, depreciation, and amortization (EBITDA)\n",
       "   - C. Ratios of total market value of all sources of a company’s capital to its operating cash flow\n",
       "   - D. Ratios of book value to earnings per share\n",
       "\n",
       "2. What is the intuition behind using enterprise value multiples?\n",
       "   - A. Evaluating the market value of an entire enterprise relative to fundamental value per share\n",
       "   - B. Evaluating the price of a share of stock in terms of per share earnings\n",
       "   - C. Comparing the market value of a stock to expected future returns\n",
       "   - D. Considering what a share buys in terms of per share net assets\n",
       "\n",
       "3. How do momentum indicators differ from price and enterprise value multiples?\n",
       "   - A. Momentum indicators focus on past price movements while multiples focus on future earnings\n",
       "   - B. Momentum indicators evaluate an enterprise’s total value, whereas multiples focus on per share value\n",
       "   - C. Multiples summarize market value relationships, while momentum indicators forecast future returns\n",
       "   - D. Multiples are used for individual securities, while momentum indicators are used for broader market trends\n",
       "\n",
       "4. What type of information can momentum indicators provide according to the text?\n",
       "   - A. Historic market performance of a company\n",
       "   - B. Fundamental analysis of a company’s earnings\n",
       "   - C. Patterns of future returns over a certain time period\n",
       "   - D. Market value of a company's total capital\n",
       "\n",
       "**_Underlined Correct Answers:_**\n",
       "1. What are price multiples and how are they calculated?\n",
       "   - A. Ratios of a stock’s market price to some measure of fundamental value per share\n",
       "\n",
       "2. What is the intuition behind using enterprise value multiples?\n",
       "   - A. Evaluating the market value of an entire enterprise relative to fundamental value per share\n",
       "\n",
       "3. How do momentum indicators differ from price and enterprise value multiples?\n",
       "   - C. Multiples summarize market value relationships, while momentum indicators forecast future returns\n",
       "\n",
       "4. What type of information can momentum indicators provide according to the text?\n",
       "   - C. Patterns of future returns over a certain time period"
      ],
      "text/plain": [
       "<IPython.core.display.Markdown object>"
      ]
     },
     "metadata": {},
     "output_type": "display_data"
    },
    {
     "name": "stdout",
     "output_type": "stream",
     "text": [
      "==================================================\n"
     ]
    },
    {
     "data": {
      "text/markdown": [
       "Query 2 for MarketBasedValuationPriceandEnterpriseValueMultiples2018Summary:\n",
       "\n",
       "What are some common themes when using price and enterprise value multiples as valuation tools?\n",
       "\n",
       "A) Multiples provide information solely on future patterns of returns in the short term  \n",
       "B) Multiples are complex and difficult to communicate effectively with investors  \n",
       "C) Multiples summarize the relationship between market value and fundamental quantities  \n",
       "D) Multiples are only useful for evaluating individual securities  \n",
       "\n",
       "**_C) Multiples summarize the relationship between market value and fundamental quantities_**"
      ],
      "text/plain": [
       "<IPython.core.display.Markdown object>"
      ]
     },
     "metadata": {},
     "output_type": "display_data"
    },
    {
     "name": "stdout",
     "output_type": "stream",
     "text": [
      "==================================================\n"
     ]
    },
    {
     "data": {
      "text/markdown": [
       "Query 3 for MarketBasedValuationPriceandEnterpriseValueMultiples2018Summary:\n",
       "\n",
       "What are the key features of valuation multiples as discussed in the provided text?\n",
       "\n",
       "A) Valuation multiples provide complex and detailed insights into a company's financial health.\n",
       "B) Valuation multiples are difficult to understand and apply in investment decision-making.\n",
       "C) Valuation multiples offer simplicity of use and ease of communication.\n",
       "D) Valuation multiples are only relevant for analyzing individual securities.\n",
       "\n",
       "**Correct answer: C) Valuation multiples offer simplicity of use and ease of communication.**"
      ],
      "text/plain": [
       "<IPython.core.display.Markdown object>"
      ]
     },
     "metadata": {},
     "output_type": "display_data"
    },
    {
     "name": "stdout",
     "output_type": "stream",
     "text": [
      "==================================================\n"
     ]
    },
    {
     "data": {
      "text/markdown": [
       "Query 4 for MarketBasedValuationPriceandEnterpriseValueMultiples2018Summary:\n",
       "\n",
       "1. What are the main types of valuation tools commonly used in investment analysis?\n",
       "   - A) Price multiples and revenue multiples\n",
       "   - B) Enterprise value multiples and momentum indicators\n",
       "   - C) Cash flow multiples and book value multiples\n",
       "   - D) Price multiples and enterprise value multiples\n",
       "\n",
       "2. How do price multiples differ from enterprise value multiples in terms of the measures they relate to fundamental value?\n",
       "   - A) Price multiples relate to total market value while enterprise value multiples relate to per share value.\n",
       "   - B) Price multiples relate to per share value while enterprise value multiples relate to total market value.\n",
       "   - C) Price multiples relate to future expectations while enterprise value multiples relate to historical data.\n",
       "   - D) Price multiples relate to cash flow while enterprise value multiples relate to revenue.\n",
       "\n",
       "3. What is the main advantage of using multiples as valuation tools?\n",
       "   - A) Complexity in calculation\n",
       "   - B) Difficulty in communication\n",
       "   - C) Simplicity in use and ease in communication\n",
       "   - D) Limited applicability in different sectors\n",
       "\n",
       "4. How are momentum indicators different from price and enterprise value multiples as valuation indicators?\n",
       "   - A) Momentum indicators focus on a company's total capital value.\n",
       "   - B) Momentum indicators predict short-term stock price movements.\n",
       "   - C) Price and enterprise value multiples focus on expected future value.\n",
       "   - D) Momentum indicators provide information on future patterns of returns and complement the focus of multiples."
      ],
      "text/plain": [
       "<IPython.core.display.Markdown object>"
      ]
     },
     "metadata": {},
     "output_type": "display_data"
    },
    {
     "name": "stdout",
     "output_type": "stream",
     "text": [
      "==================================================\n"
     ]
    },
    {
     "data": {
      "text/markdown": [
       "Query 5 for MarketBasedValuationPriceandEnterpriseValueMultiples2018Summary:\n",
       "\n",
       "What are some common themes related to the use of price and enterprise value multiples?\n",
       "\n",
       "A) Multiples provide a single number summary of the relationship between stock market value and fundamental quantities.\n",
       "B) Multiples are complex and challenging to use for valuation purposes.\n",
       "C) Multiples do not consider past performance of a company.\n",
       "D) Multiples are not widely used in financial analysis.\n",
       "\n",
       "_**A) Multiples provide a single number summary of the relationship between stock market value and fundamental quantities.**_"
      ],
      "text/plain": [
       "<IPython.core.display.Markdown object>"
      ]
     },
     "metadata": {},
     "output_type": "display_data"
    },
    {
     "name": "stdout",
     "output_type": "stream",
     "text": [
      "==================================================\n"
     ]
    },
    {
     "data": {
      "text/markdown": [
       "Query 6 for MarketBasedValuationPriceandEnterpriseValueMultiples2018Summary:\n",
       "\n",
       "What are some common themes in the use of price and enterprise value multiples as valuation tools?\n",
       "A) They are complicated and difficult to communicate\n",
       "B) They focus on the relationship between market value and fundamental value\n",
       "C) They are rarely used by investors\n",
       "D) They are not related to earnings or cash flow\n",
       "\n",
       "_**B) They focus on the relationship between market value and fundamental value**_"
      ],
      "text/plain": [
       "<IPython.core.display.Markdown object>"
      ]
     },
     "metadata": {},
     "output_type": "display_data"
    },
    {
     "name": "stdout",
     "output_type": "stream",
     "text": [
      "==================================================\n"
     ]
    },
    {
     "data": {
      "text/markdown": [
       "Query 7 for MarketBasedValuationPriceandEnterpriseValueMultiples2018Summary:\n",
       "\n",
       "What are common themes related to the use of price and enterprise value multiples as valuation tools?  \n",
       "A) Multiples provide detailed information on a company's financial health.  \n",
       "B) Multiples summarize the relationship between market value and fundamental quantity.  \n",
       "C) Multiples are complex and difficult to use effectively.  \n",
       "D) Multiples focus on predicting short-term stock price movements.  \n",
       "\n",
       "Correct answer: _B) Multiples summarize the relationship between market value and fundamental quantity._"
      ],
      "text/plain": [
       "<IPython.core.display.Markdown object>"
      ]
     },
     "metadata": {},
     "output_type": "display_data"
    },
    {
     "name": "stdout",
     "output_type": "stream",
     "text": [
      "==================================================\n"
     ]
    },
    {
     "data": {
      "text/markdown": [
       "Query 8 for MarketBasedValuationPriceandEnterpriseValueMultiples2018Summary:\n",
       "\n",
       "What is the focus of momentum indicators in securities selection?\n",
       "\n",
       "1. Comparing stock market prices with earnings\n",
       "2. Analyzing past values of a security to predict future returns\n",
       "3. Assessing the relationship between market value and EBITDA\n",
       "4. Evaluating the total market value of a company's capital\n",
       "\n",
       "Correct answer: _2. Analyzing past values of a security to predict future returns_"
      ],
      "text/plain": [
       "<IPython.core.display.Markdown object>"
      ]
     },
     "metadata": {},
     "output_type": "display_data"
    },
    {
     "name": "stdout",
     "output_type": "stream",
     "text": [
      "==================================================\n"
     ]
    },
    {
     "data": {
      "text/markdown": [
       "Query 9 for MarketBasedValuationPriceandEnterpriseValueMultiples2018Summary:\n",
       "\n",
       "What are some topics covered in the reading on valuation tools and indicators?\n",
       "a) Price and enterprise value multiples\n",
       "b) Momentum indicators\n",
       "c) International considerations in using multiples\n",
       "d) Practical issues in using valuation indicators\n",
       "\n",
       "**Options:**\n",
       "- a) Price and enterprise value multiples\n",
       "- b) Momentum indicators\n",
       "- c) International considerations in using multiples\n",
       "- d) Practical issues in using valuation indicators"
      ],
      "text/plain": [
       "<IPython.core.display.Markdown object>"
      ]
     },
     "metadata": {},
     "output_type": "display_data"
    },
    {
     "name": "stdout",
     "output_type": "stream",
     "text": [
      "==================================================\n"
     ]
    },
    {
     "data": {
      "text/markdown": [
       "Query 10 for MarketBasedValuationPriceandEnterpriseValueMultiples2018Summary:\n",
       "\n",
       "What are some common themes related to the use of price and enterprise value multiples as valuation tools?\n",
       "a) Multiples are complex and difficult to interpret\n",
       "b) Multiples provide a single number summary of the relationship between market value and fundamental quantity\n",
       "c) Multiples are only useful for evaluating individual securities\n",
       "d) Multiples do not consider any fundamental quantities\n",
       "\n",
       "**_b) Multiples provide a single number summary of the relationship between market value and fundamental quantity_**"
      ],
      "text/plain": [
       "<IPython.core.display.Markdown object>"
      ]
     },
     "metadata": {},
     "output_type": "display_data"
    },
    {
     "name": "stdout",
     "output_type": "stream",
     "text": [
      "==================================================\n"
     ]
    },
    {
     "data": {
      "text/markdown": [
       "Query 11 for MarketBasedValuationPriceandEnterpriseValueMultiples2018Summary:\n",
       "\n",
       "What are some common themes when using price and enterprise multiples as valuation tools?\n",
       "\n",
       "A) Multiples are complex and difficult to interpret\n",
       "B) Multiples summarize the relationship between market value and fundamental value\n",
       "C) Multiples are used to predict short-term stock price movements\n",
       "D) Multiples do not provide any useful information about a company's valuation\n",
       "\n",
       "_**B) Multiples summarize the relationship between market value and fundamental value**_"
      ],
      "text/plain": [
       "<IPython.core.display.Markdown object>"
      ]
     },
     "metadata": {},
     "output_type": "display_data"
    },
    {
     "name": "stdout",
     "output_type": "stream",
     "text": [
      "==================================================\n"
     ]
    },
    {
     "data": {
      "text/markdown": [
       "Query 12 for MarketBasedValuationPriceandEnterpriseValueMultiples2018Summary:\n",
       "\n",
       "What types of valuation indicators are discussed in the provided text?\n",
       "a) Price multiples\n",
       "b) Enterprise value multiples\n",
       "c) Momentum indicators\n",
       "d) All of the above\n",
       "\n",
       "**_Correct answer: d) All of the above_**"
      ],
      "text/plain": [
       "<IPython.core.display.Markdown object>"
      ]
     },
     "metadata": {},
     "output_type": "display_data"
    },
    {
     "name": "stdout",
     "output_type": "stream",
     "text": [
      "==================================================\n"
     ]
    },
    {
     "data": {
      "text/markdown": [
       "Query 13 for MarketBasedValuationPriceandEnterpriseValueMultiples2018Summary:\n",
       "\n",
       "What type of valuation indicators are discussed in the provided text?\n",
       "1. Price multiples\n",
       "2. Enterprise value multiples\n",
       "3. Momentum indicators\n",
       "4. All of the above\n",
       "\n",
       "_Correct answer: 4. All of the above_"
      ],
      "text/plain": [
       "<IPython.core.display.Markdown object>"
      ]
     },
     "metadata": {},
     "output_type": "display_data"
    },
    {
     "name": "stdout",
     "output_type": "stream",
     "text": [
      "==================================================\n"
     ]
    },
    {
     "data": {
      "text/markdown": [
       "Query 14 for MarketBasedValuationPriceandEnterpriseValueMultiples2018Summary:\n",
       "\n",
       "What is the focus of momentum indicators as a valuation tool?\n",
       "\n",
       "1. Evaluating the market value of an entire enterprise\n",
       "2. Identifying potentially rewarding investment opportunities\n",
       "3. Assessing the relationship between stock price and fundamental value\n",
       "4. Summarizing in a single number the market value of a company's stock\n",
       "\n",
       "_2. Identifying potentially rewarding investment opportunities_"
      ],
      "text/plain": [
       "<IPython.core.display.Markdown object>"
      ]
     },
     "metadata": {},
     "output_type": "display_data"
    },
    {
     "name": "stdout",
     "output_type": "stream",
     "text": [
      "==================================================\n"
     ]
    },
    {
     "data": {
      "text/markdown": [
       "Query 15 for MarketBasedValuationPriceandEnterpriseValueMultiples2018Summary:\n",
       "\n",
       "What are some common themes related to the use of price and enterprise value multiples in valuation?\n",
       "\n",
       "1. Multiples are used to evaluate the intrinsic value of a company's stock.\n",
       "2. Multiples provide a simple and easily communicable way to analyze a company's value.\n",
       "3. Multiples summarize the relationship between a company's market value and a fundamental quantity.\n",
       "4. Multiples are exclusively focused on momentum indicators for valuation.\n",
       "\n",
       "(Options are 1. Multiples are used to evaluate the intrinsic value of a company's stock. 2. Multiples provide a simple and easily communicable way to analyze a company's value. 3. Multiples summarize the relationship between a company's market value and a fundamental quantity. 4. Multiples are exclusively focused on momentum indicators for valuation.)\n"
      ],
      "text/plain": [
       "<IPython.core.display.Markdown object>"
      ]
     },
     "metadata": {},
     "output_type": "display_data"
    },
    {
     "name": "stdout",
     "output_type": "stream",
     "text": [
      "==================================================\n"
     ]
    },
    {
     "data": {
      "text/markdown": [
       "Query 16 for MarketBasedValuationPriceandEnterpriseValueMultiples2018Summary:\n",
       "\n",
       "1. What are price multiples and enterprise value multiples commonly used for in valuation analysis?\n",
       "   A) Evaluating market volatility\n",
       "   B) Assessing management performance\n",
       "   C) Comparing market value to fundamental value\n",
       "   D) Projecting future revenue growth\n",
       "   _C) Comparing market value to fundamental value_\n",
       "\n",
       "2. How are price multiples different from enterprise value multiples?\n",
       "   A) Price multiples focus on total market value, while enterprise value multiples focus on per-share value.\n",
       "   B) Price multiples relate to enterprise value, while enterprise value multiples relate to stock price.\n",
       "   C) Price multiples evaluate the value of a share of stock, while enterprise value multiples evaluate the value of the entire company.\n",
       "   D) Price multiples consider future revenue, while enterprise value multiples consider historical earnings.\n",
       "   _C) Price multiples evaluate the value of a share of stock, while enterprise value multiples evaluate the value of the entire company_\n",
       "\n",
       "3. What is a key advantage of using multiples as valuation tools?\n",
       "   A) Complexity in calculation\n",
       "   B) Transparency in communication\n",
       "   C) Ambiguity in interpretation\n",
       "   D) Over-reliance on subjective measures\n",
       "   _B) Transparency in communication_\n",
       "\n",
       "4. How do momentum indicators differ from price and enterprise value multiples?\n",
       "   A) They focus on historical performance rather than current value.\n",
       "   B) They provide information on future patterns of returns.\n",
       "   C) They are more suitable for long-term investments.\n",
       "   D) They are based on accounting values rather than market values.\n",
       "   _B) They provide information on future patterns of returns_"
      ],
      "text/plain": [
       "<IPython.core.display.Markdown object>"
      ]
     },
     "metadata": {},
     "output_type": "display_data"
    },
    {
     "name": "stdout",
     "output_type": "stream",
     "text": [
      "==================================================\n"
     ]
    },
    {
     "data": {
      "text/markdown": [
       "Query 17 for MarketBasedValuationPriceandEnterpriseValueMultiples2018Summary:\n",
       "\n",
       "What are some questions that may be addressed in a reading about valuation tools such as price and enterprise value multiples? _(Underline the correct answer)_\n",
       "\n",
       "1. What is the best strategy for trading individual stocks?\n",
       "2. How do momentum indicators differ from price and enterprise value multiples?\n",
       "3. What are the different colors used in financial charts?\n",
       "4. How can valuation indicators like multiples provide insight into investment opportunities?"
      ],
      "text/plain": [
       "<IPython.core.display.Markdown object>"
      ]
     },
     "metadata": {},
     "output_type": "display_data"
    },
    {
     "name": "stdout",
     "output_type": "stream",
     "text": [
      "==================================================\n"
     ]
    },
    {
     "data": {
      "text/markdown": [
       "Query 18 for MarketBasedValuationPriceandEnterpriseValueMultiples2018Summary:\n",
       "\n",
       "1. What is the main difference between price multiples and enterprise value multiples?\n",
       "   - A) Price multiples are based on total market value while enterprise value multiples are based on fundamental value per share.\n",
       "   - B) Price multiples evaluate an entire enterprise while enterprise value multiples evaluate a stock's market price.\n",
       "   - C) Price multiples relate the market value of all sources of capital to fundamental value while enterprise value multiples focus on a per-share basis.\n",
       "   - D) Price multiples evaluate a share of stock relative to fundamental value per share, while enterprise value multiples relate to the total market value of all sources of a company’s capital.\n",
       "\n",
       "2. What is the advantage of using multiples as valuation tools?\n",
       "   - A) Multiples provide complex analyses of stock performance.\n",
       "   - B) Multiples are difficult to calculate and interpret.\n",
       "   - C) Multiples offer a single number summary of the relationship between market value and fundamental quantity.\n",
       "   - D) Multiples can only be applied to book value-based indicators.\n",
       "\n",
       "3. How do momentum indicators differ from price and enterprise value multiples?\n",
       "   - A) Momentum indicators are focused on future patterns of returns, while multiples are focused on past performance.\n",
       "   - B) Momentum indicators relate price or fundamentals to past values or expected values, while multiples relate market value to fundamentals.\n",
       "   - C) Momentum indicators provide information on current investment opportunities, whereas multiples focus on long-term valuation.\n",
       "   - D) Momentum indicators and multiples have the same focus and usage in valuing securities.\n",
       "\n",
       "4. Which section of the reading discusses practical issues that may arise when using valuation indicators?\n",
       "   - A) Section 2\n",
       "   - B) Section 4\n",
       "   - C) Section 6\n",
       "   - D) Section 7\n",
       "\n",
       "**Correct answers are underlined.**"
      ],
      "text/plain": [
       "<IPython.core.display.Markdown object>"
      ]
     },
     "metadata": {},
     "output_type": "display_data"
    },
    {
     "name": "stdout",
     "output_type": "stream",
     "text": [
      "==================================================\n"
     ]
    },
    {
     "data": {
      "text/markdown": [
       "Query 19 for MarketBasedValuationPriceandEnterpriseValueMultiples2018Summary:\n",
       "\n",
       "What are some common themes related to the use of price and enterprise value multiples as valuation tools?  \n",
       "A) Multiples provide a single number summary of the relationship between market value and fundamental quantity  \n",
       "B) Multiples are complex to calculate and interpret  \n",
       "C) Price multiples focus on the market value of an entire enterprise  \n",
       "D) Enterprise value multiples relate to per-share earnings  \n",
       "\n",
       "**_A) Multiples provide a single number summary of the relationship between market value and fundamental quantity_**"
      ],
      "text/plain": [
       "<IPython.core.display.Markdown object>"
      ]
     },
     "metadata": {},
     "output_type": "display_data"
    },
    {
     "name": "stdout",
     "output_type": "stream",
     "text": [
      "==================================================\n"
     ]
    },
    {
     "data": {
      "text/markdown": [
       "Query 20 for MarketBasedValuationPriceandEnterpriseValueMultiples2018Summary:\n",
       "\n",
       "What are some of the themes common to the use of any price or enterprise value multiple?  \n",
       "a) Multiples summarize in a single number the relationship between a company's stock market value and its intrinsic value  \n",
       "b) Multiples focus on historical stock price movements  \n",
       "c) Multiples provide detailed information on a company's future earnings potential  \n",
       "d) Multiples are complex tools that require advanced financial expertise  \n",
       "\n",
       "**_a) Multiples summarize in a single number the relationship between a company's stock market value and its intrinsic value_**"
      ],
      "text/plain": [
       "<IPython.core.display.Markdown object>"
      ]
     },
     "metadata": {},
     "output_type": "display_data"
    },
    {
     "name": "stdout",
     "output_type": "stream",
     "text": [
      "==================================================\n"
     ]
    },
    {
     "data": {
      "text/markdown": [
       "Query 21 for MarketBasedValuationPriceandEnterpriseValueMultiples2018Summary:\n",
       "\n",
       "What are some key characteristics of price and enterprise value multiples as valuation tools?\n",
       "\n",
       "A) They are complex and difficult to use  \n",
       "B) They do not provide a simple summary of the relationship between market value and fundamental quantity  \n",
       "C) They are widely used due to their simplicity and ease of communication  \n",
       "D) They are mainly focused on short-term investment opportunities  \n",
       "\n",
       "**_Correct answer: C) They are widely used due to their simplicity and ease of communication_**"
      ],
      "text/plain": [
       "<IPython.core.display.Markdown object>"
      ]
     },
     "metadata": {},
     "output_type": "display_data"
    },
    {
     "name": "stdout",
     "output_type": "stream",
     "text": [
      "==================================================\n"
     ]
    },
    {
     "data": {
      "text/markdown": [
       "Query 22 for MarketBasedValuationPriceandEnterpriseValueMultiples2018Summary:\n",
       "\n",
       "What are some common themes related to the use of price and enterprise value multiples as valuation tools?\n",
       "\n",
       "A) Multiples summarize the relationship between market value and fundamental quantities\n",
       "B) Multiples are complex and difficult to use\n",
       "C) Multiples can only be calculated based on earnings per share\n",
       "D) Multiples are not commonly used in financial analysis\n",
       "\n",
       "**_Correct answer: A) Multiples summarize the relationship between market value and fundamental quantities_**"
      ],
      "text/plain": [
       "<IPython.core.display.Markdown object>"
      ]
     },
     "metadata": {},
     "output_type": "display_data"
    },
    {
     "name": "stdout",
     "output_type": "stream",
     "text": [
      "==================================================\n"
     ]
    },
    {
     "data": {
      "text/markdown": [
       "Query 23 for MarketBasedValuationPriceandEnterpriseValueMultiples2018Summary:\n",
       "\n",
       "What are some key characteristics of price and enterprise value multiples as valuation tools?\n",
       "\n",
       "A) They are complicated and difficult to understand  \n",
       "B) They summarize the relationship between market value and fundamental quantity  \n",
       "C) They rely solely on historical data for valuation  \n",
       "D) They are rarely used by investors in the financial markets  \n",
       "\n",
       "**Underline the correct answer.**"
      ],
      "text/plain": [
       "<IPython.core.display.Markdown object>"
      ]
     },
     "metadata": {},
     "output_type": "display_data"
    },
    {
     "name": "stdout",
     "output_type": "stream",
     "text": [
      "==================================================\n"
     ]
    },
    {
     "data": {
      "text/markdown": [
       "Query 24 for MarketBasedValuationPriceandEnterpriseValueMultiples2018Summary:\n",
       "\n",
       "1. What are price multiples and enterprise value multiples primarily used for?\n",
       "   - A. Analyzing company culture\n",
       "   - B. Evaluating marketing strategies\n",
       "   - C. Comparing market value to fundamental value\n",
       "   - D. Forecasting economic trends\n",
       "\n",
       "2. How do price multiples differ from enterprise value multiples?\n",
       "   - A. Price multiples focus on past performance, while enterprise value multiples focus on future potential\n",
       "   - B. Price multiples relate market price to fundamental per share value, while enterprise value multiples relate total market value to a measure of fundamental value for the entire company\n",
       "   - C. Price multiples always consider earnings per share, while enterprise value multiples focus on book value\n",
       "   - D. Price multiples are used for long-term investment decisions, while enterprise value multiples are used for short-term trading strategies\n",
       "\n",
       "3. What is the advantage of using multiples as valuation tools?\n",
       "   - A. They provide complex and detailed analyses\n",
       "   - B. They offer a wide range of possible values\n",
       "   - C. They summarize the relationship between market value and fundamental quantity in a single number\n",
       "   - D. They require extensive financial expertise to interpret accurately\n",
       "\n",
       "4. In what context do momentum indicators differ from price and enterprise value multiples?\n",
       "   - A. Momentum indicators focus on historical performance, while multiples focus on future potential\n",
       "   - B. Momentum indicators relate fundamental values to past market performance, while multiples compare market value to fundamental value\n",
       "   - C. Momentum indicators aim to identify investment opportunities based on future patterns of returns, while multiples are used for valuation based on comparables\n",
       "   - D. Momentum indicators are focused on long-term investments, while multiples are more suited for short-term trading decisions"
      ],
      "text/plain": [
       "<IPython.core.display.Markdown object>"
      ]
     },
     "metadata": {},
     "output_type": "display_data"
    },
    {
     "name": "stdout",
     "output_type": "stream",
     "text": [
      "==================================================\n"
     ]
    },
    {
     "data": {
      "text/markdown": [
       "Query 25 for MarketBasedValuationPriceandEnterpriseValueMultiples2018Summary:\n",
       "\n",
       "1. What is the intuition behind price multiples?\n",
       "   - A) To evaluate the total market value of a company\n",
       "   - B) To compare the market price of a stock to fundamental value per share\n",
       "   - C) To assess the enterprise value of a company\n",
       "   - D) To analyze the momentum of a stock\n",
       "   \n",
       "2. How do investors use enterprise value multiples?\n",
       "   - A) To determine the per share earnings of a company\n",
       "   - B) To evaluate the market value of an entire enterprise relative to a fundamental value\n",
       "   - C) To predict future stock prices\n",
       "   - D) To assess the book value of a company\n",
       "   \n",
       "3. What is the primary benefit of using multiples as valuation tools?\n",
       "   - A) Complexity in usage\n",
       "   - B) Difficulty in communication\n",
       "   - C) Simplicity in use and ease in communication\n",
       "   - D) Limited value in assessing a company's worth\n",
       "   \n",
       "4. What distinguishes momentum indicators from price and enterprise value multiples?\n",
       "   - A) Momentum indicators focus on historical data\n",
       "   - B) Momentum indicators provide information on future patterns of returns\n",
       "   - C) Momentum indicators are more complex to use\n",
       "   - D) Momentum indicators are based on accounting values"
      ],
      "text/plain": [
       "<IPython.core.display.Markdown object>"
      ]
     },
     "metadata": {},
     "output_type": "display_data"
    },
    {
     "name": "stdout",
     "output_type": "stream",
     "text": [
      "==================================================\n"
     ]
    },
    {
     "data": {
      "text/markdown": [
       "Query 26 for MarketBasedValuationPriceandEnterpriseValueMultiples2018Summary:\n",
       "\n",
       "What are some common themes to consider when using price and enterprise value multiples as valuation tools?\n",
       "\n",
       "A) Price multiples and enterprise value multiples provide a direct comparison of a company's stock price and total market value to its fundamental value per share or for the entire company, respectively.\n",
       "\n",
       "B) Price multiples and enterprise value multiples are always used interchangeably as they provide the same insights into a company's valuation.\n",
       "\n",
       "C) Price multiples are solely focused on a company's market value, while enterprise value multiples consider the total market value of all sources of a company's capital.\n",
       "\n",
       "D) Price multiples and enterprise value multiples are difficult to interpret and not commonly used by investors.\n",
       "\n",
       "_Underline the correct answer._"
      ],
      "text/plain": [
       "<IPython.core.display.Markdown object>"
      ]
     },
     "metadata": {},
     "output_type": "display_data"
    },
    {
     "name": "stdout",
     "output_type": "stream",
     "text": [
      "==================================================\n"
     ]
    },
    {
     "data": {
      "text/markdown": [
       "Query 27 for MarketBasedValuationPriceandEnterpriseValueMultiples2018Summary:\n",
       "\n",
       "What are some considerations when using price multiples as valuation tools?\n",
       "\n",
       "A) Evaluation of market value to fundamental quantity  \n",
       "B) Relationship to momentum indicators  \n",
       "C) Complexity in use and communication  \n",
       "D) Emphasis on expected future values in valuation  \n",
       "\n",
       "**_Correct answer: A) Evaluation of market value to fundamental quantity_**"
      ],
      "text/plain": [
       "<IPython.core.display.Markdown object>"
      ]
     },
     "metadata": {},
     "output_type": "display_data"
    },
    {
     "name": "stdout",
     "output_type": "stream",
     "text": [
      "==================================================\n"
     ]
    },
    {
     "data": {
      "text/markdown": [
       "Query 28 for MarketBasedValuationPriceandEnterpriseValueMultiples2018Summary:\n",
       "\n",
       "What are some common themes related to the use of price and enterprise value multiples as valuation tools?  \n",
       "A) They provide a simple and easy way to communicate a company's value  \n",
       "B) They focus on evaluating market value relative to fundamental measures  \n",
       "C) They offer insights into future patterns of returns  \n",
       "D) They are primarily used for short-term trading strategies\n",
       "\n",
       "**_Underline the correct option._**"
      ],
      "text/plain": [
       "<IPython.core.display.Markdown object>"
      ]
     },
     "metadata": {},
     "output_type": "display_data"
    },
    {
     "name": "stdout",
     "output_type": "stream",
     "text": [
      "==================================================\n"
     ]
    },
    {
     "data": {
      "text/markdown": [
       "Query 29 for MarketBasedValuationPriceandEnterpriseValueMultiples2018Summary:\n",
       "\n",
       "What is the main focus of price multiples in valuation analysis?\n",
       "A) Evaluating the total market value of a company\n",
       "B) Judging whether a share of stock is fairly valued, overvalued, or undervalued\n",
       "C) Assessing the amount of earnings before interest, taxes, depreciation, and amortization (EBITDA)\n",
       "D) Analyzing past values to predict future patterns of returns\n",
       "\n",
       "Please select the correct option and I will provide feedback."
      ],
      "text/plain": [
       "<IPython.core.display.Markdown object>"
      ]
     },
     "metadata": {},
     "output_type": "display_data"
    },
    {
     "name": "stdout",
     "output_type": "stream",
     "text": [
      "==================================================\n"
     ]
    },
    {
     "data": {
      "text/markdown": [
       "Query 30 for MarketBasedValuationPriceandEnterpriseValueMultiples2018Summary:\n",
       "\n",
       "What are some common themes related to the use of price and enterprise value multiples as valuation tools?\n",
       "\n",
       "1) Multiples are complex and not easily understood by investors.\n",
       "2) Multiples provide a single number summarizing the relationship between market value and fundamental value.\n",
       "3) Multiples are primarily focused on predicting short-term price movements.\n",
       "4) Multiples are only useful for large companies and not applicable to small businesses.\n",
       "\n",
       "Please underline the correct option."
      ],
      "text/plain": [
       "<IPython.core.display.Markdown object>"
      ]
     },
     "metadata": {},
     "output_type": "display_data"
    },
    {
     "name": "stdout",
     "output_type": "stream",
     "text": [
      "==================================================\n"
     ]
    },
    {
     "data": {
      "text/markdown": [
       "Query 31 for MarketBasedValuationPriceandEnterpriseValueMultiples2018Summary:\n",
       "\n",
       "What are some common themes related to the use of price and enterprise value multiples as valuation tools?\n",
       "\n",
       "A) Multiples summarize the relationship between market value and fundamental value per share.  \n",
       "B) Momentum indicators are the most widely used valuation tools in the financial industry.  \n",
       "C) Enterprise value multiples focus on per share earnings, net assets, and cash flow.  \n",
       "D) Price multiples are exclusively used to evaluate the market value of an entire enterprise.  \n",
       "\n",
       "**_A) Multiples summarize the relationship between market value and fundamental value per share._**"
      ],
      "text/plain": [
       "<IPython.core.display.Markdown object>"
      ]
     },
     "metadata": {},
     "output_type": "display_data"
    },
    {
     "name": "stdout",
     "output_type": "stream",
     "text": [
      "==================================================\n"
     ]
    },
    {
     "data": {
      "text/markdown": [
       "Query 32 for MarketBasedValuationPriceandEnterpriseValueMultiples2018Summary:\n",
       "\n",
       "What are the key characteristics of price and enterprise value multiples as valuation tools?\n",
       "\n",
       "A) They are complex and difficult to communicate effectively.\n",
       "B) They summarize the relationship between market value and fundamental value of a company.\n",
       "C) They are solely focused on historical performance.\n",
       "D) They are used to predict short-term stock price movements.\n",
       "\n",
       "_underline(B) B) They summarize the relationship between market value and fundamental value of a company."
      ],
      "text/plain": [
       "<IPython.core.display.Markdown object>"
      ]
     },
     "metadata": {},
     "output_type": "display_data"
    },
    {
     "name": "stdout",
     "output_type": "stream",
     "text": [
      "==================================================\n"
     ]
    },
    {
     "data": {
      "text/markdown": [
       "Query 33 for MarketBasedValuationPriceandEnterpriseValueMultiples2018Summary:\n",
       "\n",
       "What are some questions that can be asked about valuation tools like price and enterprise value multiples according to the passage provided?\n",
       "\n",
       "1. What are the limitations of using momentum indicators in valuation?\n",
       "2. How do investors evaluate the market value of an entire enterprise using price multiples?\n",
       "3. How are price multiples used in valuation based on comparables?\n",
       "4. What is the intuition behind using enterprise value multiples in securities selection?\n",
       "\n",
       "Correct answer: 2. How do investors evaluate the market value of an entire enterprise using price multiples?"
      ],
      "text/plain": [
       "<IPython.core.display.Markdown object>"
      ]
     },
     "metadata": {},
     "output_type": "display_data"
    },
    {
     "name": "stdout",
     "output_type": "stream",
     "text": [
      "==================================================\n"
     ]
    },
    {
     "data": {
      "text/markdown": [
       "Query 34 for MarketBasedValuationPriceandEnterpriseValueMultiples2018Summary:\n",
       "\n",
       "What are some key characteristics of price and enterprise value multiples as valuation tools?\n",
       "\n",
       "A) They are complex and difficult to interpret  \n",
       "B) They provide a single number summarizing the relationship between market value and fundamental quantity  \n",
       "C) They are only used by long-term investors  \n",
       "D) They focus on short-term investment opportunities  \n",
       "\n",
       "**_The correct option is B) They provide a single number summarizing the relationship between market value and fundamental quantity._**"
      ],
      "text/plain": [
       "<IPython.core.display.Markdown object>"
      ]
     },
     "metadata": {},
     "output_type": "display_data"
    },
    {
     "name": "stdout",
     "output_type": "stream",
     "text": [
      "==================================================\n"
     ]
    },
    {
     "data": {
      "text/markdown": [
       "Query 35 for MarketBasedValuationPriceandEnterpriseValueMultiples2018Summary:\n",
       "\n",
       "What type of valuation tool sums up the relationship between a company's market value and a fundamental quantity?\n",
       "1. Price multiples\n",
       "2. Earnings indicators\n",
       "3. Dividend yield\n",
       "4. Market beta\n",
       "\n",
       "__Price multiples__ are valuation indicators that summarize in a single number the relationship between the market value of a company's stock or total capital and a fundamental quantity like earnings, sales, or book value."
      ],
      "text/plain": [
       "<IPython.core.display.Markdown object>"
      ]
     },
     "metadata": {},
     "output_type": "display_data"
    },
    {
     "name": "stdout",
     "output_type": "stream",
     "text": [
      "==================================================\n"
     ]
    },
    {
     "data": {
      "text/markdown": [
       "Query 36 for MarketBasedValuationPriceandEnterpriseValueMultiples2018Summary:\n",
       "\n",
       "What are some common themes related to the use of price and enterprise value multiples as valuation tools?\n",
       "\n",
       "A) Multiples summarize the relationship between market value and fundamental quantity in a single number.\n",
       "B) Multiples are complex and difficult to communicate to investors.\n",
       "C) Momentum indicators are the only type of valuation indicators related to individual securities.\n",
       "D) Using multiples as valuation tools does not require any considerations about investors' expectations.\n",
       "\n",
       "_**A) Multiples summarize the relationship between market value and fundamental quantity in a single number.**_"
      ],
      "text/plain": [
       "<IPython.core.display.Markdown object>"
      ]
     },
     "metadata": {},
     "output_type": "display_data"
    },
    {
     "name": "stdout",
     "output_type": "stream",
     "text": [
      "==================================================\n"
     ]
    },
    {
     "data": {
      "text/markdown": [
       "Query 37 for MarketBasedValuationPriceandEnterpriseValueMultiples2018Summary:\n",
       "\n",
       "What are some key characteristics of price multiples and enterprise value multiples as valuation tools?\n",
       "\n",
       "A) They provide a snapshot of the relationship between market value and fundamental quantity\n",
       "B) They are complex and difficult to communicate effectively\n",
       "C) They do not consider company's earnings, sales, or book value\n",
       "D) They do not provide insights on potential future investment opportunities\n",
       "\n",
       "**_Correct answer: A) They provide a snapshot of the relationship between market value and fundamental quantity_**"
      ],
      "text/plain": [
       "<IPython.core.display.Markdown object>"
      ]
     },
     "metadata": {},
     "output_type": "display_data"
    },
    {
     "name": "stdout",
     "output_type": "stream",
     "text": [
      "==================================================\n"
     ]
    },
    {
     "data": {
      "text/markdown": [
       "Query 38 for MarketBasedValuationPriceandEnterpriseValueMultiples2018Summary:\n",
       "\n",
       "What are some common themes in the use of price and enterprise value multiples as valuation tools?\n",
       "\n",
       "1. Multiples summarize the relationship between market value and fundamental value per share.\n",
       "2. Price multiples focus exclusively on long-term investment strategies.\n",
       "3. Enterprise value multiples are based on the historical performance of a company.\n",
       "4. Momentum indicators provide information on past stock price movements.\n",
       "\n",
       "_1. Multiples summarize the relationship between market value and fundamental value per share._"
      ],
      "text/plain": [
       "<IPython.core.display.Markdown object>"
      ]
     },
     "metadata": {},
     "output_type": "display_data"
    },
    {
     "name": "stdout",
     "output_type": "stream",
     "text": [
      "==================================================\n"
     ]
    },
    {
     "data": {
      "text/markdown": [
       "Query 39 for MarketBasedValuationPriceandEnterpriseValueMultiples2018Summary:\n",
       "\n",
       "What type of valuation indicators are price and enterprise value multiples considered to be?\n",
       "a) Indicators of profitability\n",
       "b) Momentum indicators\n",
       "c) Indicators of value\n",
       "d) Technical indicators\n",
       "\n",
       "The correct answer is: c) Indicators of value"
      ],
      "text/plain": [
       "<IPython.core.display.Markdown object>"
      ]
     },
     "metadata": {},
     "output_type": "display_data"
    },
    {
     "name": "stdout",
     "output_type": "stream",
     "text": [
      "==================================================\n"
     ]
    },
    {
     "data": {
      "text/markdown": [
       "Query 40 for MarketBasedValuationPriceandEnterpriseValueMultiples2018Summary:\n",
       "\n",
       "What is the primary intuition behind price multiples and enterprise value multiples as valuation tools?\n",
       "\n",
       "A) To compare a stock's market price to fundamental value per share\n",
       "B) To evaluate a company's total market value in relation to its EBITDA\n",
       "C) To assess a stock's price based on its historical performance\n",
       "D) To determine a company's intrinsic value based on future earnings\n",
       "\n",
       "**_Please choose the correct option._**"
      ],
      "text/plain": [
       "<IPython.core.display.Markdown object>"
      ]
     },
     "metadata": {},
     "output_type": "display_data"
    },
    {
     "name": "stdout",
     "output_type": "stream",
     "text": [
      "==================================================\n"
     ]
    },
    {
     "data": {
      "text/markdown": [
       "Query 41 for MarketBasedValuationPriceandEnterpriseValueMultiples2018Summary:\n",
       "\n",
       "What is the focus of momentum indicators?\n",
       "a) Relating market value of a company's stock to fundamental quantities\n",
       "b) Identifying potentially rewarding investment opportunities\n",
       "c) Communicating the relationship between market value and fundamental quantity\n",
       "d) Evaluating the market value of an entire enterprise\n",
       "\n",
       "Correct answer: b) Identifying potentially rewarding investment opportunities"
      ],
      "text/plain": [
       "<IPython.core.display.Markdown object>"
      ]
     },
     "metadata": {},
     "output_type": "display_data"
    },
    {
     "name": "stdout",
     "output_type": "stream",
     "text": [
      "==================================================\n"
     ]
    },
    {
     "data": {
      "text/markdown": [
       "Query 42 for MarketBasedValuationPriceandEnterpriseValueMultiples2018Summary:\n",
       "\n",
       "What is the purpose of using price multiples and enterprise value multiples as valuation tools?\n",
       "\n",
       "A) To evaluate the market value of an entire enterprise relative to its expected value  \n",
       "B) To identify potentially rewarding investment opportunities  \n",
       "C) To provide a single number summarizing the relationship between market value and some fundamental quantity  \n",
       "D) To predict future stock prices based on historical data  \n",
       "\n",
       "Correct answer: C) To provide a single number summarizing the relationship between market value and some fundamental quantity"
      ],
      "text/plain": [
       "<IPython.core.display.Markdown object>"
      ]
     },
     "metadata": {},
     "output_type": "display_data"
    },
    {
     "name": "stdout",
     "output_type": "stream",
     "text": [
      "==================================================\n"
     ]
    },
    {
     "data": {
      "text/markdown": [
       "Query 43 for MarketBasedValuationPriceandEnterpriseValueMultiples2018Summary:\n",
       "\n",
       "What are some common themes related to the use of price and enterprise value multiples as valuation tools?\n",
       "\n",
       "A) Multiples quantify the relationship between a company's market value and fundamental quantities like earnings or sales.\n",
       "B) Multiples are complex and difficult to interpret for investors.\n",
       "C) Multiples are unique to each company and cannot be compared across industries.\n",
       "D) Multiples are not widely used by investors for valuation purposes.\n",
       "\n",
       "**_A) Multiples quantify the relationship between a company's market value and fundamental quantities like earnings or sales._**"
      ],
      "text/plain": [
       "<IPython.core.display.Markdown object>"
      ]
     },
     "metadata": {},
     "output_type": "display_data"
    },
    {
     "name": "stdout",
     "output_type": "stream",
     "text": [
      "==================================================\n"
     ]
    },
    {
     "data": {
      "text/markdown": [
       "Query 44 for MarketBasedValuationPriceandEnterpriseValueMultiples2018Summary:\n",
       "\n",
       "What is the main difference between price multiples and enterprise value multiples as valuation tools?\n",
       "\n",
       "A) Price multiples focus on the market price of a stock, while enterprise value multiples focus on the total market value of all sources of a company’s capital.\n",
       "B) Price multiples relate the value of an entire enterprise to a measure of fundamental value, while enterprise value multiples relate a stock’s market price to earnings.\n",
       "C) Price multiples summarize in a single number the market value of a company’s stock, while enterprise value multiples summarize the relationship between market value and book value.\n",
       "D) Price multiples evaluate the market value of an entire enterprise relative to earnings, while enterprise value multiples evaluate the price of a share of stock in terms of per share earnings.\n",
       "\n",
       "_**Correct answer: A) Price multiples focus on the market price of a stock, while enterprise value multiples focus on the total market value of all sources of a company’s capital.**_"
      ],
      "text/plain": [
       "<IPython.core.display.Markdown object>"
      ]
     },
     "metadata": {},
     "output_type": "display_data"
    },
    {
     "name": "stdout",
     "output_type": "stream",
     "text": [
      "==================================================\n"
     ]
    },
    {
     "data": {
      "text/markdown": [
       "Query 45 for MarketBasedValuationPriceandEnterpriseValueMultiples2018Summary:\n",
       "\n",
       "What type of valuation tools are price and enterprise value multiples?\n",
       "1. Quantitative indicators\n",
       "2. Qualitative indicators\n",
       "3. Valuation indicators\n",
       "4. Benchmarking indicators\n",
       "\n",
       "The correct option is: 3. Valuation indicators"
      ],
      "text/plain": [
       "<IPython.core.display.Markdown object>"
      ]
     },
     "metadata": {},
     "output_type": "display_data"
    },
    {
     "name": "stdout",
     "output_type": "stream",
     "text": [
      "==================================================\n"
     ]
    },
    {
     "data": {
      "text/markdown": [
       "Query 46 for MarketBasedValuationPriceandEnterpriseValueMultiples2018Summary:\n",
       "\n",
       "1. What are price multiples and enterprise value multiples commonly used for?\n",
       "   A. Analyzing market volatility\n",
       "   B. Predicting interest rates\n",
       "   C. Evaluating a stock's valuation\n",
       "   D. Assessing political risk\n",
       "**_Correct answer: C. Evaluating a stock's valuation_**\n",
       "\n",
       "2. How do price multiples and enterprise value multiples differ?\n",
       "   A. Price multiples focus on market value, while enterprise value multiples focus on total capital value\n",
       "   B. Price multiples relate to earnings before interest, taxes, depreciation, and amortization (EBITDA), while enterprise value multiples relate to per share earnings\n",
       "   C. Price multiples are used internationally, while enterprise value multiples are only used domestically\n",
       "   D. Price multiples are complex to calculate, while enterprise value multiples are simple to use\n",
       "**_Correct answer: A. Price multiples focus on market value, while enterprise value multiples focus on total capital value_**\n",
       "\n",
       "3. What is the main appeal of using multiples as valuation tools?\n",
       "   A. Simplicity in use and ease in communication\n",
       "   B. Complexity in calculation for accurate results\n",
       "   C. Ambiguity in interpretation for strategic advantage\n",
       "   D. Lack of relevance to a company's financial performance\n",
       "**_Correct answer: A. Simplicity in use and ease in communication_**\n",
       "\n",
       "4. How do momentum indicators differ from price and enterprise value multiples?\n",
       "   A. Momentum indicators focus on past values, while multiples focus on future expectations\n",
       "   B. Momentum indicators are used for long-term investment, while multiples are for short-term trading\n",
       "   C. Momentum indicators relate to market value, while multiples relate to financial performance\n",
       "   D. Momentum indicators provide information on future returns, while multiples assess current value\n",
       "**_Correct answer: A. Momentum indicators focus on past values, while multiples focus on future expectations_**"
      ],
      "text/plain": [
       "<IPython.core.display.Markdown object>"
      ]
     },
     "metadata": {},
     "output_type": "display_data"
    },
    {
     "name": "stdout",
     "output_type": "stream",
     "text": [
      "==================================================\n"
     ]
    },
    {
     "data": {
      "text/markdown": [
       "Query 47 for MarketBasedValuationPriceandEnterpriseValueMultiples2018Summary:\n",
       "\n",
       "1. Which valuation tool relates the total market value of all sources of a company’s capital to a measure of fundamental value for the entire company?\n",
       "   A. Price multiples\n",
       "   B. Valuation indicators\n",
       "   C. Enterprise value multiples\n",
       "   D. Momentum indicators\n",
       "\n",
       "2. What do price multiples relate a stock’s market price to?\n",
       "   A. Past values\n",
       "   B. Expected values\n",
       "   C. Fundamental values per share\n",
       "   D. Enterprise value indicators\n",
       "\n",
       "3. What information do momentum indicators provide regarding future patterns of returns?\n",
       "   A. Historical returns\n",
       "   B. Past earnings\n",
       "   C. Future earnings\n",
       "   D. Potential investment opportunities\n",
       "\n",
       "4. How are price multiples summarized?\n",
       "   A. In a single number relationship between market value and fundamentals\n",
       "   B. By comparing sales to earnings\n",
       "   C. By evaluating expected values\n",
       "   D. By considering historical patterns of returns"
      ],
      "text/plain": [
       "<IPython.core.display.Markdown object>"
      ]
     },
     "metadata": {},
     "output_type": "display_data"
    },
    {
     "name": "stdout",
     "output_type": "stream",
     "text": [
      "==================================================\n"
     ]
    },
    {
     "data": {
      "text/markdown": [
       "Query 48 for MarketBasedValuationPriceandEnterpriseValueMultiples2018Summary:\n",
       "\n",
       "Which section of the reading discusses momentum indicators used as valuation tools?\n",
       "\n",
       "1. Section 2 on economic context\n",
       "2. Section 4 on enterprise value multiples\n",
       "3. Section 5 on international considerations\n",
       "4. Section 6 on momentum indicators\n",
       "\n",
       "_**Correct:** Section 6 on momentum indicators_"
      ],
      "text/plain": [
       "<IPython.core.display.Markdown object>"
      ]
     },
     "metadata": {},
     "output_type": "display_data"
    },
    {
     "name": "stdout",
     "output_type": "stream",
     "text": [
      "==================================================\n"
     ]
    },
    {
     "data": {
      "text/markdown": [
       "Query 49 for MarketBasedValuationPriceandEnterpriseValueMultiples2018Summary:\n",
       "\n",
       "Which of the following is true about price and enterprise value multiples as valuation tools?\n",
       "\n",
       "A) Price multiples compare the market value of a company's stock to its total capital value.\n",
       "B) Enterprise value multiples relate a stock's market price to some measure of fundamental value per share.\n",
       "C) Price multiples summarize the relationship between a company's market value and some fundamental quantity on a per-share basis.\n",
       "D) Enterprise value multiples focus on evaluating the market value of an entire enterprise in isolation.\n",
       "\n",
       "_The correct answer is C) Price multiples summarize the relationship between a company's market value and some fundamental quantity on a per-share basis._"
      ],
      "text/plain": [
       "<IPython.core.display.Markdown object>"
      ]
     },
     "metadata": {},
     "output_type": "display_data"
    },
    {
     "name": "stdout",
     "output_type": "stream",
     "text": [
      "==================================================\n"
     ]
    },
    {
     "data": {
      "text/markdown": [
       "Query 50 for MarketBasedValuationPriceandEnterpriseValueMultiples2018Summary:\n",
       "\n",
       "What is the focus of momentum indicators in securities selection?\n",
       "1. Comparing market value of stock to fundamental quantity\n",
       "2. Evaluating the market value of an entire enterprise\n",
       "3. Identifying potentially rewarding investment opportunities\n",
       "4. Analyzing past values of earnings per share\n",
       "\n",
       "Correct answer: _3. Identifying potentially rewarding investment opportunities_"
      ],
      "text/plain": [
       "<IPython.core.display.Markdown object>"
      ]
     },
     "metadata": {},
     "output_type": "display_data"
    },
    {
     "name": "stdout",
     "output_type": "stream",
     "text": [
      "==================================================\n"
     ]
    }
   ],
   "source": [
    "from openai import OpenAI\n",
    "\n",
    "# Initialize OpenAI API key\n",
    "api_key = os.getenv(\"api_key\")\n",
    "\n",
    "# Adjust the query to indicate the need for 50 questions with answers\n",
    "query = \"Generate questions and answers with 4 options each, with the correct option being bold, based on the Introduction Summary. Provide 50 questions along with their answers.\"\n",
    "\n",
    "embed_model = \"text-embedding-3-small\"  \n",
    "\n",
    "# Generate the embedding for the query\n",
    "client = OpenAI(api_key=api_key)\n",
    "res = client.embeddings.create(\n",
    "    model=embed_model,\n",
    "    input=query\n",
    ")\n",
    "\n",
    "# Retrieve the embedding from the response\n",
    "embedding_vector = res.data[0].embedding\n",
    "\n",
    "from IPython.display import Markdown\n",
    "\n",
    "primer = \"\"\"You are a Q&A bot, designed to provide intelligent answers based on the information provided. If the information is not available, you truthfully say, \"I don't know\".\"\"\"\n",
    "\n",
    "# Initialize the list of augmented queries with answers\n",
    "augmented_queries_MarketBasedValuationPriceandEnterpriseValueMultiples2018Summary = []\n",
    "\n",
    "# Increase the top_k parameter to retrieve more documents\n",
    "query_result_MarketBasedValuationPriceandEnterpriseValueMultiples2018Summary = index.query(vector=embedding_vector, top_k=20, namespace=\"MarketBasedValuationPriceandEnterpriseValueMultiples2018Summary\", include_metadata=True)\n",
    "\n",
    "# Get list of retrieved text from the query result\n",
    "contexts_MarketBasedValuationPriceandEnterpriseValueMultiples2018Summary = [item['metadata']['text'] for item in query_result_MarketBasedValuationPriceandEnterpriseValueMultiples2018Summary['matches']]\n",
    "\n",
    "# Loop through each context and generate questions with answers\n",
    "total_questions = 0\n",
    "for context in contexts_MarketBasedValuationPriceandEnterpriseValueMultiples2018Summary:\n",
    "    # Check if we have already generated 50 questions\n",
    "    if total_questions >= 50:\n",
    "        break\n",
    "\n",
    "    for _ in range(2):  # Run the loop twice for each context\n",
    "        # Check if we have already generated 50 questions\n",
    "        if total_questions >= 50:\n",
    "            break\n",
    "\n",
    "        # Update the message to request questions with answers\n",
    "        messages = [{\"role\": \"system\", \"content\": primer}, {\"role\": \"user\", \"content\": context + \" Generate questions with 4 options and underline the correct one.\"}]\n",
    "        res = client.chat.completions.create(\n",
    "            model=\"gpt-3.5-turbo\",\n",
    "            messages=messages,\n",
    "            max_tokens=1500,  \n",
    "            n=25  # Number of completions (questions with answers) to generate per iteration\n",
    "        )\n",
    "\n",
    "        # Append the generated questions and answers to the list\n",
    "        for choice in res.choices:\n",
    "            augmented_queries_MarketBasedValuationPriceandEnterpriseValueMultiples2018Summary.append(choice.message.content)\n",
    "            total_questions += 1\n",
    "            if total_questions >= 50:\n",
    "                break\n",
    "\n",
    "\n",
    "# Display the augmented queries with answers\n",
    "for idx, query in enumerate(augmented_queries_MarketBasedValuationPriceandEnterpriseValueMultiples2018Summary):\n",
    "    display(Markdown(f\"Query {idx + 1} for MarketBasedValuationPriceandEnterpriseValueMultiples2018Summary:\\n\\n{query}\"))\n",
    "    print(\"=\" * 50)\n",
    "\n",
    "\n"
   ]
  },
  {
   "cell_type": "markdown",
   "metadata": {},
   "source": [
    "## Storing the 50 Q&A for Market Based Valuation Price and Enterprise Value Multiples 2018 (SetA)"
   ]
  },
  {
   "cell_type": "code",
   "execution_count": 27,
   "metadata": {},
   "outputs": [
    {
     "name": "stdout",
     "output_type": "stream",
     "text": [
      "Upserted 50 questions and answers into Pinecone index under namespace 'SetA_MarketBasedValuationPriceandEnterpriseValueMultiples2018Summary'.\n"
     ]
    }
   ],
   "source": [
    "from openai import OpenAI\n",
    "\n",
    "# Initialize OpenAI API key\n",
    "api_key = os.getenv(\"api_key\")\n",
    "client = OpenAI(api_key=api_key)\n",
    "\n",
    "import uuid\n",
    "\n",
    "# Assuming 'augmented_queries_MarketBasedValuationPriceandEnterpriseValueMultiples2018Summary' is already a list of tuples (question, answer)\n",
    "augmented_queries = augmented_queries_MarketBasedValuationPriceandEnterpriseValueMultiples2018Summary  # Directly use the list\n",
    "\n",
    "# Function to create embeddings with retry logic\n",
    "def create_embeddings_with_retry(texts, model, max_retries=5):\n",
    "    retries = 0\n",
    "    while retries < max_retries:\n",
    "        try:\n",
    "            # Ensure that 'input' is a list of strings\n",
    "            if not isinstance(texts, list):\n",
    "                texts = [texts]\n",
    "            return client.embeddings.create(input=texts, model=model)\n",
    "        except Exception as e:\n",
    "            print(f\"Attempt {retries + 1}: Encountered an error - {e}\")\n",
    "            sleep(5)  # wait before retrying\n",
    "            retries += 1\n",
    "    raise Exception(f\"Failed to create embeddings after {max_retries} retries.\")\n",
    "\n",
    "# Extract questions and answers for embedding\n",
    "texts_to_embed = [qa[0] + \" \" + qa[1] for qa in augmented_queries]  # Combine questions and answers for embedding\n",
    "\n",
    "# Generate embeddings for the questions and answers\n",
    "embed_model = \"text-embedding-3-small\"\n",
    "qa_embeddings = create_embeddings_with_retry(texts_to_embed, embed_model)\n",
    "\n",
    "# Prepare data for Pinecone upsert\n",
    "upsert_data = []\n",
    "for idx, qa_combined in enumerate(augmented_queries):\n",
    "    if not isinstance(qa_combined, str):\n",
    "        print(f\"Skipping item at index {idx} because it is not a string.\")\n",
    "        continue\n",
    "\n",
    "    # Assuming you have a way to split qa_combined into question and answer\n",
    "    parts = qa_combined.split('?', 1)\n",
    "    question = parts[0].strip() + '?'\n",
    "    answer = parts[1].strip() if len(parts) > 1 else \"\"\n",
    "\n",
    "    # Proceed to create embeddings and upsert to Pinecone as before\n",
    "    # Generate a unique ID for each query-answer pair\n",
    "    qa_id = str(uuid.uuid4())\n",
    "    \n",
    "    # Assuming you have already generated embeddings for all QA pairs\n",
    "    embed = qa_embeddings.data[idx].embedding\n",
    "    \n",
    "    # Prepare the upsert data with metadata\n",
    "    upsert_data.append((qa_id, embed, {'question': question, 'answer': answer}))\n",
    "\n",
    "# Perform the upsert operation to Pinecone\n",
    "namespace = \"SetA_MarketBasedValuationPriceandEnterpriseValueMultiples2018Summary\"  \n",
    "index.upsert(vectors=upsert_data, namespace=namespace)\n",
    "\n",
    "print(f\"Upserted {len(upsert_data)} questions and answers into Pinecone index under namespace '{namespace}'.\")"
   ]
  },
  {
   "cell_type": "markdown",
   "metadata": {},
   "source": [
    "## Generating 50 Questions for the Market Based Valuation Price and Enterprise Valyue Multiples 2018 (SetB)"
   ]
  },
  {
   "cell_type": "code",
   "execution_count": 28,
   "metadata": {},
   "outputs": [
    {
     "name": "stdout",
     "output_type": "stream",
     "text": [
      "Output saved to SetB_MarketBasedValuationPriceandEnterpriseValueMultiples2018Summary_Questions.txt\n"
     ]
    }
   ],
   "source": [
    "from openai import OpenAI\n",
    "\n",
    "# Initialize OpenAI API key\n",
    "api_key = os.getenv(\"api_key\")\n",
    "\n",
    "# Adjust the query to indicate the need for 50 questions with answers\n",
    "query = \"Generate 50 questions and answers with 4 options each, with the correct option being bold, based on the Introduction Summary.\"\n",
    "\n",
    "embed_model = \"text-embedding-3-small\"  \n",
    "\n",
    "# Generate the embedding for the query\n",
    "client = OpenAI(api_key=api_key)\n",
    "res = client.embeddings.create(\n",
    "    model=embed_model,\n",
    "    input=query\n",
    ")\n",
    "\n",
    "# Retrieve the embedding from the response\n",
    "embedding_vector = res.data[0].embedding\n",
    "\n",
    "from IPython.display import Markdown\n",
    "\n",
    "primer = \"\"\"You are a Q&A bot, designed to provide intelligent answers based on the information provided. If the information is not available, you truthfully say, \"I don't know\".\"\"\"\n",
    "\n",
    "# Initialize the list of augmented queries with answers\n",
    "augmented_queries_MarketBasedValuationPriceandEnterpriseValueMultiples2018Summary = []\n",
    "\n",
    "# Increase the top_k parameter to retrieve more documents\n",
    "query_result_MarketBasedValuationPriceandEnterpriseValueMultiples2018Summary = index.query(vector=embedding_vector, top_k=20, namespace=\"MarketBasedValuationPriceandEnterpriseValueMultiples2018Summary\", include_metadata=True)\n",
    "\n",
    "# Get list of retrieved text from the query result\n",
    "contexts_MarketBasedValuationPriceandEnterpriseValueMultiples2018Summary = [item['metadata']['text'] for item in query_result_MarketBasedValuationPriceandEnterpriseValueMultiples2018Summary['matches']]\n",
    "\n",
    "# Loop through each context and generate questions with answers\n",
    "total_questions = 0\n",
    "for context in contexts_MarketBasedValuationPriceandEnterpriseValueMultiples2018Summary:\n",
    "    # Check if we have already generated 50 questions\n",
    "    if total_questions >= 50:\n",
    "        break\n",
    "\n",
    "    for _ in range(2):  # Run the loop twice for each context\n",
    "        # Check if we have already generated 50 questions\n",
    "        if total_questions >= 50:\n",
    "            break\n",
    "\n",
    "        # Update the message to request questions with answers\n",
    "        messages = [{\"role\": \"system\", \"content\": primer}, {\"role\": \"user\", \"content\": context + \" Generate questions with 4 options and underline the correct one.\"}]\n",
    "        res = client.chat.completions.create(\n",
    "            model=\"gpt-3.5-turbo\",\n",
    "            messages=messages,\n",
    "            max_tokens=1500, \n",
    "            n=25  # Number of completions (questions with answers) to generate per iteration\n",
    "        )\n",
    "\n",
    "        # Append the generated questions and answers to the list\n",
    "        for choice in res.choices:\n",
    "            augmented_queries_MarketBasedValuationPriceandEnterpriseValueMultiples2018Summary.append(choice.message.content)\n",
    "            total_questions += 1\n",
    "            if total_questions >= 50:\n",
    "                break\n",
    "\n",
    "\n",
    "# File path for the output file\n",
    "file_path = \"SetB_MarketBasedValuationPriceandEnterpriseValueMultiples2018Summary_Questions.txt\"\n",
    "\n",
    "# Save the augmented queries with answers to a text file\n",
    "with open(file_path, 'w', encoding='utf-8') as file:\n",
    "    for idx, query in enumerate(augmented_queries_MarketBasedValuationPriceandEnterpriseValueMultiples2018Summary):\n",
    "        file_content = f\"Query {idx + 1} for MarketBasedValuationPriceandEnterpriseValueMultiples2018Summary:\\n\\n{query}\\n\"\n",
    "        file.write(file_content)\n",
    "        file.write(\"=\" * 50 + \"\\n\")\n",
    "\n",
    "print(f\"Output saved to {file_path}\")\n"
   ]
  },
  {
   "cell_type": "markdown",
   "metadata": {},
   "source": [
    "## Generating the 50 Q&A for the Residual Income Valuation 2018 (SetA)"
   ]
  },
  {
   "cell_type": "code",
   "execution_count": 29,
   "metadata": {},
   "outputs": [
    {
     "data": {
      "text/markdown": [
       "Query 1 for ResidualIncomeValuation2018Summary:\n",
       "\n",
       "What is the focus of residual income models in equity valuation?\n",
       "\n",
       "A) Ignoring common shareholders' opportunity cost  \n",
       "**B) Recognizing costs of all capital used in generating income**  \n",
       "C) Overstating a company's net income  \n",
       "D) Excluding the cost of equity capital"
      ],
      "text/plain": [
       "<IPython.core.display.Markdown object>"
      ]
     },
     "metadata": {},
     "output_type": "display_data"
    },
    {
     "name": "stdout",
     "output_type": "stream",
     "text": [
      "==================================================\n"
     ]
    },
    {
     "data": {
      "text/markdown": [
       "Query 2 for ResidualIncomeValuation2018Summary:\n",
       "\n",
       "What historical concept does residual income date back to?\n",
       "\n",
       "A) Principles of Economics by Alfred Marshall\n",
       "B) Management Accounting Principles by Young\n",
       "C) Cost Accounting Practices by Lo and Lys\n",
       "D) Economic Value Added Concepts\n",
       "\n",
       "The correct answer is _A) Principles of Economics by Alfred Marshall_."
      ],
      "text/plain": [
       "<IPython.core.display.Markdown object>"
      ]
     },
     "metadata": {},
     "output_type": "display_data"
    },
    {
     "name": "stdout",
     "output_type": "stream",
     "text": [
      "==================================================\n"
     ]
    },
    {
     "data": {
      "text/markdown": [
       "Query 3 for ResidualIncomeValuation2018Summary:\n",
       "\n",
       "What are some questions you can generate with 4 options to test understanding of the concept of residual income models presented in the text?\n",
       "\n",
       "1. What is residual income?\n",
       "   A) Net income minus cost of debt capital\n",
       "   B) Remaining income after deducting cost of equity capital\n",
       "   C) Gross income before any deductions\n",
       "   D) Income calculated after excluding operating expenses\n",
       "\n",
       "2. Why do residual income models offer advantages over traditional accounting methods?\n",
       "   A) They do not consider any costs\n",
       "   B) They factor in all costs of capital\n",
       "   C) They ignore the cost of equity capital\n",
       "   D) They solely rely on the income statement\n",
       "\n",
       "3. Which historical figure is associated with the concept of residual income?\n",
       "   A) Alfred Marshall\n",
       "   B) John Maynard Keynes\n",
       "   C) Adam Smith\n",
       "   D) Karl Marx\n",
       "\n",
       "4. How do residual income models contribute to estimating the intrinsic value of common stock?\n",
       "   A) They focus only on current earnings\n",
       "   B) They do not consider the cost of capital\n",
       "   C) They discount future income streams to present value\n",
       "   D) They solely rely on the book value of assets\n",
       "\n",
       "_1. B\n",
       "_2. B\n",
       "_3. A\n",
       "_4. C"
      ],
      "text/plain": [
       "<IPython.core.display.Markdown object>"
      ]
     },
     "metadata": {},
     "output_type": "display_data"
    },
    {
     "name": "stdout",
     "output_type": "stream",
     "text": [
      "==================================================\n"
     ]
    },
    {
     "data": {
      "text/markdown": [
       "Query 4 for ResidualIncomeValuation2018Summary:\n",
       "\n",
       "What is the history of residual income as described in the text?\n",
       "\n",
       "A) Alfred Marshall introduced the concept of residual income in the late 1800s.\n",
       "B) General Motors utilized residual income in evaluating business segments in the 1920s.\n",
       "C) Residual income has been alternatively referred to as economic profit, abnormal earnings, or economic value added.\n",
       "D) All of the above.\n",
       "\n",
       "**Correct answer: D) All of the above.**"
      ],
      "text/plain": [
       "<IPython.core.display.Markdown object>"
      ]
     },
     "metadata": {},
     "output_type": "display_data"
    },
    {
     "name": "stdout",
     "output_type": "stream",
     "text": [
      "==================================================\n"
     ]
    },
    {
     "data": {
      "text/markdown": [
       "Query 5 for ResidualIncomeValuation2018Summary:\n",
       "\n",
       "What historical figure is credited with the development of the concept of residual income?\n",
       "A) John Maynard Keynes\n",
       "B) Adam Smith\n",
       "C) Alfred Marshall\n",
       "D) Karl Marx\n",
       "\n",
       "**_C) Alfred Marshall_**"
      ],
      "text/plain": [
       "<IPython.core.display.Markdown object>"
      ]
     },
     "metadata": {},
     "output_type": "display_data"
    },
    {
     "name": "stdout",
     "output_type": "stream",
     "text": [
      "==================================================\n"
     ]
    },
    {
     "data": {
      "text/markdown": [
       "Query 6 for ResidualIncomeValuation2018Summary:\n",
       "\n",
       "What are some of the key points related to residual income models and their application in valuation of common stock?\n",
       "\n",
       "A. Residual income is calculated as net income minus the cost of debt capital only.  \n",
       "B. Residual income models do not consider the costs of all capital used in generating income.  \n",
       "C. Residual income models can help in estimating the intrinsic value of common stock.  \n",
       "D. Residual income has no historical significance or economic concept.  \n",
       "\n",
       "__C. Residual income models can help in estimating the intrinsic value of common stock.__"
      ],
      "text/plain": [
       "<IPython.core.display.Markdown object>"
      ]
     },
     "metadata": {},
     "output_type": "display_data"
    },
    {
     "name": "stdout",
     "output_type": "stream",
     "text": [
      "==================================================\n"
     ]
    },
    {
     "data": {
      "text/markdown": [
       "Query 7 for ResidualIncomeValuation2018Summary:\n",
       "\n",
       "What is the historical background of residual income?\n",
       "\n",
       "A) Residual income models were first introduced in the mid-1900s.\n",
       "\n",
       "B) Residual income has been used in business evaluations since the 18th century.\n",
       "\n",
       "C) Alfred Marshall introduced the concept of residual income in the late 1800s.\n",
       "\n",
       "D) General Motors pioneered the use of residual income in the early 1900s.\n",
       "\n",
       "**_Correct answer: C) Alfred Marshall introduced the concept of residual income in the late 1800s._**"
      ],
      "text/plain": [
       "<IPython.core.display.Markdown object>"
      ]
     },
     "metadata": {},
     "output_type": "display_data"
    },
    {
     "name": "stdout",
     "output_type": "stream",
     "text": [
      "==================================================\n"
     ]
    },
    {
     "data": {
      "text/markdown": [
       "Query 8 for ResidualIncomeValuation2018Summary:\n",
       "\n",
       "What historical concept provides the foundation for residual income models of equity value?\n",
       "\n",
       "A) Cost of Equity Capital\n",
       "B) Economic Profit\n",
       "C) Return on Investment\n",
       "D) Net Income\n",
       "\n",
       "The correct answer is _B) Economic Profit_."
      ],
      "text/plain": [
       "<IPython.core.display.Markdown object>"
      ]
     },
     "metadata": {},
     "output_type": "display_data"
    },
    {
     "name": "stdout",
     "output_type": "stream",
     "text": [
      "==================================================\n"
     ]
    },
    {
     "data": {
      "text/markdown": [
       "Query 9 for ResidualIncomeValuation2018Summary:\n",
       "\n",
       "What are some questions related to residual income models that can be generated with 4 options each?\n",
       "\n",
       "1. How is residual income defined?\n",
       "   A) Net income minus interest expense\n",
       "   B) Net income minus cost of equity capital\n",
       "   C) Net income minus cost of debt capital\n",
       "   D) Net income plus all capital costs\n",
       "   \n",
       "2. Why is residual income considered an important concept in valuation?\n",
       "   A) It reflects only the cost of debt capital\n",
       "   B) It excludes the cost of equity capital\n",
       "   C) It captures the remaining income after all capital costs\n",
       "   D) It overestimates a company's true value\n",
       "   \n",
       "3. What historical references are linked to residual income?\n",
       "   A) Developed by General Motors in the 1920s\n",
       "   B) Introduced by Alfred Marshall in the late 1800s\n",
       "   C) A concept of economic profit in recent years\n",
       "   D) Referred to as abnormal earnings in the past\n",
       "   \n",
       "4. What does the reading focus on regarding residual income models?\n",
       "   A) Internal corporate performance measurement\n",
       "   B) Estimating intrinsic value of common stock\n",
       "   C) Application in practice problems\n",
       "   D) Highlighting accounting issues"
      ],
      "text/plain": [
       "<IPython.core.display.Markdown object>"
      ]
     },
     "metadata": {},
     "output_type": "display_data"
    },
    {
     "name": "stdout",
     "output_type": "stream",
     "text": [
      "==================================================\n"
     ]
    },
    {
     "data": {
      "text/markdown": [
       "Query 10 for ResidualIncomeValuation2018Summary:\n",
       "\n",
       "What is the historical background of residual income models?  \n",
       "A) Residual income models were first introduced in the 1990s.  \n",
       "B) The concept of residual income dates back to the late 1800s.  \n",
       "C) General Motors popularized the concept of residual income in the 1950s.  \n",
       "D) Residual income was initially proposed by a modern economist.  \n",
       "\n",
       "**B) The concept of residual income dates back to the late 1800s.**"
      ],
      "text/plain": [
       "<IPython.core.display.Markdown object>"
      ]
     },
     "metadata": {},
     "output_type": "display_data"
    },
    {
     "name": "stdout",
     "output_type": "stream",
     "text": [
      "==================================================\n"
     ]
    },
    {
     "data": {
      "text/markdown": [
       "Query 11 for ResidualIncomeValuation2018Summary:\n",
       "\n",
       "What is the main appeal of residual income models in equity valuation?\n",
       "a) They ignore the costs of all capital used\n",
       "b) They explicitly recognize the costs of all capital used\n",
       "c) They focus only on short-term financial performance\n",
       "d) They do not consider the cost of equity capital\n",
       "\n",
       "**Correct answer: b) They explicitly recognize the costs of all the capital used**"
      ],
      "text/plain": [
       "<IPython.core.display.Markdown object>"
      ]
     },
     "metadata": {},
     "output_type": "display_data"
    },
    {
     "name": "stdout",
     "output_type": "stream",
     "text": [
      "==================================================\n"
     ]
    },
    {
     "data": {
      "text/markdown": [
       "Query 12 for ResidualIncomeValuation2018Summary:\n",
       "\n",
       "What are some of the questions you would like me to generate for you?"
      ],
      "text/plain": [
       "<IPython.core.display.Markdown object>"
      ]
     },
     "metadata": {},
     "output_type": "display_data"
    },
    {
     "name": "stdout",
     "output_type": "stream",
     "text": [
      "==================================================\n"
     ]
    },
    {
     "data": {
      "text/markdown": [
       "Query 13 for ResidualIncomeValuation2018Summary:\n",
       "\n",
       "What century did the concept of residual income originate in?\n",
       "1. 18th century\n",
       "2. 19th century\n",
       "3. 20th century\n",
       "4. 21st century\n",
       "\n",
       "**_Answer: 2. 19th century_**"
      ],
      "text/plain": [
       "<IPython.core.display.Markdown object>"
      ]
     },
     "metadata": {},
     "output_type": "display_data"
    },
    {
     "name": "stdout",
     "output_type": "stream",
     "text": [
      "==================================================\n"
     ]
    },
    {
     "data": {
      "text/markdown": [
       "Query 14 for ResidualIncomeValuation2018Summary:\n",
       "\n",
       "What concept has a history dating back to Alfred Marshall in the late 1800s?  \n",
       "A) Economic profit  \n",
       "B) Abnormal earnings  \n",
       "C) Residual income  \n",
       "D) Economic value added  \n",
       "\n",
       "**C) Residual income**"
      ],
      "text/plain": [
       "<IPython.core.display.Markdown object>"
      ]
     },
     "metadata": {},
     "output_type": "display_data"
    },
    {
     "name": "stdout",
     "output_type": "stream",
     "text": [
      "==================================================\n"
     ]
    },
    {
     "data": {
      "text/markdown": [
       "Query 15 for ResidualIncomeValuation2018Summary:\n",
       "\n",
       "What historical concept is residual income linked to?\n",
       "A) Profit margin\n",
       "B) Economic profit\n",
       "C) Gross income\n",
       "D) Operating income\n",
       "\n",
       "_**B) Economic profit**_"
      ],
      "text/plain": [
       "<IPython.core.display.Markdown object>"
      ]
     },
     "metadata": {},
     "output_type": "display_data"
    },
    {
     "name": "stdout",
     "output_type": "stream",
     "text": [
      "==================================================\n"
     ]
    },
    {
     "data": {
      "text/markdown": [
       "Query 16 for ResidualIncomeValuation2018Summary:\n",
       "\n",
       "What is the topic of the reading?\n",
       "A) Historical development of residual income models\n",
       "B) Comparison between residual income and economic profit\n",
       "C) Practical applications of residual income models\n",
       "D) Accounting issues in residual income valuation\n",
       "\n",
       "The correct answer is _A) Historical development of residual income models_."
      ],
      "text/plain": [
       "<IPython.core.display.Markdown object>"
      ]
     },
     "metadata": {},
     "output_type": "display_data"
    },
    {
     "name": "stdout",
     "output_type": "stream",
     "text": [
      "==================================================\n"
     ]
    },
    {
     "data": {
      "text/markdown": [
       "Query 17 for ResidualIncomeValuation2018Summary:\n",
       "\n",
       "What historical concept serves as the foundation for residual income models of equity value?\n",
       "\n",
       "A) Return on Investment (ROI)\n",
       "B) Economic Profit\n",
       "C) Cost of Capital \n",
       "D) Net Income\n",
       "\n",
       "**_Correct answer: B) Economic Profit_**"
      ],
      "text/plain": [
       "<IPython.core.display.Markdown object>"
      ]
     },
     "metadata": {},
     "output_type": "display_data"
    },
    {
     "name": "stdout",
     "output_type": "stream",
     "text": [
      "==================================================\n"
     ]
    },
    {
     "data": {
      "text/markdown": [
       "Query 18 for ResidualIncomeValuation2018Summary:\n",
       "\n",
       "What is the concept of residual income in equity valuation models?\n",
       "A) Residual income is net income plus a charge for common shareholders’ opportunity cost\n",
       "B) Residual income is net income less a charge for common shareholders’ opportunity cost\n",
       "C) Residual income is net income minus all capital costs\n",
       "D) Residual income is the total income a company earns\n",
       "\n",
       "_**B) Residual income is net income less a charge for common shareholders’ opportunity cost**_ \n",
       "\n",
       "What historical influence does residual income have?\n",
       "A) Residual income has no historical significance\n",
       "B) Residual income dates back to the early 2000s\n",
       "C) Residual income originated with General Motors\n",
       "D) Residual income dates back to Alfred Marshall in the late 1800s\n",
       "\n",
       "_**D) Residual income dates back to Alfred Marshall in the late 1800s**_\n",
       "\n",
       "How does the residual income model address the cost of equity capital?\n",
       "A) It does not consider the cost of equity capital\n",
       "B) It explicitly recognizes the cost of equity capital\n",
       "C) It includes the cost of equity capital as part of net income\n",
       "D) It subtracts the cost of equity capital from gross income\n",
       "\n",
       "_**B) It explicitly recognizes the cost of equity capital**_\n",
       "\n",
       "What are some alternative names used for residual income in different contexts?\n",
       "A) Regular income, basic earnings, profit added\n",
       "B) Economic profit, abnormal earnings, economic value added\n",
       "C) Standard profit, surplus earnings, value earned\n",
       "D) Abnormal profit, additional earnings, economic surplus\n",
       "\n",
       "_**B) Economic profit, abnormal earnings, economic value added**_"
      ],
      "text/plain": [
       "<IPython.core.display.Markdown object>"
      ]
     },
     "metadata": {},
     "output_type": "display_data"
    },
    {
     "name": "stdout",
     "output_type": "stream",
     "text": [
      "==================================================\n"
     ]
    },
    {
     "data": {
      "text/markdown": [
       "Query 19 for ResidualIncomeValuation2018Summary:\n",
       "\n",
       "1. Who is credited with the concept of residual income dating back to the late 1800s?\n",
       "   - A) John Smith\n",
       "   - B) Alfred Marshall\n",
       "   - C) Adam Smith\n",
       "   - D) Karl Marx\n",
       "\n",
       "2. What is residual income in the context of equity valuation?\n",
       "   - A) Net income plus cost of equity\n",
       "   - B) Net income minus cost of equity\n",
       "   - C) Gross income minus total costs\n",
       "   - D) Total assets minus liabilities\n",
       "\n",
       "3. What does the residual income model recognize when estimating the intrinsic value of common stock?\n",
       "   - A) Cost of equity capital only\n",
       "   - B) Net income only\n",
       "   - C) Cost of debt capital only\n",
       "   - D) Costs of all capital used in generating income\n",
       "\n",
       "4. Which of the following is NOT a name under which residual income has been known?\n",
       "   - A) Economic profit\n",
       "   - B) Abnormal earnings\n",
       "   - C) Economic value added\n",
       "   - D) Gross profit\n",
       "\n",
       "Correct answers are underlined."
      ],
      "text/plain": [
       "<IPython.core.display.Markdown object>"
      ]
     },
     "metadata": {},
     "output_type": "display_data"
    },
    {
     "name": "stdout",
     "output_type": "stream",
     "text": [
      "==================================================\n"
     ]
    },
    {
     "data": {
      "text/markdown": [
       "Query 20 for ResidualIncomeValuation2018Summary:\n",
       "\n",
       "What are some questions related to residual income models of equity value based on the information provided?\n",
       "\n",
       "1. Who coined the term \"residual income\" in the late 1800s?\n",
       "2. In what year did General Motors first use residual income in evaluating business segments?\n",
       "3. Why do residual income models address a shortcoming of traditional accounting methods?\n",
       "4. Which company recently popularized the use of residual income models in investment practice?\n",
       "\n",
       "_Correct answer: 3. Why do residual income models address a shortcoming of traditional accounting methods?_"
      ],
      "text/plain": [
       "<IPython.core.display.Markdown object>"
      ]
     },
     "metadata": {},
     "output_type": "display_data"
    },
    {
     "name": "stdout",
     "output_type": "stream",
     "text": [
      "==================================================\n"
     ]
    },
    {
     "data": {
      "text/markdown": [
       "Query 21 for ResidualIncomeValuation2018Summary:\n",
       "\n",
       "What concepts are associated with residual income models of equity value?\n",
       "1. Opportunity cost for common shareholders\n",
       "2. Cost of debt capital\n",
       "3. Cost of equity capital\n",
       "4. Traditional financial statements\n",
       "\n",
       "_1. Opportunity cost for common shareholders_"
      ],
      "text/plain": [
       "<IPython.core.display.Markdown object>"
      ]
     },
     "metadata": {},
     "output_type": "display_data"
    },
    {
     "name": "stdout",
     "output_type": "stream",
     "text": [
      "==================================================\n"
     ]
    },
    {
     "data": {
      "text/markdown": [
       "Query 22 for ResidualIncomeValuation2018Summary:\n",
       "\n",
       "What type of models have become widely recognized tools in both investment practice and research?\n",
       "\n",
       "A) Residual value models  \n",
       "B) Traditional accounting models  \n",
       "C) Equity capital models  \n",
       "D) Residual income models  \n",
       "\n",
       "**_D) Residual income models_**"
      ],
      "text/plain": [
       "<IPython.core.display.Markdown object>"
      ]
     },
     "metadata": {},
     "output_type": "display_data"
    },
    {
     "name": "stdout",
     "output_type": "stream",
     "text": [
      "==================================================\n"
     ]
    },
    {
     "data": {
      "text/markdown": [
       "Query 23 for ResidualIncomeValuation2018Summary:\n",
       "\n",
       "What historical background is mentioned regarding residual income models?\n",
       "a) Residual income was first introduced in the 1900s by a modern economist.\n",
       "b) Residual income was utilized by Ford Motors in the 1940s.\n",
       "c) Residual income originated in the late 1800s, attributed to Alfred Marshall.\n",
       "d) Residual income gained prominence with tech companies in the 2000s.\n",
       "\n",
       "Correct answer: _c) Residual income originated in the late 1800s, attributed to Alfred Marshall._"
      ],
      "text/plain": [
       "<IPython.core.display.Markdown object>"
      ]
     },
     "metadata": {},
     "output_type": "display_data"
    },
    {
     "name": "stdout",
     "output_type": "stream",
     "text": [
      "==================================================\n"
     ]
    },
    {
     "data": {
      "text/markdown": [
       "Query 24 for ResidualIncomeValuation2018Summary:\n",
       "\n",
       "What are some important topics covered in the reading on residual income models for equity valuation?\n",
       "\n",
       "A. Development of residual income concept\n",
       "B. Practical applications of residual income models\n",
       "C. Strengths and weaknesses of residual income valuation\n",
       "D. All of the above\n",
       "\n",
       "_**D. All of the above**_"
      ],
      "text/plain": [
       "<IPython.core.display.Markdown object>"
      ]
     },
     "metadata": {},
     "output_type": "display_data"
    },
    {
     "name": "stdout",
     "output_type": "stream",
     "text": [
      "==================================================\n"
     ]
    },
    {
     "data": {
      "text/markdown": [
       "Query 25 for ResidualIncomeValuation2018Summary:\n",
       "\n",
       "What is the historical background of residual income models in equity valuation?\n",
       "\n",
       "A) Residual income has been widely used since the 2000s.\n",
       "\n",
       "B) Residual income was first introduced in the late 1900s.\n",
       "\n",
       "C) Alfred Marshall developed the concept of residual income in the late 1800s.\n",
       "\n",
       "D) General Motors popularized residual income in the 1950s.\n",
       "\n",
       "_Correct answer: C) Alfred Marshall developed the concept of residual income in the late 1800s._"
      ],
      "text/plain": [
       "<IPython.core.display.Markdown object>"
      ]
     },
     "metadata": {},
     "output_type": "display_data"
    },
    {
     "name": "stdout",
     "output_type": "stream",
     "text": [
      "==================================================\n"
     ]
    },
    {
     "data": {
      "text/markdown": [
       "Query 26 for ResidualIncomeValuation2018Summary:\n",
       "\n",
       "1. What is residual income in the context of equity valuation?\n",
       "   - A) Net income less a charge for debt capital\n",
       "   - B) Total income after considering all costs of a company\n",
       "   - C) Remaining income after deducting common shareholders’ opportunity cost\n",
       "   - D) Additional income earned beyond the cost of equity capital\n",
       "\n",
       "**Correct answer: C) Remaining income after deducting common shareholders’ opportunity cost**\n",
       "\n",
       "2. Why do residual income models offer advantages over traditional accounting methods?\n",
       "   - A) They ignore the costs of equity capital\n",
       "   - B) They focus only on short-term profits\n",
       "   - C) They consider all costs of capital and recognize economic value\n",
       "   - D) They prioritize earnings per share for shareholders\n",
       "\n",
       "**Correct answer: C) They consider all costs of capital and recognize economic value**\n",
       "\n",
       "3. When did General Motors start using the concept of residual income?\n",
       "   - A) 1880s\n",
       "   - B) 1920s\n",
       "   - C) 1990s\n",
       "   - D) 2000s\n",
       "\n",
       "**Correct answer: B) 1920s**\n",
       "\n",
       "4. What are some alternative names for residual income mentioned in the text?\n",
       "   - A) Profit margin, cash flow\n",
       "   - B) Economic profit, abnormal earnings\n",
       "   - C) Gross income, operating income\n",
       "   - D) Revenue growth, market share\n",
       "\n",
       "**Correct answer: B) Economic profit, abnormal earnings**"
      ],
      "text/plain": [
       "<IPython.core.display.Markdown object>"
      ]
     },
     "metadata": {},
     "output_type": "display_data"
    },
    {
     "name": "stdout",
     "output_type": "stream",
     "text": [
      "==================================================\n"
     ]
    },
    {
     "data": {
      "text/markdown": [
       "Query 27 for ResidualIncomeValuation2018Summary:\n",
       "\n",
       "What is the historical background of residual income models?\n",
       "\n",
       "A) Residual income models were first introduced in the 21st century.\n",
       "B) Residual income models were developed by economists in the 1950s.\n",
       "C) Residual income as a concept dates back to Alfred Marshall in the late 1800s.\n",
       "D) Residual income models were solely popularized by General Motors in the 1920s.\n",
       "\n",
       "Correct Answer: _C) Residual income as a concept dates back to Alfred Marshall in the late 1800s._"
      ],
      "text/plain": [
       "<IPython.core.display.Markdown object>"
      ]
     },
     "metadata": {},
     "output_type": "display_data"
    },
    {
     "name": "stdout",
     "output_type": "stream",
     "text": [
      "==================================================\n"
     ]
    },
    {
     "data": {
      "text/markdown": [
       "Query 28 for ResidualIncomeValuation2018Summary:\n",
       "\n",
       "What is the historical background of residual income models?\n",
       "\n",
       "A. Residual income models were developed in the 21st century.\n",
       "\n",
       "B. General Motors was not one of the early adopters of residual income concepts.\n",
       "\n",
       "C. Residual income has a long history, dating back to Alfred Marshall in the late 1800s.\n",
       "\n",
       "D. Residual income models do not consider the costs of all the capital used in generating income.\n",
       "\n",
       "**_Correct answer: C. Residual income has a long history, dating back to Alfred Marshall in the late 1800s._**"
      ],
      "text/plain": [
       "<IPython.core.display.Markdown object>"
      ]
     },
     "metadata": {},
     "output_type": "display_data"
    },
    {
     "name": "stdout",
     "output_type": "stream",
     "text": [
      "==================================================\n"
     ]
    },
    {
     "data": {
      "text/markdown": [
       "Query 29 for ResidualIncomeValuation2018Summary:\n",
       "\n",
       "1. Which historical figure is credited with the concept of residual income?\n",
       "   - A. Adam Smith\n",
       "   - B. Alfred Marshall\n",
       "   - C. John Maynard Keynes\n",
       "   - D. Karl Marx\n",
       "   _Correct answer: B. Alfred Marshall_\n",
       "\n",
       "2. What is the main appeal of residual income models in comparison to traditional accounting methods?\n",
       "   - A. They focus solely on net income\n",
       "   - B. They do not consider the cost of equity capital\n",
       "   - C. They recognize the costs of all capital used\n",
       "   - D. They include interest expense in net income\n",
       "   _Correct answer: C. They recognize the costs of all capital used_\n",
       "\n",
       "3. How did General Motors use the concept of residual income in the 1920s?\n",
       "   - A. To evaluate employee performance\n",
       "   - B. To calculate dividends for shareholders\n",
       "   - C. To assess business segment performance\n",
       "   - D. To set executive compensation\n",
       "   _Correct answer: C. To assess business segment performance_\n",
       "\n",
       "4. What are some other names under which residual income concepts have been known?\n",
       "   - A. Net profit models\n",
       "   - B. Incremental income approaches\n",
       "   - C. Economic profit, abnormal earnings, or economic value added\n",
       "   - D. Gross margin methods\n",
       "   _Correct answer: C. Economic profit, abnormal earnings, or economic value added_"
      ],
      "text/plain": [
       "<IPython.core.display.Markdown object>"
      ]
     },
     "metadata": {},
     "output_type": "display_data"
    },
    {
     "name": "stdout",
     "output_type": "stream",
     "text": [
      "==================================================\n"
     ]
    },
    {
     "data": {
      "text/markdown": [
       "Query 30 for ResidualIncomeValuation2018Summary:\n",
       "\n",
       "1. What is residual income?\n",
       "   A. Net income plus common shareholders' opportunity cost\n",
       "   B. Net income minus common shareholders' opportunity cost\n",
       "   C. Gross income minus common shareholders' opportunity cost\n",
       "   D. Gross income plus common shareholders' opportunity cost\n",
       "\n",
       "**Answer: B. Net income minus common shareholders' opportunity cost**\n",
       "\n",
       "2. Why do residual income models have an appeal?\n",
       "   A. Because they only consider the cost of debt capital\n",
       "   B. Because they explicitly recognize the costs of all capital\n",
       "   C. Because they ignore the cost of equity capital\n",
       "   D. Because they focus solely on revenue generation\n",
       "\n",
       "**Answer: B. Because they explicitly recognize the costs of all capital**\n",
       "\n",
       "3. When did the concept of residual income originate?\n",
       "   A. In the 1800s\n",
       "   B. In the 1920s\n",
       "   C. In the 1990s\n",
       "   D. In the 2000s\n",
       "\n",
       "**Answer: A. In the 1800s**\n",
       "\n",
       "4. What does Section 5 of the reading address?\n",
       "   A. Ethical issues in residual income valuation\n",
       "   B. Practical applications of residual income models\n",
       "   C. Accounting issues in using residual income valuation\n",
       "   D. Historical development of residual income concepts\n",
       "\n",
       "**Answer: C. Accounting issues in the use of residual income valuation**"
      ],
      "text/plain": [
       "<IPython.core.display.Markdown object>"
      ]
     },
     "metadata": {},
     "output_type": "display_data"
    },
    {
     "name": "stdout",
     "output_type": "stream",
     "text": [
      "==================================================\n"
     ]
    },
    {
     "data": {
      "text/markdown": [
       "Query 31 for ResidualIncomeValuation2018Summary:\n",
       "\n",
       "1. What is residual income?  \n",
       "   A) Net income plus a charge for common shareholders' opportunity cost  \n",
       "   B) Net income less a charge for common shareholders' opportunity cost  \n",
       "   C) Net income minus interest expense  \n",
       "   D) Net income minus the cost of debt capital\n",
       "\n",
       "2. What is the appeal of residual income models in valuation?  \n",
       "   A) They do not consider the cost of equity capital  \n",
       "   B) They explicitly recognize the costs of all capital used  \n",
       "   C) They ignore the company's net income  \n",
       "   D) They focus solely on internal corporate performance\n",
       "\n",
       "3. When did Alfred Marshall introduce the concept of residual income?  \n",
       "   A) Late 1800s  \n",
       "   B) Early 1900s  \n",
       "   C) 1920s  \n",
       "   D) 1990s\n",
       "\n",
       "4. What does Section 3 of the reading focus on?  \n",
       "   A) Accounting issues in residual income valuation  \n",
       "   B) Describing relative strengths and weaknesses of residual income valuation  \n",
       "   C) The residual income model for valuing common stock  \n",
       "   D) Measurement of internal corporate performance\n",
       "\n",
       "**Correct answers are:**\n",
       "1. B) Net income less a charge for common shareholders' opportunity cost\n",
       "2. B) They explicitly recognize the costs of all capital used\n",
       "3. A) Late 1800s\n",
       "4. C) The residual income model for valuing common stock"
      ],
      "text/plain": [
       "<IPython.core.display.Markdown object>"
      ]
     },
     "metadata": {},
     "output_type": "display_data"
    },
    {
     "name": "stdout",
     "output_type": "stream",
     "text": [
      "==================================================\n"
     ]
    },
    {
     "data": {
      "text/markdown": [
       "Query 32 for ResidualIncomeValuation2018Summary:\n",
       "\n",
       "1. What is residual income in the context of equity valuation?\n",
       "   A) Net income less a charge for common shareholders’ opportunity cost\n",
       "   B) Net income plus a charge for common shareholders’ opportunity cost\n",
       "   C) Gross income minus common shareholders' opportunity cost\n",
       "   D) Net income divided by common shareholders’ opportunity cost\n",
       "\n",
       "**_A) Net income less a charge for common shareholders’ opportunity cost_**\n",
       "\n",
       "2. Why do residual income models have an advantage over traditional accounting methods?\n",
       "   A) They consider only the company's debt capital costs\n",
       "   B) They ignore the cost of equity capital\n",
       "   C) They recognize the costs of all capital used in generating income\n",
       "   D) They focus solely on revenue generation\n",
       "\n",
       "**_C) They recognize the costs of all capital used in generating income_**\n",
       "\n",
       "3. When did Alfred Marshall introduce the concept of residual income?\n",
       "   A) Late 1800s\n",
       "   B) Early 1900s\n",
       "   C) 1950s\n",
       "   D) 2000s\n",
       "\n",
       "**_A) Late 1800s_**\n",
       "\n",
       "4. What are some alternative names for residual income?\n",
       "   A) Excess earnings and value-added income\n",
       "   B) Standard income and profit margin\n",
       "   C) Abnormal earnings and economic profit\n",
       "   D) Regular earnings and capital income\n",
       "\n",
       "**_C) Abnormal earnings and economic profit_**"
      ],
      "text/plain": [
       "<IPython.core.display.Markdown object>"
      ]
     },
     "metadata": {},
     "output_type": "display_data"
    },
    {
     "name": "stdout",
     "output_type": "stream",
     "text": [
      "==================================================\n"
     ]
    },
    {
     "data": {
      "text/markdown": [
       "Query 33 for ResidualIncomeValuation2018Summary:\n",
       "\n",
       "What are some questions related to residual income models of equity value in investment practice and research?\n",
       "\n",
       "A) What is the historical origin of residual income concepts?\n",
       "B) How does General Motors use residual income in evaluating business segments?\n",
       "C) What are the relative strengths and weaknesses of residual income valuation?\n",
       "D) How does the income statement include a charge for the cost of equity capital?\n",
       "\n",
       "Correct answer: _A) What is the historical origin of residual income concepts?_"
      ],
      "text/plain": [
       "<IPython.core.display.Markdown object>"
      ]
     },
     "metadata": {},
     "output_type": "display_data"
    },
    {
     "name": "stdout",
     "output_type": "stream",
     "text": [
      "==================================================\n"
     ]
    },
    {
     "data": {
      "text/markdown": [
       "Query 34 for ResidualIncomeValuation2018Summary:\n",
       "\n",
       "Which author referred to residual income as economic profit, abnormal earnings, or economic value added?  \n",
       "A) Alfred Marshall  \n",
       "B) General Motors  \n",
       "C) Young  \n",
       "D) Lo and Lys  \n",
       "\n",
       "**The correct answer is C) Young**"
      ],
      "text/plain": [
       "<IPython.core.display.Markdown object>"
      ]
     },
     "metadata": {},
     "output_type": "display_data"
    },
    {
     "name": "stdout",
     "output_type": "stream",
     "text": [
      "==================================================\n"
     ]
    },
    {
     "data": {
      "text/markdown": [
       "Query 35 for ResidualIncomeValuation2018Summary:\n",
       "\n",
       "What historical concept does residual income model in equity valuation date back to?\n",
       "\n",
       "1. Industrial Revolution\n",
       "2. Renaissance period\n",
       "3. Late 1800s\n",
       "4. Early 1900s\n",
       "\n",
       "_**Correct answer:**_  \n",
       "3. Late 1800s"
      ],
      "text/plain": [
       "<IPython.core.display.Markdown object>"
      ]
     },
     "metadata": {},
     "output_type": "display_data"
    },
    {
     "name": "stdout",
     "output_type": "stream",
     "text": [
      "==================================================\n"
     ]
    },
    {
     "data": {
      "text/markdown": [
       "Query 36 for ResidualIncomeValuation2018Summary:\n",
       "\n",
       "1. What is residual income?\n",
       "   a) Net income plus the cost of equity capital\n",
       "   b) Net income minus a charge for common shareholders’ opportunity cost\n",
       "   c) Net income minus interest expense\n",
       "   d) Net income divided by total capital\n",
       "\n",
       "**Correct answer: b) Net income minus a charge for common shareholders’ opportunity cost**\n",
       "\n",
       "2. Why do residual income models address a limitation of traditional accounting?\n",
       "   a) They exclude all costs of capital\n",
       "   b) They only consider the cost of equity capital\n",
       "   c) They explicitly recognize the costs of all capital\n",
       "   d) They focus only on short-term profits\n",
       "\n",
       "**Correct answer: c) They explicitly recognize the costs of all capital**\n",
       "\n",
       "3. When did the concept of residual income first appear?\n",
       "   a) In the early 2000s\n",
       "   b) In the 1920s\n",
       "   c) In the late 1800s\n",
       "   d) In the 1990s\n",
       "\n",
       "**Correct answer: c) In the late 1800s**\n",
       "\n",
       "4. What are some alternative names for residual income?\n",
       "   a) Net profit and earnings\n",
       "   b) Economic profit and abnormal earnings\n",
       "   c) Operating income and cash flow\n",
       "   d) Gross margin and net revenue\n",
       "\n",
       "**Correct answer: b) Economic profit and abnormal earnings**"
      ],
      "text/plain": [
       "<IPython.core.display.Markdown object>"
      ]
     },
     "metadata": {},
     "output_type": "display_data"
    },
    {
     "name": "stdout",
     "output_type": "stream",
     "text": [
      "==================================================\n"
     ]
    },
    {
     "data": {
      "text/markdown": [
       "Query 37 for ResidualIncomeValuation2018Summary:\n",
       "\n",
       "What are some questions related to residual income models of equity value?\n",
       "\n",
       "1. Who first introduced the concept of residual income?\n",
       "- A. John Smith\n",
       "- B. Alfred Marshall\n",
       "- C. Jane Doe\n",
       "- D. William Johnson\n",
       "\n",
       "2. What is the appeal of residual income models in valuation?\n",
       "- A. They ignore the cost of equity capital\n",
       "- B. They recognize the costs of all capital used\n",
       "- C. They overestimate a company's value\n",
       "- D. They focus solely on net income\n",
       "\n",
       "3. What are some alternative names for residual income?\n",
       "- A. Profits and losses\n",
       "- B. Economic profit and abnormal earnings\n",
       "- C. Operating income and revenue\n",
       "- D. Fixed costs and variable costs\n",
       "\n",
       "4. How did General Motors use the concept of residual income?\n",
       "- A. To decrease shareholder value\n",
       "- B. To evaluate business segments\n",
       "- C. To increase debt capital\n",
       "- D. To ignore equity costs\n",
       "\n",
       "Correct answers are underlined."
      ],
      "text/plain": [
       "<IPython.core.display.Markdown object>"
      ]
     },
     "metadata": {},
     "output_type": "display_data"
    },
    {
     "name": "stdout",
     "output_type": "stream",
     "text": [
      "==================================================\n"
     ]
    },
    {
     "data": {
      "text/markdown": [
       "Query 38 for ResidualIncomeValuation2018Summary:\n",
       "\n",
       "1. What is residual income in the context of equity valuation?\n",
       "    A) Residual income is the total income generated by a company.\n",
       "    B) Residual income is net income minus only interest expenses.\n",
       "    C) Residual income is net income minus a charge for common shareholders’ opportunity cost in generating net income.\n",
       "    D) Residual income is the profit remaining after deducting all expenses.\n",
       "\n",
       "**Correct answer: C) Residual income is net income minus a charge for common shareholders’ opportunity cost in generating net income.**\n",
       "\n",
       "2. Why do residual income models appeal to investors and researchers?\n",
       "    A) Because they ignore the costs of equity capital.\n",
       "    B) Because they do not consider the total capital used by a company.\n",
       "    C) Because they explicitly recognize the costs of all capital used in generating income.\n",
       "    D) Because they focus only on a company's income statement.\n",
       "\n",
       "**Correct answer: C) Because they explicitly recognize the costs of all capital used in generating income.**\n",
       "\n",
       "3. How far back does the concept of residual income date?\n",
       "    A) 1950s\n",
       "    B) 1920s\n",
       "    C) 1800s\n",
       "    D) 2000s\n",
       "\n",
       "**Correct answer: C) 1800s**\n",
       "\n",
       "4. What are some alternative names for residual income?\n",
       "    A) Standard earnings, regular profits\n",
       "    B) Abnormal earnings, economic profit\n",
       "    C) Common dividends, special revenue\n",
       "    D) Constant growth, non-recurring income\n",
       "\n",
       "**Correct answer: B) Abnormal earnings, economic profit**"
      ],
      "text/plain": [
       "<IPython.core.display.Markdown object>"
      ]
     },
     "metadata": {},
     "output_type": "display_data"
    },
    {
     "name": "stdout",
     "output_type": "stream",
     "text": [
      "==================================================\n"
     ]
    },
    {
     "data": {
      "text/markdown": [
       "Query 39 for ResidualIncomeValuation2018Summary:\n",
       "\n",
       "1. What is residual income?\n",
       "   - A) Net income plus costs of debt capital\n",
       "   - B) Net income less costs of equity capital\n",
       "   - C) Total income generated by a company\n",
       "   - D) Cost of equity capital only\n",
       "   \n",
       "2. Why are residual income models considered valuable?\n",
       "   - A) Because they ignore the costs of all capital\n",
       "   - B) Because they focus only on a company's net income\n",
       "   - C) Because they recognize the costs of all capital in generating income\n",
       "   - D) Because they rely solely on accounting principles\n",
       "   \n",
       "3. When did Alfred Marshall first discuss the concept of residual income?\n",
       "   - A) Late 1900s\n",
       "   - B) Early 2000s\n",
       "   - C) Late 1800s\n",
       "   - D) Early 1900s\n",
       "   \n",
       "4. How does residual income valuation compare to other valuation methods?\n",
       "   - A) Residual income valuation is more complex than other methods\n",
       "   - B) Residual income valuation ignores accounting principles\n",
       "   - C) Residual income valuation has no weaknesses compared to other methods\n",
       "   - D) Residual income valuation has relative strengths and weaknesses compared to other methods\n",
       "   \n",
       "**Correct Answers:**\n",
       "1. B) Net income less costs of equity capital\n",
       "2. C) Because they recognize the costs of all capital in generating income\n",
       "3. C) Late 1800s\n",
       "4. D) Residual income valuation has relative strengths and weaknesses compared to other methods"
      ],
      "text/plain": [
       "<IPython.core.display.Markdown object>"
      ]
     },
     "metadata": {},
     "output_type": "display_data"
    },
    {
     "name": "stdout",
     "output_type": "stream",
     "text": [
      "==================================================\n"
     ]
    },
    {
     "data": {
      "text/markdown": [
       "Query 40 for ResidualIncomeValuation2018Summary:\n",
       "\n",
       "1. What is residual income in equity valuation?\n",
       "a) Net income plus a charge for common shareholders' opportunity cost\n",
       "b) Net income minus a charge for common shareholders' opportunity cost\n",
       "c) Total capital used in generating income\n",
       "d) Cost of equity capital\n",
       "\n",
       "**Answer: b) Net income minus a charge for common shareholders' opportunity cost**\n",
       "\n",
       "2. Why do residual income models address a shortcoming of traditional accounting?\n",
       "a) They include a charge for the cost of debt capital\n",
       "b) They exclude the cost of equity capital\n",
       "c) They recognize the costs of all capital used in generating income\n",
       "d) They only focus on internal corporate performance\n",
       "\n",
       "**Answer: b) They exclude the cost of equity capital**\n",
       "\n",
       "3. What is another term used to describe residual income in some contexts?\n",
       "a) Accounting profit\n",
       "b) Economic profit\n",
       "c) Gross income\n",
       "d) Operating profit\n",
       "\n",
       "**Answer: b) Economic profit**\n",
       "\n",
       "4. When did General Motors first use the concept of residual income in evaluating business segments?\n",
       "a) 1800s\n",
       "b) 1920s\n",
       "c) 1990s\n",
       "d) 2000s\n",
       "\n",
       "**Answer: b) 1920s**"
      ],
      "text/plain": [
       "<IPython.core.display.Markdown object>"
      ]
     },
     "metadata": {},
     "output_type": "display_data"
    },
    {
     "name": "stdout",
     "output_type": "stream",
     "text": [
      "==================================================\n"
     ]
    },
    {
     "data": {
      "text/markdown": [
       "Query 41 for ResidualIncomeValuation2018Summary:\n",
       "\n",
       "What are the key sections discussed in the reading regarding residual income models?\n",
       "A) Section 1 focuses on historical context, Section 2 on practical applications, Section 3 on accounting issues, Section 4 on strengths and weaknesses.\n",
       "B) Section 2 on residual income development, Section 3 on alternative measures, Section 4 on practical applications, Section 5 on accounting issues.\n",
       "C) Section 2 on residual income development, Section 3 on valuation models, Section 4 on practice problems, Section 5 on accounting issues.\n",
       "D) Section 1 on economic concepts, Section 2 on General Motors case study, Section 4 on residual income valuation analysis, Section 5 on accounting principles.\n",
       "\n",
       "Correct answer: _B) Section 2 on residual income development, Section 3 on alternative measures, Section 4 on practical applications, Section 5 on accounting issues._"
      ],
      "text/plain": [
       "<IPython.core.display.Markdown object>"
      ]
     },
     "metadata": {},
     "output_type": "display_data"
    },
    {
     "name": "stdout",
     "output_type": "stream",
     "text": [
      "==================================================\n"
     ]
    },
    {
     "data": {
      "text/markdown": [
       "Query 42 for ResidualIncomeValuation2018Summary:\n",
       "\n",
       "What is the history of residual income as a concept?\n",
       "\n",
       "A) Residual income was first introduced in the 21st century.\n",
       "B) General Motors pioneered the concept of residual income in the early 2000s.\n",
       "C) Alfred Marshall introduced residual income in the late 1800s.\n",
       "D) Residual income gained popularity in the 1950s.\n",
       "\n",
       "_Correct answer: C) Alfred Marshall introduced residual income in the late 1800s._"
      ],
      "text/plain": [
       "<IPython.core.display.Markdown object>"
      ]
     },
     "metadata": {},
     "output_type": "display_data"
    },
    {
     "name": "stdout",
     "output_type": "stream",
     "text": [
      "==================================================\n"
     ]
    },
    {
     "data": {
      "text/markdown": [
       "Query 43 for ResidualIncomeValuation2018Summary:\n",
       "\n",
       "I can generate a question based on the provided text. Here it is:\n",
       "\n",
       "What is the appeal of using residual income models in valuation?\n",
       "\n",
       "A) Residual income models do not require considering the costs of all of a company's capital.\n",
       "B) Residual income models explicitly recognize the costs of all the capital used in generating income.\n",
       "C) Residual income models do not account for the cost of equity capital.\n",
       "D) Residual income models stem from traditional accounting practices.\n",
       "\n",
       "_**Correct Answer: B) Residual income models explicitly recognize the costs of all the capital used in generating income.**_"
      ],
      "text/plain": [
       "<IPython.core.display.Markdown object>"
      ]
     },
     "metadata": {},
     "output_type": "display_data"
    },
    {
     "name": "stdout",
     "output_type": "stream",
     "text": [
      "==================================================\n"
     ]
    },
    {
     "data": {
      "text/markdown": [
       "Query 44 for ResidualIncomeValuation2018Summary:\n",
       "\n",
       "What are some questions related to residual income models that can be offered with 4 options each?"
      ],
      "text/plain": [
       "<IPython.core.display.Markdown object>"
      ]
     },
     "metadata": {},
     "output_type": "display_data"
    },
    {
     "name": "stdout",
     "output_type": "stream",
     "text": [
      "==================================================\n"
     ]
    },
    {
     "data": {
      "text/markdown": [
       "Query 45 for ResidualIncomeValuation2018Summary:\n",
       "\n",
       "What are some questions related to residual income models of equity value? \n",
       "\n",
       "1. Who introduced the concept of residual income in the late 1800s?\n",
       "   - A) Adam Smith\n",
       "   - B) Alfred Marshall\n",
       "   - C) John Maynard Keynes\n",
       "   - D) Milton Friedman\n",
       "\n",
       "2. Which company used the concept of residual income to evaluate business segments in the 1920s?\n",
       "   - A) Ford\n",
       "   - B) General Electric\n",
       "   - C) General Motors\n",
       "   - D) IBM\n",
       "\n",
       "3. What are some alternative names for residual income, as mentioned in the text?\n",
       "   - A) Discount income, economic loss, profit margin\n",
       "   - B) Abnormal earnings, economic profit, economic value reduced\n",
       "   - C) Basic income, capital expenditure, market value added\n",
       "   - D) Operational income, financial gain, budget surplus\n",
       "\n",
       "4. Which section of the reading focuses on the relative strengths and weaknesses of residual income valuation?\n",
       "   - A) Section 2\n",
       "   - B) Section 3\n",
       "   - C) Section 4\n",
       "   - D) Section 5\n",
       "\n",
       "_1. B) Alfred Marshall  \n",
       "_2. C) General Motors  \n",
       "_3. B) Abnormal earnings, economic profit, economic value reduced  \n",
       "_4. C) Section 4  "
      ],
      "text/plain": [
       "<IPython.core.display.Markdown object>"
      ]
     },
     "metadata": {},
     "output_type": "display_data"
    },
    {
     "name": "stdout",
     "output_type": "stream",
     "text": [
      "==================================================\n"
     ]
    },
    {
     "data": {
      "text/markdown": [
       "Query 46 for ResidualIncomeValuation2018Summary:\n",
       "\n",
       "What historical figure is associated with the concept of residual income?\n",
       "\n",
       "A) John Doe  \n",
       "B) Mark Smith  \n",
       "C) Alfred Marshall  \n",
       "D) Emily Johnson  \n",
       "\n",
       "**Correct Answer: C) Alfred Marshall**"
      ],
      "text/plain": [
       "<IPython.core.display.Markdown object>"
      ]
     },
     "metadata": {},
     "output_type": "display_data"
    },
    {
     "name": "stdout",
     "output_type": "stream",
     "text": [
      "==================================================\n"
     ]
    },
    {
     "data": {
      "text/markdown": [
       "Query 47 for ResidualIncomeValuation2018Summary:\n",
       "\n",
       "What are some key points regarding residual income models according to the passage provided?\n",
       "\n",
       "A) Traditional accounting methods adequately account for the cost of equity capital.\n",
       "B) Residual income is the net income after considering the costs of a company's debt capital.\n",
       "C) Residual income models recognize the costs of all capital used in generating income.\n",
       "D) Residual income concept was first introduced by General Motors in the 1920s.\n",
       "\n",
       "_**Correct Answer:** C) Residual income models recognize the costs of all capital used in generating income._"
      ],
      "text/plain": [
       "<IPython.core.display.Markdown object>"
      ]
     },
     "metadata": {},
     "output_type": "display_data"
    },
    {
     "name": "stdout",
     "output_type": "stream",
     "text": [
      "==================================================\n"
     ]
    },
    {
     "data": {
      "text/markdown": [
       "Query 48 for ResidualIncomeValuation2018Summary:\n",
       "\n",
       "I'm sorry, but I cannot generate questions with specific options and underline the correct one. I can provide answers and information based on the text you provided. If you have any questions or need clarification, feel free to ask."
      ],
      "text/plain": [
       "<IPython.core.display.Markdown object>"
      ]
     },
     "metadata": {},
     "output_type": "display_data"
    },
    {
     "name": "stdout",
     "output_type": "stream",
     "text": [
      "==================================================\n"
     ]
    },
    {
     "data": {
      "text/markdown": [
       "Query 49 for ResidualIncomeValuation2018Summary:\n",
       "\n",
       "What are the key sections covered in the reading on residual income models for estimating the intrinsic value of common stock?\n",
       "\n",
       "A) Introduction to economic profit, application in corporate performance, intrinsic value estimation  \n",
       "B) Development of residual income concept, model application in valuing common stock, strengths and weaknesses  \n",
       "C) Historical background, economic profit calculation, single-stage residual income model  \n",
       "D) Accounting issues in residual income valuation, alternative measures, multistage residual income model  \n",
       "\n",
       "_**Correct answer: B)**_ Development of residual income concept, model application in valuing common stock, strengths and weaknesses"
      ],
      "text/plain": [
       "<IPython.core.display.Markdown object>"
      ]
     },
     "metadata": {},
     "output_type": "display_data"
    },
    {
     "name": "stdout",
     "output_type": "stream",
     "text": [
      "==================================================\n"
     ]
    },
    {
     "data": {
      "text/markdown": [
       "Query 50 for ResidualIncomeValuation2018Summary:\n",
       "\n",
       "1. Who developed the concept of residual income?\n",
       "   - A) Robert Smith\n",
       "   - B) Alfred Marshall\n",
       "   - C) John Johnson\n",
       "   - D) William Williams\n",
       "   **_Correct answer: B) Alfred Marshall_**\n",
       "\n",
       "2. What does residual income represent in the context of equity valuation?\n",
       "   - A) Total income\n",
       "   - B) Net worth\n",
       "   - C) Remaining income after considering all capital costs\n",
       "   - D) Total expenses\n",
       "   **_Correct answer: C) Remaining income after considering all capital costs_**\n",
       "\n",
       "3. What is one of the shortcomings of traditional accounting mentioned in the text?\n",
       "   - A) Lack of income statement\n",
       "   - B) Inclusion of cost of equity capital\n",
       "   - C) Inclusion of residual income\n",
       "   - D) Failure to account for cost of equity capital\n",
       "   **_Correct answer: D) Failure to account for cost of equity capital_**\n",
       "\n",
       "4. When was residual income first used by General Motors in evaluating business segments?\n",
       "   - A) 1800s\n",
       "   - B) 1920s\n",
       "   - C) 1990s\n",
       "   - D) 2000s\n",
       "   **_Correct answer: B) 1920s_**"
      ],
      "text/plain": [
       "<IPython.core.display.Markdown object>"
      ]
     },
     "metadata": {},
     "output_type": "display_data"
    },
    {
     "name": "stdout",
     "output_type": "stream",
     "text": [
      "==================================================\n"
     ]
    }
   ],
   "source": [
    "from openai import OpenAI\n",
    "\n",
    "# Initialize OpenAI API key\n",
    "api_key = os.getenv(\"api_key\")\n",
    "\n",
    "# Adjust the query to indicate the need for 50 questions with answers\n",
    "query = \"Generate questions and answers with 4 options each, with the correct option being bold, based on the Introduction Summary. Provide 50 questions along with their answers.\"\n",
    "\n",
    "embed_model = \"text-embedding-3-small\"  \n",
    "\n",
    "# Generate the embedding for the query\n",
    "client = OpenAI(api_key=api_key)\n",
    "res = client.embeddings.create(\n",
    "    model=embed_model,\n",
    "    input=query\n",
    ")\n",
    "\n",
    "# Retrieve the embedding from the response\n",
    "embedding_vector = res.data[0].embedding\n",
    "\n",
    "from IPython.display import Markdown\n",
    "\n",
    "primer = \"\"\"You are a Q&A bot, designed to provide intelligent answers based on the information provided. If the information is not available, you truthfully say, \"I don't know\".\"\"\"\n",
    "\n",
    "# Initialize the list of augmented queries with answers\n",
    "augmented_queries_ResidualIncomeValuation2018Summary = []\n",
    "\n",
    "# Increase the top_k parameter to retrieve more documents\n",
    "query_result_ResidualIncomeValuation2018Summary = index.query(vector=embedding_vector, top_k=20, namespace=\"ResidualIncomeValuation2018Summary\", include_metadata=True)\n",
    "\n",
    "# Get list of retrieved text from the query result\n",
    "contexts_ResidualIncomeValuation2018Summary = [item['metadata']['text'] for item in query_result_ResidualIncomeValuation2018Summary['matches']]\n",
    "\n",
    "# Loop through each context and generate questions with answers\n",
    "total_questions = 0\n",
    "for context in contexts_ResidualIncomeValuation2018Summary:\n",
    "    # Check if we have already generated 50 questions\n",
    "    if total_questions >= 50:\n",
    "        break\n",
    "\n",
    "    for _ in range(2):  # Run the loop twice for each context\n",
    "        # Check if we have already generated 50 questions\n",
    "        if total_questions >= 50:\n",
    "            break\n",
    "\n",
    "        # Update the message to request questions with answers\n",
    "        messages = [{\"role\": \"system\", \"content\": primer}, {\"role\": \"user\", \"content\": context + \" Generate questions with 4 options and underline the correct one.\"}]\n",
    "        res = client.chat.completions.create(\n",
    "            model=\"gpt-3.5-turbo\",\n",
    "            messages=messages,\n",
    "            max_tokens=1500,  \n",
    "            n=25  # Number of completions (questions with answers) to generate per iteration\n",
    "        )\n",
    "\n",
    "        # Append the generated questions and answers to the list\n",
    "        for choice in res.choices:\n",
    "            augmented_queries_ResidualIncomeValuation2018Summary.append(choice.message.content)\n",
    "            total_questions += 1\n",
    "            if total_questions >= 50:\n",
    "                break\n",
    "\n",
    "\n",
    "# Display the augmented queries with answers\n",
    "for idx, query in enumerate(augmented_queries_ResidualIncomeValuation2018Summary):\n",
    "    display(Markdown(f\"Query {idx + 1} for ResidualIncomeValuation2018Summary:\\n\\n{query}\"))\n",
    "    print(\"=\" * 50)\n",
    "\n",
    "\n"
   ]
  },
  {
   "cell_type": "markdown",
   "metadata": {},
   "source": [
    "## Storing 50 Q&A for the Residual Income Valuation 2018 (SetA)"
   ]
  },
  {
   "cell_type": "code",
   "execution_count": 30,
   "metadata": {},
   "outputs": [
    {
     "name": "stdout",
     "output_type": "stream",
     "text": [
      "Upserted 50 questions and answers into Pinecone index under namespace 'SetA_ResidualIncomeValuation2018Summary'.\n"
     ]
    }
   ],
   "source": [
    "from openai import OpenAI\n",
    "\n",
    "# Initialize OpenAI API key\n",
    "api_key = os.getenv(\"api_key\")\n",
    "client = OpenAI(api_key=api_key)\n",
    "\n",
    "import uuid\n",
    "\n",
    "# Assuming 'augmented_queries_ResidualIncomeValuation2018Summary' is already a list of tuples (question, answer)\n",
    "augmented_queries = augmented_queries_ResidualIncomeValuation2018Summary  \n",
    "\n",
    "# Function to create embeddings with retry logic\n",
    "def create_embeddings_with_retry(texts, model, max_retries=5):\n",
    "    retries = 0\n",
    "    while retries < max_retries:\n",
    "        try:\n",
    "            # Ensure that 'input' is a list of strings\n",
    "            if not isinstance(texts, list):\n",
    "                texts = [texts]\n",
    "            return client.embeddings.create(input=texts, model=model)\n",
    "        except Exception as e:\n",
    "            print(f\"Attempt {retries + 1}: Encountered an error - {e}\")\n",
    "            sleep(5)  # wait before retrying\n",
    "            retries += 1\n",
    "    raise Exception(f\"Failed to create embeddings after {max_retries} retries.\")\n",
    "\n",
    "# Extract questions and answers for embedding\n",
    "texts_to_embed = [qa[0] + \" \" + qa[1] for qa in augmented_queries]  # Combine questions and answers for embedding\n",
    "\n",
    "# Generate embeddings for the questions and answers\n",
    "embed_model = \"text-embedding-3-small\"\n",
    "qa_embeddings = create_embeddings_with_retry(texts_to_embed, embed_model)\n",
    "\n",
    "# Prepare data for Pinecone upsert\n",
    "upsert_data = []\n",
    "for idx, qa_combined in enumerate(augmented_queries):\n",
    "    if not isinstance(qa_combined, str):\n",
    "        print(f\"Skipping item at index {idx} because it is not a string.\")\n",
    "        continue\n",
    "\n",
    "    # Assuming you have a way to split qa_combined into question and answer\n",
    "    parts = qa_combined.split('?', 1)\n",
    "    question = parts[0].strip() + '?'\n",
    "    answer = parts[1].strip() if len(parts) > 1 else \"\"\n",
    "\n",
    "    # Proceed to create embeddings and upsert to Pinecone as before\n",
    "    # Generate a unique ID for each query-answer pair\n",
    "    qa_id = str(uuid.uuid4())\n",
    "    \n",
    "    # Assuming you have already generated embeddings for all QA pairs\n",
    "    embed = qa_embeddings.data[idx].embedding\n",
    "    \n",
    "    # Prepare the upsert data with metadata\n",
    "    upsert_data.append((qa_id, embed, {'question': question, 'answer': answer}))\n",
    "\n",
    "# Perform the upsert operation to Pinecone\n",
    "namespace = \"SetA_ResidualIncomeValuation2018Summary\"  \n",
    "index.upsert(vectors=upsert_data, namespace=namespace)\n",
    "\n",
    "print(f\"Upserted {len(upsert_data)} questions and answers into Pinecone index under namespace '{namespace}'.\")"
   ]
  },
  {
   "cell_type": "markdown",
   "metadata": {},
   "source": [
    "## Generating 50 Questions for Residual Income Valuation 2018 (SetB)"
   ]
  },
  {
   "cell_type": "code",
   "execution_count": 31,
   "metadata": {},
   "outputs": [
    {
     "name": "stdout",
     "output_type": "stream",
     "text": [
      "Output saved to SetB_ResidualIncomeValuation2018Summary_Questions.txt\n"
     ]
    }
   ],
   "source": [
    "from openai import OpenAI\n",
    "\n",
    "# Initialize OpenAI API key\n",
    "api_key = os.getenv(\"api_key\")\n",
    "\n",
    "# Adjust the query to indicate the need for 50 questions with answers\n",
    "query = \"Generate questions and answers with 4 options each, with the correct option being bold, based on the Introduction Summary. Provide 50 questions along with their answers.\"\n",
    "\n",
    "embed_model = \"text-embedding-3-small\"  \n",
    "\n",
    "# Generate the embedding for the query\n",
    "client = OpenAI(api_key=api_key)\n",
    "res = client.embeddings.create(\n",
    "    model=embed_model,\n",
    "    input=query\n",
    ")\n",
    "\n",
    "# Retrieve the embedding from the response\n",
    "embedding_vector = res.data[0].embedding\n",
    "\n",
    "from IPython.display import Markdown\n",
    "\n",
    "primer = \"\"\"You are a Q&A bot, designed to provide intelligent answers based on the information provided. If the information is not available, you truthfully say, \"I don't know\".\"\"\"\n",
    "\n",
    "# Initialize the list of augmented queries with answers\n",
    "augmented_queries_ResidualIncomeValuation2018Summary = []\n",
    "\n",
    "# Increase the top_k parameter to retrieve more documents\n",
    "query_result_ResidualIncomeValuation2018Summary = index.query(vector=embedding_vector, top_k=20, namespace=\"ResidualIncomeValuation2018Summary\", include_metadata=True)\n",
    "\n",
    "# Get list of retrieved text from the query result\n",
    "contexts_ResidualIncomeValuation2018Summary = [item['metadata']['text'] for item in query_result_ResidualIncomeValuation2018Summary['matches']]\n",
    "\n",
    "# Loop through each context and generate questions with answers\n",
    "total_questions = 0\n",
    "for context in contexts_ResidualIncomeValuation2018Summary:\n",
    "    # Check if we have already generated 50 questions\n",
    "    if total_questions >= 50:\n",
    "        break\n",
    "\n",
    "    for _ in range(2):  # Run the loop twice for each context\n",
    "        # Check if we have already generated 50 questions\n",
    "        if total_questions >= 50:\n",
    "            break\n",
    "\n",
    "        # Update the message to request questions with answers\n",
    "        messages = [{\"role\": \"system\", \"content\": primer}, {\"role\": \"user\", \"content\": context + \" Generate questions with 4 options and underline the correct one.\"}]\n",
    "        res = client.chat.completions.create(\n",
    "            model=\"gpt-3.5-turbo\",\n",
    "            messages=messages,\n",
    "            max_tokens=1500,  \n",
    "            n=25  # Number of completions (questions with answers) to generate per iteration\n",
    "        )\n",
    "\n",
    "        # Append the generated questions and answers to the list\n",
    "        for choice in res.choices:\n",
    "            augmented_queries_ResidualIncomeValuation2018Summary.append(choice.message.content)\n",
    "            total_questions += 1\n",
    "            if total_questions >= 50:\n",
    "                break\n",
    "\n",
    "\n",
    "# File path for the output file\n",
    "file_path = \"SetB_ResidualIncomeValuation2018Summary_Questions.txt\"\n",
    "\n",
    "# Save the augmented queries with answers to a text file\n",
    "with open(file_path, 'w', encoding='utf-8') as file:\n",
    "    for idx, query in enumerate(augmented_queries_ResidualIncomeValuation2018Summary):\n",
    "        file_content = f\"Query {idx + 1} for ResidualIncomeValuation2018Summary:\\n\\n{query}\\n\"\n",
    "        file.write(file_content)\n",
    "        file.write(\"=\" * 50 + \"\\n\")\n",
    "\n",
    "print(f\"Output saved to {file_path}\")\n",
    "\n",
    "\n"
   ]
  },
  {
   "cell_type": "markdown",
   "metadata": {},
   "source": [
    "## Retrival of the Summary"
   ]
  },
  {
   "cell_type": "code",
   "execution_count": 32,
   "metadata": {},
   "outputs": [
    {
     "name": "stdout",
     "output_type": "stream",
     "text": [
      "Context 1 :\n",
      "Discounted cash flow (DCF) valuation views the intrinsic value of a security as the\n",
      "present value of its expected future cash flows. When applied to dividends, the DCF\n",
      "model is the discounted dividend approach or dividend discount model (DDM). This\n",
      "reading extends DCF analysis to value a company and its equity securities by valuing\n",
      "free cash flow to the firm (FCFF) and free cash flow to equity (FCFE). Whereas dividends\n",
      "are the cash flows actually paid to stockholders, free cash flows are the cash\n",
      "flows available for distribution to shareholders. Unlike dividends, FCFF and FCFE are not readily available data. Analysts need to\n",
      "compute these quantities from available financial information, which requires a clear\n",
      "understanding of free cash flows and the ability to interpret and use the information\n",
      "correctly. Forecasting future free cash flows is also a rich and demanding exercise.\n",
      "The analyst’s understanding of a company’s financial statements, its operations, its\n",
      "financing, and its industry can pay real “dividends” as he or she addresses that task.\n",
      "Many analysts consider free cash flow models to be more useful than DDMs in practice.\n",
      "Free cash flows provide an economically sound basis for valuation. Analysts like to use free cash flow as the return (either FCFF or FCFE) whenever\n",
      "one or more of the following conditions is present: Common equity can be valued directly by using FCFE or indirectly by first using a\n",
      "FCFF model to estimate the value of the firm and then subtracting the value of noncommon-stock\n",
      "capital (usually debt) from FCFF to arrive at an estimate of the value\n",
      "of equity. The purpose of this reading is to develop the background required to use\n",
      "the FCFF or FCFE approaches to value a company’s equity. Section 2 defines the concepts of free cash flow to the firm and free cash flow to\n",
      "equity and then presents the two valuation models based on discounting of FCFF and\n",
      "FCFE. We also explore the constant-growth models for valuing FCFF and FCFE, which\n",
      "are special cases of the general models, in this section. After reviewing the FCFF and\n",
      "FCFE valuation process in Section 2, we turn in Section 3 to the vital task of calculating and forecasting FCFF and FCFE. Section 4 explains multistage free cash flow\n",
      "valuation models and presents some of the issues associated with their application.\n",
      "Analysts usually value operating assets and nonoperating assets separately and then\n",
      "combine them to find the total value of the firm, an approach described in Section 5.\n",
      "\n",
      "==================================================\n",
      "\n",
      "Context 2 :\n",
      "This reading explores industry and company analysis with a focus on how analysts use industry information and corporate disclosures to forecast a company’s future financial results. Financial forecasts are the basis for fundamental equity valuation based on discounted cash flows and/or market multiples. An effective forecast model must be based on a thorough understanding of a company’s business, management, strategy, external environment, and historical results. Thus an analyst begins with a review of the company and its environment—its industry, key products, strategic position, management, competitors, suppliers, and customers. Using this information, an analyst identifies key revenue and cost drivers and assesses the likely impact of relevant trends, such as economic conditions and technological developments. An analyst’s understanding of the fundamental drivers of the business and an assessment of future events provides a basis for developing inputs to the forecast model. This reading begins with an overview of developing a forecast model. Section 2 describes the general approach to forecasting each component of the income statement (revenue, operating costs, and non-operating costs), balance sheet, and cash flow statement. The next sections develop special topics: Sections 3, 4, 5, 6, and 7 describe, respectively, the impact of competitive factors on prices and costs; the effects of inflation and deflation; technological developments; long-term forecasting; and building a company model. Section 8 presents conclusions and a summary.\n",
      "\n",
      "==================================================\n",
      "\n",
      "Context 3 :\n",
      "Among the most familiar and widely used valuation tools are price and enterprise value multiples. Price multiples are ratios of a stock’s market price to some measure of fundamental value per share. Enterprise value multiples, by contrast, relate the total market value of all sources of a company’s capital to a measure of fundamental value for the entire company. The intuition behind price multiples is that investors evaluate the price of a share of stock—judge whether it is fairly valued, overvalued, or undervalued—by considering what a share buys in terms of per share earnings, net assets, cash flow or some other measure of value (stated on a per share basis). The intuition behind enterprise value multiples is similar; investors evaluate the market value of an entire enterprise relative to the amount of earnings before interest, taxes, depreciation, and amortization (EBITDA), sales, or operating cash flow it generates. As valuation indicators (measures or indicators of value), multiples have the appealing qualities of simplicity in use and ease in communication. A multiple summarizes in a single number the relationship between the market value of a company’s stock (or of its total capital) and some fundamental quantity, such as earnings, sales, or book value (owners’ equity based on accounting values). Among the questions we will study in this reading for answers that will help in making correct use of multiples as valuation tools are the following: Multiples may be viewed as valuation indicators relating to individual securities. Another type of valuation indicator used in securities selection is momentum indicators. They typically relate either price or a fundamental (such as earnings) to the time series of its own past values or, in some cases, to its expected value. The logic behind the use of momentum indicators is that such indicators may provide infor-mation on future patterns of returns over some time horizon. Because the purpose of momentum indicators is to identify potentially rewarding investment opportunities, they can be viewed as a class of valuation indicators with a focus that is different from and complementary to the focus of price and enterprise value multiples. This reading is organized as follows. In Section 2, we put the use of price and enterprise value multiples in an economic context and present certain themes common to the use of any price or enterprise value multiple. Section 3 presents price multiples; a subsection is devoted to each multiple. The treatment of each multiple follows a common format: usage considerations, the relationship of the multiple to investors’ expectations about fundamentals, and using the multiple in valuation based on comparables. Section 4 presents enterprise value multiples and is organized similarly to Section 3. Section 5 presents international considerations in using multiples. A treatment of momentum indicators follows in Section 6. Section 7 discusses several practical issues that arise in using valuation indicators. We then summarize the reading, and the reading concludes with practice problems.\n",
      "\n",
      "==================================================\n",
      "\n",
      "Context 4 :\n",
      "Residual income models of equity value have become widely recognized tools in both investment practice and research. Conceptually, residual income is net income less a charge (deduction) for common shareholders’ opportunity cost in generating net income. It is the residual or remaining income after considering the costs of all of a company’s capital. The appeal of residual income models stems from a shortcoming of traditional accounting. Specifically, although a company’s income statement includes a charge for the cost of debt capital in the form of interest expense, it does not include a charge for the cost of equity capital. A company can have positive net income but may still not be adding value for shareholders if it does not earn more than its cost of equity capital. Residual income models explicitly recognize the costs of all the capital used in generating income. As an economic concept, residual income has a long history, dating back to Alfred Marshall in the late 1800s.1 As far back as the 1920s, General Motors used the concept in evaluating business segments.2 More recently, residual income has received renewed attention and interest, sometimes under names such as economic profit, abnormal earnings, or economic value added. Although residual income concepts have been used in a variety of contexts, including the measurement of internal corporate performance, this reading will focus on the residual income model for estimating the intrinsic value of common stock. Among the questions we will study to help us apply residual income models are the following: The reading is organized as follows: Section 2 develops the concept of residual income, introduces the use of residual income in valuation, and briefly presents alternative measures used in practice. Section 3 presents the residual income model and illustrates its use in valuing common stock. This section also shows practical applications, including the single-stage (constant-growth) residual income model and a multistage residual income model. Section 4 describes the relative strengths and weaknesses of residual income valuation compared to other valuation methods. Section 5 addresses accounting issues in the use of residual income valuation. The final section summarizes the reading and practice problems conclude. 1 Alfred Marshall, Book Two: Some Fundamental Notions, Chapter 4, “Income, Capital,” in Principles of Economics (London; Macmillan and Co., Ltd., 1890).\n",
      "2 See, for example, Young (1999) and Lo and Lys (2000).\n",
      "\n",
      "==================================================\n",
      "\n"
     ]
    }
   ],
   "source": [
    "# Initialize the list of augmented queries\n",
    "augmented_queries = []\n",
    "\n",
    "# Loop through each namespace and retrieve the corresponding query result\n",
    "for namespace_name in [\"FreeCashFlowValuation2018Summary\", \"IndustryandCompanyAnalysis2018Summary\", \"MarketBasedValuationPriceandEnterpriseValueMultiples2018Summary\", \"ResidualIncomeValuation2018Summary\"]:\n",
    "    # Perform the query using the embedding vector\n",
    "    query_result = index.query(vector=embedding_vector, top_k=5, namespace=namespace_name, include_metadata=True)\n",
    "    \n",
    "    # Get list of retrieved text from the query result\n",
    "    contexts = [item['metadata']['text'] for item in query_result['matches']]\n",
    "    \n",
    "    # Append the list of contexts to the augmented_queries list\n",
    "    augmented_queries.append(contexts)\n",
    "\n",
    "# Print the contexts from each augmented query\n",
    "for idx, contexts in enumerate(augmented_queries):\n",
    "    print(f\"Context {idx + 1} :\")\n",
    "    for context in contexts:\n",
    "        print(context)\n",
    "    print(\"\\n\" + \"=\" * 50 + \"\\n\")  \n"
   ]
  },
  {
   "cell_type": "code",
   "execution_count": null,
   "metadata": {},
   "outputs": [],
   "source": []
  }
 ],
 "metadata": {
  "kernelspec": {
   "display_name": "Python 3",
   "language": "python",
   "name": "python3"
  },
  "language_info": {
   "codemirror_mode": {
    "name": "ipython",
    "version": 3
   },
   "file_extension": ".py",
   "mimetype": "text/x-python",
   "name": "python",
   "nbconvert_exporter": "python",
   "pygments_lexer": "ipython3",
   "version": "3.9.6"
  }
 },
 "nbformat": 4,
 "nbformat_minor": 2
}
