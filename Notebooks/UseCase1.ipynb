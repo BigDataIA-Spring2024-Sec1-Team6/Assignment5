{
  "cells": [
    {
      "cell_type": "markdown",
      "metadata": {},
      "source": [
        "**Development of a Structured Database and Text Extraction System for Finance Professional Development Resources**\n",
        "\n",
        "**Overview:** You are an enterprise experimenting with the use of Models as a service APIs to build intelligent applications for knowledge retrieval and Q/A tasks.\n",
        "\n",
        "In this assignment, we will leverage Pinecone and OpenAI api’s for:\n",
        "1. Creating knowledge summaries using OpenAI’s GPT\n",
        "2. Generating a knowledge base (Q/A) providing context\n",
        "3. Using a vector database to find and answer questions.\n",
        "4. Use the knowledge summaries from 1 to answer questions.\n",
        "\n",
        "We will be using the scraped dataset from the CFA website using BeautifulSoup previously done by us in Assignment 1.\n",
        "\n",
        "CFA Website: https://www.cfainstitute.org/en/membership/professional-development/refresher-readings#sort=%40refreadingcurriculumyear%20descending\n",
        "\n",
        "As part of our Assigment, all 4 of us in the group have 4 different topics that we will be filtering out from the scraped data.\n",
        "\n",
        "- Akshita Pathania: Market-Based Valuation: Price and Enterprise Value Multiples (2018)\n",
        "- Osborne Lopes: Residual Income Valuation (2018)\n",
        "- Smithi Parthiban: Industry and Company Analysis (2018)\n",
        "- Manimanya Reddy: Free Cash Flow Valuation (2018)"
      ]
    },
    {
      "cell_type": "code",
      "execution_count": 1,
      "metadata": {
        "colab": {
          "base_uri": "https://localhost:8080/"
        },
        "id": "OltNOKlj-K32",
        "outputId": "bbf92db8-2f83-4023-b6e0-05ac3220e471"
      },
      "outputs": [
        {
          "name": "stdout",
          "output_type": "stream",
          "text": [
            "Defaulting to user installation because normal site-packages is not writeable\n",
            "Requirement already satisfied: pinecone-client[grpc] in /Users/akshitapathania/Library/Python/3.9/lib/python/site-packages (3.0.2)\n",
            "Requirement already satisfied: certifi>=2019.11.17 in /Users/akshitapathania/Library/Python/3.9/lib/python/site-packages (from pinecone-client[grpc]) (2024.2.2)\n",
            "Requirement already satisfied: tqdm>=4.64.1 in /Users/akshitapathania/Library/Python/3.9/lib/python/site-packages (from pinecone-client[grpc]) (4.66.2)\n",
            "Requirement already satisfied: typing-extensions>=3.7.4 in /Users/akshitapathania/Library/Python/3.9/lib/python/site-packages (from pinecone-client[grpc]) (4.9.0)\n",
            "Requirement already satisfied: urllib3>=1.26.0 in /Users/akshitapathania/Library/Python/3.9/lib/python/site-packages (from pinecone-client[grpc]) (1.26.18)\n",
            "Requirement already satisfied: googleapis-common-protos>=1.53.0 in /Users/akshitapathania/Library/Python/3.9/lib/python/site-packages (from pinecone-client[grpc]) (1.63.0)\n",
            "Requirement already satisfied: grpc-gateway-protoc-gen-openapiv2==0.1.0 in /Users/akshitapathania/Library/Python/3.9/lib/python/site-packages (from pinecone-client[grpc]) (0.1.0)\n",
            "Requirement already satisfied: grpcio>=1.44.0 in /Users/akshitapathania/Library/Python/3.9/lib/python/site-packages (from pinecone-client[grpc]) (1.62.1)\n",
            "Requirement already satisfied: lz4>=3.1.3 in /Users/akshitapathania/Library/Python/3.9/lib/python/site-packages (from pinecone-client[grpc]) (4.3.3)\n",
            "Requirement already satisfied: protobuf<3.21.0,>=3.20.0 in /Users/akshitapathania/Library/Python/3.9/lib/python/site-packages (from pinecone-client[grpc]) (3.20.3)\n",
            "Note: you may need to restart the kernel to use updated packages.\n"
          ]
        }
      ],
      "source": [
        "pip install 'pinecone-client[grpc]'\n"
      ]
    },
    {
      "cell_type": "code",
      "execution_count": 2,
      "metadata": {
        "colab": {
          "base_uri": "https://localhost:8080/"
        },
        "id": "F4AH7ztn-K37",
        "outputId": "9a731bd7-e62c-4761-d2ae-598aaa90a8c0"
      },
      "outputs": [
        {
          "name": "stdout",
          "output_type": "stream",
          "text": [
            "Defaulting to user installation because normal site-packages is not writeable\n",
            "Requirement already satisfied: openai in /Users/akshitapathania/Library/Python/3.9/lib/python/site-packages (1.17.0)\n",
            "Requirement already satisfied: anyio<5,>=3.5.0 in /Users/akshitapathania/Library/Python/3.9/lib/python/site-packages (from openai) (4.3.0)\n",
            "Requirement already satisfied: distro<2,>=1.7.0 in /Users/akshitapathania/Library/Python/3.9/lib/python/site-packages (from openai) (1.9.0)\n",
            "Requirement already satisfied: httpx<1,>=0.23.0 in /Users/akshitapathania/Library/Python/3.9/lib/python/site-packages (from openai) (0.27.0)\n",
            "Requirement already satisfied: pydantic<3,>=1.9.0 in /Users/akshitapathania/Library/Python/3.9/lib/python/site-packages (from openai) (2.6.3)\n",
            "Requirement already satisfied: sniffio in /Users/akshitapathania/Library/Python/3.9/lib/python/site-packages (from openai) (1.3.1)\n",
            "Requirement already satisfied: tqdm>4 in /Users/akshitapathania/Library/Python/3.9/lib/python/site-packages (from openai) (4.66.2)\n",
            "Requirement already satisfied: typing-extensions<5,>=4.7 in /Users/akshitapathania/Library/Python/3.9/lib/python/site-packages (from openai) (4.9.0)\n",
            "Requirement already satisfied: idna>=2.8 in /Users/akshitapathania/Library/Python/3.9/lib/python/site-packages (from anyio<5,>=3.5.0->openai) (3.6)\n",
            "Requirement already satisfied: exceptiongroup>=1.0.2 in /Users/akshitapathania/Library/Python/3.9/lib/python/site-packages (from anyio<5,>=3.5.0->openai) (1.2.0)\n",
            "Requirement already satisfied: certifi in /Users/akshitapathania/Library/Python/3.9/lib/python/site-packages (from httpx<1,>=0.23.0->openai) (2024.2.2)\n",
            "Requirement already satisfied: httpcore==1.* in /Users/akshitapathania/Library/Python/3.9/lib/python/site-packages (from httpx<1,>=0.23.0->openai) (1.0.5)\n",
            "Requirement already satisfied: h11<0.15,>=0.13 in /Users/akshitapathania/Library/Python/3.9/lib/python/site-packages (from httpcore==1.*->httpx<1,>=0.23.0->openai) (0.14.0)\n",
            "Requirement already satisfied: annotated-types>=0.4.0 in /Users/akshitapathania/Library/Python/3.9/lib/python/site-packages (from pydantic<3,>=1.9.0->openai) (0.6.0)\n",
            "Requirement already satisfied: pydantic-core==2.16.3 in /Users/akshitapathania/Library/Python/3.9/lib/python/site-packages (from pydantic<3,>=1.9.0->openai) (2.16.3)\n",
            "Note: you may need to restart the kernel to use updated packages.\n"
          ]
        }
      ],
      "source": [
        "pip install openai"
      ]
    },
    {
      "cell_type": "code",
      "execution_count": 3,
      "metadata": {
        "colab": {
          "base_uri": "https://localhost:8080/"
        },
        "id": "9Wtlu68m-K39",
        "outputId": "fce0b7fc-6a1f-461c-8e90-0f04c4f48612"
      },
      "outputs": [
        {
          "name": "stdout",
          "output_type": "stream",
          "text": [
            "Defaulting to user installation because normal site-packages is not writeable\n",
            "Requirement already satisfied: tiktoken in /Users/akshitapathania/Library/Python/3.9/lib/python/site-packages (0.6.0)\n",
            "Requirement already satisfied: regex>=2022.1.18 in /Users/akshitapathania/Library/Python/3.9/lib/python/site-packages (from tiktoken) (2023.12.25)\n",
            "Requirement already satisfied: requests>=2.26.0 in /Users/akshitapathania/Library/Python/3.9/lib/python/site-packages (from tiktoken) (2.31.0)\n",
            "Requirement already satisfied: charset-normalizer<4,>=2 in /Users/akshitapathania/Library/Python/3.9/lib/python/site-packages (from requests>=2.26.0->tiktoken) (3.3.2)\n",
            "Requirement already satisfied: idna<4,>=2.5 in /Users/akshitapathania/Library/Python/3.9/lib/python/site-packages (from requests>=2.26.0->tiktoken) (3.6)\n",
            "Requirement already satisfied: urllib3<3,>=1.21.1 in /Users/akshitapathania/Library/Python/3.9/lib/python/site-packages (from requests>=2.26.0->tiktoken) (1.26.18)\n",
            "Requirement already satisfied: certifi>=2017.4.17 in /Users/akshitapathania/Library/Python/3.9/lib/python/site-packages (from requests>=2.26.0->tiktoken) (2024.2.2)\n",
            "Note: you may need to restart the kernel to use updated packages.\n"
          ]
        }
      ],
      "source": [
        "pip install tiktoken\n"
      ]
    },
    {
      "cell_type": "code",
      "execution_count": 4,
      "metadata": {
        "colab": {
          "base_uri": "https://localhost:8080/"
        },
        "id": "FzHjIf18-K3-",
        "outputId": "6e6fde59-f383-4ea0-a250-63d1ce1e2df5"
      },
      "outputs": [
        {
          "name": "stdout",
          "output_type": "stream",
          "text": [
            "Defaulting to user installation because normal site-packages is not writeable\n",
            "Requirement already satisfied: langchain in /Users/akshitapathania/Library/Python/3.9/lib/python/site-packages (0.1.14)\n",
            "Requirement already satisfied: PyYAML>=5.3 in /Users/akshitapathania/Library/Python/3.9/lib/python/site-packages (from langchain) (6.0.1)\n",
            "Requirement already satisfied: SQLAlchemy<3,>=1.4 in /Users/akshitapathania/Library/Python/3.9/lib/python/site-packages (from langchain) (1.4.51)\n",
            "Requirement already satisfied: aiohttp<4.0.0,>=3.8.3 in /Users/akshitapathania/Library/Python/3.9/lib/python/site-packages (from langchain) (3.9.3)\n",
            "Requirement already satisfied: async-timeout<5.0.0,>=4.0.0 in /Users/akshitapathania/Library/Python/3.9/lib/python/site-packages (from langchain) (4.0.3)\n",
            "Requirement already satisfied: dataclasses-json<0.7,>=0.5.7 in /Users/akshitapathania/Library/Python/3.9/lib/python/site-packages (from langchain) (0.6.4)\n",
            "Requirement already satisfied: jsonpatch<2.0,>=1.33 in /Users/akshitapathania/Library/Python/3.9/lib/python/site-packages (from langchain) (1.33)\n",
            "Requirement already satisfied: langchain-community<0.1,>=0.0.30 in /Users/akshitapathania/Library/Python/3.9/lib/python/site-packages (from langchain) (0.0.31)\n",
            "Requirement already satisfied: langchain-core<0.2.0,>=0.1.37 in /Users/akshitapathania/Library/Python/3.9/lib/python/site-packages (from langchain) (0.1.40)\n",
            "Requirement already satisfied: langchain-text-splitters<0.1,>=0.0.1 in /Users/akshitapathania/Library/Python/3.9/lib/python/site-packages (from langchain) (0.0.1)\n",
            "Requirement already satisfied: langsmith<0.2.0,>=0.1.17 in /Users/akshitapathania/Library/Python/3.9/lib/python/site-packages (from langchain) (0.1.40)\n",
            "Requirement already satisfied: numpy<2,>=1 in /Users/akshitapathania/Library/Python/3.9/lib/python/site-packages (from langchain) (1.26.4)\n",
            "Requirement already satisfied: pydantic<3,>=1 in /Users/akshitapathania/Library/Python/3.9/lib/python/site-packages (from langchain) (2.6.3)\n",
            "Requirement already satisfied: requests<3,>=2 in /Users/akshitapathania/Library/Python/3.9/lib/python/site-packages (from langchain) (2.31.0)\n",
            "Requirement already satisfied: tenacity<9.0.0,>=8.1.0 in /Users/akshitapathania/Library/Python/3.9/lib/python/site-packages (from langchain) (8.2.3)\n",
            "Requirement already satisfied: aiosignal>=1.1.2 in /Users/akshitapathania/Library/Python/3.9/lib/python/site-packages (from aiohttp<4.0.0,>=3.8.3->langchain) (1.3.1)\n",
            "Requirement already satisfied: attrs>=17.3.0 in /Users/akshitapathania/Library/Python/3.9/lib/python/site-packages (from aiohttp<4.0.0,>=3.8.3->langchain) (23.2.0)\n",
            "Requirement already satisfied: frozenlist>=1.1.1 in /Users/akshitapathania/Library/Python/3.9/lib/python/site-packages (from aiohttp<4.0.0,>=3.8.3->langchain) (1.4.1)\n",
            "Requirement already satisfied: multidict<7.0,>=4.5 in /Users/akshitapathania/Library/Python/3.9/lib/python/site-packages (from aiohttp<4.0.0,>=3.8.3->langchain) (6.0.5)\n",
            "Requirement already satisfied: yarl<2.0,>=1.0 in /Users/akshitapathania/Library/Python/3.9/lib/python/site-packages (from aiohttp<4.0.0,>=3.8.3->langchain) (1.9.4)\n",
            "Requirement already satisfied: marshmallow<4.0.0,>=3.18.0 in /Users/akshitapathania/Library/Python/3.9/lib/python/site-packages (from dataclasses-json<0.7,>=0.5.7->langchain) (3.21.0)\n",
            "Requirement already satisfied: typing-inspect<1,>=0.4.0 in /Users/akshitapathania/Library/Python/3.9/lib/python/site-packages (from dataclasses-json<0.7,>=0.5.7->langchain) (0.9.0)\n",
            "Requirement already satisfied: jsonpointer>=1.9 in /Users/akshitapathania/Library/Python/3.9/lib/python/site-packages (from jsonpatch<2.0,>=1.33->langchain) (2.4)\n",
            "Requirement already satisfied: packaging<24.0,>=23.2 in /Users/akshitapathania/Library/Python/3.9/lib/python/site-packages (from langchain-core<0.2.0,>=0.1.37->langchain) (23.2)\n",
            "Requirement already satisfied: orjson<4.0.0,>=3.9.14 in /Users/akshitapathania/Library/Python/3.9/lib/python/site-packages (from langsmith<0.2.0,>=0.1.17->langchain) (3.9.15)\n",
            "Requirement already satisfied: annotated-types>=0.4.0 in /Users/akshitapathania/Library/Python/3.9/lib/python/site-packages (from pydantic<3,>=1->langchain) (0.6.0)\n",
            "Requirement already satisfied: pydantic-core==2.16.3 in /Users/akshitapathania/Library/Python/3.9/lib/python/site-packages (from pydantic<3,>=1->langchain) (2.16.3)\n",
            "Requirement already satisfied: typing-extensions>=4.6.1 in /Users/akshitapathania/Library/Python/3.9/lib/python/site-packages (from pydantic<3,>=1->langchain) (4.9.0)\n",
            "Requirement already satisfied: charset-normalizer<4,>=2 in /Users/akshitapathania/Library/Python/3.9/lib/python/site-packages (from requests<3,>=2->langchain) (3.3.2)\n",
            "Requirement already satisfied: idna<4,>=2.5 in /Users/akshitapathania/Library/Python/3.9/lib/python/site-packages (from requests<3,>=2->langchain) (3.6)\n",
            "Requirement already satisfied: urllib3<3,>=1.21.1 in /Users/akshitapathania/Library/Python/3.9/lib/python/site-packages (from requests<3,>=2->langchain) (1.26.18)\n",
            "Requirement already satisfied: certifi>=2017.4.17 in /Users/akshitapathania/Library/Python/3.9/lib/python/site-packages (from requests<3,>=2->langchain) (2024.2.2)\n",
            "Requirement already satisfied: mypy-extensions>=0.3.0 in /Users/akshitapathania/Library/Python/3.9/lib/python/site-packages (from typing-inspect<1,>=0.4.0->dataclasses-json<0.7,>=0.5.7->langchain) (1.0.0)\n",
            "Note: you may need to restart the kernel to use updated packages.\n"
          ]
        }
      ],
      "source": [
        "pip install langchain"
      ]
    },
    {
      "cell_type": "code",
      "execution_count": 5,
      "metadata": {
        "id": "MlRiqTWs-K3_"
      },
      "outputs": [
        {
          "name": "stderr",
          "output_type": "stream",
          "text": [
            "/Users/akshitapathania/Library/Python/3.9/lib/python/site-packages/pinecone/data/index.py:1: TqdmWarning: IProgress not found. Please update jupyter and ipywidgets. See https://ipywidgets.readthedocs.io/en/stable/user_install.html\n",
            "  from tqdm.autonotebook import tqdm\n"
          ]
        }
      ],
      "source": [
        "import openai\n",
        "\n",
        "from typing import List, Iterator\n",
        "import pandas as pd\n",
        "import numpy as np\n",
        "import os\n",
        "from ast import literal_eval\n",
        "\n",
        "# Pinecone's client library for Python\n",
        "import pinecone\n",
        "\n",
        "# I've set this to our new embeddings model, this can be changed to the embedding model of your choice\n",
        "EMBEDDING_MODEL = \"text-embedding-3-small\"\n",
        "\n",
        "# Ignore unclosed SSL socket warnings - optional in case you get these errors\n",
        "import warnings\n",
        "\n",
        "warnings.filterwarnings(action=\"ignore\", message=\"unclosed\", category=ResourceWarning)\n",
        "warnings.filterwarnings(\"ignore\", category=DeprecationWarning)"
      ]
    },
    {
      "cell_type": "code",
      "execution_count": 6,
      "metadata": {
        "colab": {
          "base_uri": "https://localhost:8080/",
          "height": 261
        },
        "id": "FvRanjeh-K4B",
        "outputId": "b273f08c-0da4-4d7a-a8b9-2881e5dd7fa1"
      },
      "outputs": [
        {
          "data": {
            "text/html": [
              "<div>\n",
              "<style scoped>\n",
              "    .dataframe tbody tr th:only-of-type {\n",
              "        vertical-align: middle;\n",
              "    }\n",
              "\n",
              "    .dataframe tbody tr th {\n",
              "        vertical-align: top;\n",
              "    }\n",
              "\n",
              "    .dataframe thead th {\n",
              "        text-align: right;\n",
              "    }\n",
              "</style>\n",
              "<table border=\"1\" class=\"dataframe\">\n",
              "  <thead>\n",
              "    <tr style=\"text-align: right;\">\n",
              "      <th></th>\n",
              "      <th>Title</th>\n",
              "      <th>Year</th>\n",
              "      <th>Level</th>\n",
              "      <th>Introduction Summary</th>\n",
              "      <th>Learning Outcomes</th>\n",
              "      <th>Link to Summary Page</th>\n",
              "      <th>Link to PDF File</th>\n",
              "    </tr>\n",
              "  </thead>\n",
              "  <tbody>\n",
              "    <tr>\n",
              "      <th>0</th>\n",
              "      <td>Industry and Company Analysis (2018)</td>\n",
              "      <td>2018\\n Curriculum</td>\n",
              "      <td>Level II</td>\n",
              "      <td>This reading explores industry and company ana...</td>\n",
              "      <td>compare top-down, bottom-up, and hybrid approa...</td>\n",
              "      <td>https://www.cfainstitute.org/membership/profes...</td>\n",
              "      <td>No PDF link found</td>\n",
              "    </tr>\n",
              "    <tr>\n",
              "      <th>1</th>\n",
              "      <td>Free Cash Flow Valuation (2018)</td>\n",
              "      <td>2018\\n Curriculum</td>\n",
              "      <td>Level II</td>\n",
              "      <td>Discounted cash flow (DCF) valuation views the...</td>\n",
              "      <td>compare the free cash flow to the firm (FCFF) ...</td>\n",
              "      <td>https://www.cfainstitute.org/membership/profes...</td>\n",
              "      <td>No PDF link found</td>\n",
              "    </tr>\n",
              "    <tr>\n",
              "      <th>2</th>\n",
              "      <td>Residual Income Valuation (2018)</td>\n",
              "      <td>2018\\n Curriculum</td>\n",
              "      <td>Level II</td>\n",
              "      <td>Residual income models of equity value have be...</td>\n",
              "      <td>calculate and interpret residual income, econo...</td>\n",
              "      <td>https://www.cfainstitute.org/membership/profes...</td>\n",
              "      <td>No PDF link found</td>\n",
              "    </tr>\n",
              "    <tr>\n",
              "      <th>3</th>\n",
              "      <td>Market-Based Valuation: Price and Enterprise V...</td>\n",
              "      <td>2018\\n Curriculum</td>\n",
              "      <td>Level II</td>\n",
              "      <td>Among the most familiar and widely used valuat...</td>\n",
              "      <td>distinguish between the method of comparables ...</td>\n",
              "      <td>https://www.cfainstitute.org/membership/profes...</td>\n",
              "      <td>No PDF link found</td>\n",
              "    </tr>\n",
              "  </tbody>\n",
              "</table>\n",
              "</div>"
            ],
            "text/plain": [
              "                                               Title               Year  \\\n",
              "0               Industry and Company Analysis (2018)  2018\\n Curriculum   \n",
              "1                    Free Cash Flow Valuation (2018)  2018\\n Curriculum   \n",
              "2                   Residual Income Valuation (2018)  2018\\n Curriculum   \n",
              "3  Market-Based Valuation: Price and Enterprise V...  2018\\n Curriculum   \n",
              "\n",
              "      Level                               Introduction Summary  \\\n",
              "0  Level II  This reading explores industry and company ana...   \n",
              "1  Level II  Discounted cash flow (DCF) valuation views the...   \n",
              "2  Level II  Residual income models of equity value have be...   \n",
              "3  Level II  Among the most familiar and widely used valuat...   \n",
              "\n",
              "                                   Learning Outcomes  \\\n",
              "0  compare top-down, bottom-up, and hybrid approa...   \n",
              "1  compare the free cash flow to the firm (FCFF) ...   \n",
              "2  calculate and interpret residual income, econo...   \n",
              "3  distinguish between the method of comparables ...   \n",
              "\n",
              "                                Link to Summary Page   Link to PDF File  \n",
              "0  https://www.cfainstitute.org/membership/profes...  No PDF link found  \n",
              "1  https://www.cfainstitute.org/membership/profes...  No PDF link found  \n",
              "2  https://www.cfainstitute.org/membership/profes...  No PDF link found  \n",
              "3  https://www.cfainstitute.org/membership/profes...  No PDF link found  "
            ]
          },
          "execution_count": 6,
          "metadata": {},
          "output_type": "execute_result"
        }
      ],
      "source": [
        "article_df = pd.read_csv('/Users/akshitapathania/Desktop/Assign5_CSV.csv')\n",
        "article_df.head()\n"
      ]
    },
    {
      "cell_type": "code",
      "execution_count": 7,
      "metadata": {
        "id": "bsN9PGIC-K4D"
      },
      "outputs": [],
      "source": [
        "data = article_df['Learning Outcomes']"
      ]
    },
    {
      "cell_type": "code",
      "execution_count": 8,
      "metadata": {
        "colab": {
          "base_uri": "https://localhost:8080/",
          "height": 140
        },
        "id": "4w8F9Qry-K4F",
        "outputId": "4d6a76fe-4a53-45e3-dd74-82aa4f77f64e"
      },
      "outputs": [
        {
          "data": {
            "text/plain": [
              "'compare top-down, bottom-up, and hybrid approaches for developing inputs to equity valuation models; compare “growth relative to GDP growth” and “market growth and market share” approaches to forecasting revenue; evaluate whether economies of scale are present in an industry by analyzing operating margins and sales levels; forecast the following costs: cost of goods sold, selling general and administrative costs, financing costs, and income taxes; describe approaches to balance sheet modeling; describe the relationship between return on invested capital and competitive advantage; explain how competitive factors affect prices and costs; judge the competitive position of a company based on a Porter’s five forces analysis; explain how to forecast industry and company sales and costs when they are subject to price inflation or deflation; evaluate the effects of technological developments on demand, selling prices, costs, and margins; explain considerations in the choice of an explicit forecast horizon; explain an analyst’s choices in developing projections beyond the short-term forecast horizon; demonstrate the development of a sales-based pro forma company model.'"
            ]
          },
          "execution_count": 8,
          "metadata": {},
          "output_type": "execute_result"
        }
      ],
      "source": [
        "data[0]"
      ]
    },
    {
      "cell_type": "code",
      "execution_count": 9,
      "metadata": {},
      "outputs": [
        {
          "data": {
            "text/plain": [
              "'compare the free cash flow to the firm (FCFF) and free cash flow\\nto equity (FCFE) approaches to valuation; explain the ownership perspective implicit in the FCFE approach; explain the appropriate adjustments to net income, earnings\\nbefore interest and taxes (EBIT), earnings before interest, taxes,\\ndepreciation, and amortization (EBITDA), and cash flow from\\noperations (CFO) to calculate FCFF and FCFE; calculate FCFF and FCFE; describe approaches for forecasting FCFF and FCFE; compare the FCFE model and dividend discount models; explain how dividends, share repurchases, share issues, and\\nchanges in leverage may affect future FCFF and FCFE; evaluate the use of net income and EBITDA as proxies for cash\\nflow in valuation; explain the single-stage (stable-growth), two-stage, and\\nthree-stage FCFF and FCFE models and select and justify the\\nappropriate model given a company’s characteristics; estimate a company’s value using the appropriate free cash flow\\nmodel(s); explain the use of sensitivity analysis in FCFF and FCFE\\nvaluations; describe approaches for calculating the terminal value in a\\nmultistage valuation model; evaluate whether a stock is overvalued, fairly valued, or\\nundervalued based on a free cash flow valuation model.'"
            ]
          },
          "execution_count": 9,
          "metadata": {},
          "output_type": "execute_result"
        }
      ],
      "source": [
        "data[1]"
      ]
    },
    {
      "cell_type": "code",
      "execution_count": 10,
      "metadata": {
        "id": "spf8YW-0-K4G"
      },
      "outputs": [],
      "source": [
        "import tiktoken\n",
        "\n",
        "tokenizer = tiktoken.get_encoding('p50k_base')\n",
        "\n",
        "# create the length function\n",
        "def tiktoken_len(text):\n",
        "    tokens = tokenizer.encode(\n",
        "        text,\n",
        "        disallowed_special=()\n",
        "    )\n",
        "    return len(tokens)"
      ]
    },
    {
      "cell_type": "code",
      "execution_count": 11,
      "metadata": {
        "id": "dBcUf_wj-K4H"
      },
      "outputs": [],
      "source": [
        "from langchain.text_splitter import RecursiveCharacterTextSplitter\n",
        "\n",
        "text_splitter = RecursiveCharacterTextSplitter(\n",
        "    chunk_size=400,\n",
        "    chunk_overlap=20,\n",
        "    length_function=tiktoken_len,\n",
        "    separators=[\"\\n\\n\", \"\\n\", \";\", \" \",\"\"]\n",
        ")"
      ]
    },
    {
      "cell_type": "code",
      "execution_count": 12,
      "metadata": {
        "colab": {
          "base_uri": "https://localhost:8080/",
          "height": 49,
          "referenced_widgets": [
            "2a0969f59fe3407f80b8f5bc96b14ba9",
            "5685eeedd4ad401bb56dfb5fbd66cb72",
            "245fa3442cf44e24b700576da94bd6d3",
            "463bf1f6fc784f07a1320bb30c758a35",
            "16a964af8a75451eaa8f4babe447ac23",
            "dd8cbf96790e4268bf4acaa53856bc54",
            "2384c528bf824be2a871461f60a5b752",
            "a75667ab08f14203b8716439133b6a74",
            "f64cead845954c0cb1dd726820749338",
            "a34925e3b55946b1b6077209313c02e7",
            "027c8c25f33848bfb465f56311c7159d"
          ]
        },
        "id": "httBzSlr-K4H",
        "outputId": "3cee0c28-b453-42e5-aa1b-94dca4d42718"
      },
      "outputs": [
        {
          "name": "stderr",
          "output_type": "stream",
          "text": [
            "100%|██████████| 4/4 [00:00<00:00, 540.99it/s]\n"
          ]
        }
      ],
      "source": [
        "from uuid import uuid4\n",
        "from tqdm.auto import tqdm\n",
        "\n",
        "# Assuming 'Learning Outcomes' is the name of the column in the DataFrame 'article_df_s'\n",
        "chunks = []\n",
        "\n",
        "for idx, text in tqdm(article_df['Learning Outcomes'].items(), total=article_df['Learning Outcomes'].shape[0]):\n",
        "    # Assuming text_splitter is defined and has a method split_text that splits the text into chunks\n",
        "    texts = text_splitter.split_text(text)\n",
        "    chunks.extend([{\n",
        "        'id': str(uuid4()),\n",
        "        'text': chunk_text,\n",
        "        'chunk': i,\n",
        "        'title': article_df.at[idx, 'Title']  \n",
        "    } for i, chunk_text in enumerate(texts)])\n",
        "\n"
      ]
    },
    {
      "cell_type": "markdown",
      "metadata": {
        "id": "qLREYPTW-K4I"
      },
      "source": [
        "### Initialise the embedded model"
      ]
    },
    {
      "cell_type": "code",
      "execution_count": 13,
      "metadata": {
        "id": "_CY7CwZj-K4L"
      },
      "outputs": [],
      "source": [
        "\n",
        "# initialize openai API key\n",
        "from openai import OpenAI\n",
        "api_key = os.getenv(\"api_key\")\n",
        "\n",
        "\n",
        "embed_model = \"text-embedding-3-small\"\n",
        "\n",
        "client = OpenAI(api_key=api_key)\n",
        "res = client.embeddings.create(\n",
        "    input=[\n",
        "        \"Sample document text goes here\",\n",
        "        \"there will be several phrases in each batch\"\n",
        "    ], model = embed_model\n",
        ")"
      ]
    },
    {
      "cell_type": "code",
      "execution_count": 14,
      "metadata": {
        "colab": {
          "base_uri": "https://localhost:8080/"
        },
        "id": "MnpNC-Zt-K4L",
        "outputId": "7700eb31-ea68-4c7c-a662-939e58cee45d"
      },
      "outputs": [
        {
          "name": "stdout",
          "output_type": "stream",
          "text": [
            "CreateEmbeddingResponse(data=[Embedding(embedding=[-0.0006736477953381836, 0.01784864068031311, 0.028474807739257812, -0.016548041254281998, -0.044690780341625214, -0.03376021981239319, 0.024296287447214127, -0.015496493317186832, 0.014804685488343239, -0.00604294054210186, 0.034147631376981735, -0.010307935066521168, 0.004617816768586636, -0.0065825507044792175, 0.06502992659807205, 0.07250145077705383, -0.0044102743268013, 0.013344971463084221, -0.026772959157824516, 0.03685951605439186, 0.0047181290574371815, 0.04671085998415947, -0.021349187940359116, 0.03442435339093208, 0.012708508409559727, -0.021874960511922836, -0.040512263774871826, -0.024891242384910583, 0.05113843083381653, -0.06253942102193832, -0.018512776121497154, -0.041204068809747696, 0.01910773105919361, -0.03038419596850872, -0.040152523666620255, 0.054680485278367996, 0.06558337807655334, 0.004022862296551466, -0.04975481331348419, -0.04817749187350273, -0.00958153698593378, -0.012507883831858635, 0.054846517741680145, 0.00950543861836195, -0.0009209690615534782, 0.035199180245399475, 0.008301693014800549, -0.019675012677907944, -0.005403018556535244, 0.05625780671834946, 0.005548298358917236, -0.020781904458999634, -0.001242659636773169, 0.02306487038731575, 0.03497780114412308, -0.002590819960460067, -0.024780552834272385, 0.02237306348979473, -0.009927441366016865, -0.026994338259100914, 0.009242551401257515, 0.01743355579674244, -0.015358132310211658, 0.03328979015350342, -0.015261279419064522, 0.03434133529663086, -0.04527189955115318, 0.01100666169077158, -0.020629707723855972, 0.0014752800343558192, 0.05728168040513992, 0.01721217669546604, -0.004244240466505289, 0.0176964420825243, 0.010003539733588696, -0.007602967321872711, -0.057170990854501724, -0.0057558403350412846, -0.031684793531894684, -0.01974419318139553, 0.030522558838129044, 0.0324319489300251, -0.003932927269488573, -0.042200274765491486, -0.06547268480062485, 0.011670797131955624, -0.0657494068145752, 0.04402664676308632, -0.04748568311333656, -0.02154289372265339, -0.01991022750735283, 0.004458700772374868, 0.00022548608831129968, -0.0035455147735774517, 0.02426861599087715, 0.005392641294747591, -0.06209666281938553, 0.008052642457187176, -0.020726559683680534, -0.008509235456585884, 0.06076839193701744, -0.02338310144841671, -0.022815819829702377, -0.011151940561830997, 0.015510329976677895, 0.01589774154126644, 0.02811506763100624, -0.021252334117889404, -0.045797672122716904, -0.023825859650969505, -0.07006628811359406, -0.0011172695085406303, 0.01916307397186756, 0.03829847648739815, -0.009145698510110378, -0.00580426724627614, 0.042947426438331604, -0.036831844598054886, 0.008516153320670128, -0.023991892114281654, -0.034728750586509705, -0.01574554480612278, -0.005731627345085144, -0.03622305393218994, -0.009201043285429478, -0.051110755652189255, 0.021819615736603737, -0.02642705664038658, -0.032459620386362076, 0.02563839592039585, 0.05055731162428856, -0.041840534657239914, 0.017834803089499474, -0.03827080503106117, -0.028308773413300514, 0.015524165704846382, -0.040041834115982056, 0.05282644182443619, -0.028447134420275688, 0.03719158470630646, 0.014500290155410767, -0.03666581213474274, 0.026510072872042656, 0.03126971051096916, -0.02000707946717739, -0.029554028064012527, -0.024130254983901978, -0.018402086570858955, -0.026883648708462715, 0.019287599250674248, -0.02411641739308834, 0.04496750235557556, -0.046268101781606674, 0.021874960511922836, 0.036306072026491165, -0.023562971502542496, 0.04618508741259575, -0.020920267328619957, -0.039516057819128036, 0.02321706898510456, -0.012853788211941719, -0.04651715233922005, 0.012092799879610538, 0.01784864068031311, -0.0163820069283247, -0.023895040154457092, 0.0149292116984725, -0.014306584373116493, -0.06768646836280823, 0.011968273669481277, -0.010051966644823551, -0.04460776224732399, -0.012369522824883461, -0.024476157501339912, -0.02163974568247795, 0.03575262427330017, -0.013289626687765121, -0.017364375293254852, 0.020256131887435913, 0.032570309937000275, 0.010868299752473831, 0.04828818142414093, 0.012445621192455292, 0.02195797860622406, 0.02428245171904564, -0.0513874813914299, 0.010211082175374031, 0.04712594300508499, 0.02381202206015587, -0.01185066718608141, 0.003670040052384138, 0.02927730418741703, -0.02721571736037731, -0.032570309937000275, -0.021141644567251205, -0.006520288065075874, 0.06082373857498169, -0.001847126754000783, 0.00903500895947218, 0.03591865673661232, 0.005569052416831255, 0.05658987537026405, -0.05545530840754509, 0.007416178938001394, -0.06635820120573044, -0.023673661053180695, -0.03301306441426277, -0.010619249194860458, -0.017571916803717613, -0.06602612882852554, 0.047734733670949936, 0.00945009384304285, 0.02486357092857361, 0.0011933683417737484, -0.03481176495552063, -0.025776756927371025, -0.009802916087210178, 0.048371199518442154, 0.028447134420275688, -0.00397443538531661, -0.010550068691372871, 0.035614263266325, 0.06652422994375229, 0.0355035737156868, 0.011919847689568996, -0.008564580231904984, -0.012521720491349697, -0.017502736300230026, -0.017987001687288284, -0.0012296882923692465, 0.017530407756567, 0.002151522086933255, 0.02317555993795395, -0.03492245450615883, 0.02264978550374508, -0.005814644042402506, -0.008024970069527626, 0.003659663023427129, -0.015717871487140656, 0.007941952906548977, -0.06929146498441696, 0.008882811293005943, 0.031131349503993988, 0.012653163634240627, 0.03079928085207939, -0.031463418155908585, -0.04117639735341072, -0.07521333545446396, 0.032680999487638474, 0.05022524297237396, 0.022718966007232666, 0.011989028193056583, 0.016810927540063858, -0.008467727340757847, -0.0019180369563400745, 0.0035109242890030146, -0.006063695065677166, 0.02201332338154316, 0.016575714573264122, -0.004264994990080595, -0.053269196301698685, 0.002277777064591646, -0.023673661053180695, 0.02143220417201519, -0.008267102763056755, -0.0020183490123599768, 0.02237306348979473, 0.005354592110961676, 0.01048088725656271, -0.03392625227570534, -0.008799795061349869, 0.05108308419585228, 0.04422035068273544, -0.019771866500377655, -0.05838857591152191, 0.03312375396490097, 0.005531002767384052, -0.023341594263911247, 0.020947938784956932, 0.0070771933533251286, -0.025610722601413727, 0.003519571851938963, -0.024199435487389565, 0.0005205853376537561, -0.019342944025993347, -0.01064000278711319, 0.04474612697958946, 0.01578705385327339, 0.0025199097581207752, 0.007810509763658047, 0.033843234181404114, -0.03492245450615883, 0.014389601536095142, -0.03832614794373512, -0.027450932189822197, 0.016257481649518013, -0.012148143723607063, 0.02242840826511383, 0.04139777645468712, 0.010563904419541359, 0.03085462562739849, 0.026620762422680855, 0.006890405435115099, 0.022359225898981094, 0.017309030517935753, 0.02464219182729721, 0.017198340967297554, -0.02839178964495659, 0.03395392373204231, -0.023189395666122437, 0.03290237858891487, -0.033206772059202194, -0.031463418155908585, -0.04723663255572319, -0.0324319489300251, -0.02417176216840744, 0.08229745179414749, 0.009021173231303692, -0.04137010499835014, -0.04023553803563118, 0.021030955016613007, -0.03796640783548355, 0.058222539722919464, -0.002813928062096238, 0.012777688913047314, 0.032514963299036026, 0.015095245093107224, 0.01885867863893509, 0.016714075580239296, -0.04524422809481621, -0.007796673569828272, -0.043417856097221375, 0.005762758664786816, -0.026731451973319054, 0.027035847306251526, -0.008460808545351028, 0.004749260377138853, 0.05545530840754509, 0.02105862833559513, 0.029249632731080055, -0.057115647941827774, -0.007402342744171619, 0.015233607031404972, 0.015067572705447674, 0.003299922915175557, -0.0149292116984725, -0.007886608131229877, 0.02769998274743557, 0.029055925086140633, 0.014555634930729866, -0.023286249488592148, 0.036997877061367035, 0.035060815513134, 0.020975610241293907, 0.0432794913649559, -0.03340047970414162, 0.00134902517311275, -0.023189395666122437, 0.016146792098879814, -0.018180707469582558, -0.022995689883828163, 0.002959207631647587, 0.06458716839551926, -0.0061052036471664906, -0.00522660743445158, 0.025527706369757652, 0.0034624978434294462, -0.03107600472867489, 0.05462513864040375, 0.004946425557136536, 0.0028191166929900646, -0.018194543197751045, -0.008488480933010578, -0.011359483003616333, -0.06259476393461227, -0.013365725986659527, -0.03196151927113533, 0.020920267328619957, 0.017156831920146942, -0.011947520077228546, -0.048730939626693726, 0.028447134420275688, -0.035365212708711624, -0.012148143723607063, 0.046683188527822495, 0.013317299075424671, -0.021681254729628563, 0.040678296238183975, -0.006208974402397871, -0.00016181815590243787, 0.0070771933533251286, 0.017599590122699738, 0.024102581664919853, 0.039267007261514664, -0.007042603101581335, 0.029304975643754005, -0.010515477508306503, 0.038630545139312744, 0.001649096724577248, -0.04391595721244812, 0.06663492321968079, -0.0022258914541453123, 0.006665567867457867, -0.03417530283331871, -0.04801145941019058, 0.004759637173265219, -0.033787891268730164, -0.020602034404873848, 0.011228039860725403, -0.05658987537026405, 0.05207928642630577, -0.021293843165040016, 0.014638652093708515, 0.0032169059850275517, -0.00037617047200910747, 0.019924063235521317, 0.01187833957374096, 0.061266493052244186, 0.0189001876860857, -0.012480211444199085, -0.0088758934289217, -0.057115647941827774, -0.012971395626664162, -0.025984298437833786, -0.01826372556388378, 0.04269837588071823, 0.031159020960330963, -0.0696788802742958, 0.011497844941914082, -0.05658987537026405, -0.016935454681515694, -0.0031546433456242085, 0.027921359986066818, -0.006509910803288221, -0.01848510280251503, 0.015427312813699245, -0.0326533243060112, -0.007506113965064287, -0.020048588514328003, -0.00634387694299221, -0.005337296985089779, 9.593427967047319e-05, -0.047264304012060165, -0.007720574736595154, -0.03990346938371658, -0.0005188558134250343, 0.02544468827545643, 0.005268116015940905, 0.0027222635690122843, -0.025306327268481255, 0.018388250842690468, -0.024669865146279335, 0.009768325835466385, -0.03547590225934982, 0.04571465775370598, 0.021667419001460075, 0.039267007261514664, 0.03323444351553917, 0.014265076257288456, -0.017142996191978455, 0.0055137076415121555, 0.013884581625461578, -0.013047493994235992, 0.02428245171904564, -0.04214492812752724, -0.044109661132097244, 0.015662526711821556, 0.016893945634365082, 0.024918915703892708, -0.006963044870644808, -0.03423064947128296, -0.01743355579674244, 0.022345390170812607, 0.04651715233922005, -0.014071369543671608, -0.057004958391189575, 0.011407909914851189, -0.024531502276659012, 0.010543149895966053, 0.00746460584923625, 0.02538934536278248, -0.00021110946545377374, -0.045742329210042953, 0.059108056128025055, 0.0036354498006403446, 0.09823670238256454, -0.007775919046252966, 0.01805618219077587, 0.01991022750735283, -0.015330459922552109, -0.005735086277127266, 0.018208380788564682, 0.0296923890709877, -0.015870070084929466, -0.018042346462607384, -0.04491215944290161, 0.01937061734497547, -0.04496750235557556, 0.020864922553300858, -0.004313421435654163, 0.021390695124864578, -0.005188558250665665, -0.01208588108420372, 0.020671214908361435, 0.043943628668785095, -0.009270223788917065, -0.05755840614438057, 0.009623046033084393, 0.011228039860725403, 0.03417530283331871, -0.02659308910369873, 0.02764463797211647, 0.0101903285831213, 0.004102420061826706, -0.0026807549875229597, 0.03270867094397545, 0.021141644567251205, 0.026371711865067482, -0.02395038492977619, -0.007478442043066025, -0.0027101568412035704, 0.0023988434113562107, 0.012244997546076775, -0.016243645921349525, -0.0032272832468152046, -0.025320162996649742, -0.001860962831415236, -0.016990797594189644, 0.01513675320893526, 0.015482657589018345, 0.007533786352723837, -0.03810477256774902, 0.03226591274142265, -0.004897999111562967, 0.01445878203958273, -0.044469401240348816, 0.003953681327402592, 0.03301306441426277, 0.03760666772723198, -0.009159534238278866, 0.007021848578006029, 0.004327257629483938, 0.018789498135447502, -0.021612074226140976, -0.020768068730831146, 0.006084449123591185, 0.024669865146279335, 0.014278911985456944, -0.013165101408958435, 0.010259509086608887, 0.009028091095387936, 0.011096596717834473, 0.026039643213152885, 0.0010558716021478176, -0.007208636961877346, 0.015427312813699245, 0.006675944663584232, 0.00934632308781147, 0.01968884840607643, -0.0012080692686140537, 0.0024541879538446665, -0.03865821659564972, 0.0008755691815167665, -0.0013204880524426699, -0.02522331103682518, 0.04969947040081024, -0.000982366967946291, 0.004389520268887281, 0.0704537034034729, -0.0012063398025929928, -0.014126714318990707, 0.014133632183074951, -0.009048845618963242, -0.021196989342570305, 0.014638652093708515, -0.022815819829702377, 0.0032445783726871014, -0.019924063235521317, 0.007430015131831169, 0.012473293580114841, 0.012182734906673431, 0.0028986744582653046, 6.042508175596595e-05, 0.0035005472600460052, -0.031408071517944336, 0.020892594009637833, 0.03185082972049713, 0.0025406640488654375, 0.00240922044031322, 0.01858195662498474, 0.020186949521303177, -0.021307678893208504, -0.020090097561478615, 0.03522685170173645, 0.011317974887788296, -0.018526611849665642, 0.001693199505098164, -0.00024840221158228815, -0.01858195662498474, -0.0024299747310578823, 0.018554283306002617, -0.023549135774374008, 0.00425115879625082, -0.023618316277861595, -0.0009572889539413154, 0.011511680670082569, -0.02186112478375435, -0.0055344621650874615, -0.0008137388504110277, -0.041204068809747696, -0.01948130689561367, 0.026108823716640472, -0.014638652093708515, -0.022580605000257492, -0.007755164988338947, -0.003272250760346651, -0.027658473700284958, 0.029720060527324677, 0.015454985201358795, -0.008370873518288136, 0.003491899697110057, -0.01432042010128498, 0.023784350603818893, 0.014126714318990707, -0.01653420552611351, 0.015205934643745422, -0.004064370412379503, -0.0101903285831213, -0.057060305029153824, 0.0024766717106103897, 0.01179532241076231, 0.017475062981247902, 0.04665551334619522, -0.018388250842690468, 0.002851977478712797, -0.023355429992079735, 0.045216552913188934, -0.011885257437825203, -0.016631057485938072, -0.016409680247306824, 0.0030664377845823765, -0.012812279164791107, 0.042532339692115784, -0.03716391324996948, 0.04577000066637993, -0.0006113850977271795, 0.01200978271663189, -0.0006027374765835702, 0.024310125038027763, -0.013005985878407955, -0.0009503709152340889, 0.011407909914851189, 0.0015842397697269917, 0.02227620966732502, 0.025555377826094627, 0.023825859650969505, -0.02644089236855507, -0.029720060527324677, -0.023341594263911247, -0.021183153614401817, -0.018125362694263458, 0.047679390758275986, -0.022359225898981094, -0.013248118571937084, 0.0025043440982699394, 0.016658730804920197, -0.002141145057976246, -0.0038395330775529146, -0.012016700580716133, 0.00866143312305212, -0.050529636442661285, 0.007340080104768276, 0.04112105444073677, -0.0016430433606728911, 0.016022266820073128, 0.0039675175212323666, -0.012293423525989056, -0.03193384408950806, 0.023715170100331306, 0.0034694159403443336, 0.013165101408958435, -0.0015280303778126836, -0.010806037113070488, -0.035060815513134, -0.0008587063639424741, -0.009865178726613522, 0.04211725667119026, 0.0034746043384075165, 0.010709184221923351, 0.021570565178990364, -0.008550743572413921, -0.02201332338154316, -0.004904916975647211, -0.0005495547666214406, 0.0270635187625885, 0.012314178049564362, -0.01198211032897234, -0.0033552676904946566, -0.013310381211340427, -0.03923933580517769, -0.040318556129932404, 0.0052023944444954395, -0.02053285390138626, 0.039626747369766235, -0.007589131128042936, -0.055842719972133636, 0.007838182151317596, 0.011843748390674591, 0.050003863871097565, -0.05124911665916443, 0.034618061035871506, -0.008177167735993862, -0.008363955654203892, 0.0045417179353535175, 0.0068246833980083466, -0.022234700620174408, -0.020864922553300858, 0.0016084529925137758, -0.015012227930128574, -0.04762404412031174, 0.0038914186879992485, 0.019661176949739456, 0.012072045356035233, -0.026081152260303497, -0.01694929040968418, -0.017890147864818573, 0.038132444024086, -0.024047236889600754, -0.0004548635915853083, -0.01268775388598442, -0.018208380788564682, 0.02537550777196884, 0.007063357159495354, 0.027201881632208824, 0.007263981271535158, 0.025707576423883438, -0.05354591831564903, -0.028474807739257812, -0.013704711571335793, -0.02190263383090496, -0.03370487317442894, 0.0005495547666214406, -0.013338053598999977, 0.05055731162428856, -0.003337972331792116, -0.006243565119802952, -0.007858935743570328, 0.00866143312305212, -0.06602612882852554, -0.031214365735650063, -0.042836736887693405, 0.01192676555365324, -0.03143574297428131, -0.012383358553051949, 0.033677201718091965, -0.026980502530932426, -0.014790849760174751, -0.004645489156246185, 0.05728168040513992, 0.004164682701230049, 0.0026738368906080723, 0.03929467871785164, 0.004296126309782267, 0.007353916298598051, -0.0763755738735199, -0.020809577777981758, -0.0023123673163354397, 0.03348349407315254, -0.01158086210489273, 0.025762921199202538, 0.008592252619564533, -0.0272848978638649, -0.015150589868426323, -0.023134050890803337, 0.041729845106601715, -0.013434906490147114, -0.056894268840551376, 0.03708089515566826, -0.0030543312896043062, 0.016506532207131386, 0.012182734906673431, -0.01685243658721447, -0.01351100578904152, 0.020145442336797714, -0.005423772614449263, 0.002087529981508851, 0.004392979200929403, -0.003995189908891916, -0.001676768995821476, -0.04729197919368744, -0.02107246406376362, 0.003516112919896841, 0.014237403869628906, 0.004904916975647211, 0.010958234779536724, 0.0076513937674462795, -0.030190490186214447, -0.08528605848550797, -0.0030992988031357527, 0.007374670822173357, -0.028364118188619614, -0.04214492812752724, 0.004897999111562967, 0.04939507320523262, 0.03887959569692612, 0.04607439786195755, -0.04112105444073677, 0.00718788243830204, -0.008779040537774563, -0.00034028294612653553, 0.006430353038012981, -0.0008349255076609552, -0.01342798862606287, 0.024420814588665962, 0.020048588514328003, -0.02217935584485531, -0.02507111243903637, -0.03979278355836868, -0.011940602213144302, 0.01148400828242302, 0.0019145779078826308, -0.033511169254779816, -0.028502479195594788, -0.03511616215109825, 0.01854044757783413, 0.04693223908543587, -0.0030283883679658175, 0.021944141015410423, -0.022414570674300194, -0.029111269861459732, 0.005537921097129583, 0.006776256952434778, -0.01784864068031311, -0.0176964420825243, 0.004009026102721691, 0.010916726663708687, 0.012964476831257343, 0.0042892079800367355, -0.016866272315382957, -0.030356524512171745, 0.03749598190188408, 0.01342798862606287, 0.015454985201358795, 0.0006515964050777256, 0.015538002364337444, -0.022193193435668945, 0.010958234779536724, -0.002957478165626526, -0.014763177372515202, 0.04914602264761925, -0.0032428489066660404, -0.01647886075079441, 0.011968273669481277, -0.04148079454898834, -0.01995173469185829, -0.002831223187968135, 0.043473199009895325, -0.02184728905558586, -0.024711372330784798, -0.02781067229807377, 0.005389182362705469, -0.029830750077962875, -0.01432042010128498, -0.032625652849674225, 0.014223567210137844, -0.022580605000257492, 0.014126714318990707, 0.023867366835474968, 0.04513353854417801, 0.03481176495552063, 0.0017615155084058642, 0.00756837660446763, -0.01585623435676098, 0.0017632449744269252, 0.016990797594189644, 0.026164168491959572, 0.02011776901781559, 0.037578996270895004, -0.003441743552684784, -0.006786634214222431, 0.031518761068582535, 0.00024645650410093367, 0.014624816365540028, 0.03190617263317108, -0.03439668193459511, 0.0006347335875034332, 0.05318617820739746, 0.05072334408760071, 0.010861381888389587, 0.006444189231842756, -0.023203231394290924, -0.0596061572432518, -0.03223824128508568, -0.0032445783726871014, -0.02664843387901783, -0.015399640426039696, -0.012120472267270088, 0.021971814334392548, 0.017613425850868225, 0.014306584373116493, -0.005499871447682381, -0.01968884840607643, -0.0018661514623090625, 0.025347836315631866, 0.017364375293254852, -0.009221797809004784, -0.02227620966732502, 0.006554878316819668, 0.002090988913550973, 0.012231160886585712, -0.005531002767384052, -0.03993114456534386, 0.010584658943116665, 0.021888798102736473, 0.014278911985456944, 0.010812954977154732, -0.008696023374795914, -0.00012139064347138628, 0.04186820611357689, -0.008073396049439907, -0.04554862156510353, -0.05080636218190193, -0.04112105444073677, -0.036361414939165115, 0.013005985878407955, -0.016368171200156212, 0.00756837660446763, 0.017475062981247902, 0.02122466266155243, 0.01032177172601223, -0.010197246447205544, -5.375022010412067e-05, -0.021736599504947662, 0.02633020281791687, 0.014050615020096302, 0.002319285413250327, -0.018997041508555412, 0.012784607708454132, -0.006565255578607321, 0.0022743178997188807, 0.009118026122450829, 0.0164373517036438, 0.0019474388100206852, -0.00866143312305212, 0.0202699676156044, -0.015081409364938736, -0.02922195941209793, -0.014444946311414242, 0.013061330653727055, -0.030079800635576248, -0.053213853389024734, -0.023452281951904297, -0.016202136874198914, -0.018817171454429626, -0.03727460280060768, -0.004859949462115765, 0.03342815116047859, -0.004897999111562967, 0.01859579235315323, -0.010633084923028946, -0.022940345108509064, 0.021418368443846703, 0.007457687519490719, -0.022580605000257492, 0.013628612272441387, 0.006931913550943136, -0.009989704005420208, -0.0060982853174209595, -0.005032901186496019, 0.02569374069571495, 0.01185066718608141, -0.003438284620642662, 0.025057276710867882, 0.04640646278858185, -0.03511616215109825, 0.0004898863844573498, 0.0177517868578434, -0.02069888822734356, -0.018471267074346542, -0.06536199897527695, 0.0034192597959190607, 0.037053223699331284, -0.016146792098879814, 0.0005841451929882169, 0.02880687452852726, 0.014126714318990707, 0.04380526766180992, 0.016631057485938072, -0.0032047994900494814, 0.020186949521303177, -0.006281614303588867, 0.016893945634365082, 0.009899768978357315, 0.043307166546583176, 0.03409228473901749, 0.016810927540063858, -0.0073331622406840324, -0.008882811293005943, 0.0326533243060112, 0.002052939496934414, 0.0007229390903376043, 0.005572511348873377, 0.030826954171061516, -0.0648638978600502, 0.010121147148311138, -0.011864502914249897, 0.020560527220368385, -0.023659825325012207, -0.014597143977880478, -0.028045887127518654, -0.005496412515640259, 0.03611236438155174, -0.02154289372265339, -0.024531502276659012, 0.03727460280060768, -0.033040739595890045, 0.0068246833980083466, 0.03218289837241173, -0.039460714906454086, -0.04502284899353981, -0.005790431052446365, -0.037523653358221054, -0.01642351597547531, -0.03348349407315254, -0.011027415283024311, 0.030882298946380615, -0.00481844088062644, -0.0039709764532744884, 0.02186112478375435, 0.04156380891799927, 0.0032670621294528246, 0.02417176216840744, 0.0026963206473737955, -0.0270635187625885, -0.005409936420619488, 0.02785217948257923, 0.025818265974521637, -0.013338053598999977, 0.0164373517036438, -0.020297639071941376, 0.0034088827669620514, 0.011075842194259167, -0.0052023944444954395, 0.03533754125237465, 0.003784188302233815, 0.007340080104768276, 0.024669865146279335, 0.0176410973072052, 0.009311731904745102, 0.020989447832107544, -0.03212755173444748, -0.003929467871785164, -0.014624816365540028, 0.007554540876299143, -0.01943979784846306, 0.0036665811203420162, 0.038990285247564316, -0.027450932189822197, 0.0030231999699026346, 0.015261279419064522, -0.03132505342364311, 0.0032047994900494814, 0.006354254204779863, -0.024974260479211807, 0.028322609141469002, 0.011906011030077934, -0.029360320419073105, -0.019024712964892387, 0.0486479215323925, 0.06873802095651627, 0.016285154968500137, -0.016769420355558395, 0.011068924330174923, 0.02100328356027603, -0.033843234181404114, 0.04059527814388275, -0.007838182151317596, -0.020864922553300858, 0.03331746160984039, 0.004669702146202326, -0.02085108496248722, -0.011843748390674591, 0.016824765130877495, -0.03738529235124588, -0.009387831203639507, -0.031823158264160156, 0.013497169129550457, 0.019342944025993347, -0.011062005534768105, 0.0061743841506540775, 0.017876312136650085, -0.0348394401371479, 0.00024645650410093367, -0.0148738669231534, 0.048260509967803955, 0.018831007182598114, 0.027049683034420013, -0.006689780857414007, 0.004704292863607407, 0.007907362654805183, -0.023313920944929123, -0.009920523501932621, 0.03259798139333725, 0.010065802372992039, -0.025043440982699394, -0.01721217669546604, -0.02496042288839817, 0.019204583019018173, -0.005486035253852606, 0.021833453327417374, 0.008543825708329678, 0.0042234864085912704, 0.001630936749279499, -0.007263981271535158, 0.05371195450425148, -0.0017113594803959131, -0.03887959569692612, -0.0380217544734478, -0.015621019527316093, -0.004472536966204643, 0.056838925927877426, 0.024254780262708664, 0.03032885119318962, 0.0095331110060215, -0.02347995527088642, -0.014777014032006264, -0.005686659831553698, -0.013711629435420036, -0.007775919046252966, 0.013856909237802029, 0.0031529138796031475, 0.024074910208582878, 0.011968273669481277, -0.011995946057140827, 0.0017779459012672305, -0.009325568564236164, -0.014133632183074951, 0.003604318480938673, -0.026247186586260796, -0.01596692204475403, 0.021888798102736473, 0.004590144380927086, 0.0017139536794275045, 0.00718788243830204, -0.002713616006076336, -0.008440054953098297, 0.005427232012152672, 0.10033980011940002, 6.0046750149922445e-05, -0.037523653358221054, -0.023839695379137993, 0.01569020003080368, 0.004164682701230049, 0.002736099762842059, 0.02396422065794468, 0.014078287407755852, 0.0059426287189126015, 0.015731709077954292, 0.0026427055709064007, 0.028502479195594788, 0.0011129457270726562, 0.01863730140030384, 0.005468740127980709, -0.01948130689561367, -0.05329686775803566, -0.0039052548818290234, -0.012860706076025963, 0.020408328622579575, 0.02148754894733429, 0.01524744275957346, 0.009055763483047485, -0.033206772059202194, -0.024420814588665962, -0.020394492894411087, -0.010992825031280518, 0.019398288801312447, 0.0259151179343462, 0.01833290606737137, 0.007969625294208527, 0.025250982493162155, -0.0015245713293552399, -0.029554028064012527, -0.02374284155666828, -0.0018505856860429049, -0.0007826075307093561, -0.007955789566040039, -0.024725209921598434, -0.01722601242363453, 0.038132444024086, 0.026247186586260796, 0.007229391019791365, -0.0002626707428134978, -0.014652487821877003, -0.013697793707251549, 0.011304138228297234, 0.013386479578912258, 0.0019474388100206852, -0.02233155444264412, 0.023313920944929123, -0.009457011707127094, 0.01440343726426363, 0.03821546211838722, -0.022054830566048622, 0.00634733634069562, -0.022027159109711647, 0.04203423857688904, 0.021791944280266762, 0.019578158855438232, -0.006724371574819088, 0.033732544630765915, -0.0036769581492990255, 0.021625909954309464, 0.01160853449255228, -0.0027291816659271717, 0.009166453033685684, -0.0026790255215018988, 0.030356524512171745, 0.019924063235521317, 0.00465932535007596, -0.014251239597797394, 0.031823158264160156, 5.0642487622099e-05, 0.002637517172843218, 0.006222810596227646, -0.008668350987136364, 0.009761407040059566, 0.009194125421345234, -0.0031753976363688707, -0.019412126392126083, 0.02606731653213501, 0.02480822615325451, 0.020076261833310127, 0.0063404180109500885, -0.00781742762774229, -0.03453504294157028, 0.02490507997572422, 0.008938156068325043, 0.002206866629421711, 0.012888378463685513, 0.032155223190784454, 0.014389601536095142, 0.006198597606271505, 0.008654515258967876, 0.009623046033084393, 0.008128740824759007, 0.0017615155084058642, -0.011373319663107395, 0.005648610182106495, 0.016603386029601097, 0.00022440514294430614, 0.014099041931331158, 0.0037046305369585752, 0.014721669256687164, -0.026938993483781815, -0.014721669256687164, -0.047790080308914185, 0.027367914095520973, 0.01524744275957346, -0.01266700029373169, 0.012867623940110207, -0.00792811717838049, 0.003912172745913267, -0.0008638949366286397, -0.02186112478375435, 0.012355686165392399, -0.017309030517935753, 0.013594022020697594, -0.010086556896567345, 0.021501384675502777, 0.024559175595641136, -0.044995177537202835, 0.024974260479211807, 0.007692902348935604, 0.017184505239129066, 0.019758028909564018, 0.0020563986618071795, -0.041148725897073746, 0.02758929319679737, 0.011400992050766945, 0.0009408585610799491, 0.016783256083726883, -0.004254617728292942, -0.010252591222524643, -0.0030785445123910904, -0.012604737654328346, -0.007983461022377014, -0.015150589868426323, -0.025928953662514687, -0.019315272569656372, 0.0035455147735774517, -0.020339148119091988, 0.019550487399101257, 0.015316623263061047, -0.02805972285568714, 0.001560891279950738, -0.008626842871308327, -0.006983799394220114, 0.00675550289452076, 0.015565674751996994, 0.009201043285429478, -0.009048845618963242, -0.03622305393218994, 0.01610528491437435, -0.02891756407916546, -0.042726047337055206, 0.010729937814176083, -0.0036250725388526917, 0.02496042288839817, -0.01621597446501255, -0.011947520077228546, -0.0035403261426836252, 0.04048458859324455, -0.05119377374649048, -0.051691874861717224, 0.017599590122699738, -0.006630977150052786, -0.00041249036439694464, 0.0032964639831334352, -0.004524422809481621, 0.0026167628820985556, 0.014168222434818745, -0.042892079800367355, -0.008972746320068836, 0.01387074589729309, 0.043832939118146896, -0.023258576169610023, 0.02749243937432766, -0.010314853861927986, -0.034202974289655685, -0.0008453025948256254, -0.00042870460310950875, 0.008322447538375854, 0.03090997040271759, -0.008931238204240799, -0.022400734946131706, -0.030577903613448143, -0.013082084245979786, 0.008246348239481449, 0.009865178726613522, -0.0008154683746397495, 0.004749260377138853, 0.0010454944567754865, 0.049837831407785416, 0.01790398545563221, -0.03409228473901749, -0.023396939039230347, 0.01198211032897234, -0.029415665194392204, -0.0047181290574371815, 0.05354591831564903, -0.006897323299199343, 0.014818522147834301, -0.0014303125208243728, -0.0008872434264048934, -0.036887191236019135, -0.014064451679587364, 0.004559013061225414, 0.06630285829305649, -0.010723019950091839, 0.0032186356838792562, -0.014583307318389416, 0.03340047970414162, -0.011518599465489388, -0.0035974003840237856, 0.012999068014323711, 0.0023106378503143787, 0.030937641859054565, 0.009858260862529278, 0.04524422809481621, 0.02270513027906418, -0.03138040006160736, -0.0190108772367239, 0.025084950029850006, 0.009207961149513721, -0.04261535778641701, -0.01563485525548458, 0.010778364725410938, 0.019937898963689804, 0.012839951552450657, -0.008516153320670128, 0.02670377865433693, 0.05238368362188339, 0.015122917480766773, -0.007727492600679398, -0.014984555542469025, 0.006077531259506941, -0.04629577323794365, -0.019924063235521317, 0.0012054749531671405, -0.021515220403671265, 0.03055023029446602, 0.004462160170078278, 0.015551838092505932, -0.006177843082696199, -0.019024712964892387, -0.01242486760020256, -0.013753138482570648, 0.031159020960330963, 0.020242294296622276, 0.02443465031683445, -0.01380156446248293, -0.028530152514576912, -0.02280198410153389, -0.011228039860725403, 0.0008747044485062361, -0.00688694603741169, -0.02143220417201519, -0.021086299791932106, -0.039626747369766235, -0.034313663840293884, -0.04911835119128227, -0.02300952561199665, -0.03644443303346634, -0.009968949481844902, -0.00047821211046539247, -0.002078882185742259, 0.04029088467359543, -0.026191841810941696, -0.02738175168633461, 0.012729262933135033, -0.003590482287108898, -0.04303044080734253, -0.010411706753075123, 0.010840627364814281, -0.015150589868426323, 0.010390952229499817, -0.004942966625094414, -0.004012485034763813, -0.02601197175681591, 0.040041834115982056, -0.00043410935904830694, 0.028945235535502434, -0.01880333386361599, -0.028779203072190285, -0.024102581664919853, -0.0030439540278166533, -0.03409228473901749, -0.015399640426039696, 0.003569727996364236, 0.0010982448002323508, -0.024517666548490524, -0.0016361253801733255, 0.029498683288693428, -0.03340047970414162, -0.024780552834272385, -0.03608469292521477, 0.011276466771960258, -0.030992986634373665, -0.006651731673628092, 0.003182315733283758, -0.0038429920095950365, -0.006053317803889513, 0.034673403948545456, 0.008336283266544342, -0.0013317299308255315, -0.004060911480337381, 0.0014804685488343239, -0.033677201718091965, -0.003915631677955389, -0.016714075580239296, 0.01937061734497547, -0.006461484357714653, -0.005050196778029203, 0.029996784403920174, -0.03364953026175499, -0.01119344960898161, 0.013490251265466213, 0.011145022697746754, 0.019301436841487885, 0.004403356462717056, -0.00784510001540184, 0.06309286504983902, -0.03450737148523331, -0.019301436841487885, 0.0005871718167327344, -0.002343498868867755, 0.02058819867670536, 0.028447134420275688, 0.023507626727223396, 0.021404532715678215, -0.017931656911969185, 0.04159148037433624, 0.021252334117889404, -0.00808723270893097, 0.012265751138329506, -0.0023538758978247643, -0.0008146036416292191, -0.006077531259506941, 0.020768068730831146, 0.025417016819119453, -0.006596386898308992, 0.010729937814176083, 0.04654482379555702, -0.0005240443861111999, -0.01113810483366251, -0.0016612033359706402, -0.02590128220617771, -0.00931865070015192, -0.015441149473190308, -0.0001306868070969358, -0.012922968715429306, 0.017724115401506424, -0.016312826424837112, 0.03566960617899895, -0.03522685170173645, 0.00847464520484209, 0.014569471590220928, 0.018831007182598114, 0.016506532207131386, -0.011463254690170288, -0.00032082584220916033, -0.020242294296622276, 0.01126954797655344, 0.018886351957917213, 0.010819872841238976, 0.03411995992064476, -0.0031753976363688707, -0.03544823080301285, 0.028447134420275688, 0.001899012248031795, -0.009491601958870888, 0.0023642529267817736, 0.014998392201960087, -0.04092734679579735, -0.008779040537774563, -0.0018004296580329537, -0.019398288801312447, 0.04416500777006149, -0.007893526926636696, 0.020090097561478615, -0.024185599759221077, 0.04754102975130081, -0.00850231759250164, -0.00014430677401833236, -0.003932927269488573, 0.00868910551071167], index=0, object='embedding'), Embedding(embedding=[-0.012687097303569317, 0.016926277428865433, 0.0438682846724987, -0.023304075002670288, -0.01048759464174509, -0.02882947027683258, 0.037597037851810455, 0.011187782511115074, -0.0378405824303627, 0.015198640525341034, 0.05531483143568039, -0.054036229848861694, -0.0030899590346962214, 0.0013956187758594751, 0.004574052523821592, -0.0003619856433942914, -0.01469633262604475, 0.049622002989053726, -0.023243188858032227, 0.031264904886484146, 0.02846415527164936, -0.00561672355979681, -0.03226952254772186, 0.017824344336986542, -0.0060200924053788185, -0.01815921813249588, 0.010426709428429604, 0.031599778681993484, 0.04121974855661392, -0.0013642244739457965, 0.008912172168493271, -0.03957583010196686, -0.004235374741256237, -0.02631792612373829, -0.0227713230997324, 0.011476990766823292, 0.02584606036543846, 0.007823836989700794, -0.003645542776212096, -0.03994114696979523, -0.011522655375301838, -0.027002893388271332, 0.01403419766575098, 0.005776549223810434, 0.02567862533032894, 0.03129534795880318, 0.011164950206875801, -0.02531331032514572, -0.004737683571875095, 0.07208889722824097, -0.0003408182819839567, 0.04895225539803505, -0.028129281476140022, 0.04350297152996063, -0.001957861939445138, -0.059333302080631256, -0.0386320985853672, 0.04341164231300354, 0.03516160324215889, -0.05318382754921913, 0.08481404930353165, -0.021325284615159035, 0.0366533063352108, 0.016789285466074944, -0.03628799319267273, 0.006906743161380291, -0.019727028906345367, 0.012862144969403744, 0.03820589557290077, 0.030275510624051094, -0.015183418989181519, -0.0037178448401391506, -0.013425339013338089, -0.008995890617370605, -0.06015526130795479, -0.003171774325892329, -0.008310924284160137, 0.0205489881336689, 0.02522198110818863, -0.037962354719638824, 0.014110305346548557, -0.020138008520007133, 0.01669795624911785, -0.04785631224513054, -0.03896697238087654, -0.023669390007853508, -0.027292100712656975, 0.0346745140850544, -0.0037730226758867502, -0.02564818225800991, -0.020899081602692604, 0.013744990341365337, -0.015107312239706516, 0.00468821357935667, 0.00783905852586031, -0.008478360250592232, 0.025769954547286034, -0.03522248938679695, -0.02373027615249157, -0.0007820031605660915, 0.05988127365708351, -0.009878735989332199, -0.020640317350625992, 0.03817545250058174, 0.02077731117606163, -0.027916181832551956, -0.0535491406917572, 0.0213405042886734, -0.04140240699052811, -0.014110305346548557, -0.05135725066065788, -0.008295702748000622, -0.009247045032680035, -0.007450911216437817, 0.04609062150120735, 0.011918413452804089, 0.057780712842941284, 0.026439698413014412, 0.022116800770163536, 0.06277335435152054, -0.019163833931088448, 0.004714851267635822, -0.00802171602845192, 0.007831447757780552, -0.031965091824531555, -0.010251661762595177, 0.027063779532909393, -0.009353594854474068, 0.01564767397940159, -0.012702318839728832, -0.021325284615159035, -0.010563702322542667, -0.000602199521381408, 0.023121418431401253, -0.00033725076355040073, -0.06508702039718628, -0.018996398895978928, -0.0022185295820236206, -0.012367446906864643, -0.006830635946244001, 0.03838855400681496, -0.040245573967695236, 0.0314171202480793, 0.007435689680278301, -0.022192908450961113, -0.003871962195262313, -0.07318484038114548, 0.0031812877859920263, -0.007713481318205595, -0.010449540801346302, -0.0595768466591835, -0.00869907159358263, -0.07677710801362991, 0.01302197016775608, 0.0284032691270113, -0.029605764895677567, -0.07154092192649841, 0.02522198110818863, -0.031995534896850586, 0.051813893020153046, -0.043959613889455795, -0.04377695545554161, 0.02220812998712063, 0.00743949506431818, 0.025206759572029114, -0.005000253673642874, -0.01633264124393463, 0.0049660056829452515, -0.05205743759870529, -0.05278806760907173, -0.028616368770599365, 2.351598595851101e-05, -0.026470141485333443, -0.07829925417900085, -0.008158709853887558, -0.07184535264968872, -0.06788776814937592, -0.05129636451601982, -0.015267137438058853, -0.00496981106698513, 0.05321427062153816, 0.04645593464374542, -0.0067126695066690445, 0.016652291640639305, -0.026789791882038116, -0.0740981325507164, 0.03138667717576027, 0.01590644009411335, -0.003801562823355198, 0.020442437380552292, 0.008348978124558926, -0.022877873852849007, 0.042437467724084854, 0.02409559115767479, 0.050291746854782104, -0.09565173834562302, 0.05266629531979561, -0.017778679728507996, 0.024947993457317352, -0.006625146139413118, 0.0005122976726852357, 0.025967832654714584, 0.005959206726402044, 0.037627480924129486, -0.009947232902050018, -0.023258410394191742, -0.012397889979183674, 0.01317418459802866, -0.01607387512922287, -0.023121418431401253, 0.028327161446213722, 0.0025286672171205282, -0.010320158675312996, -0.0007173119229264557, -0.05726318061351776, 0.008257648907601833, -0.02088386006653309, 0.04901314154267311, -0.004341925028711557, -0.022284235805273056, 0.030473388731479645, -0.010213608853518963, 0.02595261111855507, 0.03914962708950043, -0.03921051323413849, 0.03519204631447792, 0.045025117695331573, 0.011560709215700626, 0.03656197711825371, -0.03954538702964783, 0.023441068828105927, 0.010792024433612823, -0.019300827756524086, -0.07921254634857178, -0.015754224732518196, 0.023243188858032227, -0.010936628095805645, -0.0021614490542560816, -0.003192703938111663, -0.002323177410289645, -0.06922725588083267, 0.011339996941387653, 0.04746055230498314, 0.01756558008491993, 0.02863159030675888, -0.020031457766890526, -0.0173372570425272, -0.04380739852786064, 0.0017285884823650122, -0.0011007027933374047, 0.05677609518170357, -0.009749353863298893, -0.012747983448207378, -0.007477548439055681, -0.0358617901802063, 0.023852048441767693, 0.006320716813206673, 0.005125830881297588, 0.02634836919605732, 0.019407378509640694, -0.03522248938679695, 0.05653255060315132, -0.043959613889455795, 0.03443097323179245, -0.00879801157861948, -0.016819728538393974, 0.05093104764819145, 0.024704450741410255, 0.0346745140850544, 0.018067888915538788, -0.012017352506518364, -0.0011035568313673139, 0.023806383833289146, -0.0029415497556328773, -0.0012767011066898704, -0.0073786089196801186, -0.006788777187466621, 0.019711807370185852, 0.008600132539868355, 0.009490588679909706, -0.02316708117723465, -0.0025210564490407705, 0.02035111002624035, -0.046943023800849915, 0.04940890148282051, -0.05869400128722191, 0.052544523030519485, -0.02561773918569088, 0.04867827147245407, 0.021888477727770805, 0.02896646223962307, -0.018204880878329277, 0.008067380636930466, -0.013904815539717674, 0.0074547166004776955, -0.023852048441767693, -0.0023897711653262377, -0.03324369713664055, 0.01802222430706024, 0.02468922920525074, 0.03717083856463432, 0.007488964591175318, 0.007226394489407539, 0.015076869167387486, -0.02299964614212513, 0.019331270828843117, -0.024902330711483955, -0.05020041763782501, 0.02100563235580921, 0.02502410113811493, 0.039119184017181396, 0.023684611544013023, -0.01148460153490305, -0.03717083856463432, -0.0239585991948843, -0.08469227701425552, 0.01858541928231716, 0.01584555394947529, 0.042467910796403885, 0.01736770011484623, 0.036470647901296616, -0.013341621495783329, 0.030701711773872375, -0.004631133284419775, -0.014391902834177017, 0.013075245544314384, 0.013432949781417847, -0.043228983879089355, 0.05501040443778038, 0.016789285466074944, -0.009140494279563427, -0.029971079900860786, -0.02452179230749607, -0.00501166982576251, 0.012359836138784885, -0.00583362951874733, 0.0017685448983684182, -0.006427267100661993, 0.024141255766153336, -0.022953981533646584, -0.06295601278543472, -0.033152367919683456, 0.025967832654714584, -0.024278249591588974, 0.02156882733106613, 0.015388908796012402, 0.013394895941019058, 0.026926785707473755, -0.0012091557728126645, 0.014993150718510151, 0.024141255766153336, -0.005913542117923498, 0.006385407876223326, 0.013866761699318886, 0.05832868441939354, -0.06201228126883507, 0.03324369713664055, -0.025602517649531364, -0.0036607643123716116, 0.016226090490818024, 0.014011366292834282, 0.013623218052089214, 0.042437467724084854, 0.03777969628572464, -0.05260540917515755, 0.023623725399374962, 0.012732761912047863, -0.028509819880127907, 0.03701862320303917, 0.027155108749866486, 0.05504084751009941, -0.038023240864276886, -0.007930387742817402, -0.013341621495783329, -0.060764119029045105, 0.044294487684965134, -0.05266629531979561, 0.027687858790159225, -0.02471967227756977, 0.026835456490516663, 0.0031261099502444267, -0.03150844946503639, -0.042772337794303894, -0.02187325619161129, -0.021325284615159035, 0.028555482625961304, -0.03202597796916962, 0.018235323950648308, -0.010875742882490158, -0.02316708117723465, 0.005856461822986603, 0.00019597646314650774, 0.059668175876140594, 0.006940991617739201, 0.011659648269414902, 0.021918920800089836, 0.0053122942335903645, 0.06874017417430878, -0.016941498965024948, 0.012976305559277534, 0.04240702465176582, 0.012055406346917152, -0.00012866900942754, 0.008295702748000622, -0.030108073726296425, 0.05905931442975998, -0.01919427700340748, -0.009490588679909706, 0.04417271539568901, 0.020625095814466476, 0.032330408692359924, 0.020990410819649696, 0.04676036536693573, -0.009384037926793098, 0.019102947786450386, 0.016165204346179962, -0.010342990979552269, 0.042863667011260986, -0.004045106470584869, 0.05357958376407623, 0.00861535407602787, -0.06030747666954994, -0.04526866227388382, 0.019635699689388275, -0.03695773705840111, 0.04971333220601082, -0.004627327900379896, -0.03205642104148865, -0.06581764668226242, -0.04161550849676132, -0.030001522973179817, 0.017550358548760414, 0.019970573484897614, -0.012831701897084713, 0.056654322892427444, -0.0459384061396122, -0.002138616982847452, 0.04478157311677933, -0.00055510806851089, -0.048404283821582794, 0.0362575501203537, 0.007218783721327782, 0.007743924390524626, -0.015693338587880135, -0.03878431394696236, 0.04219392314553261, -0.025298088788986206, -0.011918413452804089, 0.05260540917515755, -0.03397432714700699, -0.046516820788383484, -0.045025117695331573, -0.0010236441157758236, -0.027200771495699883, 0.02846415527164936, -0.05729362368583679, 0.008196762762963772, -0.008973058313131332, 0.05863311514258385, -0.013006748631596565, 0.023243188858032227, 0.001305241254158318, -0.0032136335503309965, -0.03443097323179245, -0.018083110451698303, 0.027885738760232925, -0.0029910195153206587, 0.0003591316344682127, 0.029453549534082413, -0.011476990766823292, -0.0006050535594113171, -0.03376122564077377, 0.0031965093221515417, 0.026394033804535866, -0.009498199447989464, -0.007397635839879513, -0.03738393634557724, 0.03342635557055473, -0.015967324376106262, 0.005555837880820036, 0.03403521329164505, -0.004322898108512163, -0.01720026507973671, 0.0239585991948843, -0.027748744934797287, 0.1007661521434784, 0.031204020604491234, -0.02730732224881649, 0.0018827059539034963, -0.022162465378642082, -0.011393272317945957, 0.02511543035507202, -0.008265259675681591, -0.019772693514823914, -0.008737125433981419, 0.015221472829580307, -0.014612614177167416, -0.005418844521045685, 0.024765336886048317, -0.016286976635456085, 0.00972652155905962, -0.01223045401275158, 0.02111218310892582, 0.004300066269934177, 0.024765336886048317, 0.023273631930351257, -0.039849817752838135, 0.010381044819951057, 0.009574306197464466, 0.037566594779491425, -0.035679131746292114, -0.04408138617873192, -0.02210157923400402, -0.03327414020895958, -0.021233955398201942, 0.048069410026073456, 0.02187325619161129, 0.010396266356110573, -0.03765792399644852, 0.023456290364265442, -0.013075245544314384, 0.03936272859573364, -0.039088740944862366, -0.02651580609381199, 0.03528337553143501, -0.03659242019057274, -0.0036893044598400593, -0.09151149541139603, -0.021355725824832916, 0.011865138076245785, 0.045025117695331573, 0.009056776762008667, 0.012291339226067066, 0.004931757226586342, -0.017854787409305573, -0.03211730718612671, -0.0014783855294808745, -0.005704246927052736, -0.013417728245258331, 0.0011996423127129674, -0.044659800827503204, 0.0005189570947550237, 0.017078492790460587, 0.013973312452435493, -0.024780558422207832, 0.0326043963432312, 0.015015983022749424, 0.008851286955177784, 0.010030950419604778, 0.018615862354636192, 0.013235070742666721, 0.037627480924129486, 0.0020453855395317078, -0.019300827756524086, -0.01009183656424284, -0.018204880878329277, -0.00907960906624794, -0.02080775424838066, 0.01283931266516447, 0.014703943394124508, 0.0103734340518713, 0.018539754673838615, -0.0022641941905021667, -0.04596884921193123, -0.03153889253735542, 0.008288091979920864, 0.027292100712656975, 0.0016353570390492678, 0.0018674844177439809, -0.013843929395079613, -0.02220812998712063, -0.037231724709272385, -0.013197016902267933, -0.027352986857295036, -0.048891372978687286, -0.023775940760970116, 0.0008352783042937517, 0.01241311151534319, 0.0018008905462920666, -0.044355373829603195, -0.02041199617087841, -0.02995585836470127, -0.005749911535531282, 0.009285098873078823, 0.017611244693398476, 0.009482977911829948, 0.027398651465773582, 0.01567811705172062, -0.01736770011484623, -0.012999137863516808, 0.01697194203734398, -0.006431072484701872, 0.015388908796012402, 0.01123344711959362, 0.043898727744817734, -0.016850169748067856, -0.00042287155520170927, -0.03924095630645752, -0.0009299368830397725, -0.014376681298017502, 0.008158709853887558, 0.005749911535531282, -0.004208737518638372, -0.01660662703216076, -0.001752372132614255, 0.0021823786664754152, -0.00793799851089716, -0.003339210757985711, 0.016880612820386887, -0.01065503153949976, 0.0039271400310099125, -0.01762646622955799, -0.013684104196727276, -0.030945254489779472, 0.02826627530157566, -0.014292962849140167, -0.023243188858032227, -0.01987924426794052, 0.0058146025985479355, 0.0006530963000841439, 0.00028302427381277084, 0.01680450700223446, -0.018798518925905228, -0.0306256040930748, -0.00769825978204608, 0.04362474009394646, 0.002323177410289645, -0.05638033524155617, 0.022314678877592087, 0.010449540801346302, -0.0042734285816550255, -0.003013851586729288, -0.0011482698610052466, -0.04648637771606445, -0.03933228552341461, 0.02538941614329815, -0.011271500959992409, 0.028905577957630157, 0.015982545912265778, 0.001463164109736681, 0.04785631224513054, -0.017124157398939133, 0.0062103611417114735, -0.02223857119679451, 0.03933228552341461, -0.008356588892638683, 0.014011366292834282, -0.0239585991948843, 0.014947486110031605, -0.02193414233624935, -0.022086357697844505, 0.015381298959255219, 0.01965092122554779, -0.03747526556253433, 0.0031032778788357973, -0.011043178848922253, -0.026987671852111816, -0.0191181693226099, -0.006465320475399494, -0.0261809341609478, 0.01517580822110176, -0.01640874706208706, 0.01716982200741768, -0.031904205679893494, 0.009962454438209534, 0.0108681321144104, 0.006373991724103689, 0.002001623623073101, -0.02038155309855938, -0.005669998470693827, -0.0037996601313352585, 0.05172256380319595, 0.03284793719649315, 0.02229945734143257, -0.015442184172570705, 0.01469633262604475, -0.018539754673838615, -0.00762215256690979, -0.03884520009160042, 0.01669795624911785, -0.024871887639164925, 0.05230098217725754, -0.016956720501184464, 0.0010655031073838472, 0.0056928307749331, -0.017839565873146057, 0.015510681085288525, -0.015084479935467243, 0.014536506496369839, 0.043228983879089355, -0.02164493501186371, -0.015967324376106262, -0.021584048867225647, 0.01633264124393463, 0.03251306712627411, -0.07178446650505066, -0.00833375658839941, 0.014490841887891293, -0.01697194203734398, 0.036470647901296616, -0.022421229630708694, 0.0021690598223358393, -0.014270130544900894, -0.01469633262604475, -0.04478157311677933, 0.0004483199445530772, 0.019529150798916817, 0.05921152979135513, 0.030442945659160614, 0.028053175657987595, -0.007447105832397938, 0.0005455946666188538, 0.030245067551732063, 0.011941245757043362, -0.022938759997487068, 0.004113602917641401, -0.015799889340996742, -0.03994114696979523, -0.001429867115803063, -0.035740017890930176, 0.0016781673766672611, 0.0013413922861218452, -0.012945862486958504, -0.03132579103112221, -0.003118499182164669, -0.02071642503142357, 0.03738393634557724, -0.042833223938941956, -0.007466132752597332, 0.021964585408568382, 0.021690599620342255, 0.012831701897084713, -0.014810493215918541, -0.018905069679021835, -0.017854787409305573, -0.002125298138707876, -0.0227713230997324, 0.03476584330201149, -0.013227459974586964, -0.03412654250860214, 0.006214166525751352, -0.015617230907082558, 0.00654523354023695, 0.008896950632333755, -0.017687352374196053, 0.0017029022565111518, 0.053610026836395264, 0.0027018114924430847, -0.018509311601519585, -0.004513166844844818, -0.02933177910745144, 0.015350855886936188, -0.007306307088583708, 0.014072251506149769, 0.04176772013306618, -0.03695773705840111, 0.015632452443242073, -0.026728905737400055, 0.0133872851729393, 0.000874283374287188, 0.04934801533818245, 0.016926277428865433, -0.0022413618862628937, -0.003023365046828985, 0.014825714752078056, 0.016987163573503494, -0.004946978762745857, 0.009033944457769394, 0.00046877379645593464, 0.02505454421043396, -0.03269572556018829, -0.014216856099665165, 0.02595261111855507, 0.00411740830168128, 0.03363945707678795, -0.00768684409558773, 5.939941911492497e-05, 0.01666751317679882, -0.006408240180462599, 0.02817494608461857, -0.039423614740371704, -0.0183266531676054, -0.01549545954912901, -0.0028673449996858835, -0.0183266531676054, 0.03296970948576927, -0.026302704587578773, 0.02674412727355957, -0.005338931456208229, -0.04195037856698036, 0.019300827756524086, 0.026424476876854897, 0.014148359186947346, 0.024202141910791397, -0.01607387512922287, -0.002869247691705823, -0.004672992043197155, -0.07519407570362091, 0.027977067977190018, -0.0015954006230458617, -0.00830331351608038, -0.027961846441030502, -0.019924908876419067, -0.0205489881336689, 0.05239231139421463, 0.025967832654714584, 0.006716474890708923, 0.05948551744222641, -0.009718910790979862, -0.01607387512922287, 0.0009213747689500451, -0.007104622665792704, -0.008539246395230293, 0.018874626606702805, 0.0069676293060183525, -0.013235070742666721, -0.052879396826028824, -0.01593688316643238, -0.012116292491555214, -0.03214775025844574, 0.02975798025727272, -0.01669795624911785, 0.015602010302245617, -0.02249733731150627, 0.013699325732886791, -0.010145111940801144, -0.0024544624611735344, 0.022710436955094337, 0.003440052969381213, 0.021233955398201942, -0.0035998784005641937, -0.01646963320672512, -0.008387031964957714, -0.01234461460262537, -0.005042112898081541, 0.039819374680519104, 0.02237556502223015, 0.007945609278976917, -0.02793140336871147, -0.008447917178273201, 0.025541631504893303, -0.021416611969470978, 0.00615708576515317, 0.010518037714064121, -0.010852910578250885, -0.0016363083850592375, -0.02975798025727272, -0.026622356846928596, -0.007877112366259098, 0.01700238510966301, -0.0163021981716156, 0.019757471978664398, 0.027763966470956802, -0.010807245969772339, 0.008295702748000622, 0.02584606036543846, 0.029255671426653862, -0.014551728032529354, 0.03814501315355301, -0.028418490663170815, 0.006396824028342962, 0.023806383833289146, -0.047734539955854416, -0.029834087938070297, 0.035374704748392105, -0.014429956674575806, 0.013326399959623814, 0.020305445417761803, -0.01166725903749466, 0.014353848993778229, -0.010685473680496216, 0.007466132752597332, -0.004927951842546463, -0.029210006818175316, 0.017017606645822525, -0.0005365569377318025, -0.012565325945615768, 0.008645796217024326, 0.03634887933731079, -0.0024164088536053896, 0.016591405496001244, -0.020001014694571495, 0.008524024859070778, -0.005669998470693827, -0.009155715815722942, -0.006628951523452997, 0.024506570771336555, 0.02902734838426113, -0.019574813544750214, -0.009612360037863255, 0.0217362642288208, -0.0067355018109083176, 0.0027341570239514112, -0.01872241124510765, 0.032391294836997986, 0.03015373833477497, 0.009323151782155037, 0.005803186446428299, 0.02051854506134987, -0.0015497362473979592, -0.030229846015572548, 0.01939215697348118, -0.020853418856859207, 0.04478157311677933, 0.014041808433830738, 0.02170582115650177, -0.026698464527726173, 0.014559338800609112, -0.010365823283791542, 0.04481201618909836, 0.02975798025727272, -0.0018303821561858058, 0.06207316741347313, 0.01686539128422737, -0.010251661762595177, 0.008645796217024326, -0.0056928307749331, -0.0002442570694256574, 0.005380790680646896, -0.0015021690633147955, 0.014163580723106861, -0.019042063504457474, 0.0175351370126009, -0.04377695545554161, 0.05263585224747658, 0.007527018431574106, -0.015191029757261276, -0.020853418856859207, 0.002798848319798708, -0.04006291553378105, -0.04590796306729317, 0.06265158206224442, -0.004197321366518736, 0.008813233114778996, -0.043898727744817734, -0.02257344499230385, 0.01866152510046959, -0.007131259888410568, 0.0061875288374722, 0.020822975784540176, 0.007435689680278301, -0.025967832654714584, -0.024780558422207832, -0.014757217839360237, 0.008272870443761349, -0.03662286326289177, -0.03592267632484436, 0.015693338587880135, -0.02038155309855938, -0.019072506576776505, 0.015251915901899338, -0.03939317166805267, -0.004056522622704506, 0.005867877975106239, 0.014292962849140167, -0.0195139292627573, 0.006244609132409096, -0.002317469334229827, 0.03071693331003189, 0.021020853891968727, 0.006560455076396465, 0.002760794712230563, -0.03366990014910698, -0.019803136587142944, -0.006050535477697849, 0.00013794460392091423, 0.011400883086025715, -0.01624131202697754, -0.024110812693834305, 0.023821605369448662, 0.04383784160017967, 0.027992289513349533, 0.015449794940650463, 0.02035111002624035, 0.0009660878567956388, 0.013044802471995354, 0.03150844946503639, 0.013592774979770184, -0.004391395021229982, -0.005810797214508057, 0.006891522090882063, -0.042772337794303894, 0.0030157542787492275, -0.0007881869096308947, 0.01224567461758852, 0.005190522409975529, 0.014300573617219925, 0.020305445417761803, -0.01092140655964613, -0.02601349726319313, 0.02525242418050766, -0.007644984871149063, -0.024613121524453163, 0.013212238438427448, -0.006872495170682669, -0.011248668655753136, 2.1420060875243507e-05, -0.012321782298386097, -0.026439698413014412, -0.015099701471626759, -0.015830332413315773, -0.029453549534082413, -0.0016667513409629464, -0.02770308032631874, -0.02621137723326683, 0.036501090973615646, 0.03677507862448692, -0.047643210738897324, 0.008790400810539722, -0.009391648694872856, 0.008569689467549324, -0.005654777400195599, -0.010693084448575974, -0.015152976848185062, 0.0077515351586043835, 0.01640874706208706, -0.0008043597335927188, -0.03592267632484436, -0.005342736840248108, -0.010365823283791542, 0.027322543784976006, 0.010685473680496216, -0.021325284615159035, -0.013836318626999855, -0.03936272859573364, -0.00913288351148367, 0.003715942148119211, 0.00030989968217909336, -0.00032916435156948864, 0.020442437380552292, 0.01660662703216076, 0.007854280062019825, -0.0062103611417114735, -0.030579939484596252, 0.0035427978727966547, 0.002081536455079913, 0.01959003508090973, 0.03954538702964783, 0.01545740570873022, -0.017854787409305573, -0.021751485764980316, 0.03327414020895958, -0.011865138076245785, -0.03510071709752083, 0.023410625755786896, 0.00876756850630045, 0.020427217707037926, 0.03129534795880318, 0.0011606373591348529, 0.020138008520007133, -0.0193160492926836, -0.013158963061869144, -0.006979045458137989, 0.02144705504179001, 0.026424476876854897, 0.009543863125145435, 0.001752372132614255, -0.013600385747849941, -0.006739307194948196, 0.03254351019859314, 0.003643640084192157, 0.02263433113694191, -0.0003883854078594595, -0.017778679728507996, 0.010038561187684536, -0.0038472271990031004, -0.02691156417131424, -0.03370033949613571, 0.023456290364265442, 0.0016734106466174126, 0.010084225796163082, -0.04155462235212326, 0.02823583222925663, 0.016956720501184464, 0.0017837663181126118, 0.014582171104848385, -0.013585164211690426, -0.0042962608858942986, 0.007321528624743223, -0.03741437941789627, -0.026089604943990707, -0.021188290789723396, -0.0014584073796868324, -0.013843929395079613, 0.0005427406285889447, 0.00325549254193902, 0.00758790411055088, -0.0033753616735339165, -0.015617230907082558, 0.022223351523280144, -0.00443325424566865, -0.02187325619161129, -0.030016744509339333, -0.030001522973179817, 0.02829671837389469, -0.003953777719289064, -0.027155108749866486, -0.03111269138753414, 0.0215383842587471, 0.049134913831949234, 0.006549038924276829, -0.03924095630645752, 0.013341621495783329, -0.010929017327725887, -0.013075245544314384, 0.014970318414270878, -0.02790096029639244, 0.04115886241197586, 0.003807270899415016, 0.03604444861412048, -0.023973820731043816, -0.01697194203734398, 0.00840225350111723, 0.020275002345442772, 0.01621086895465851, -0.028083616867661476, -0.001961667323485017, -0.014186413027346134, 0.019605256617069244, -0.018509311601519585, -0.006259830668568611, 0.00411740830168128, -0.033517684787511826, -0.002509640296921134, -0.004851844627410173, 0.014057029969990253, 0.04158506542444229, 0.018113553524017334, -0.001510731177404523, -0.004543609917163849, 0.006906743161380291, -0.014163580723106861, 0.019803136587142944, -0.010046171955764294, -0.022816987708210945, -0.001594449277035892, 0.00904916599392891, 0.01942260004580021, 0.00729869632050395, 6.938850856386125e-05, -0.020092343911528587, 0.02800751104950905, 0.003780633443966508, 0.009665635414421558, 0.011971688829362392, -0.009490588679909706, -0.008135877549648285, 0.09942666441202164, -4.055095632793382e-05, -0.054827746003866196, -0.010632199235260487, -0.015221472829580307, 0.005182911641895771, -0.0055177840404212475, -0.012999137863516808, -0.04219392314553261, -0.018417982384562492, 0.01908772625029087, -0.00626363605260849, 0.015967324376106262, 0.007721092086285353, 0.02333451807498932, 0.022116800770163536, -0.029483992606401443, 0.03184332326054573, 0.019574813544750214, -0.00415165675804019, 0.008706682361662388, 0.014247299171984196, 0.00923182349652052, -0.01148460153490305, -0.007416662760078907, -0.016393525525927544, -0.002945355139672756, 0.003259297925978899, 0.016926277428865433, 0.01567811705172062, 0.014574560336768627, -0.040915317833423615, -0.0001717172417556867, -0.011994521133601665, 0.003757801139727235, 0.004680602811276913, -0.023349739611148834, 0.004680602811276913, -0.007279669400304556, -0.03750570863485336, -0.021781926974654198, 0.04182860627770424, -0.006880105938762426, -0.007207367569208145, 0.03202597796916962, -0.0021310062147676945, 0.0249936580657959, 0.020640317350625992, -0.03226952254772186, -0.017322035506367683, 0.018798518925905228, 0.028053175657987595, -0.006560455076396465, 0.015335634350776672, -0.012085849419236183, -0.048069410026073456, -0.012610990554094315, -0.002956771058961749, 0.029453549534082413, 0.033852554857730865, -0.03051905333995819, 0.016758842393755913, 0.046516820788383484, -0.01624131202697754, -0.004482723772525787, -0.027398651465773582, -0.008721903897821903, 0.012222843244671822, -0.026668021455407143, 0.011537876911461353, 0.01627175509929657, 0.015632452443242073, -0.06277335435152054, -0.01587599702179432, -0.01209346018731594, 0.00017599828424863517, -0.01723070815205574, -0.037201281636953354, 0.01895073428750038, 0.03293926641345024, 0.018768075853586197, -0.003531381720677018, -0.006933380849659443, 0.00737480353564024, 0.03543559089303017, 0.002960576443001628, -0.008813233114778996, -0.016028210520744324, 0.013843929395079613, 0.007420468144118786, -0.01537368819117546, -0.028814248740673065, 0.014612614177167416, 0.00415165675804019, 0.012329393066465855, -0.029849309474229813, -0.04414227232336998, 0.007302501704543829, -0.009688467718660831, -0.022451672703027725, 0.010053782723844051, -0.018981177359819412, -0.028722919523715973, 0.005982039030641317, -0.004281039349734783, -0.011522655375301838, 0.0030557108111679554, 0.026805013418197632, -0.02243645116686821, 0.019742250442504883, -0.007664011791348457, -0.013250292278826237, 0.019407378509640694, -0.026926785707473755, 0.0038871837314218283, -0.03598356246948242, -0.0130904670804739, 0.00999289657920599, -0.0013071439461782575, -0.013197016902267933, 0.0125957690179348, 0.017687352374196053, -0.009642803110182285, 0.021188290789723396, -0.03187376633286476, 0.03811457008123398, -0.024141255766153336, -0.012732761912047863, 0.01669795624911785, -0.026789791882038116, -0.012101070955395699, 0.00443325424566865, 0.02181237004697323, 0.017550358548760414, 0.031995534896850586, 0.005871683359146118, 0.006625146139413118, -0.01092140655964613, 0.02624182030558586, 0.0048746769316494465, -0.013311178423464298, -0.00018158741295337677, 0.00018515494593884796, -0.0013708838960155845, 0.02373027615249157, 0.010502816177904606, 0.00783905852586031, -0.012877366505563259, 0.015046426095068455, -0.00941448099911213, 0.015449794940650463, -0.009505810216069221, -0.031143134459853172, 0.039514943957328796, 0.009422091767191887, 0.031036583706736565, 0.04003247246146202, 0.0018922194140031934, -0.02873814105987549, -0.030701711773872375, 0.04599929228425026, -0.003154650330543518, -0.03111269138753414, -0.010548480786383152, 0.02316708117723465, 0.020077122375369072, -0.03656197711825371, 0.010784413665533066, 0.01549545954912901, -0.009551473893225193, 0.035709574818611145, 0.014947486110031605, -0.004155462142080069, -0.014833325520157814, 0.029270892962813377, -0.01385154016315937, -0.011956467293202877, 0.029149120673537254, 0.023410625755786896, -0.0032003147061914206, -0.020853418856859207, 0.016165204346179962, 0.00820437353104353, 0.02564818225800991, -0.029468771070241928, 0.0034457610454410315, -4.6586032112827525e-05, -0.0049660056829452515, -0.008310924284160137, 0.03088436834514141, 0.010464762337505817, 0.008113045245409012, 0.009817849844694138, -0.028220610693097115, 0.019772693514823914, 0.01604343205690384, 0.027550866827368736, -0.007538434583693743, 0.015168197453022003, 0.017017606645822525, -0.017656909301877022, 0.005548227112740278, -0.007846669293940067, 0.008805622346699238, 0.005445481743663549, 0.00016386866627726704, -0.01700238510966301, -0.017291592434048653, -0.030732154846191406, -0.016149982810020447, 0.061890508979558945, 0.009970065206289291, -0.012968694791197777, -0.023456290364265442, 0.012473996728658676, 0.003675985848531127, -0.016149982810020447, 0.012108681723475456, 0.008539246395230293, -0.0032783248461782932, 0.03583134710788727, 0.011005125008523464, 0.04079354926943779, -0.0027912375517189503, -0.007644984871149063, 0.02956010028719902, 0.014795271679759026, 0.003500938881188631, 0.013143741525709629, -0.021157847717404366, -0.004452280700206757, -0.027383429929614067, 0.012588158249855042, 0.011081232689321041, -0.0031660664826631546, -0.0009632338187657297, 0.0006240804214030504, -0.02342584729194641, 0.024963214993476868, 0.030701711773872375, 0.013235070742666721, -0.035405147820711136, -0.019711807370185852, -0.013417728245258331, 0.017124157398939133, -0.03671419247984886, 0.032391294836997986, -0.015236694365739822, -0.027352986857295036, 0.010160333476960659, 0.010571313090622425, -0.0023117612581700087, -0.010662642307579517, -0.03847988322377205, -0.008729514665901661, 0.011271500959992409, -0.025206759572029114, -0.008387031964957714, 0.007922776974737644, -0.02266477420926094, -0.021995028480887413, -0.02131006307899952, -0.04298543930053711, 0.0023802579380571842, -0.004159267526119947, -0.011720534414052963, -0.008090212941169739, -0.009125272743403912, -0.024080369621515274, 0.0354660339653492, -0.028616368770599365, 0.0362575501203537, -0.004033690318465233, 0.00230795587413013, -0.029651429504156113, -0.0009798823157325387, -0.0032783248461782932, 0.0438682846724987, 0.016195647418498993, 0.03972804546356201, 0.04179816320538521, 0.00011630156950559467, 0.0059287636540830135, -0.009817849844694138, 0.04374651238322258, -0.045116446912288666, 0.0050801667384803295, 0.019239941611886024, 0.0217362642288208, -0.00021417088282760233, -0.009269877336919308, -0.011210614815354347, 0.0068268305622041225, -0.004357146564871073, 0.04645593464374542, 0.02829671837389469, 0.059668175876140594, -0.03214775025844574, 0.016089096665382385, 0.018631083890795708, 0.005826018750667572, 0.006560455076396465, -0.017976559698581696, 0.011012735776603222, -0.002580039668828249, 0.014346238225698471, -0.0032535898499190807, -0.01564767397940159, 0.02226901426911354, 0.04118930548429489, 0.007367192767560482, 0.00786950159817934, -0.016850169748067856, -0.006667005363851786, 0.003965193871408701, -0.023014867678284645, -0.02707900106906891, -0.009338373318314552, -0.05537571758031845, -0.007603125646710396, -0.009216601960361004, 0.06313867121934891, 0.007755340542644262, 0.019011620432138443, 0.02156882733106613, -0.027763966470956802, -0.01151504460722208, -0.021751485764980316, -0.002357425633817911, -0.023106196895241737, 0.005822213366627693, 0.04051956161856651, 0.020822975784540176, 0.00869907159358263, 0.02860114723443985, 0.009772185236215591, 0.02303008921444416, -0.009619970805943012, 0.017717795446515083, -0.048038970679044724, 0.003221244318410754, -0.014399513602256775, 0.0039499723352491856, -0.04575574770569801, -0.005567253567278385, 0.01835709623992443, -0.022908316925168037, 0.004262012429535389, 0.01922472007572651, -0.004612106364220381, 0.0175351370126009, 0.003306864993646741, -0.01058653462678194, 0.02373027615249157, -0.029468771070241928, 0.01703282818198204, 0.043990056961774826, -0.01441473513841629, -0.02468922920525074, 0.0070817903615534306, -0.002500126836821437, 0.015799889340996742, -0.002979603363201022, -0.014544117264449596, -0.0011901289690285921, 0.011180171743035316, 0.026531027629971504, -0.00944492407143116, 0.00111021613702178, 0.016347862780094147, -0.007614541798830032, -0.006461515091359615, -0.02564818225800991, 0.01231417153030634, 0.017154600471258163, 0.01262621209025383, -0.0016058654291555285, -0.003953777719289064, -0.00969607848674059, -0.039849817752838135, 0.020229337736964226, -0.01835709623992443, -0.000776770815718919, 0.014551728032529354, 0.04182860627770424, 0.006225582677870989, -0.01703282818198204, 0.019179055467247963, -0.006887716706842184], index=1, object='embedding')], model='text-embedding-3-small', object='list', usage=Usage(prompt_tokens=13, total_tokens=13))\n"
          ]
        }
      ],
      "source": [
        "print(res)"
      ]
    },
    {
      "cell_type": "code",
      "execution_count": 15,
      "metadata": {
        "colab": {
          "base_uri": "https://localhost:8080/"
        },
        "id": "q55fYPFO-K4M",
        "outputId": "1aaca63f-d898-4fc1-a899-7ac417ddab5f"
      },
      "outputs": [
        {
          "data": {
            "text/plain": [
              "(1536, 1536)"
            ]
          },
          "execution_count": 15,
          "metadata": {},
          "output_type": "execute_result"
        }
      ],
      "source": [
        "len(res.data[0].embedding), len(res.data[1].embedding)"
      ]
    },
    {
      "cell_type": "markdown",
      "metadata": {
        "id": "NNFNUceS-K4N"
      },
      "source": [
        "### Intialising the index"
      ]
    },
    {
      "cell_type": "code",
      "execution_count": 16,
      "metadata": {
        "id": "GbaUNrCu-K4N"
      },
      "outputs": [],
      "source": [
        "from pinecone import Pinecone\n",
        "papi_key = os.getenv(\"papi_key\")\n",
        "pinecone = Pinecone(api_key=papi_key)"
      ]
    },
    {
      "cell_type": "code",
      "execution_count": 17,
      "metadata": {
        "colab": {
          "base_uri": "https://localhost:8080/"
        },
        "id": "EPf7OgT9-K4O",
        "outputId": "330dcc3e-b362-4bbc-e40a-2765aa5f5364"
      },
      "outputs": [
        {
          "data": {
            "text/plain": [
              "{'indexes': [{'dimension': 1536,\n",
              "              'host': 'gpt-35-retrival-67tsuqg.svc.gcp-starter.pinecone.io',\n",
              "              'metric': 'cosine',\n",
              "              'name': 'gpt-35-retrival',\n",
              "              'spec': {'pod': {'environment': 'gcp-starter',\n",
              "                               'pod_type': 'starter',\n",
              "                               'pods': 1,\n",
              "                               'replicas': 1,\n",
              "                               'shards': 1}},\n",
              "              'status': {'ready': True, 'state': 'Ready'}}]}"
            ]
          },
          "execution_count": 17,
          "metadata": {},
          "output_type": "execute_result"
        }
      ],
      "source": [
        "from pinecone import Pinecone\n",
        "\n",
        "index_name = 'gpt-35-retrival'\n",
        "\n",
        "\n",
        "from pinecone import PodSpec\n",
        "pinecone.create_index(name=index_name, dimension=len(res.data[0].embedding), spec = PodSpec(environment=\"gcp-starter\"))\n",
        "index = pinecone.Index(name=index_name)\n",
        "\n",
        "# Confirm our index was created\n",
        "pinecone.list_indexes()\n"
      ]
    },
    {
      "cell_type": "code",
      "execution_count": 18,
      "metadata": {
        "colab": {
          "base_uri": "https://localhost:8080/",
          "height": 49,
          "referenced_widgets": [
            "1082e8a6cd1e4af8ac63941f2372a69f",
            "f4f0a0a56b6842e99cf00dc640057be4",
            "4f4d5d621b944654ad48a41c7cc10227",
            "854e31e0f4cf4b6dacffbd0b872096cf",
            "7ab2694f412c463ebde811199553517b",
            "906d4a4ef72142f1820440e81bf20fee",
            "9a1cdedc28ac439ba13cac6a166b893f",
            "8b889f0784b34cf28f04f5a183a14a56",
            "a43ab955ae66465ba3ec59daadea9a59",
            "0167226a963e43aab27b35e986bf5fe9",
            "ecb3143dcd80483888eca137c8b1fb3b"
          ]
        },
        "id": "XVkANDzy-K4O",
        "outputId": "cd96e076-6f38-4db2-c56a-e63776baf5f1"
      },
      "outputs": [
        {
          "name": "stderr",
          "output_type": "stream",
          "text": [
            "100%|██████████| 1/1 [00:01<00:00,  1.50s/it]\n"
          ]
        }
      ],
      "source": [
        "from tqdm.auto import tqdm\n",
        "import datetime\n",
        "from time import sleep\n",
        "\n",
        "batch_size = 100  # how many embeddings we create and insert at once\n",
        "\n",
        "# Function to create embeddings with retry logic\n",
        "def create_embeddings_with_retry(texts, model, max_retries=5):\n",
        "    retries = 0\n",
        "    while retries < max_retries:\n",
        "        try:\n",
        "            return client.embeddings.create(input=texts, model=model)\n",
        "        except Exception as e:\n",
        "            print(f\"Attempt {retries + 1}: Encountered an error - {e}\")\n",
        "            sleep(5)  # wait before retrying\n",
        "            retries += 1\n",
        "    raise Exception(f\"Failed to create embeddings after {max_retries} retries.\")\n",
        "\n",
        "# Process the data in batches\n",
        "for i in tqdm(range(0, len(article_df), batch_size)):\n",
        "    i_end = min(len(article_df), i + batch_size)\n",
        "    batch = article_df.iloc[i:i_end]\n",
        "\n",
        "    ids_batch = [str(uuid4()) for _ in range(len(batch))]\n",
        "    texts = batch['Learning Outcomes'].tolist()\n",
        "\n",
        "    res = create_embeddings_with_retry(texts, embed_model)\n",
        "\n",
        "    embeds = [record.embedding for record in res.data]\n",
        "\n",
        "    # Prepare data for Pinecone upsert\n",
        "    for idx, (text, embed) in enumerate(zip(texts, embeds)):\n",
        "        # Use a relevant column or derived attribute to determine the namespace\n",
        "        title = batch.iloc[idx]['Title']  # Adjust 'Topic' to your actual column/attribute\n",
        "        \n",
        "        # Clean the topic to ensure it only contains ASCII-printable characters\n",
        "        title_cleaned = ''.join(char for char in title if char.isascii())\n",
        "        namespace = f\"{title_cleaned}_LOS\"  # Create a namespace based on the cleaned topic\n",
        "        namespace = ''.join(char for char in namespace if char.isalnum())  # Remove non-alphanumeric characters\n",
        "        \n",
        "        to_upsert = [(ids_batch[idx], embed, {'text': text, 'chunk': idx, 'url': 'default_url'})]\n",
        "        index.upsert(vectors=to_upsert, namespace=namespace)\n"
      ]
    },
    {
      "cell_type": "code",
      "execution_count": 19,
      "metadata": {
        "id": "YEl8_8aN-K4P"
      },
      "outputs": [],
      "source": [
        "from openai import OpenAI\n",
        "\n",
        "\n",
        "# Initialize OpenAI API key\n",
        "api_key = os.getenv(\"api_key\")\n",
        "\n",
        "query = \" create a technical note that summarizes the key Learning outcome statement (LOS). Note: Be sure to include tables, figures and equations as you see fit\"\n",
        "embed_model = \"text-embedding-3-small\"  # or another model suitable for your task\n",
        "\n",
        "# Generate the embedding for the query\n",
        "client = OpenAI(api_key=api_key)\n",
        "res = client.embeddings.create(\n",
        "    model=embed_model,\n",
        "    input=query\n",
        ")\n",
        "\n",
        "# Retrieve the embedding from the response\n",
        "embedding_vector = res.data[0].embedding\n",
        "\n"
      ]
    },
    {
      "cell_type": "markdown",
      "metadata": {
        "id": "Rn_fESyf-K4R"
      },
      "source": [
        "New we ask the question"
      ]
    },
    {
      "cell_type": "code",
      "execution_count": 20,
      "metadata": {},
      "outputs": [],
      "source": [
        "from pinecone import Pinecone\n",
        "papi_key = os.getenv(\"papi_key\")\n",
        "pinecone = Pinecone(api_key=papi_key)"
      ]
    },
    {
      "cell_type": "markdown",
      "metadata": {},
      "source": [
        "### Generating a technical note for the LOS of Free Cash Flow Valuation 2018"
      ]
    },
    {
      "cell_type": "code",
      "execution_count": 21,
      "metadata": {},
      "outputs": [
        {
          "data": {
            "text/markdown": [
              "Query 1 for FreeCashFlowValuation2018LOS:\n",
              "\n",
              "I can provide a general overview of the concepts you mentioned:\n",
              "\n",
              "1. **Comparison of FCFF and FCFE approaches**: \n",
              "   - FCFF represents the cash flow available to all the firm's investors (both debt and equity holders) whereas FCFE represents the cash flow available only to equity investors after meeting all obligations.\n",
              "   - Ownership perspective in FCFE approach: FCFE considers that equity holders have a claim on the company's free cash flow after all other stakeholders have been paid.\n",
              "\n",
              "2. **Adjustments to calculate FCFF and FCFE**:\n",
              "   - Add back interest expense (net of tax) to net income for FCFF.\n",
              "   - Subtract net borrowing for FCFF.\n",
              "   - Subtract interest expense (net of tax) from net income for FCFE.\n",
              "   - Add net borrowing for FCFE.\n",
              "   \n",
              "3. **Forecasting FCFF and FCFE**:\n",
              "   - Use historical financial data and industry analysis to forecast future cash flows and make assumptions about growth rates and economic conditions.\n",
              "   \n",
              "4. **Comparing FCFE model and Dividend Discount Models**:\n",
              "   - FCFE model considers all cash flows available to equity holders, including dividends and share repurchases, while dividend discount models focus only on dividends.\n",
              "\n",
              "5. **Impact of dividends, share repurchases, share issues, and changes in leverage on FCFF and FCFE**:\n",
              "   - Dividends and share repurchases decrease FCFE.\n",
              "   - Share issues increase FCFE and FCFF.\n",
              "   - Changes in leverage affect the cost of capital, influencing FCFF and FCFE.\n",
              "\n",
              "6. **Use of net income and EBITDA as proxies for cash flow**:\n",
              "   - Net income and EBITDA are not accurate measures of cash flow due to non-cash items and accounting conventions.\n",
              "\n",
              "7. **Single-stage, two-stage, and three-stage FCFF and FCFE models**:\n",
              "   - Single-stage assumes constant growth, two-stage incorporates a high growth phase followed by a stable phase, and three-stage includes multiple growth phases.\n",
              "\n",
              "8. **Estimating a company's value using free cash flow models**:\n",
              "   - Calculate FCFF/FCFE based on the model chosen and discount it to present value using the appropriate discount rate.\n",
              "\n",
              "9. **Sensitivity analysis in FCFF and FCFE valuations**:\n",
              "   - Conduct sensitivity analysis to see how changes in key assumptions impact the valuation.\n",
              "\n",
              "10. **Calculating terminal value in a multistage valuation model**:\n",
              "    - Use perpetuity growth method or exit multiple method to calculate terminal value.\n",
              "\n",
              "11. **Evaluating stock valuation**:\n",
              "    - Compare the calculated value from the FCFF/FCFE model with the current market price to determine if a stock is overvalued, fairly valued, or undervalued.\n",
              "\n",
              "For specific calculations and detailed numerical examples, you may need to provide more context or specific data related to a company's financials."
            ],
            "text/plain": [
              "<IPython.core.display.Markdown object>"
            ]
          },
          "metadata": {},
          "output_type": "display_data"
        },
        {
          "name": "stdout",
          "output_type": "stream",
          "text": [
            "==================================================\n"
          ]
        }
      ],
      "source": [
        "from IPython.display import Markdown\n",
        "\n",
        "primer = \"\"\"You are a Q&A bot, designed to provide intelligent answers based on the information provided. If the information is not available, you truthfully say, \"I don't know\".\"\"\"\n",
        "\n",
        "# Initialize the list of augmented queries\n",
        "augmented_queries_FreeCashFlowValuation2018LOS = []\n",
        "\n",
        "# Perform the query using the embedding vector\n",
        "query_result_FreeCashFlowValuation2018LOS = index.query(vector=embedding_vector, top_k=5, namespace=\"FreeCashFlowValuation2018LOS\", include_metadata=True)\n",
        "\n",
        "# Get list of retrieved text from the query result\n",
        "contexts_FreeCashFlowValuation2018LOS = [item['metadata']['text'] for item in query_result_FreeCashFlowValuation2018LOS['matches']]\n",
        "\n",
        "# Loop through each context and generate a query\n",
        "for idx, context in enumerate(contexts_FreeCashFlowValuation2018LOS):\n",
        "    for attempt in range(3):  # Try up to three times to get a satisfactory response\n",
        "        messages = [{\"role\": \"system\", \"content\": primer}, {\"role\": \"user\", \"content\": context}]\n",
        "        res = client.chat.completions.create(model=\"gpt-3.5-turbo\", messages=messages)\n",
        "\n",
        "        # If a satisfactory response is obtained, use it\n",
        "        if \"too extensive\" not in res.choices[0].message.content.lower():\n",
        "            augmented_queries_FreeCashFlowValuation2018LOS.append(res.choices[0].message.content)\n",
        "            break\n",
        "\n",
        "\n",
        "# Display the augmented queries for \"FreeCashFlowValuation2018LOS\"\n",
        "for idx, query in enumerate(augmented_queries_FreeCashFlowValuation2018LOS):\n",
        "    display(Markdown(f\"Query {idx + 1} for FreeCashFlowValuation2018LOS:\\n\\n{query}\"))\n",
        "    print(\"=\" * 50)\n"
      ]
    },
    {
      "cell_type": "markdown",
      "metadata": {},
      "source": [
        "### Generating technical summary for Industry and Company Analysis 2018"
      ]
    },
    {
      "cell_type": "code",
      "execution_count": 22,
      "metadata": {},
      "outputs": [
        {
          "data": {
            "text/markdown": [
              "Query 1 for IndustryandCompanyAnalysis2018LOS:\n",
              "\n",
              "I'm sorry, but that is a very broad and extensive list of topics to cover in just one response. Each of these questions requires in-depth explanations and analyses. Let's break down the topics into manageable sections. \n",
              "\n",
              "1. **Approaches to developing inputs to equity valuation models**:\n",
              "   - Top-Down Approach: Begins with the analysis of the overall economy and market conditions then narrows down to specific companies within that market.\n",
              "   - Bottom-Up Approach: Focuses on analyzing individual companies first to determine their value and then aggregates this information to assess the overall market.\n",
              "   - Hybrid Approach: Combines elements of both top-down and bottom-up approaches for a comprehensive analysis.\n",
              "\n",
              "2. **Approaches to forecasting revenue**:\n",
              "   - \"Growth relative to GDP growth\": Compares a company's revenue growth rate to the GDP growth rate, considering the company's exposure to the overall economy.\n",
              "   - \"Market growth and market share\": Considers the growth potential of the specific market the company operates in and its ability to capture market share.\n",
              "\n",
              "3. **Economies of scale in an industry**:\n",
              "   - Operating margins and sales levels can indicate economies of scale. If operating margins increase as sales levels grow, it suggests economies of scale are present.\n",
              "\n",
              "Feel free to ask about a specific topic you'd like to delve into further, and I'd be happy to provide more detailed explanations and analyses."
            ],
            "text/plain": [
              "<IPython.core.display.Markdown object>"
            ]
          },
          "metadata": {},
          "output_type": "display_data"
        },
        {
          "name": "stdout",
          "output_type": "stream",
          "text": [
            "==================================================\n"
          ]
        }
      ],
      "source": [
        "from IPython.display import Markdown\n",
        "\n",
        "primer = \"\"\"You are a Q&A bot, designed to provide intelligent answers based on the information provided. If the information is not available, you truthfully say, \"I don't know\".\"\"\"\n",
        "\n",
        "# Initialize the list of augmented queries\n",
        "augmented_queries_IndustryandCompanyAnalysis2018LOS = []\n",
        "\n",
        "# Perform the query using the embedding vector\n",
        "query_result_IndustryandCompanyAnalysis2018LOS = index.query(vector=embedding_vector, top_k=5, namespace=\"IndustryandCompanyAnalysis2018LOS\", include_metadata=True)\n",
        "\n",
        "# Get list of retrieved text from the query result\n",
        "contexts_IndustryandCompanyAnalysis2018LOS = [item['metadata']['text'] for item in query_result_IndustryandCompanyAnalysis2018LOS['matches']]\n",
        "\n",
        "# Loop through each context and generate a query\n",
        "for idx, context in enumerate(contexts_IndustryandCompanyAnalysis2018LOS):\n",
        "    for attempt in range(3):  # Try up to three times to get a satisfactory response\n",
        "        messages = [{\"role\": \"system\", \"content\": primer}, {\"role\": \"user\", \"content\": context}]\n",
        "        res = client.chat.completions.create(model=\"gpt-3.5-turbo\", messages=messages)\n",
        "\n",
        "        # If a satisfactory response is obtained, use it\n",
        "        if \"too extensive\" not in res.choices[0].message.content.lower():\n",
        "            augmented_queries_IndustryandCompanyAnalysis2018LOS.append(res.choices[0].message.content)\n",
        "            break\n",
        "\n",
        "# Display the augmented queries for \"IndustryandCompanyAnalysis2018LOS\"\n",
        "for idx, query in enumerate(augmented_queries_IndustryandCompanyAnalysis2018LOS):\n",
        "    display(Markdown(f\"Query {idx + 1} for IndustryandCompanyAnalysis2018LOS:\\n\\n{query}\"))\n",
        "    print(\"=\" * 50)\n"
      ]
    },
    {
      "cell_type": "markdown",
      "metadata": {},
      "source": [
        "### Generating technical summary for Market Based Valuation Price and Enterprise Value Multiples 2018"
      ]
    },
    {
      "cell_type": "code",
      "execution_count": 23,
      "metadata": {},
      "outputs": [
        {
          "data": {
            "text/markdown": [
              "Query 1 for MarketBasedValuationPriceandEnterpriseValueMultiples2018LOS:\n",
              "\n",
              "I can provide individual answers to the questions you've listed about valuation methodologies, price multiples, and fundamental analysis. Let's start with the first question:\n",
              "\n",
              "### Distinguishing Between the Method of Comparables and the Method Based on Forecasted Fundamentals\n",
              "\n",
              "**Method of Comparables:**\n",
              "- **Approach:** This method involves comparing the target company with similar publicly traded companies in the same industry or sector.\n",
              "- **Economic Rationale:** It leverages the market efficiency assumption that similar companies trading at different multiples should converge toward a more appropriate valuation. It helps in understanding how the market values comparable firms and applies that knowledge to the target company.\n",
              "  \n",
              "**Method Based on Forecasted Fundamentals:**\n",
              "- **Approach:** This method focuses on deriving price multiples based on the fundamental characteristics and projected financial performance of the target company.\n",
              "- **Economic Rationale:** It incorporates future expectations into the valuation process, providing a forward-looking view that is not solely based on historical or current market prices. It allows for a more customized and potentially accurate valuation of the company based on its unique fundamentals.\n",
              "\n",
              "### Calculating a Justified Price Multiple:\n",
              "\n",
              "To calculate a justified price multiple, you typically forecast the fundamental drivers of the multiple (e.g., earnings, sales, cash flow), and then divide the current stock price by the forecasted fundamental to arrive at the justified multiple. \n",
              "\n",
              "For example, if you forecast that the company's earnings per share (EPS) will be $5 and the stock price is $50, the justified P/E multiple would be 50 / 5 = 10x. \n",
              "\n",
              "Interpreting a justified multiple involves comparing it to industry averages, historical levels, and understanding whether the forecasted fundamentals support the calculated multiple.\n",
              "\n",
              "If you'd like to proceed with the next question or need clarification on anything, feel free to ask!"
            ],
            "text/plain": [
              "<IPython.core.display.Markdown object>"
            ]
          },
          "metadata": {},
          "output_type": "display_data"
        },
        {
          "name": "stdout",
          "output_type": "stream",
          "text": [
            "==================================================\n"
          ]
        }
      ],
      "source": [
        "from IPython.display import Markdown\n",
        "\n",
        "primer = \"\"\"You are a Q&A bot, designed to provide intelligent answers based on the information provided. If the information is not available, you truthfully say, \"I don't know\".\"\"\"\n",
        "\n",
        "# Initialize the list of augmented queries\n",
        "augmented_queries_MarketBasedValuationPriceandEnterpriseValueMultiples2018LOS = []\n",
        "\n",
        "# Perform the query using the embedding vector\n",
        "query_result_MarketBasedValuationPriceandEnterpriseValueMultiples2018LOS = index.query(vector=embedding_vector, top_k=5, namespace=\"MarketBasedValuationPriceandEnterpriseValueMultiples2018LOS\", include_metadata=True)\n",
        "\n",
        "# Get list of retrieved text from the query result\n",
        "contexts_MarketBasedValuationPriceandEnterpriseValueMultiples2018LOS = [item['metadata']['text'] for item in query_result_MarketBasedValuationPriceandEnterpriseValueMultiples2018LOS['matches']]\n",
        "\n",
        "# Loop through each context and generate a query\n",
        "for idx, context in enumerate(contexts_MarketBasedValuationPriceandEnterpriseValueMultiples2018LOS):\n",
        "    for attempt in range(3):  # Try up to three times to get a satisfactory response\n",
        "        messages = [{\"role\": \"system\", \"content\": primer}, {\"role\": \"user\", \"content\": context}]\n",
        "        res = client.chat.completions.create(model=\"gpt-3.5-turbo\", messages=messages)\n",
        "\n",
        "        # If a satisfactory response is obtained, use it\n",
        "        if \"too extensive\" not in res.choices[0].message.content.lower():\n",
        "            augmented_queries_MarketBasedValuationPriceandEnterpriseValueMultiples2018LOS.append(res.choices[0].message.content)\n",
        "            break\n",
        "\n",
        "# Display the augmented queries for \"MarketBasedValuationPriceandEnterpriseValueMultiples2018LOS\"\n",
        "for idx, query in enumerate(augmented_queries_MarketBasedValuationPriceandEnterpriseValueMultiples2018LOS):\n",
        "    display(Markdown(f\"Query {idx + 1} for MarketBasedValuationPriceandEnterpriseValueMultiples2018LOS:\\n\\n{query}\"))\n",
        "    print(\"=\" * 50)\n"
      ]
    },
    {
      "cell_type": "markdown",
      "metadata": {},
      "source": [
        "### Generating technical summary for Residual Income Valuation 2018 "
      ]
    },
    {
      "cell_type": "code",
      "execution_count": 26,
      "metadata": {},
      "outputs": [
        {
          "data": {
            "text/markdown": [
              "Query 1 for ResidualIncomeValuation2018LOS:\n",
              "\n",
              "I can provide an overview and cover the main points of the topics you mentioned. Let's break it down into sections:\n",
              "\n",
              "1. **Residual Income (RI)**: \n",
              "Residual income is calculated by subtracting the equity charge from net income, where the equity charge is the cost of equity capital multiplied by the average book value of equity. It represents the economic profits of a company after accounting for the cost of equity capital. It helps assess a company's performance in excess of the required return on equity.\n",
              "\n",
              "2. **Economic Value Added (EVA)**:\n",
              "Economic Value Added is similar to residual income but uses the concept of economic profit, which subtracts the cost of all capital, including debt and equity, from net operating profit after tax (NOPAT). EVA is used to evaluate how effectively a company utilizes its capital to generate returns.\n",
              "\n",
              "3. **Market Value Added (MVA)**:\n",
              "Market Value Added is the difference between the current market value of a company and the total capital invested in it. It indicates whether a company has created value for its shareholders based on market expectations.\n",
              "\n",
              "4. **Uses of Residual Income Models**:\n",
              "Residual income models are used to value a company's common stock by estimating the future cash flows generated above the cost of equity capital. These models provide insights into a company's value beyond traditional valuation methods and account for the cost of equity explicitly.\n",
              "\n",
              "5. **Determinants of Residual Income**:\n",
              "Fundamental determinants of residual income include the expected future earnings of a company, the cost of equity capital, and the book value of equity. Changes in these factors will impact the residual income generated.\n",
              "\n",
              "6. **Relation to Justified Price-to-Book Ratio**:\n",
              "Residual income valuation is related to the justified price-to-book ratio as it reflects the company's ability to generate excess returns. A higher forecasted residual income would justify a higher price-to-book ratio assuming the company's fundamentals support the growth prospects.\n",
              "\n",
              "7. **Continuing Residual Income**:\n",
              "Continuing residual income represents the residual income expected beyond the forecast horizon. It relies on assumptions about the company's future prospects and industry conditions to estimate the ongoing profitability.\n",
              "\n",
              "8. **Comparison to Other Valuation Models**:\n",
              "Residual income models differ from dividend discount and free cash flow models by explicitly considering the cost of equity capital. They focus on accounting for the true economic profit generated by a company and can provide a unique perspective on valuation.\n",
              "\n",
              "9. **Strengths and Weaknesses**:\n",
              "Strengths of residual income models include their focus on economic profit, ability to incorporate future expectations, and consideration of the cost of equity. Weaknesses may include sensitivity to assumptions and potential complexity in implementation.\n",
              "\n",
              "10. **Accounting Issues**:\n",
              "Applying residual income models may involve challenges such as determining the appropriate cost of equity, forecasting future earnings accurately, and adjusting for accounting distortions that could impact the calculations.\n",
              "\n",
              "11. **Evaluating Stock Valuation**:\n",
              "A company's stock can be evaluated as overvalued, undervalued, or fairly valued using a residual income model by comparing the calculated intrinsic value with the current market price. A stock may be undervalued if its intrinsic value exceeds the market price and vice versa.\n",
              "\n",
              "I hope this overview helps! If you have any specific questions or need further details on any of these topics, feel free to ask."
            ],
            "text/plain": [
              "<IPython.core.display.Markdown object>"
            ]
          },
          "metadata": {},
          "output_type": "display_data"
        },
        {
          "name": "stdout",
          "output_type": "stream",
          "text": [
            "==================================================\n"
          ]
        }
      ],
      "source": [
        "from IPython.display import Markdown\n",
        "\n",
        "\n",
        "primer = \"\"\"You are a Q&A bot, designed to provide intelligent answers based on the information provided. If the information is not available, you truthfully say, \"I don't know\".\"\"\"\n",
        "\n",
        "# Initialize the list of augmented queries\n",
        "augmented_queries_ResidualIncomeValuation2018LOS = []\n",
        "\n",
        "# Perform the query using the embedding vector\n",
        "query_result_ResidualIncomeValuation2018LOS = index.query(vector=embedding_vector, top_k=5, namespace=\"ResidualIncomeValuation2018LOS\", include_metadata=True)\n",
        "\n",
        "# Get list of retrieved text from the query result\n",
        "contexts_ResidualIncomeValuation2018LOS = [item['metadata']['text'] for item in query_result_ResidualIncomeValuation2018LOS['matches']]\n",
        "\n",
        "# Loop through each context and generate a query\n",
        "for idx, context in enumerate(contexts_ResidualIncomeValuation2018LOS):\n",
        "    for attempt in range(3):  # Try up to three times to get a satisfactory response\n",
        "        messages = [{\"role\": \"system\", \"content\": primer}, {\"role\": \"user\", \"content\": context}]\n",
        "        res = client.chat.completions.create(model=\"gpt-3.5-turbo\", messages=messages)\n",
        "\n",
        "        # If a satisfactory response is obtained, use it\n",
        "        if \"too extensive\" not in res.choices[0].message.content.lower():\n",
        "            augmented_queries_ResidualIncomeValuation2018LOS.append(res.choices[0].message.content)\n",
        "            break\n",
        " \n",
        "\n",
        "# Display the augmented queries for \"IndustryandCompanyAnalysis2018LOS\"\n",
        "for idx, query in enumerate(augmented_queries_ResidualIncomeValuation2018LOS):\n",
        "    display(Markdown(f\"Query {idx + 1} for ResidualIncomeValuation2018LOS:\\n\\n{query}\"))\n",
        "    print(\"=\" * 50)\n",
        " \n"
      ]
    },
    {
      "cell_type": "code",
      "execution_count": 27,
      "metadata": {},
      "outputs": [
        {
          "data": {
            "text/plain": [
              "{'dimension': 1536,\n",
              " 'index_fullness': 4e-05,\n",
              " 'namespaces': {'FreeCashFlowValuation2018LOS': {'vector_count': 1},\n",
              "                'IndustryandCompanyAnalysis2018LOS': {'vector_count': 1},\n",
              "                'MarketBasedValuationPriceandEnterpriseValueMultiples2018LOS': {'vector_count': 1},\n",
              "                'ResidualIncomeValuation2018LOS': {'vector_count': 1}},\n",
              " 'total_vector_count': 4}"
            ]
          },
          "execution_count": 27,
          "metadata": {},
          "output_type": "execute_result"
        }
      ],
      "source": [
        "# view index stats\n",
        "index.describe_index_stats()"
      ]
    },
    {
      "cell_type": "markdown",
      "metadata": {},
      "source": [
        "### SAVING THE QUERY OUTPUT OF FREE CASH FLOW VALUATION 2018 LOS TO PINECONE"
      ]
    },
    {
      "cell_type": "code",
      "execution_count": 28,
      "metadata": {},
      "outputs": [
        {
          "name": "stdout",
          "output_type": "stream",
          "text": [
            "Upserted 1 queries into Pinecone index under namespace 'Gen_Queries_FreeCashFlowValuation2018LOS'.\n"
          ]
        }
      ],
      "source": [
        "import uuid\n",
        "\n",
        "\n",
        "# Function to create embeddings with retry logic, assuming it's defined in your environment\n",
        "def create_embeddings_with_retry(texts, model, max_retries=5):\n",
        "    retries = 0\n",
        "    while retries < max_retries:\n",
        "        try:\n",
        "            return client.embeddings.create(input=texts, model=model)\n",
        "        except Exception as e:\n",
        "            print(f\"Attempt {retries + 1}: Encountered an error - {e}\")\n",
        "            sleep(5)  # wait before retrying\n",
        "            retries += 1\n",
        "    raise Exception(f\"Failed to create embeddings after {max_retries} retries.\")\n",
        "\n",
        "# Generate embeddings for the augmented queries\n",
        "embed_model = \"text-embedding-3-small\"  # Use the appropriate model for your embeddings\n",
        "augmented_queries_embeddings = create_embeddings_with_retry(augmented_queries_FreeCashFlowValuation2018LOS, embed_model)\n",
        "\n",
        "# Prepare data for Pinecone upsert\n",
        "upsert_data = []\n",
        "for idx, query in enumerate(augmented_queries_FreeCashFlowValuation2018LOS):\n",
        "    # Generate a unique ID for each query\n",
        "    query_id = str(uuid.uuid4())\n",
        "    \n",
        "    # Extract embedding for the query\n",
        "    embed = augmented_queries_embeddings.data[idx].embedding\n",
        "    \n",
        "    # Prepare the upsert data with metadata if needed\n",
        "    upsert_data.append((query_id, embed, {'text': query}))\n",
        "\n",
        "# Perform the upsert operation to Pinecone\n",
        "namespace = \"Gen_Queries_FreeCashFlowValuation2018LOS\"  \n",
        "index.upsert(vectors=upsert_data, namespace=namespace)\n",
        "\n",
        "print(f\"Upserted {len(upsert_data)} queries into Pinecone index under namespace '{namespace}'.\")"
      ]
    },
    {
      "cell_type": "markdown",
      "metadata": {},
      "source": [
        "### SAVING THE QUERY OUTPUT OF Residual Income Valuation 2018 LOS TO PINECONE"
      ]
    },
    {
      "cell_type": "code",
      "execution_count": 29,
      "metadata": {},
      "outputs": [
        {
          "name": "stdout",
          "output_type": "stream",
          "text": [
            "Upserted 1 queries into Pinecone index under namespace 'Gen_Queries_ResidualIncomeValuation2018LOS'.\n"
          ]
        }
      ],
      "source": [
        "import uuid\n",
        "\n",
        "\n",
        "# Function to create embeddings with retry logic, assuming it's defined in your environment\n",
        "def create_embeddings_with_retry(texts, model, max_retries=5):\n",
        "    retries = 0\n",
        "    while retries < max_retries:\n",
        "        try:\n",
        "            return client.embeddings.create(input=texts, model=model)\n",
        "        except Exception as e:\n",
        "            print(f\"Attempt {retries + 1}: Encountered an error - {e}\")\n",
        "            sleep(5)  # wait before retrying\n",
        "            retries += 1\n",
        "    raise Exception(f\"Failed to create embeddings after {max_retries} retries.\")\n",
        "\n",
        "# Generate embeddings for the augmented queries\n",
        "embed_model = \"text-embedding-3-small\"  \n",
        "augmented_queries_embeddings = create_embeddings_with_retry(augmented_queries_ResidualIncomeValuation2018LOS, embed_model)\n",
        "\n",
        "# Prepare data for Pinecone upsert\n",
        "upsert_data = []\n",
        "for idx, query in enumerate(augmented_queries_ResidualIncomeValuation2018LOS):\n",
        "    # Generate a unique ID for each query\n",
        "    query_id = str(uuid.uuid4())\n",
        "    \n",
        "    # Extract embedding for the query\n",
        "    embed = augmented_queries_embeddings.data[idx].embedding\n",
        "    \n",
        "    # Prepare the upsert data with metadata if needed\n",
        "    upsert_data.append((query_id, embed, {'text': query}))\n",
        "\n",
        "# Perform the upsert operation to Pinecone\n",
        "namespace = \"Gen_Queries_ResidualIncomeValuation2018LOS\"  \n",
        "index.upsert(vectors=upsert_data, namespace=namespace)\n",
        "\n",
        "print(f\"Upserted {len(upsert_data)} queries into Pinecone index under namespace '{namespace}'.\")"
      ]
    },
    {
      "cell_type": "markdown",
      "metadata": {},
      "source": [
        "### SAVING THE QUERY OUTPUT OF Market Based Valuation Price and Enterprise Value Multiples 2018 LOS TO PINECONE"
      ]
    },
    {
      "cell_type": "code",
      "execution_count": 30,
      "metadata": {},
      "outputs": [
        {
          "name": "stdout",
          "output_type": "stream",
          "text": [
            "Upserted 1 queries into Pinecone index under namespace 'Gen_Queries_MarketBasedValuationPriceandEnterpriseValueMultiples2018LOS'.\n"
          ]
        }
      ],
      "source": [
        "import uuid\n",
        "\n",
        "\n",
        "# Function to create embeddings with retry logic, assuming it's defined in your environment\n",
        "def create_embeddings_with_retry(texts, model, max_retries=5):\n",
        "    retries = 0\n",
        "    while retries < max_retries:\n",
        "        try:\n",
        "            return client.embeddings.create(input=texts, model=model)\n",
        "        except Exception as e:\n",
        "            print(f\"Attempt {retries + 1}: Encountered an error - {e}\")\n",
        "            sleep(5)  # wait before retrying\n",
        "            retries += 1\n",
        "    raise Exception(f\"Failed to create embeddings after {max_retries} retries.\")\n",
        "\n",
        "# Generate embeddings for the augmented queries\n",
        "embed_model = \"text-embedding-3-small\" \n",
        "augmented_queries_embeddings = create_embeddings_with_retry(augmented_queries_MarketBasedValuationPriceandEnterpriseValueMultiples2018LOS, embed_model)\n",
        "\n",
        "# Prepare data for Pinecone upsert\n",
        "upsert_data = []\n",
        "for idx, query in enumerate(augmented_queries_MarketBasedValuationPriceandEnterpriseValueMultiples2018LOS):\n",
        "    # Generate a unique ID for each query\n",
        "    query_id = str(uuid.uuid4())\n",
        "    \n",
        "    # Extract embedding for the query\n",
        "    embed = augmented_queries_embeddings.data[idx].embedding\n",
        "    \n",
        "    # Prepare the upsert data with metadata if needed\n",
        "    upsert_data.append((query_id, embed, {'text': query}))\n",
        "\n",
        "# Perform the upsert operation to Pinecone\n",
        "namespace = \"Gen_Queries_MarketBasedValuationPriceandEnterpriseValueMultiples2018LOS\"  \n",
        "index.upsert(vectors=upsert_data, namespace=namespace)\n",
        "\n",
        "print(f\"Upserted {len(upsert_data)} queries into Pinecone index under namespace '{namespace}'.\")"
      ]
    },
    {
      "cell_type": "markdown",
      "metadata": {},
      "source": [
        "### SAVING THE QUERY OUTPUT OF Industry and Company Analysis 2018 LOS TO PINECONE"
      ]
    },
    {
      "cell_type": "code",
      "execution_count": 31,
      "metadata": {},
      "outputs": [
        {
          "name": "stdout",
          "output_type": "stream",
          "text": [
            "Upserted 1 queries into Pinecone index under namespace 'Gen_Queries_IndustryandCompanyAnalysis2018LOS'.\n"
          ]
        }
      ],
      "source": [
        "import uuid\n",
        "\n",
        "\n",
        "# Function to create embeddings with retry logic, assuming it's defined in your environment\n",
        "def create_embeddings_with_retry(texts, model, max_retries=5):\n",
        "    retries = 0\n",
        "    while retries < max_retries:\n",
        "        try:\n",
        "            return client.embeddings.create(input=texts, model=model)\n",
        "        except Exception as e:\n",
        "            print(f\"Attempt {retries + 1}: Encountered an error - {e}\")\n",
        "            sleep(5)  # wait before retrying\n",
        "            retries += 1\n",
        "    raise Exception(f\"Failed to create embeddings after {max_retries} retries.\")\n",
        "\n",
        "# Generate embeddings for the augmented queries\n",
        "embed_model = \"text-embedding-3-small\"  \n",
        "augmented_queries_embeddings = create_embeddings_with_retry(augmented_queries_IndustryandCompanyAnalysis2018LOS, embed_model)\n",
        "\n",
        "# Prepare data for Pinecone upsert\n",
        "upsert_data = []\n",
        "for idx, query in enumerate(augmented_queries_IndustryandCompanyAnalysis2018LOS):\n",
        "    # Generate a unique ID for each query\n",
        "    query_id = str(uuid.uuid4())\n",
        "    \n",
        "    # Extract embedding for the query\n",
        "    embed = augmented_queries_embeddings.data[idx].embedding\n",
        "    \n",
        "    # Prepare the upsert data with metadata if needed\n",
        "    upsert_data.append((query_id, embed, {'text': query}))\n",
        "\n",
        "# Perform the upsert operation to Pinecone\n",
        "namespace = \"Gen_Queries_IndustryandCompanyAnalysis2018LOS\"  \n",
        "index.upsert(vectors=upsert_data, namespace=namespace)\n",
        "\n",
        "print(f\"Upserted {len(upsert_data)} queries into Pinecone index under namespace '{namespace}'.\")"
      ]
    },
    {
      "cell_type": "markdown",
      "metadata": {},
      "source": [
        "### Retrieval Augmented Generation\n"
      ]
    },
    {
      "cell_type": "code",
      "execution_count": 32,
      "metadata": {},
      "outputs": [
        {
          "name": "stdout",
          "output_type": "stream",
          "text": [
            "Context 1 :\n",
            "compare the free cash flow to the firm (FCFF) and free cash flow\n",
            "to equity (FCFE) approaches to valuation; explain the ownership perspective implicit in the FCFE approach; explain the appropriate adjustments to net income, earnings\n",
            "before interest and taxes (EBIT), earnings before interest, taxes,\n",
            "depreciation, and amortization (EBITDA), and cash flow from\n",
            "operations (CFO) to calculate FCFF and FCFE; calculate FCFF and FCFE; describe approaches for forecasting FCFF and FCFE; compare the FCFE model and dividend discount models; explain how dividends, share repurchases, share issues, and\n",
            "changes in leverage may affect future FCFF and FCFE; evaluate the use of net income and EBITDA as proxies for cash\n",
            "flow in valuation; explain the single-stage (stable-growth), two-stage, and\n",
            "three-stage FCFF and FCFE models and select and justify the\n",
            "appropriate model given a company’s characteristics; estimate a company’s value using the appropriate free cash flow\n",
            "model(s); explain the use of sensitivity analysis in FCFF and FCFE\n",
            "valuations; describe approaches for calculating the terminal value in a\n",
            "multistage valuation model; evaluate whether a stock is overvalued, fairly valued, or\n",
            "undervalued based on a free cash flow valuation model.\n",
            "\n",
            "==================================================\n",
            "\n",
            "Context 2 :\n",
            "compare top-down, bottom-up, and hybrid approaches for developing inputs to equity valuation models; compare “growth relative to GDP growth” and “market growth and market share” approaches to forecasting revenue; evaluate whether economies of scale are present in an industry by analyzing operating margins and sales levels; forecast the following costs: cost of goods sold, selling general and administrative costs, financing costs, and income taxes; describe approaches to balance sheet modeling; describe the relationship between return on invested capital and competitive advantage; explain how competitive factors affect prices and costs; judge the competitive position of a company based on a Porter’s five forces analysis; explain how to forecast industry and company sales and costs when they are subject to price inflation or deflation; evaluate the effects of technological developments on demand, selling prices, costs, and margins; explain considerations in the choice of an explicit forecast horizon; explain an analyst’s choices in developing projections beyond the short-term forecast horizon; demonstrate the development of a sales-based pro forma company model.\n",
            "\n",
            "==================================================\n",
            "\n",
            "Context 3 :\n",
            "distinguish between the method of comparables and the method based on forecasted fundamentals as approaches to using price multiples in valuation, and explain economic rationales for each approach; calculate and interpret a justified price multiple; describe rationales for and possible drawbacks to using alternative price multiples and dividend yield in valuation; calculate and interpret alternative price multiples and dividend yield; calculate and interpret underlying earnings, explain methods of normalizing earnings per share (EPS), and calculate normalized EPS; explain and justify the use of earnings yield (E/P); describe fundamental factors that influence alternative price multiples and dividend yield; calculate and interpret the justified price-to-earnings ratio (P/E), price-to-book ratio (P/B), and price-to-sales ratio (P/S) for a stock, based on forecasted fundamentals; calculate and interpret a predicted P/E, given a cross-sectional regression on fundamentals, and explain limitations to the cross-sectional regression methodology; evaluate a stock by the method of comparables and explain the importance of fundamentals in using the method of comparables; calculate and interpret the P/E-to-growth ratio (PEG) and explain its use in relative valuation; calculate and explain the use of price multiples in determining terminal value in a multistage discounted cash flow (DCF) model; explain alternative definitions of cash flow used in price and enterprise value (EV) multiples and describe limitations of each definition; calculate and interpret EV multiples and evaluate the use of EV/EBITDA; explain sources of differences in cross-border valuation comparisons; describe momentum indicators and their use in valuation; explain the use of the arithmetic mean, the harmonic mean, the weighted harmonic mean, and the median to describe the central tendency of a group of multiples; revaluate whether a stock is overvalued, fairly valued, or undervalued based on comparisons of multiples.\n",
            "\n",
            "==================================================\n",
            "\n",
            "Context 4 :\n",
            "calculate and interpret residual income, economic value added, and market value added; describe the uses of residual income models; calculate the intrinsic value of a common stock using the residual income model and compare value recognition in residual income and other present value models; explain fundamental determinants of residual income; explain the relation between residual income valuation and the justified price-to-book ratio based on forecasted fundamentals; calculate and interpret the intrinsic value of a common stock using single-stage (constant-growth) and multistage residual income models; calculate the implied growth rate in residual income, given the market price-to-book ratio and an estimate of the required rate of return on equity; explain continuing residual income and justify an estimate of continuing residual income at the forecast horizon, given company and industry prospects; compare residual income models to dividend discount and free cash flow models; explain strengths and weaknesses of residual income models and justify the selection of a residual income model to value a company’s common stock; describe accounting issues in applying residual income models; evaluate whether a stock is overvalued, fairly valued, or undervalued based on a residual income model.\n",
            "\n",
            "==================================================\n",
            "\n"
          ]
        }
      ],
      "source": [
        "# Initialize the list of augmented queries\n",
        "augmented_queries = []\n",
        "\n",
        "# Loop through each namespace and retrieve the corresponding query result\n",
        "for namespace_name in [\"FreeCashFlowValuation2018LOS\", \"IndustryandCompanyAnalysis2018LOS\", \"MarketBasedValuationPriceandEnterpriseValueMultiples2018LOS\", \"ResidualIncomeValuation2018LOS\"]:\n",
        "    # Perform the query using the embedding vector\n",
        "    query_result = index.query(vector=embedding_vector, top_k=5, namespace=namespace_name, include_metadata=True)\n",
        "    \n",
        "    # Get list of retrieved text from the query result\n",
        "    contexts = [item['metadata']['text'] for item in query_result['matches']]\n",
        "    \n",
        "    # Append the list of contexts to the augmented_queries list\n",
        "    augmented_queries.append(contexts)\n",
        "\n",
        "# Print the contexts from each augmented query\n",
        "for idx, contexts in enumerate(augmented_queries):\n",
        "    print(f\"Context {idx + 1} :\")\n",
        "    for context in contexts:\n",
        "        print(context)\n",
        "    print(\"\\n\" + \"=\" * 50 + \"\\n\") \n"
      ]
    },
    {
      "cell_type": "code",
      "execution_count": null,
      "metadata": {},
      "outputs": [],
      "source": []
    }
  ],
  "metadata": {
    "colab": {
      "provenance": []
    },
    "kernelspec": {
      "display_name": "Python 3",
      "language": "python",
      "name": "python3"
    },
    "language_info": {
      "codemirror_mode": {
        "name": "ipython",
        "version": 3
      },
      "file_extension": ".py",
      "mimetype": "text/x-python",
      "name": "python",
      "nbconvert_exporter": "python",
      "pygments_lexer": "ipython3",
      "version": "3.9.6"
    },
    "widgets": {
      "application/vnd.jupyter.widget-state+json": {
        "0167226a963e43aab27b35e986bf5fe9": {
          "model_module": "@jupyter-widgets/base",
          "model_module_version": "1.2.0",
          "model_name": "LayoutModel",
          "state": {
            "_model_module": "@jupyter-widgets/base",
            "_model_module_version": "1.2.0",
            "_model_name": "LayoutModel",
            "_view_count": null,
            "_view_module": "@jupyter-widgets/base",
            "_view_module_version": "1.2.0",
            "_view_name": "LayoutView",
            "align_content": null,
            "align_items": null,
            "align_self": null,
            "border": null,
            "bottom": null,
            "display": null,
            "flex": null,
            "flex_flow": null,
            "grid_area": null,
            "grid_auto_columns": null,
            "grid_auto_flow": null,
            "grid_auto_rows": null,
            "grid_column": null,
            "grid_gap": null,
            "grid_row": null,
            "grid_template_areas": null,
            "grid_template_columns": null,
            "grid_template_rows": null,
            "height": null,
            "justify_content": null,
            "justify_items": null,
            "left": null,
            "margin": null,
            "max_height": null,
            "max_width": null,
            "min_height": null,
            "min_width": null,
            "object_fit": null,
            "object_position": null,
            "order": null,
            "overflow": null,
            "overflow_x": null,
            "overflow_y": null,
            "padding": null,
            "right": null,
            "top": null,
            "visibility": null,
            "width": null
          }
        },
        "027c8c25f33848bfb465f56311c7159d": {
          "model_module": "@jupyter-widgets/controls",
          "model_module_version": "1.5.0",
          "model_name": "DescriptionStyleModel",
          "state": {
            "_model_module": "@jupyter-widgets/controls",
            "_model_module_version": "1.5.0",
            "_model_name": "DescriptionStyleModel",
            "_view_count": null,
            "_view_module": "@jupyter-widgets/base",
            "_view_module_version": "1.2.0",
            "_view_name": "StyleView",
            "description_width": ""
          }
        },
        "1082e8a6cd1e4af8ac63941f2372a69f": {
          "model_module": "@jupyter-widgets/controls",
          "model_module_version": "1.5.0",
          "model_name": "HBoxModel",
          "state": {
            "_dom_classes": [],
            "_model_module": "@jupyter-widgets/controls",
            "_model_module_version": "1.5.0",
            "_model_name": "HBoxModel",
            "_view_count": null,
            "_view_module": "@jupyter-widgets/controls",
            "_view_module_version": "1.5.0",
            "_view_name": "HBoxView",
            "box_style": "",
            "children": [
              "IPY_MODEL_f4f0a0a56b6842e99cf00dc640057be4",
              "IPY_MODEL_4f4d5d621b944654ad48a41c7cc10227",
              "IPY_MODEL_854e31e0f4cf4b6dacffbd0b872096cf"
            ],
            "layout": "IPY_MODEL_7ab2694f412c463ebde811199553517b"
          }
        },
        "16a964af8a75451eaa8f4babe447ac23": {
          "model_module": "@jupyter-widgets/base",
          "model_module_version": "1.2.0",
          "model_name": "LayoutModel",
          "state": {
            "_model_module": "@jupyter-widgets/base",
            "_model_module_version": "1.2.0",
            "_model_name": "LayoutModel",
            "_view_count": null,
            "_view_module": "@jupyter-widgets/base",
            "_view_module_version": "1.2.0",
            "_view_name": "LayoutView",
            "align_content": null,
            "align_items": null,
            "align_self": null,
            "border": null,
            "bottom": null,
            "display": null,
            "flex": null,
            "flex_flow": null,
            "grid_area": null,
            "grid_auto_columns": null,
            "grid_auto_flow": null,
            "grid_auto_rows": null,
            "grid_column": null,
            "grid_gap": null,
            "grid_row": null,
            "grid_template_areas": null,
            "grid_template_columns": null,
            "grid_template_rows": null,
            "height": null,
            "justify_content": null,
            "justify_items": null,
            "left": null,
            "margin": null,
            "max_height": null,
            "max_width": null,
            "min_height": null,
            "min_width": null,
            "object_fit": null,
            "object_position": null,
            "order": null,
            "overflow": null,
            "overflow_x": null,
            "overflow_y": null,
            "padding": null,
            "right": null,
            "top": null,
            "visibility": null,
            "width": null
          }
        },
        "2384c528bf824be2a871461f60a5b752": {
          "model_module": "@jupyter-widgets/controls",
          "model_module_version": "1.5.0",
          "model_name": "DescriptionStyleModel",
          "state": {
            "_model_module": "@jupyter-widgets/controls",
            "_model_module_version": "1.5.0",
            "_model_name": "DescriptionStyleModel",
            "_view_count": null,
            "_view_module": "@jupyter-widgets/base",
            "_view_module_version": "1.2.0",
            "_view_name": "StyleView",
            "description_width": ""
          }
        },
        "245fa3442cf44e24b700576da94bd6d3": {
          "model_module": "@jupyter-widgets/controls",
          "model_module_version": "1.5.0",
          "model_name": "FloatProgressModel",
          "state": {
            "_dom_classes": [],
            "_model_module": "@jupyter-widgets/controls",
            "_model_module_version": "1.5.0",
            "_model_name": "FloatProgressModel",
            "_view_count": null,
            "_view_module": "@jupyter-widgets/controls",
            "_view_module_version": "1.5.0",
            "_view_name": "ProgressView",
            "bar_style": "success",
            "description": "",
            "description_tooltip": null,
            "layout": "IPY_MODEL_a75667ab08f14203b8716439133b6a74",
            "max": 4,
            "min": 0,
            "orientation": "horizontal",
            "style": "IPY_MODEL_f64cead845954c0cb1dd726820749338",
            "value": 4
          }
        },
        "2a0969f59fe3407f80b8f5bc96b14ba9": {
          "model_module": "@jupyter-widgets/controls",
          "model_module_version": "1.5.0",
          "model_name": "HBoxModel",
          "state": {
            "_dom_classes": [],
            "_model_module": "@jupyter-widgets/controls",
            "_model_module_version": "1.5.0",
            "_model_name": "HBoxModel",
            "_view_count": null,
            "_view_module": "@jupyter-widgets/controls",
            "_view_module_version": "1.5.0",
            "_view_name": "HBoxView",
            "box_style": "",
            "children": [
              "IPY_MODEL_5685eeedd4ad401bb56dfb5fbd66cb72",
              "IPY_MODEL_245fa3442cf44e24b700576da94bd6d3",
              "IPY_MODEL_463bf1f6fc784f07a1320bb30c758a35"
            ],
            "layout": "IPY_MODEL_16a964af8a75451eaa8f4babe447ac23"
          }
        },
        "463bf1f6fc784f07a1320bb30c758a35": {
          "model_module": "@jupyter-widgets/controls",
          "model_module_version": "1.5.0",
          "model_name": "HTMLModel",
          "state": {
            "_dom_classes": [],
            "_model_module": "@jupyter-widgets/controls",
            "_model_module_version": "1.5.0",
            "_model_name": "HTMLModel",
            "_view_count": null,
            "_view_module": "@jupyter-widgets/controls",
            "_view_module_version": "1.5.0",
            "_view_name": "HTMLView",
            "description": "",
            "description_tooltip": null,
            "layout": "IPY_MODEL_a34925e3b55946b1b6077209313c02e7",
            "placeholder": "​",
            "style": "IPY_MODEL_027c8c25f33848bfb465f56311c7159d",
            "value": " 4/4 [00:00&lt;00:00, 104.50it/s]"
          }
        },
        "4f4d5d621b944654ad48a41c7cc10227": {
          "model_module": "@jupyter-widgets/controls",
          "model_module_version": "1.5.0",
          "model_name": "FloatProgressModel",
          "state": {
            "_dom_classes": [],
            "_model_module": "@jupyter-widgets/controls",
            "_model_module_version": "1.5.0",
            "_model_name": "FloatProgressModel",
            "_view_count": null,
            "_view_module": "@jupyter-widgets/controls",
            "_view_module_version": "1.5.0",
            "_view_name": "ProgressView",
            "bar_style": "success",
            "description": "",
            "description_tooltip": null,
            "layout": "IPY_MODEL_8b889f0784b34cf28f04f5a183a14a56",
            "max": 1,
            "min": 0,
            "orientation": "horizontal",
            "style": "IPY_MODEL_a43ab955ae66465ba3ec59daadea9a59",
            "value": 1
          }
        },
        "5685eeedd4ad401bb56dfb5fbd66cb72": {
          "model_module": "@jupyter-widgets/controls",
          "model_module_version": "1.5.0",
          "model_name": "HTMLModel",
          "state": {
            "_dom_classes": [],
            "_model_module": "@jupyter-widgets/controls",
            "_model_module_version": "1.5.0",
            "_model_name": "HTMLModel",
            "_view_count": null,
            "_view_module": "@jupyter-widgets/controls",
            "_view_module_version": "1.5.0",
            "_view_name": "HTMLView",
            "description": "",
            "description_tooltip": null,
            "layout": "IPY_MODEL_dd8cbf96790e4268bf4acaa53856bc54",
            "placeholder": "​",
            "style": "IPY_MODEL_2384c528bf824be2a871461f60a5b752",
            "value": "100%"
          }
        },
        "7ab2694f412c463ebde811199553517b": {
          "model_module": "@jupyter-widgets/base",
          "model_module_version": "1.2.0",
          "model_name": "LayoutModel",
          "state": {
            "_model_module": "@jupyter-widgets/base",
            "_model_module_version": "1.2.0",
            "_model_name": "LayoutModel",
            "_view_count": null,
            "_view_module": "@jupyter-widgets/base",
            "_view_module_version": "1.2.0",
            "_view_name": "LayoutView",
            "align_content": null,
            "align_items": null,
            "align_self": null,
            "border": null,
            "bottom": null,
            "display": null,
            "flex": null,
            "flex_flow": null,
            "grid_area": null,
            "grid_auto_columns": null,
            "grid_auto_flow": null,
            "grid_auto_rows": null,
            "grid_column": null,
            "grid_gap": null,
            "grid_row": null,
            "grid_template_areas": null,
            "grid_template_columns": null,
            "grid_template_rows": null,
            "height": null,
            "justify_content": null,
            "justify_items": null,
            "left": null,
            "margin": null,
            "max_height": null,
            "max_width": null,
            "min_height": null,
            "min_width": null,
            "object_fit": null,
            "object_position": null,
            "order": null,
            "overflow": null,
            "overflow_x": null,
            "overflow_y": null,
            "padding": null,
            "right": null,
            "top": null,
            "visibility": null,
            "width": null
          }
        },
        "854e31e0f4cf4b6dacffbd0b872096cf": {
          "model_module": "@jupyter-widgets/controls",
          "model_module_version": "1.5.0",
          "model_name": "HTMLModel",
          "state": {
            "_dom_classes": [],
            "_model_module": "@jupyter-widgets/controls",
            "_model_module_version": "1.5.0",
            "_model_name": "HTMLModel",
            "_view_count": null,
            "_view_module": "@jupyter-widgets/controls",
            "_view_module_version": "1.5.0",
            "_view_name": "HTMLView",
            "description": "",
            "description_tooltip": null,
            "layout": "IPY_MODEL_0167226a963e43aab27b35e986bf5fe9",
            "placeholder": "​",
            "style": "IPY_MODEL_ecb3143dcd80483888eca137c8b1fb3b",
            "value": " 1/1 [00:01&lt;00:00,  1.42s/it]"
          }
        },
        "8b889f0784b34cf28f04f5a183a14a56": {
          "model_module": "@jupyter-widgets/base",
          "model_module_version": "1.2.0",
          "model_name": "LayoutModel",
          "state": {
            "_model_module": "@jupyter-widgets/base",
            "_model_module_version": "1.2.0",
            "_model_name": "LayoutModel",
            "_view_count": null,
            "_view_module": "@jupyter-widgets/base",
            "_view_module_version": "1.2.0",
            "_view_name": "LayoutView",
            "align_content": null,
            "align_items": null,
            "align_self": null,
            "border": null,
            "bottom": null,
            "display": null,
            "flex": null,
            "flex_flow": null,
            "grid_area": null,
            "grid_auto_columns": null,
            "grid_auto_flow": null,
            "grid_auto_rows": null,
            "grid_column": null,
            "grid_gap": null,
            "grid_row": null,
            "grid_template_areas": null,
            "grid_template_columns": null,
            "grid_template_rows": null,
            "height": null,
            "justify_content": null,
            "justify_items": null,
            "left": null,
            "margin": null,
            "max_height": null,
            "max_width": null,
            "min_height": null,
            "min_width": null,
            "object_fit": null,
            "object_position": null,
            "order": null,
            "overflow": null,
            "overflow_x": null,
            "overflow_y": null,
            "padding": null,
            "right": null,
            "top": null,
            "visibility": null,
            "width": null
          }
        },
        "906d4a4ef72142f1820440e81bf20fee": {
          "model_module": "@jupyter-widgets/base",
          "model_module_version": "1.2.0",
          "model_name": "LayoutModel",
          "state": {
            "_model_module": "@jupyter-widgets/base",
            "_model_module_version": "1.2.0",
            "_model_name": "LayoutModel",
            "_view_count": null,
            "_view_module": "@jupyter-widgets/base",
            "_view_module_version": "1.2.0",
            "_view_name": "LayoutView",
            "align_content": null,
            "align_items": null,
            "align_self": null,
            "border": null,
            "bottom": null,
            "display": null,
            "flex": null,
            "flex_flow": null,
            "grid_area": null,
            "grid_auto_columns": null,
            "grid_auto_flow": null,
            "grid_auto_rows": null,
            "grid_column": null,
            "grid_gap": null,
            "grid_row": null,
            "grid_template_areas": null,
            "grid_template_columns": null,
            "grid_template_rows": null,
            "height": null,
            "justify_content": null,
            "justify_items": null,
            "left": null,
            "margin": null,
            "max_height": null,
            "max_width": null,
            "min_height": null,
            "min_width": null,
            "object_fit": null,
            "object_position": null,
            "order": null,
            "overflow": null,
            "overflow_x": null,
            "overflow_y": null,
            "padding": null,
            "right": null,
            "top": null,
            "visibility": null,
            "width": null
          }
        },
        "9a1cdedc28ac439ba13cac6a166b893f": {
          "model_module": "@jupyter-widgets/controls",
          "model_module_version": "1.5.0",
          "model_name": "DescriptionStyleModel",
          "state": {
            "_model_module": "@jupyter-widgets/controls",
            "_model_module_version": "1.5.0",
            "_model_name": "DescriptionStyleModel",
            "_view_count": null,
            "_view_module": "@jupyter-widgets/base",
            "_view_module_version": "1.2.0",
            "_view_name": "StyleView",
            "description_width": ""
          }
        },
        "a34925e3b55946b1b6077209313c02e7": {
          "model_module": "@jupyter-widgets/base",
          "model_module_version": "1.2.0",
          "model_name": "LayoutModel",
          "state": {
            "_model_module": "@jupyter-widgets/base",
            "_model_module_version": "1.2.0",
            "_model_name": "LayoutModel",
            "_view_count": null,
            "_view_module": "@jupyter-widgets/base",
            "_view_module_version": "1.2.0",
            "_view_name": "LayoutView",
            "align_content": null,
            "align_items": null,
            "align_self": null,
            "border": null,
            "bottom": null,
            "display": null,
            "flex": null,
            "flex_flow": null,
            "grid_area": null,
            "grid_auto_columns": null,
            "grid_auto_flow": null,
            "grid_auto_rows": null,
            "grid_column": null,
            "grid_gap": null,
            "grid_row": null,
            "grid_template_areas": null,
            "grid_template_columns": null,
            "grid_template_rows": null,
            "height": null,
            "justify_content": null,
            "justify_items": null,
            "left": null,
            "margin": null,
            "max_height": null,
            "max_width": null,
            "min_height": null,
            "min_width": null,
            "object_fit": null,
            "object_position": null,
            "order": null,
            "overflow": null,
            "overflow_x": null,
            "overflow_y": null,
            "padding": null,
            "right": null,
            "top": null,
            "visibility": null,
            "width": null
          }
        },
        "a43ab955ae66465ba3ec59daadea9a59": {
          "model_module": "@jupyter-widgets/controls",
          "model_module_version": "1.5.0",
          "model_name": "ProgressStyleModel",
          "state": {
            "_model_module": "@jupyter-widgets/controls",
            "_model_module_version": "1.5.0",
            "_model_name": "ProgressStyleModel",
            "_view_count": null,
            "_view_module": "@jupyter-widgets/base",
            "_view_module_version": "1.2.0",
            "_view_name": "StyleView",
            "bar_color": null,
            "description_width": ""
          }
        },
        "a75667ab08f14203b8716439133b6a74": {
          "model_module": "@jupyter-widgets/base",
          "model_module_version": "1.2.0",
          "model_name": "LayoutModel",
          "state": {
            "_model_module": "@jupyter-widgets/base",
            "_model_module_version": "1.2.0",
            "_model_name": "LayoutModel",
            "_view_count": null,
            "_view_module": "@jupyter-widgets/base",
            "_view_module_version": "1.2.0",
            "_view_name": "LayoutView",
            "align_content": null,
            "align_items": null,
            "align_self": null,
            "border": null,
            "bottom": null,
            "display": null,
            "flex": null,
            "flex_flow": null,
            "grid_area": null,
            "grid_auto_columns": null,
            "grid_auto_flow": null,
            "grid_auto_rows": null,
            "grid_column": null,
            "grid_gap": null,
            "grid_row": null,
            "grid_template_areas": null,
            "grid_template_columns": null,
            "grid_template_rows": null,
            "height": null,
            "justify_content": null,
            "justify_items": null,
            "left": null,
            "margin": null,
            "max_height": null,
            "max_width": null,
            "min_height": null,
            "min_width": null,
            "object_fit": null,
            "object_position": null,
            "order": null,
            "overflow": null,
            "overflow_x": null,
            "overflow_y": null,
            "padding": null,
            "right": null,
            "top": null,
            "visibility": null,
            "width": null
          }
        },
        "dd8cbf96790e4268bf4acaa53856bc54": {
          "model_module": "@jupyter-widgets/base",
          "model_module_version": "1.2.0",
          "model_name": "LayoutModel",
          "state": {
            "_model_module": "@jupyter-widgets/base",
            "_model_module_version": "1.2.0",
            "_model_name": "LayoutModel",
            "_view_count": null,
            "_view_module": "@jupyter-widgets/base",
            "_view_module_version": "1.2.0",
            "_view_name": "LayoutView",
            "align_content": null,
            "align_items": null,
            "align_self": null,
            "border": null,
            "bottom": null,
            "display": null,
            "flex": null,
            "flex_flow": null,
            "grid_area": null,
            "grid_auto_columns": null,
            "grid_auto_flow": null,
            "grid_auto_rows": null,
            "grid_column": null,
            "grid_gap": null,
            "grid_row": null,
            "grid_template_areas": null,
            "grid_template_columns": null,
            "grid_template_rows": null,
            "height": null,
            "justify_content": null,
            "justify_items": null,
            "left": null,
            "margin": null,
            "max_height": null,
            "max_width": null,
            "min_height": null,
            "min_width": null,
            "object_fit": null,
            "object_position": null,
            "order": null,
            "overflow": null,
            "overflow_x": null,
            "overflow_y": null,
            "padding": null,
            "right": null,
            "top": null,
            "visibility": null,
            "width": null
          }
        },
        "ecb3143dcd80483888eca137c8b1fb3b": {
          "model_module": "@jupyter-widgets/controls",
          "model_module_version": "1.5.0",
          "model_name": "DescriptionStyleModel",
          "state": {
            "_model_module": "@jupyter-widgets/controls",
            "_model_module_version": "1.5.0",
            "_model_name": "DescriptionStyleModel",
            "_view_count": null,
            "_view_module": "@jupyter-widgets/base",
            "_view_module_version": "1.2.0",
            "_view_name": "StyleView",
            "description_width": ""
          }
        },
        "f4f0a0a56b6842e99cf00dc640057be4": {
          "model_module": "@jupyter-widgets/controls",
          "model_module_version": "1.5.0",
          "model_name": "HTMLModel",
          "state": {
            "_dom_classes": [],
            "_model_module": "@jupyter-widgets/controls",
            "_model_module_version": "1.5.0",
            "_model_name": "HTMLModel",
            "_view_count": null,
            "_view_module": "@jupyter-widgets/controls",
            "_view_module_version": "1.5.0",
            "_view_name": "HTMLView",
            "description": "",
            "description_tooltip": null,
            "layout": "IPY_MODEL_906d4a4ef72142f1820440e81bf20fee",
            "placeholder": "​",
            "style": "IPY_MODEL_9a1cdedc28ac439ba13cac6a166b893f",
            "value": "100%"
          }
        },
        "f64cead845954c0cb1dd726820749338": {
          "model_module": "@jupyter-widgets/controls",
          "model_module_version": "1.5.0",
          "model_name": "ProgressStyleModel",
          "state": {
            "_model_module": "@jupyter-widgets/controls",
            "_model_module_version": "1.5.0",
            "_model_name": "ProgressStyleModel",
            "_view_count": null,
            "_view_module": "@jupyter-widgets/base",
            "_view_module_version": "1.2.0",
            "_view_name": "StyleView",
            "bar_color": null,
            "description_width": ""
          }
        }
      }
    }
  },
  "nbformat": 4,
  "nbformat_minor": 0
}
